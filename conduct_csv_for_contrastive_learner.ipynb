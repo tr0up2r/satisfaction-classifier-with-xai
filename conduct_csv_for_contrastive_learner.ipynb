{
 "cells": [
  {
   "cell_type": "code",
   "execution_count": 139,
   "id": "e95477a3",
   "metadata": {},
   "outputs": [],
   "source": [
    "import pandas as pd\n",
    "from spacy.lang.en import English\n",
    "import itertools"
   ]
  },
  {
   "cell_type": "code",
   "execution_count": 140,
   "id": "ab45559c",
   "metadata": {},
   "outputs": [],
   "source": [
    "post_df = pd.read_csv('../predicting-satisfaction-using-graphs/csv/dataset/liwc_post.csv', encoding='UTF-8')\n",
    "comment_df = pd.read_csv('../predicting-satisfaction-using-graphs/csv/dataset/liwc_comment.csv', encoding='UTF-8')"
   ]
  },
  {
   "cell_type": "code",
   "execution_count": 141,
   "id": "6180ad5c",
   "metadata": {},
   "outputs": [],
   "source": [
    "satisfactions_float = list(post_df['satisfaction'])"
   ]
  },
  {
   "cell_type": "code",
   "execution_count": 143,
   "id": "892af9dd",
   "metadata": {},
   "outputs": [
    {
     "data": {
      "text/plain": [
       "<spacy.pipeline.sentencizer.Sentencizer at 0x7fe4189777c0>"
      ]
     },
     "execution_count": 143,
     "metadata": {},
     "output_type": "execute_result"
    }
   ],
   "source": [
    "nlp = English()\n",
    "nlp.add_pipe(\"sentencizer\")"
   ]
  },
  {
   "cell_type": "code",
   "execution_count": 146,
   "id": "e9546279",
   "metadata": {},
   "outputs": [],
   "source": [
    "post_contents = list(post_df['content'])\n",
    "comment_bodies = list(comment_df['content'])\n",
    "\n",
    "post_sequences = []\n",
    "comment_sequences = []\n",
    "\n",
    "\n",
    "for post_content, comment_body in zip(post_contents, comment_bodies):\n",
    "    post_sequences.append(list(map(lambda x: str(x), list(nlp(post_content).sents))))\n",
    "    comment_sequences.append(list(map(lambda x: str(x), list(nlp(comment_body).sents))))\n",
    "\n",
    "\n",
    "\n",
    "# satisfaction score (y)\n",
    "satisfactions_float = list(post_df['satisfaction'])\n",
    "satisfactions = []\n",
    "for_contrastive = []\n",
    "\n",
    "for s in satisfactions_float:\n",
    "    if s < 3.5:\n",
    "        satisfactions.append(0)\n",
    "    elif s < 5:\n",
    "        satisfactions.append(1)\n",
    "    else:\n",
    "        satisfactions.append(2)\n",
    "        \n",
    "for s in satisfactions_float:\n",
    "    if s <= 2.5:\n",
    "        for_contrastive.append(0)\n",
    "    elif s <= 3.5:\n",
    "        for_contrastive.append(1)\n",
    "    elif s <= 4.5:\n",
    "        for_contrastive.append(2)\n",
    "    elif s <= 5.5:\n",
    "        for_contrastive.append(3)\n",
    "    else:\n",
    "        for_contrastive.append(4)\n",
    "\n",
    "# print(satisfactions_float)\n",
    "# print(satisfactions)\n",
    "\n",
    "data = []\n",
    "\n",
    "i = 0\n",
    "for post, comment, satisfaction1, satisfaction2, satisfaction_float in zip(post_contents, comment_bodies,\n",
    "                                                                           satisfactions, for_contrastive, satisfactions_float):\n",
    "    data.append([i, post, comment, satisfaction1, satisfaction2, satisfaction_float])\n",
    "    i += 1\n",
    "\n",
    "columns = ['index', 'post_contents', 'comment_contents', 'label', 'label_for_contrastive', 'score']\n",
    "df = pd.DataFrame(data, columns=columns)"
   ]
  },
  {
   "cell_type": "code",
   "execution_count": 147,
   "id": "2868e95b",
   "metadata": {},
   "outputs": [],
   "source": [
    "comb_df = pd.DataFrame([], columns=columns)"
   ]
  },
  {
   "cell_type": "code",
   "execution_count": 148,
   "id": "f1652ccd",
   "metadata": {},
   "outputs": [
    {
     "data": {
      "text/html": [
       "<div>\n",
       "<style scoped>\n",
       "    .dataframe tbody tr th:only-of-type {\n",
       "        vertical-align: middle;\n",
       "    }\n",
       "\n",
       "    .dataframe tbody tr th {\n",
       "        vertical-align: top;\n",
       "    }\n",
       "\n",
       "    .dataframe thead th {\n",
       "        text-align: right;\n",
       "    }\n",
       "</style>\n",
       "<table border=\"1\" class=\"dataframe\">\n",
       "  <thead>\n",
       "    <tr style=\"text-align: right;\">\n",
       "      <th></th>\n",
       "      <th>index</th>\n",
       "      <th>post_contents</th>\n",
       "      <th>comment_contents</th>\n",
       "      <th>label</th>\n",
       "      <th>label_for_contrastive</th>\n",
       "      <th>score</th>\n",
       "    </tr>\n",
       "  </thead>\n",
       "  <tbody>\n",
       "  </tbody>\n",
       "</table>\n",
       "</div>"
      ],
      "text/plain": [
       "Empty DataFrame\n",
       "Columns: [index, post_contents, comment_contents, label, label_for_contrastive, score]\n",
       "Index: []"
      ]
     },
     "execution_count": 148,
     "metadata": {},
     "output_type": "execute_result"
    }
   ],
   "source": [
    "comb_df"
   ]
  },
  {
   "cell_type": "code",
   "execution_count": 149,
   "id": "7245f161",
   "metadata": {},
   "outputs": [],
   "source": [
    "for i in range(5):\n",
    "    sub_df = df[df.label_for_contrastive == i].sample(50)\n",
    "    comb_df = pd.concat([comb_df, sub_df])"
   ]
  },
  {
   "cell_type": "code",
   "execution_count": 150,
   "id": "7af5ca97",
   "metadata": {},
   "outputs": [],
   "source": [
    "satisfaction_comb = list(itertools.combinations(comb_df['index'], 2))"
   ]
  },
  {
   "cell_type": "code",
   "execution_count": 152,
   "id": "e7229002",
   "metadata": {},
   "outputs": [],
   "source": [
    "def make_comb_for_contrastive_learner(comb_list, df):\n",
    "    columns = columns = ['index', 'post_contents', 'comment_contents', 'label', 'label_for_contrastive', 'score'] * 2\n",
    "    result_df = pd.DataFrame([], columns=columns)\n",
    "    for comb in comb_list:\n",
    "        sub_comb_df = pd.concat([df[df.index == comb[0]].reset_index(drop=True), \n",
    "                                 df[df.index == comb[1]].reset_index(drop=True)], axis=1)\n",
    "        result_df = pd.concat([result_df, sub_comb_df]).reset_index(drop=True)\n",
    "    \n",
    "    return result_df\n",
    "\n",
    "result_df = make_comb_for_contrastive_learner(satisfaction_comb, df)"
   ]
  },
  {
   "cell_type": "code",
   "execution_count": 153,
   "id": "70142290",
   "metadata": {},
   "outputs": [],
   "source": [
    "result_df.columns = ['index1', 'post_contents1', 'comment_contents1', 'label1', 'label_for_contrastive1', 'score1', 'index2', 'post_contents2', 'comment_contents2', 'label2', 'label_for_contrastive2', 'score2']"
   ]
  },
  {
   "cell_type": "code",
   "execution_count": 154,
   "id": "ee5fe2bb",
   "metadata": {},
   "outputs": [],
   "source": [
    "result_df.to_csv('../predicting-satisfaction-using-graphs/csv/dataset/df_for_contrastive_learner.csv')"
   ]
  }
 ],
 "metadata": {
  "kernelspec": {
   "display_name": "Python 3 (ipykernel)",
   "language": "python",
   "name": "python3"
  },
  "language_info": {
   "codemirror_mode": {
    "name": "ipython",
    "version": 3
   },
   "file_extension": ".py",
   "mimetype": "text/x-python",
   "name": "python",
   "nbconvert_exporter": "python",
   "pygments_lexer": "ipython3",
   "version": "3.8.10"
  }
 },
 "nbformat": 4,
 "nbformat_minor": 5
}
