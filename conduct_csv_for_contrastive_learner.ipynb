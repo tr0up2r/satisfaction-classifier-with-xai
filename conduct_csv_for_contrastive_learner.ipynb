{
 "cells": [
  {
   "cell_type": "code",
   "execution_count": 134,
   "id": "e95477a3",
   "metadata": {},
   "outputs": [],
   "source": [
    "import pandas as pd\n",
    "from spacy.lang.en import English\n",
    "import itertools"
   ]
  },
  {
   "cell_type": "code",
   "execution_count": 135,
   "id": "ab45559c",
   "metadata": {},
   "outputs": [],
   "source": [
    "post_df = pd.read_csv('../predicting-satisfaction-using-graphs/csv/dataset/liwc_post.csv', encoding='UTF-8')\n",
    "comment_df = pd.read_csv('../predicting-satisfaction-using-graphs/csv/dataset/liwc_comment.csv', encoding='UTF-8')"
   ]
  },
  {
   "cell_type": "code",
   "execution_count": 136,
   "id": "6180ad5c",
   "metadata": {},
   "outputs": [],
   "source": [
    "satisfactions_float = list(post_df['satisfaction'])"
   ]
  },
  {
   "cell_type": "code",
   "execution_count": 137,
   "id": "892af9dd",
   "metadata": {},
   "outputs": [
    {
     "data": {
      "text/plain": [
       "<spacy.pipeline.sentencizer.Sentencizer at 0x7f03cdbc1c00>"
      ]
     },
     "execution_count": 137,
     "metadata": {},
     "output_type": "execute_result"
    }
   ],
   "source": [
    "nlp = English()\n",
    "nlp.add_pipe(\"sentencizer\")"
   ]
  },
  {
   "cell_type": "code",
   "execution_count": 138,
   "id": "e9546279",
   "metadata": {},
   "outputs": [],
   "source": [
    "post_contents = list(post_df['content'])\n",
    "comment_bodies = list(comment_df['content'])\n",
    "\n",
    "post_sequences = []\n",
    "comment_sequences = []\n",
    "\n",
    "\n",
    "for post_content, comment_body in zip(post_contents, comment_bodies):\n",
    "    post_sequences.append(list(map(lambda x: str(x), list(nlp(post_content).sents))))\n",
    "    comment_sequences.append(list(map(lambda x: str(x), list(nlp(comment_body).sents))))\n",
    "\n",
    "\n",
    "\n",
    "# satisfaction score (y)\n",
    "satisfactions_float = list(post_df['satisfaction'])\n",
    "satisfactions = []\n",
    "for_contrastive = []\n",
    "\n",
    "for s in satisfactions_float:\n",
    "    if s < 3.5:\n",
    "        satisfactions.append(0)\n",
    "    elif s < 5:\n",
    "        satisfactions.append(1)\n",
    "    else:\n",
    "        satisfactions.append(2)\n",
    "        \n",
    "for s in satisfactions_float:\n",
    "    if s <= 2.5:\n",
    "        for_contrastive.append(0)\n",
    "    elif s <= 3.5:\n",
    "        for_contrastive.append(1)\n",
    "    elif s <= 4.5:\n",
    "        for_contrastive.append(2)\n",
    "    elif s <= 5.5:\n",
    "        for_contrastive.append(3)\n",
    "    else:\n",
    "        for_contrastive.append(4)\n",
    "\n",
    "# print(satisfactions_float)\n",
    "# print(satisfactions)\n",
    "\n",
    "data = []\n",
    "\n",
    "i = 0\n",
    "for post, comment, satisfaction1, satisfaction2, satisfaction_float in zip(post_contents, comment_bodies,\n",
    "                                                                           satisfactions, for_contrastive, satisfactions_float):\n",
    "    data.append([i, post, comment, satisfaction1, satisfaction2, satisfaction_float])\n",
    "    i += 1\n",
    "\n",
    "columns = ['index', 'post_contents', 'comment_contents', 'label', 'label_for_contrastive', 'score']\n",
    "df = pd.DataFrame(data, columns=columns)"
   ]
  },
  {
   "cell_type": "code",
   "execution_count": 109,
   "id": "2868e95b",
   "metadata": {},
   "outputs": [],
   "source": [
    "train_df = pd.DataFrame([], columns=columns)"
   ]
  },
  {
   "cell_type": "code",
   "execution_count": 110,
   "id": "f1652ccd",
   "metadata": {},
   "outputs": [
    {
     "data": {
      "text/html": [
       "<div>\n",
       "<style scoped>\n",
       "    .dataframe tbody tr th:only-of-type {\n",
       "        vertical-align: middle;\n",
       "    }\n",
       "\n",
       "    .dataframe tbody tr th {\n",
       "        vertical-align: top;\n",
       "    }\n",
       "\n",
       "    .dataframe thead th {\n",
       "        text-align: right;\n",
       "    }\n",
       "</style>\n",
       "<table border=\"1\" class=\"dataframe\">\n",
       "  <thead>\n",
       "    <tr style=\"text-align: right;\">\n",
       "      <th></th>\n",
       "      <th>index</th>\n",
       "      <th>post_contents</th>\n",
       "      <th>comment_contents</th>\n",
       "      <th>label</th>\n",
       "      <th>label_for_contrastive</th>\n",
       "      <th>score</th>\n",
       "    </tr>\n",
       "  </thead>\n",
       "  <tbody>\n",
       "  </tbody>\n",
       "</table>\n",
       "</div>"
      ],
      "text/plain": [
       "Empty DataFrame\n",
       "Columns: [index, post_contents, comment_contents, label, label_for_contrastive, score]\n",
       "Index: []"
      ]
     },
     "execution_count": 110,
     "metadata": {},
     "output_type": "execute_result"
    }
   ],
   "source": [
    "train_df"
   ]
  },
  {
   "cell_type": "code",
   "execution_count": 111,
   "id": "7245f161",
   "metadata": {},
   "outputs": [],
   "source": [
    "for i in range(5):\n",
    "    sub_df = df[df.label_for_contrastive == i].sample(45)\n",
    "    train_df = pd.concat([train_df, sub_df])"
   ]
  },
  {
   "cell_type": "code",
   "execution_count": 112,
   "id": "875fe9c3",
   "metadata": {},
   "outputs": [
    {
     "data": {
      "text/plain": [
       "(225, 6)"
      ]
     },
     "execution_count": 112,
     "metadata": {},
     "output_type": "execute_result"
    }
   ],
   "source": [
    "train_df.shape"
   ]
  },
  {
   "cell_type": "code",
   "execution_count": 113,
   "id": "fd434a8c",
   "metadata": {},
   "outputs": [],
   "source": [
    "remain_df = df.drop(train_df.index)"
   ]
  },
  {
   "cell_type": "code",
   "execution_count": 114,
   "id": "e8ba9caf",
   "metadata": {},
   "outputs": [
    {
     "data": {
      "text/plain": [
       "(775, 6)"
      ]
     },
     "execution_count": 114,
     "metadata": {},
     "output_type": "execute_result"
    }
   ],
   "source": [
    "remain_df.shape"
   ]
  },
  {
   "cell_type": "code",
   "execution_count": 118,
   "id": "fd8032c2",
   "metadata": {},
   "outputs": [
    {
     "data": {
      "text/html": [
       "<div>\n",
       "<style scoped>\n",
       "    .dataframe tbody tr th:only-of-type {\n",
       "        vertical-align: middle;\n",
       "    }\n",
       "\n",
       "    .dataframe tbody tr th {\n",
       "        vertical-align: top;\n",
       "    }\n",
       "\n",
       "    .dataframe thead th {\n",
       "        text-align: right;\n",
       "    }\n",
       "</style>\n",
       "<table border=\"1\" class=\"dataframe\">\n",
       "  <thead>\n",
       "    <tr style=\"text-align: right;\">\n",
       "      <th></th>\n",
       "      <th>index</th>\n",
       "      <th>post_contents</th>\n",
       "      <th>comment_contents</th>\n",
       "      <th>label</th>\n",
       "      <th>label_for_contrastive</th>\n",
       "      <th>score</th>\n",
       "    </tr>\n",
       "  </thead>\n",
       "  <tbody>\n",
       "    <tr>\n",
       "      <th>1</th>\n",
       "      <td>1</td>\n",
       "      <td>I don't really know why, and maybe it's just m...</td>\n",
       "      <td>I use to love taking cold showers when I was y...</td>\n",
       "      <td>1</td>\n",
       "      <td>2</td>\n",
       "      <td>4.25</td>\n",
       "    </tr>\n",
       "    <tr>\n",
       "      <th>2</th>\n",
       "      <td>2</td>\n",
       "      <td>I am 30 years old and my girlfriend is 24 are ...</td>\n",
       "      <td>Depression is not an excuse for this behavior,...</td>\n",
       "      <td>2</td>\n",
       "      <td>3</td>\n",
       "      <td>5.35</td>\n",
       "    </tr>\n",
       "    <tr>\n",
       "      <th>3</th>\n",
       "      <td>3</td>\n",
       "      <td>Almost every day for months, I've gone to a se...</td>\n",
       "      <td>Then you have nothing to lose. Tell her dude.</td>\n",
       "      <td>0</td>\n",
       "      <td>1</td>\n",
       "      <td>3.30</td>\n",
       "    </tr>\n",
       "    <tr>\n",
       "      <th>4</th>\n",
       "      <td>4</td>\n",
       "      <td>Can you love when you're depressed? When depre...</td>\n",
       "      <td>Yes, of course. I think it is because we love ...</td>\n",
       "      <td>1</td>\n",
       "      <td>2</td>\n",
       "      <td>3.80</td>\n",
       "    </tr>\n",
       "    <tr>\n",
       "      <th>5</th>\n",
       "      <td>5</td>\n",
       "      <td>Hello. I have had insecurities, anxiety, depre...</td>\n",
       "      <td>I didn't mean necessarily trying harder. Just ...</td>\n",
       "      <td>2</td>\n",
       "      <td>3</td>\n",
       "      <td>5.05</td>\n",
       "    </tr>\n",
       "    <tr>\n",
       "      <th>...</th>\n",
       "      <td>...</td>\n",
       "      <td>...</td>\n",
       "      <td>...</td>\n",
       "      <td>...</td>\n",
       "      <td>...</td>\n",
       "      <td>...</td>\n",
       "    </tr>\n",
       "    <tr>\n",
       "      <th>994</th>\n",
       "      <td>994</td>\n",
       "      <td>So I take three different meds for my depressi...</td>\n",
       "      <td>Do research on your meds. Also that sounds rea...</td>\n",
       "      <td>1</td>\n",
       "      <td>2</td>\n",
       "      <td>4.10</td>\n",
       "    </tr>\n",
       "    <tr>\n",
       "      <th>996</th>\n",
       "      <td>996</td>\n",
       "      <td>Yeah, how great, how lucky I am. When I finall...</td>\n",
       "      <td>Why do you think you are sensitive and cursed?...</td>\n",
       "      <td>1</td>\n",
       "      <td>2</td>\n",
       "      <td>4.30</td>\n",
       "    </tr>\n",
       "    <tr>\n",
       "      <th>997</th>\n",
       "      <td>997</td>\n",
       "      <td>I've felt reluctant to post here, given that o...</td>\n",
       "      <td>Life is so unfair but you need to get your shi...</td>\n",
       "      <td>1</td>\n",
       "      <td>2</td>\n",
       "      <td>4.30</td>\n",
       "    </tr>\n",
       "    <tr>\n",
       "      <th>998</th>\n",
       "      <td>998</td>\n",
       "      <td>Iâm a 32 year old man. I have been extremely...</td>\n",
       "      <td>Same for me. Im too ugly for a girl to love me.</td>\n",
       "      <td>1</td>\n",
       "      <td>2</td>\n",
       "      <td>4.25</td>\n",
       "    </tr>\n",
       "    <tr>\n",
       "      <th>999</th>\n",
       "      <td>999</td>\n",
       "      <td>If you have seen my last post you will know so...</td>\n",
       "      <td>I can relate man. For me I feel as though it s...</td>\n",
       "      <td>2</td>\n",
       "      <td>4</td>\n",
       "      <td>5.85</td>\n",
       "    </tr>\n",
       "  </tbody>\n",
       "</table>\n",
       "<p>775 rows × 6 columns</p>\n",
       "</div>"
      ],
      "text/plain": [
       "     index                                      post_contents  \\\n",
       "1        1  I don't really know why, and maybe it's just m...   \n",
       "2        2  I am 30 years old and my girlfriend is 24 are ...   \n",
       "3        3  Almost every day for months, I've gone to a se...   \n",
       "4        4  Can you love when you're depressed? When depre...   \n",
       "5        5  Hello. I have had insecurities, anxiety, depre...   \n",
       "..     ...                                                ...   \n",
       "994    994  So I take three different meds for my depressi...   \n",
       "996    996  Yeah, how great, how lucky I am. When I finall...   \n",
       "997    997  I've felt reluctant to post here, given that o...   \n",
       "998    998  Iâm a 32 year old man. I have been extremely...   \n",
       "999    999  If you have seen my last post you will know so...   \n",
       "\n",
       "                                      comment_contents  label  \\\n",
       "1    I use to love taking cold showers when I was y...      1   \n",
       "2    Depression is not an excuse for this behavior,...      2   \n",
       "3       Then you have nothing to lose. Tell her dude.       0   \n",
       "4    Yes, of course. I think it is because we love ...      1   \n",
       "5    I didn't mean necessarily trying harder. Just ...      2   \n",
       "..                                                 ...    ...   \n",
       "994  Do research on your meds. Also that sounds rea...      1   \n",
       "996  Why do you think you are sensitive and cursed?...      1   \n",
       "997  Life is so unfair but you need to get your shi...      1   \n",
       "998    Same for me. Im too ugly for a girl to love me.      1   \n",
       "999  I can relate man. For me I feel as though it s...      2   \n",
       "\n",
       "     label_for_contrastive  score  \n",
       "1                        2   4.25  \n",
       "2                        3   5.35  \n",
       "3                        1   3.30  \n",
       "4                        2   3.80  \n",
       "5                        3   5.05  \n",
       "..                     ...    ...  \n",
       "994                      2   4.10  \n",
       "996                      2   4.30  \n",
       "997                      2   4.30  \n",
       "998                      2   4.25  \n",
       "999                      4   5.85  \n",
       "\n",
       "[775 rows x 6 columns]"
      ]
     },
     "execution_count": 118,
     "metadata": {},
     "output_type": "execute_result"
    }
   ],
   "source": [
    "remain_df"
   ]
  },
  {
   "cell_type": "code",
   "execution_count": 119,
   "id": "baa96b18",
   "metadata": {},
   "outputs": [],
   "source": [
    "test_df = pd.DataFrame([], columns=columns)"
   ]
  },
  {
   "cell_type": "code",
   "execution_count": 120,
   "id": "41183ce1",
   "metadata": {},
   "outputs": [],
   "source": [
    "for i in range(5):\n",
    "    sub_df = remain_df[remain_df.label_for_contrastive == i].sample(5)\n",
    "    test_df = pd.concat([test_df, sub_df])"
   ]
  },
  {
   "cell_type": "code",
   "execution_count": 122,
   "id": "c990f7d7",
   "metadata": {},
   "outputs": [
    {
     "data": {
      "text/plain": [
       "(25, 6)"
      ]
     },
     "execution_count": 122,
     "metadata": {},
     "output_type": "execute_result"
    }
   ],
   "source": [
    "test_df.shape"
   ]
  },
  {
   "cell_type": "code",
   "execution_count": 123,
   "id": "7af5ca97",
   "metadata": {},
   "outputs": [],
   "source": [
    "train_comb = list(itertools.combinations(train_df['index'], 2))\n",
    "test_comb = list(itertools.combinations(test_df['index'], 2))"
   ]
  },
  {
   "cell_type": "code",
   "execution_count": 124,
   "id": "1bf07f24",
   "metadata": {},
   "outputs": [
    {
     "data": {
      "text/plain": [
       "25200"
      ]
     },
     "execution_count": 124,
     "metadata": {},
     "output_type": "execute_result"
    }
   ],
   "source": [
    "len(train_comb)"
   ]
  },
  {
   "cell_type": "code",
   "execution_count": 125,
   "id": "e58895ca",
   "metadata": {},
   "outputs": [
    {
     "data": {
      "text/plain": [
       "300"
      ]
     },
     "execution_count": 125,
     "metadata": {},
     "output_type": "execute_result"
    }
   ],
   "source": [
    "len(test_comb)"
   ]
  },
  {
   "cell_type": "code",
   "execution_count": 126,
   "id": "e7229002",
   "metadata": {},
   "outputs": [],
   "source": [
    "def make_comb_for_contrastive_learner(comb_list, df):\n",
    "    columns = columns = ['index', 'post_contents', 'comment_contents', 'label', 'label_for_contrastive', 'score'] * 2\n",
    "    result_df = pd.DataFrame([], columns=columns)\n",
    "    for comb in comb_list:\n",
    "        sub_comb_df = pd.concat([df[df.index == comb[0]].reset_index(drop=True), \n",
    "                                 df[df.index == comb[1]].reset_index(drop=True)], axis=1)\n",
    "        result_df = pd.concat([result_df, sub_comb_df]).reset_index(drop=True)\n",
    "    \n",
    "    return result_df"
   ]
  },
  {
   "cell_type": "code",
   "execution_count": 127,
   "id": "5e5bcd34",
   "metadata": {},
   "outputs": [],
   "source": [
    "train_result_df = make_comb_for_contrastive_learner(train_comb, df)\n",
    "test_result_df = make_comb_for_contrastive_learner(test_comb, df)"
   ]
  },
  {
   "cell_type": "code",
   "execution_count": 129,
   "id": "40d92cbf",
   "metadata": {},
   "outputs": [],
   "source": [
    "new_columns = ['index1', 'post_contents1', 'comment_contents1', 'label1', 'label_for_contrastive1', 'score1', 'index2', 'post_contents2', 'comment_contents2', 'label2', 'label_for_contrastive2', 'score2']"
   ]
  },
  {
   "cell_type": "code",
   "execution_count": 130,
   "id": "70142290",
   "metadata": {},
   "outputs": [],
   "source": [
    "train_result_df.columns = new_columns\n",
    "test_result_df.columns = new_columns"
   ]
  },
  {
   "cell_type": "code",
   "execution_count": 131,
   "id": "ee5fe2bb",
   "metadata": {},
   "outputs": [],
   "source": [
    "train_result_df.to_csv('../predicting-satisfaction-using-graphs/csv/dataset/df_for_contrastive_learner_train_45.csv')\n",
    "test_result_df.to_csv('../predicting-satisfaction-using-graphs/csv/dataset/df_for_contrastive_learner_test_5.csv')"
   ]
  },
  {
   "cell_type": "code",
   "execution_count": null,
   "id": "5fdde339",
   "metadata": {},
   "outputs": [],
   "source": []
  },
  {
   "cell_type": "code",
   "execution_count": 89,
   "id": "5ea0e981",
   "metadata": {},
   "outputs": [],
   "source": [
    "remain_df = remain_df.sample(100)"
   ]
  },
  {
   "cell_type": "code",
   "execution_count": 90,
   "id": "0546cb2c",
   "metadata": {},
   "outputs": [
    {
     "data": {
      "text/plain": [
       "4950"
      ]
     },
     "execution_count": 90,
     "metadata": {},
     "output_type": "execute_result"
    }
   ],
   "source": [
    "test_comb = list(itertools.combinations(remain_df['index'], 2))\n",
    "len(test_comb)"
   ]
  },
  {
   "cell_type": "code",
   "execution_count": 91,
   "id": "7b2eddb9",
   "metadata": {},
   "outputs": [],
   "source": [
    "test_df = make_comb_for_contrastive_learner(test_comb, df)"
   ]
  },
  {
   "cell_type": "code",
   "execution_count": 92,
   "id": "98d76118",
   "metadata": {},
   "outputs": [],
   "source": [
    "test_df = test_df.sample(1238)"
   ]
  },
  {
   "cell_type": "code",
   "execution_count": 93,
   "id": "e99b20eb",
   "metadata": {},
   "outputs": [],
   "source": [
    "test_df.columns = new_columns"
   ]
  },
  {
   "cell_type": "code",
   "execution_count": 94,
   "id": "70aceb9c",
   "metadata": {},
   "outputs": [],
   "source": [
    "test_df.to_csv('../predicting-satisfaction-using-graphs/csv/dataset/df_for_contrastive_learner_test.csv')"
   ]
  },
  {
   "cell_type": "code",
   "execution_count": null,
   "id": "6e28ca6b",
   "metadata": {},
   "outputs": [],
   "source": []
  },
  {
   "cell_type": "code",
   "execution_count": null,
   "id": "4f32f97d",
   "metadata": {},
   "outputs": [],
   "source": []
  },
  {
   "cell_type": "code",
   "execution_count": null,
   "id": "fffc20ac",
   "metadata": {},
   "outputs": [],
   "source": []
  },
  {
   "cell_type": "code",
   "execution_count": null,
   "id": "fd467cb5",
   "metadata": {},
   "outputs": [],
   "source": []
  },
  {
   "cell_type": "code",
   "execution_count": 141,
   "id": "92239b81",
   "metadata": {},
   "outputs": [],
   "source": [
    "train_df = pd.DataFrame([], columns=columns)"
   ]
  },
  {
   "cell_type": "code",
   "execution_count": 142,
   "id": "b56c7b64",
   "metadata": {},
   "outputs": [],
   "source": [
    "for i in range(5):\n",
    "    sub_df = df[df.label_for_contrastive == i].sample(50)\n",
    "    train_df = pd.concat([train_df, sub_df])"
   ]
  },
  {
   "cell_type": "code",
   "execution_count": 143,
   "id": "17f94630",
   "metadata": {},
   "outputs": [
    {
     "data": {
      "text/plain": [
       "(250, 6)"
      ]
     },
     "execution_count": 143,
     "metadata": {},
     "output_type": "execute_result"
    }
   ],
   "source": [
    "train_df.shape"
   ]
  },
  {
   "cell_type": "code",
   "execution_count": 148,
   "id": "f316e486",
   "metadata": {},
   "outputs": [],
   "source": [
    "train_comb = list(itertools.combinations(train_df['index'], 2))"
   ]
  },
  {
   "cell_type": "code",
   "execution_count": 149,
   "id": "2e5e3c6a",
   "metadata": {},
   "outputs": [
    {
     "name": "stdout",
     "output_type": "stream",
     "text": [
      "31125\n"
     ]
    }
   ],
   "source": [
    "print(len(train_comb))"
   ]
  },
  {
   "cell_type": "code",
   "execution_count": null,
   "id": "8e761397",
   "metadata": {},
   "outputs": [],
   "source": []
  },
  {
   "cell_type": "code",
   "execution_count": null,
   "id": "b46d0d32",
   "metadata": {},
   "outputs": [],
   "source": []
  },
  {
   "cell_type": "code",
   "execution_count": 144,
   "id": "e4beb605",
   "metadata": {},
   "outputs": [],
   "source": [
    "remain_df = df.drop(train_df.index)"
   ]
  },
  {
   "cell_type": "code",
   "execution_count": 146,
   "id": "0a1283a9",
   "metadata": {},
   "outputs": [
    {
     "data": {
      "text/plain": [
       "(750, 6)"
      ]
     },
     "execution_count": 146,
     "metadata": {},
     "output_type": "execute_result"
    }
   ],
   "source": [
    "remain_df.shape"
   ]
  },
  {
   "cell_type": "code",
   "execution_count": 172,
   "id": "9de2eb26",
   "metadata": {},
   "outputs": [],
   "source": [
    "test_df = pd.DataFrame([], columns=columns)"
   ]
  },
  {
   "cell_type": "code",
   "execution_count": 173,
   "id": "c6c46277",
   "metadata": {},
   "outputs": [],
   "source": [
    "sub_df = remain_df.sample(110)\n",
    "test_df = pd.concat([test_df, sub_df])"
   ]
  },
  {
   "cell_type": "code",
   "execution_count": 174,
   "id": "8de45d02",
   "metadata": {},
   "outputs": [
    {
     "data": {
      "text/plain": [
       "(110, 6)"
      ]
     },
     "execution_count": 174,
     "metadata": {},
     "output_type": "execute_result"
    }
   ],
   "source": [
    "test_df.shape"
   ]
  },
  {
   "cell_type": "code",
   "execution_count": 175,
   "id": "84588ec5",
   "metadata": {},
   "outputs": [],
   "source": [
    "test_comb = list(itertools.combinations(test_df['index'], 2))"
   ]
  },
  {
   "cell_type": "code",
   "execution_count": 176,
   "id": "b5092fb3",
   "metadata": {},
   "outputs": [
    {
     "data": {
      "text/plain": [
       "5995"
      ]
     },
     "execution_count": 176,
     "metadata": {},
     "output_type": "execute_result"
    }
   ],
   "source": [
    "len(test_comb)"
   ]
  },
  {
   "cell_type": "code",
   "execution_count": 177,
   "id": "e0684046",
   "metadata": {},
   "outputs": [],
   "source": [
    "train_result_df = make_comb_for_contrastive_learner(train_comb, df)\n",
    "test_result_df = make_comb_for_contrastive_learner(test_comb, df)"
   ]
  },
  {
   "cell_type": "code",
   "execution_count": 178,
   "id": "beb178f7",
   "metadata": {},
   "outputs": [],
   "source": [
    "train_result_df.columns = new_columns\n",
    "test_result_df.columns = new_columns"
   ]
  },
  {
   "cell_type": "code",
   "execution_count": 179,
   "id": "8d218814",
   "metadata": {},
   "outputs": [],
   "source": [
    "train_result_df.to_csv('../predicting-satisfaction-using-graphs/csv/dataset/df_for_contrastive_learner_train_50.csv')\n",
    "test_result_df.to_csv('../predicting-satisfaction-using-graphs/csv/dataset/df_for_contrastive_learner_test_remain.csv')"
   ]
  },
  {
   "cell_type": "code",
   "execution_count": null,
   "id": "7fcd1c6c",
   "metadata": {},
   "outputs": [],
   "source": []
  }
 ],
 "metadata": {
  "kernelspec": {
   "display_name": "Python 3 (ipykernel)",
   "language": "python",
   "name": "python3"
  },
  "language_info": {
   "codemirror_mode": {
    "name": "ipython",
    "version": 3
   },
   "file_extension": ".py",
   "mimetype": "text/x-python",
   "name": "python",
   "nbconvert_exporter": "python",
   "pygments_lexer": "ipython3",
   "version": "3.8.10"
  }
 },
 "nbformat": 4,
 "nbformat_minor": 5
}
