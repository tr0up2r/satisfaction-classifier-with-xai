{
 "cells": [
  {
   "cell_type": "code",
   "execution_count": 1,
   "id": "a8991db3",
   "metadata": {},
   "outputs": [
    {
     "name": "stderr",
     "output_type": "stream",
     "text": [
      "/home/mykim/.local/lib/python3.8/site-packages/torch/cuda/__init__.py:83: UserWarning: CUDA initialization: Unexpected error from cudaGetDeviceCount(). Did you run some cuda functions before calling NumCudaDevices() that might have already set an error? Error 804: forward compatibility was attempted on non supported HW (Triggered internally at  ../c10/cuda/CUDAFunctions.cpp:109.)\n",
      "  return torch._C._cuda_getDeviceCount() > 0\n",
      "2023-07-18 11:23:29.476562: I tensorflow/stream_executor/platform/default/dso_loader.cc:49] Successfully opened dynamic library libcudart.so.11.0\n"
     ]
    }
   ],
   "source": [
    "import torch\n",
    "import torch.nn as nn\n",
    "import torch.nn.functional as F\n",
    "from captum.attr import IntegratedGradients\n",
    "\n",
    "import numpy as np\n",
    "import pandas as pd\n",
    "import seaborn as sns\n",
    "import matplotlib.pyplot as plt\n",
    "\n",
    "from transformers import BertTokenizer, BertForSequenceClassification, BertConfig\n",
    "\n",
    "from captum.attr import visualization as viz\n",
    "from captum.attr import LayerConductance, LayerIntegratedGradients\n",
    "from sklearn.model_selection import train_test_split\n",
    "from spacy.lang.en import English\n",
    "from splitbert.textsplit import text_segmentation\n",
    "from splitbert.splitbert import SplitBertConcatEncoderModel\n",
    "from splitbert.splitbert import conduct_input_ids_and_attention_masks\n",
    "from splitbert.splitbert import make_masks\n",
    "from torch.utils.data import DataLoader, RandomSampler, SequentialSampler\n",
    "import tqdm"
   ]
  },
  {
   "cell_type": "markdown",
   "id": "ccd1668f",
   "metadata": {},
   "source": [
    "# Data Preparation"
   ]
  },
  {
   "cell_type": "code",
   "execution_count": 2,
   "id": "5a53f02f",
   "metadata": {},
   "outputs": [
    {
     "name": "stdout",
     "output_type": "stream",
     "text": [
      "['seg', 'seg', 'snt']\n",
      "10 4 10\n",
      "10\n"
     ]
    }
   ],
   "source": [
    "post_df = pd.read_csv('../predicting-satisfaction-using-graphs/csv/dataset/liwc_post.csv', encoding='UTF-8')\n",
    "comment_df = pd.read_csv('../predicting-satisfaction-using-graphs/csv/dataset/liwc_comment.csv', encoding='UTF-8')\n",
    "reply_df = pd.read_csv('../predicting-satisfaction-using-graphs/csv/dataset/avg_satisfaction_raw_0-999.csv', encoding='ISO-8859-1')\n",
    "\n",
    "modes = [['seg', 'seg', 'snt']]\n",
    "\n",
    "nlp = English()\n",
    "nlp.add_pipe(\"sentencizer\")\n",
    "\n",
    "# satisfaction score (y)\n",
    "satisfactions_float = list(reply_df['satisfy_composite'])\n",
    "satisfactions = []\n",
    "\n",
    "for s in satisfactions_float:\n",
    "    if s < 3.5:\n",
    "        satisfactions.append(0)\n",
    "    elif s < 5:\n",
    "        satisfactions.append(1)\n",
    "    else:\n",
    "        satisfactions.append(2)\n",
    "\n",
    "reply_contents = list(reply_df['replyContent'])\n",
    "post_contents = list(post_df['content'])\n",
    "comment_bodies = list(comment_df['content'])\n",
    "\n",
    "\n",
    "def get_sequences(contents, mode):\n",
    "    sequences = []\n",
    "\n",
    "    if mode == 'all':\n",
    "        for content in contents:\n",
    "            sequences.append([content])\n",
    "    elif mode == 'seg':\n",
    "        for content in contents:\n",
    "            sentences = list(map(lambda x: str(x), list(nlp(content).sents)))\n",
    "            sequences.append(text_segmentation(sentences))\n",
    "    else:  # sentences\n",
    "        for content in contents:\n",
    "            sequences.append(list(map(lambda x: str(x), list(nlp(content).sents))))\n",
    "\n",
    "    return sequences\n",
    "\n",
    "\n",
    "for mode in modes:\n",
    "    print(mode)\n",
    "    post_sequences = get_sequences(post_contents, mode[0])\n",
    "    comment_sequences = get_sequences(comment_bodies, mode[1])\n",
    "    reply_sequences = get_sequences(reply_contents, mode[2])\n",
    "\n",
    "    data = []\n",
    "    max_post, max_comment, max_reply = 0, 0, 0\n",
    "    i = 0\n",
    "    for post, comment, reply, satisfaction, satisfaction_float in zip(post_sequences, comment_sequences,\n",
    "                                                                          reply_sequences, satisfactions,\n",
    "                                                                          satisfactions_float):\n",
    "        if len(post) > max_post:\n",
    "            max_post = len(post)\n",
    "        if len(comment) > max_comment:\n",
    "            max_comment = len(comment)\n",
    "        if len(reply) > max_reply:\n",
    "            max_reply = len(reply)\n",
    "\n",
    "        data.append([i, post, comment, reply, satisfaction, satisfaction_float])\n",
    "        i += 1\n",
    "\n",
    "    print(max_post, max_comment, max_reply)\n",
    "    max_count = max(max_post, max_comment, max_reply)\n",
    "    print(max_count)\n",
    "\n",
    "    columns = ['index', 'post_contents', 'comment_contents', 'reply_contents', 'label', 'score']\n",
    "    df = pd.DataFrame(data, columns=columns)\n",
    "\n",
    "    # data split (train & test sets)\n",
    "    idx_train, idx_remain = train_test_split(df.index.values, test_size=0.20, random_state=42)\n",
    "    idx_val, idx_test = train_test_split(idx_remain, test_size=0.50, random_state=42)\n",
    "\n",
    "    train_df = df.iloc[idx_train]\n",
    "    val_df = df.iloc[idx_val]\n",
    "    test_df = df.iloc[idx_test]\n",
    "\n",
    "    count_min_label = min(train_df['label'].value_counts())\n",
    "\n",
    "    labels = [0, 1, 2]\n",
    "\n",
    "    train_sample_df = pd.DataFrame([], columns=columns)\n",
    "\n",
    "    for label in labels:\n",
    "        tmp = train_df[train_df['label'] == label]\n",
    "        tmp_sampled = tmp.sample(frac=1).iloc[:count_min_label]\n",
    "        train_sample_df = pd.concat([train_sample_df, tmp_sampled])\n",
    "\n",
    "    train_sample_df = train_sample_df.sample(frac=1)"
   ]
  },
  {
   "cell_type": "markdown",
   "id": "d8e0bf40",
   "metadata": {},
   "source": [
    "# Model Preparation"
   ]
  },
  {
   "cell_type": "code",
   "execution_count": 3,
   "id": "9f0bf5fb",
   "metadata": {},
   "outputs": [],
   "source": [
    "def forward_func_ig(inputs):\n",
    "    now = 0\n",
    "\n",
    "    for embeddings, count in zip(inputs, sentence_counts):\n",
    "        embeddings = embeddings.unsqueeze(0)\n",
    "        embeddings = embeddings.swapaxes(0, 1)\n",
    "\n",
    "        embeddings = model.pe(embeddings)\n",
    "\n",
    "        src_mask, src_key_padding_mask = make_masks(model.max_len, count, device)\n",
    "\n",
    "        encoder_output = model.encoder(embeddings, mask=src_mask, src_key_padding_mask=src_key_padding_mask)\n",
    "\n",
    "        encoder_output = torch.mean(encoder_output[:count], dim=0)\n",
    "\n",
    "        if now == 0:\n",
    "            result_outputs = encoder_output\n",
    "        else:\n",
    "            result_outputs = torch.cat([result_outputs, encoder_output], dim=1)\n",
    "        now += 1\n",
    "    \n",
    "    outputs = model.classifier1(result_outputs)\n",
    "    logits = model.classifier2(outputs)\n",
    "    return logits"
   ]
  },
  {
   "cell_type": "code",
   "execution_count": 4,
   "id": "01f62ea1",
   "metadata": {},
   "outputs": [],
   "source": [
    "def forward_func_ig2(inputs, sentence_counts):\n",
    "    now = 0\n",
    "\n",
    "    for encoder_output, count in zip(inputs, sentence_counts):\n",
    "        encoder_output = encoder_output.swapaxes(0, 1)\n",
    "        encoder_output = torch.mean(encoder_output[:count], dim=0)\n",
    "\n",
    "        if now == 0:\n",
    "            result_outputs = encoder_output\n",
    "        else:\n",
    "            result_outputs = torch.cat([result_outputs, encoder_output], dim=1)\n",
    "        now += 1\n",
    "        \n",
    "    outputs = model.classifier1(result_outputs)\n",
    "    logits = model.classifier2(outputs)\n",
    "    return logits\n",
    "\n",
    "ig = IntegratedGradients(forward_func_ig2)"
   ]
  },
  {
   "cell_type": "code",
   "execution_count": 5,
   "id": "e9d29b85",
   "metadata": {},
   "outputs": [
    {
     "name": "stderr",
     "output_type": "stream",
     "text": [
      "Some weights of the model checkpoint at bert-base-uncased were not used when initializing BertModel: ['cls.predictions.transform.LayerNorm.bias', 'cls.predictions.transform.LayerNorm.weight', 'cls.predictions.transform.dense.bias', 'cls.predictions.transform.dense.weight', 'cls.predictions.decoder.weight', 'cls.seq_relationship.weight', 'cls.predictions.bias', 'cls.seq_relationship.bias']\n",
      "- This IS expected if you are initializing BertModel from the checkpoint of a model trained on another task or with another architecture (e.g. initializing a BertForSequenceClassification model from a BertForPreTraining model).\n",
      "- This IS NOT expected if you are initializing BertModel from the checkpoint of a model that you expect to be exactly identical (initializing a BertForSequenceClassification model from a BertForSequenceClassification model).\n"
     ]
    }
   ],
   "source": [
    "# device = torch.device(\"cuda:0\" if torch.cuda.is_available() else \"cpu\")\n",
    "device = torch.device('cpu')\n",
    "\n",
    "tokenizer = BertTokenizer.from_pretrained('bert-base-uncased', do_lower_case=True)\n",
    "\n",
    "model_path = f'../predicting-satisfaction-using-graphs/splitbert/model/seg_seg_snt/epoch_4.model'\n",
    "model = SplitBertConcatEncoderModel(num_labels=len(labels), embedding_size=384, max_len=max_count, device='cpu', pc_segmentation=False)\n",
    "model.load_state_dict(torch.load(model_path, map_location=device))\n",
    "model.to('cpu')\n",
    "model.eval()\n",
    "\n",
    "for param in model.sbert.parameters():\n",
    "    param.requires_grad = False\n",
    "    \n",
    "for param in model.bert.parameters():\n",
    "    param.requires_grad = False"
   ]
  },
  {
   "cell_type": "code",
   "execution_count": 6,
   "id": "f529f25f",
   "metadata": {},
   "outputs": [],
   "source": [
    "def construct_input_ref_pair(triplet):\n",
    "    input_ids_list, ref_input_ids_list, attention_masks_list, sentence_count_list = [], [], [], []\n",
    "    \n",
    "    for contents in triplet:\n",
    "        result = tokenizer(contents, pad_to_max_length=True, truncation=True, max_length=256, return_tensors='pt')\n",
    "        \n",
    "        input_ids = result['input_ids']\n",
    "        sentence_count_list.append(torch.tensor(len(input_ids)).unsqueeze(0))\n",
    "        attention_masks = result['attention_mask']\n",
    "        \n",
    "        pad = (0, 0, 0, max_count-len(input_ids))\n",
    "        input_ids = nn.functional.pad(input_ids, pad, \"constant\", 0)\n",
    "        attention_masks = nn.functional.pad(attention_masks, pad, \"constant\", 0)\n",
    "        ref_input_ids = torch.zeros_like(input_ids)\n",
    "\n",
    "        input_ids_list.append(input_ids.unsqueeze(0))\n",
    "        ref_input_ids_list.append(ref_input_ids.unsqueeze(0))\n",
    "        attention_masks_list.append(attention_masks.unsqueeze(0))\n",
    "    \n",
    "    return input_ids_list, ref_input_ids_list, attention_masks_list, sentence_count_list"
   ]
  },
  {
   "cell_type": "code",
   "execution_count": 7,
   "id": "5f2e6dee",
   "metadata": {},
   "outputs": [],
   "source": [
    "def summarize_attributions(attribution):\n",
    "    attributions = attribution.sum(dim=-1).squeeze(0)\n",
    "    attributions = attributions / torch.norm(attributions)\n",
    "    return attributions"
   ]
  },
  {
   "cell_type": "code",
   "execution_count": 69,
   "id": "f8f207a0",
   "metadata": {},
   "outputs": [],
   "source": [
    "def splitbert_integrated_gradient(index, post, comment, reply, p_sentences, c_sentences, r_sentences, label, score, visualize=False):\n",
    "    \n",
    "    def post_or_comment_or_reply(index):\n",
    "        for i, sentences in enumerate(all_sentences):\n",
    "            if all_tokens[index] in sentences:\n",
    "                if i == 0:\n",
    "                    return 'post'\n",
    "                elif i == 1:\n",
    "                    return 'comment'\n",
    "                else:\n",
    "                    return 'reply'\n",
    "    \n",
    "    input_ids, ref_input_ids, attention_masks, sentence_counts = construct_input_ref_pair([post, comment, reply])\n",
    "    \n",
    "    \n",
    "    one_hot_labels = torch.nn.functional.one_hot(torch.tensor(label), num_classes=len(labels))\n",
    "    inputs = {'labels': one_hot_labels.type(torch.float).to(device),\n",
    "          'input_ids1': input_ids[0].to(device),\n",
    "          'input_ids2': input_ids[1].to(device),\n",
    "          'input_ids3': input_ids[2].to(device),\n",
    "          'attention_mask1': attention_masks[0].to(device),\n",
    "          'attention_mask2': attention_masks[1].to(device),\n",
    "          'attention_mask3': attention_masks[2].to(device),\n",
    "          'sentence_count1': sentence_counts[0].to(device),\n",
    "          'sentence_count2': sentence_counts[1].to(device),\n",
    "          'sentence_count3': sentence_counts[2].to(device),\n",
    "          'mode': 'triplet'\n",
    "         }\n",
    "    \n",
    "    with torch.no_grad():\n",
    "        embeddings = model(**inputs).hidden_states\n",
    "        \n",
    "    inputs = torch.stack(embeddings, dim=0)\n",
    "    pred = forward_func_ig2(inputs, sentence_counts)\n",
    "    # print(f'answer: {label}, predict: {torch.argmax(pred)}')\n",
    "    \n",
    "    result = []\n",
    "    \n",
    "    attribution, delta = ig.attribute(inputs=inputs, target=torch.argmax(pred), additional_forward_args=sentence_counts, return_convergence_delta=True)\n",
    "    attributions = summarize_attributions(attribution)\n",
    "    f_attributions = torch.flatten(attributions)\n",
    "    f_attributions = f_attributions[f_attributions.nonzero()].squeeze(1)\n",
    "    abs_attributions = list(map(abs, map(float, f_attributions)))\n",
    "    idx_attributions = []\n",
    "    for j in range(len(abs_attributions)):\n",
    "        idx_attributions.append((j, abs_attributions[j], f_attributions[j].item()))\n",
    "    idx_attributions.sort(key=lambda x:x[1], reverse=True)\n",
    "        \n",
    "    top3 = idx_attributions[:3]\n",
    "    \n",
    "    if visualize:\n",
    "        all_sentences = [['[[post]]'], post, ['[[comment]]'], comment, ['[[reply]]'], reply]\n",
    "        all_tokens = [item for all_sentences in all_sentences for item in all_sentences]\n",
    "        \n",
    "        vis_attributions = []\n",
    "        \n",
    "        j = 0\n",
    "        for i in range(len(all_tokens)):\n",
    "            if all_tokens[i] in ['[[post]]', '[[comment]]', '[[reply]]']:\n",
    "                vis_attributions.append(0)\n",
    "            else:\n",
    "                vis_attributions.append(f_attributions[j].item())\n",
    "                j += 1\n",
    "                \n",
    "        vis_attributions = torch.tensor(vis_attributions)\n",
    "        \n",
    "        score_vis = viz.VisualizationDataRecord(vis_attributions,\n",
    "                                                torch.max(torch.softmax(pred, dim=0)),\n",
    "                                                torch.argmax(pred),  # predicted label\n",
    "                                                label,  # true label\n",
    "                                                p_sentences + ' ' + c_sentences + ' ' + r_sentences,\n",
    "                                                vis_attributions.sum(),\n",
    "                                                all_tokens,\n",
    "                                                delta)\n",
    "        raw_text = ' '.join(post) + ' '.join(comment) + ' '.join(reply)\n",
    "        \n",
    "        print(vis_attributions)\n",
    "        print('\\033[1m', 'Visualization For Score', '\\033[0m')\n",
    "        viz.visualize_text([score_vis])\n",
    "        \n",
    "    else:\n",
    "        where = []\n",
    "        \n",
    "        all_sentences = [post, comment, reply]\n",
    "        all_tokens = [item for all_sentences in all_sentences for item in all_sentences]\n",
    "\n",
    "        for j in range(len(top3)):\n",
    "            where.append(post_or_comment_or_reply(top3[j][0]))\n",
    "\n",
    "        result.append([index, post, comment, reply, score, all_tokens[top3[0][0]], top3[0][2], where[0]])\n",
    "        result.append([index, post, comment, reply, score, all_tokens[top3[1][0]], top3[1][2], where[1]])\n",
    "        result.append([index, post, comment, reply, score, all_tokens[top3[2][0]], top3[2][2], where[2]])\n",
    "\n",
    "        return result, label, torch.argmax(pred).item()"
   ]
  },
  {
   "cell_type": "code",
   "execution_count": null,
   "id": "d435e908",
   "metadata": {},
   "outputs": [],
   "source": []
  },
  {
   "cell_type": "code",
   "execution_count": 9,
   "id": "52cb7c47",
   "metadata": {},
   "outputs": [],
   "source": [
    "train_index_df = pd.read_csv('../predicting-satisfaction-using-graphs/csv/dataset/train_index.csv', encoding='UTF-8')\n",
    "val_index_df = pd.read_csv('../predicting-satisfaction-using-graphs/csv/dataset/val_index.csv', encoding='UTF-8')\n",
    "\n",
    "train_index = sorted(list(train_index_df.idx.values))\n",
    "val_index = sorted(list(val_index_df.idx.values))"
   ]
  },
  {
   "cell_type": "code",
   "execution_count": 10,
   "id": "6178ec7b",
   "metadata": {},
   "outputs": [
    {
     "name": "stdout",
     "output_type": "stream",
     "text": [
      "546\n",
      "100\n"
     ]
    }
   ],
   "source": [
    "print(len(train_index))\n",
    "print(len(val_index))"
   ]
  },
  {
   "cell_type": "code",
   "execution_count": 56,
   "id": "d2e161b4",
   "metadata": {},
   "outputs": [],
   "source": [
    "def main(index_list):\n",
    "    result_list = []\n",
    "    label_pred_list = []\n",
    "    \n",
    "    for i in index_list:\n",
    "        result, label, pred = splitbert_integrated_gradient(i, post_sequences[i], comment_sequences[i], reply_sequences[i], post_contents[i], comment_bodies[i], reply_contents[i], satisfactions[i], satisfactions_float[i])\n",
    "        result_list.extend(result)\n",
    "        \n",
    "        for i in range(3):\n",
    "            label_pred_list.append((label, pred))\n",
    "        \n",
    "    return result_list, label_pred_list   "
   ]
  },
  {
   "cell_type": "code",
   "execution_count": 75,
   "id": "a47b2e65",
   "metadata": {},
   "outputs": [
    {
     "name": "stderr",
     "output_type": "stream",
     "text": [
      "/home/mykim/.local/lib/python3.8/site-packages/transformers/tokenization_utils_base.py:2301: FutureWarning: The `pad_to_max_length` argument is deprecated and will be removed in a future version, use `padding=True` or `padding='longest'` to pad to the longest sequence in the batch, or use `padding='max_length'` to pad to a max length. In this case, you can give a specific length with `max_length` (e.g. `max_length=45`) or leave max_length to None to pad to the maximal input size of the model (e.g. 512 for Bert).\n",
      "  warnings.warn(\n"
     ]
    }
   ],
   "source": [
    "if __name__ == \"__main__\":\n",
    "    filtered = True\n",
    "    \n",
    "    result_list, label_pred_list = main(val_index)\n",
    "    \n",
    "    if filtered:\n",
    "        filtered_list = []\n",
    "        filtered_lp_list = []\n",
    "        for result, lp in zip(result_list, label_pred_list):\n",
    "            if abs(result[6]) >= 0.5:\n",
    "                filtered_list.append(result)\n",
    "                filtered_lp_list.append(lp)\n",
    "    \n",
    "    path = '../predicting-satisfaction-using-graphs/csv/integrated_gradient_result/'\n",
    "    columns = ['idx', 'post_text', 'comment_text', 'reply_text', 'score', 'attr_sentence', 'attr_score', 'origin']\n",
    "    \n",
    "    def make_csv(target_list, label_pred_list):\n",
    "        for i in range(3):\n",
    "            for j in range(3):\n",
    "                result = []\n",
    "                for k in range(len(target_list)):\n",
    "                    if label_pred_list[k] == (i, j):\n",
    "                        result.append(target_list[k])\n",
    "                result_df = pd.DataFrame(result, columns=columns)\n",
    "                \n",
    "                if filtered:\n",
    "                    filename = f'label_{i}_pred_{j}_attribution_filtered.csv'\n",
    "                else:\n",
    "                    filename = f'label_{i}_pred_{j}_attribution.csv'\n",
    "                \n",
    "                result_df.to_csv(path + filename)\n",
    "    \n",
    "    \n",
    "    if not filtered:\n",
    "        make_csv(result_list, label_pred_list)\n",
    "    else:\n",
    "        make_csv(filtered_list, filtered_lp_list)"
   ]
  },
  {
   "cell_type": "code",
   "execution_count": 216,
   "id": "b7ef555a",
   "metadata": {},
   "outputs": [
    {
     "name": "stdout",
     "output_type": "stream",
     "text": [
      "label: 0, pred: 0\n",
      "reply      24\n",
      "comment    17\n",
      "post       10\n",
      "Name: origin, dtype: int64\n",
      "\n",
      "label: 0, pred: 1\n",
      "reply      5\n",
      "comment    3\n",
      "post       1\n",
      "Name: origin, dtype: int64\n",
      "\n",
      "label: 0, pred: 2\n",
      "Series([], Name: origin, dtype: int64)\n",
      "\n",
      "label: 1, pred: 0\n",
      "reply      16\n",
      "comment    13\n",
      "post        7\n",
      "Name: origin, dtype: int64\n",
      "\n",
      "label: 1, pred: 1\n",
      "reply      67\n",
      "post       18\n",
      "comment    17\n",
      "Name: origin, dtype: int64\n",
      "\n",
      "label: 1, pred: 2\n",
      "reply      11\n",
      "comment     6\n",
      "post        1\n",
      "Name: origin, dtype: int64\n",
      "\n",
      "label: 2, pred: 0\n",
      "reply      2\n",
      "comment    1\n",
      "Name: origin, dtype: int64\n",
      "\n",
      "label: 2, pred: 1\n",
      "reply      12\n",
      "post        2\n",
      "comment     1\n",
      "Name: origin, dtype: int64\n",
      "\n",
      "label: 2, pred: 2\n",
      "reply      47\n",
      "comment    12\n",
      "post        7\n",
      "Name: origin, dtype: int64\n",
      "\n"
     ]
    }
   ],
   "source": [
    "for i in range(3):\n",
    "    for j in range(3):\n",
    "        print(f'label: {i}, pred: {j}')\n",
    "        \n",
    "        result_df = pd.read_csv(f'../predicting-satisfaction-using-graphs/csv/integrated_gradient_result/label_{i}_pred_{j}_attribution.csv', encoding='UTF-8')\n",
    "        print(result_df.origin.value_counts())\n",
    "        print()"
   ]
  },
  {
   "cell_type": "code",
   "execution_count": 78,
   "id": "7a43c601",
   "metadata": {},
   "outputs": [
    {
     "name": "stdout",
     "output_type": "stream",
     "text": [
      "label: 0, pred: 0\n",
      "reply      16\n",
      "comment     8\n",
      "Name: origin, dtype: int64\n",
      "\n",
      "label: 0, pred: 1\n",
      "reply      3\n",
      "comment    1\n",
      "post       1\n",
      "Name: origin, dtype: int64\n",
      "\n",
      "label: 0, pred: 2\n",
      "Series([], Name: origin, dtype: int64)\n",
      "\n",
      "label: 1, pred: 0\n",
      "reply      14\n",
      "comment     2\n",
      "Name: origin, dtype: int64\n",
      "\n",
      "label: 1, pred: 1\n",
      "reply      39\n",
      "comment     5\n",
      "Name: origin, dtype: int64\n",
      "\n",
      "label: 1, pred: 2\n",
      "reply    12\n",
      "Name: origin, dtype: int64\n",
      "\n",
      "label: 2, pred: 0\n",
      "Series([], Name: origin, dtype: int64)\n",
      "\n",
      "label: 2, pred: 1\n",
      "reply    8\n",
      "Name: origin, dtype: int64\n",
      "\n",
      "label: 2, pred: 2\n",
      "reply      37\n",
      "comment     3\n",
      "Name: origin, dtype: int64\n",
      "\n"
     ]
    }
   ],
   "source": [
    "index_list = []\n",
    "\n",
    "for i in range(3):\n",
    "    for j in range(3):\n",
    "        print(f'label: {i}, pred: {j}')\n",
    "        \n",
    "        result_df = pd.read_csv(f'../predicting-satisfaction-using-graphs/csv/integrated_gradient_result/label_{i}_pred_{j}_attribution_filtered.csv', encoding='UTF-8')\n",
    "        print(result_df.origin.value_counts())\n",
    "        \n",
    "        if i == j:\n",
    "            index_list.append(set(list(result_df.idx.values)))\n",
    "        \n",
    "        print()"
   ]
  },
  {
   "cell_type": "code",
   "execution_count": 77,
   "id": "3a880036",
   "metadata": {},
   "outputs": [
    {
     "name": "stdout",
     "output_type": "stream",
     "text": [
      "tensor([0.0000, 0.4143, 0.0000, 0.8583, 0.0000, 0.3027])\n",
      "\u001b[1m Visualization For Score \u001b[0m\n"
     ]
    },
    {
     "data": {
      "text/html": [
       "<table width: 100%><div style=\"border-top: 1px solid; margin-top: 5px;             padding-top: 5px; display: inline-block\"><b>Legend: </b><span style=\"display: inline-block; width: 10px; height: 10px;                 border: 1px solid; background-color:                 hsl(0, 75%, 60%)\"></span> Negative  <span style=\"display: inline-block; width: 10px; height: 10px;                 border: 1px solid; background-color:                 hsl(0, 75%, 100%)\"></span> Neutral  <span style=\"display: inline-block; width: 10px; height: 10px;                 border: 1px solid; background-color:                 hsl(120, 75%, 50%)\"></span> Positive  </div><tr><th>True Label</th><th>Predicted Label</th><th>Attribution Label</th><th>Attribution Score</th><th>Word Importance</th><tr><td><text style=\"padding-right:2em\"><b>0</b></text></td><td><text style=\"padding-right:2em\"><b>0 (1.00)</b></text></td><td><text style=\"padding-right:2em\"><b>I'm wondering if anyone here has thought about suicide methods that come close to killing you but can't.  I'm not ready to die but I want to hurt.  I want people to see physically how much I'm hurting emotionally.I've thought about jumping in front of cars or falling from non-lethal heights.  Those aren't the nicest methods but I'll go with them if I can't find a better one. dude, dont worry about qualities like looks etc. they are not significant at all.  lots of people are probably just like you, but instead of dwelling on negativity take your mind off your insecurities.try and enjoy yourself and also get some hobbies, anything IÃ¢ÂÂm not worried about looks, I was just saying that I donÃ¢ÂÂt even have a personality to make up for my looks\n",
       "\n",
       "And I do have hobbies, just not interesting hobbies. </b></text></td><td><text style=\"padding-right:2em\"><b>1.58</b></text></td><td><mark style=\"background-color: hsl(0, 75%, 100%); opacity:1.0;                     line-height:1.75\"><font color=\"black\"> [[post]]                    </font></mark><mark style=\"background-color: hsl(120, 75%, 80%); opacity:1.0;                     line-height:1.75\"><font color=\"black\"> I donât have any talents, I canât hold a conversation, I donât have any interesting qualities, im below average with looks and average in basically every other category, none of my friends ever invite me to anything because Iâm boring and so I never do anything which makes me even less interesting because when people ask me what I did over the weekend all I ever say is ânothingâ Iâm never anyoneâs first choice and I donât know how to improve myself. I honestly just couldnât be any more boring                    </font></mark><mark style=\"background-color: hsl(0, 75%, 100%); opacity:1.0;                     line-height:1.75\"><font color=\"black\"> [[comment]]                    </font></mark><mark style=\"background-color: hsl(120, 75%, 58%); opacity:1.0;                     line-height:1.75\"><font color=\"black\"> dude, dont worry about qualities like looks etc. they are not significant at all.  lots of people are probably just like you, but instead of dwelling on negativity take your mind off your insecurities.try and enjoy yourself and also get some hobbies, anything                    </font></mark><mark style=\"background-color: hsl(0, 75%, 100%); opacity:1.0;                     line-height:1.75\"><font color=\"black\"> [[reply]]                    </font></mark><mark style=\"background-color: hsl(120, 75%, 85%); opacity:1.0;                     line-height:1.75\"><font color=\"black\"> IÃ¢ÂÂm not worried about looks, I was just saying that I donÃ¢ÂÂt even have a personality to make up for my looks\n",
       "\n",
       "And I do have hobbies, just not interesting hobbies.                    </font></mark></td><tr></table>"
      ],
      "text/plain": [
       "<IPython.core.display.HTML object>"
      ]
     },
     "metadata": {},
     "output_type": "display_data"
    },
    {
     "name": "stdout",
     "output_type": "stream",
     "text": [
      "tensor([ 0.0000, -0.0847, -0.0605, -0.1126, -0.0714,  0.0000,  0.2185,  0.0000,\n",
      "         0.7958,  0.5389])\n",
      "\u001b[1m Visualization For Score \u001b[0m\n"
     ]
    },
    {
     "data": {
      "text/html": [
       "<table width: 100%><div style=\"border-top: 1px solid; margin-top: 5px;             padding-top: 5px; display: inline-block\"><b>Legend: </b><span style=\"display: inline-block; width: 10px; height: 10px;                 border: 1px solid; background-color:                 hsl(0, 75%, 60%)\"></span> Negative  <span style=\"display: inline-block; width: 10px; height: 10px;                 border: 1px solid; background-color:                 hsl(0, 75%, 100%)\"></span> Neutral  <span style=\"display: inline-block; width: 10px; height: 10px;                 border: 1px solid; background-color:                 hsl(120, 75%, 50%)\"></span> Positive  </div><tr><th>True Label</th><th>Predicted Label</th><th>Attribution Label</th><th>Attribution Score</th><th>Word Importance</th><tr><td><text style=\"padding-right:2em\"><b>0</b></text></td><td><text style=\"padding-right:2em\"><b>0 (1.00)</b></text></td><td><text style=\"padding-right:2em\"><b>I'm wondering if anyone here has thought about suicide methods that come close to killing you but can't.  I'm not ready to die but I want to hurt.  I want people to see physically how much I'm hurting emotionally.I've thought about jumping in front of cars or falling from non-lethal heights.  Those aren't the nicest methods but I'll go with them if I can't find a better one. Most of my problems with depression stem from my sex drive. I often wish I could just get rid of it and be happy.  You mean your depression arises from not having a sex drive? If so you can always check hormone levels.</b></text></td><td><text style=\"padding-right:2em\"><b>1.22</b></text></td><td><mark style=\"background-color: hsl(0, 75%, 100%); opacity:1.0;                     line-height:1.75\"><font color=\"black\"> [[post]]                    </font></mark><mark style=\"background-color: hsl(0, 75%, 97%); opacity:1.0;                     line-height:1.75\"><font color=\"black\">  Hi all. I started dealing with pretty severe depression 3 years ago. Finally went to a doctor and got some meds. I had no idea things could be improved by that.                    </font></mark><mark style=\"background-color: hsl(0, 75%, 98%); opacity:1.0;                     line-height:1.75\"><font color=\"black\">  I come from a family who does not believe in taking long term meds. Anyway, now i've gotten rid of the endless guilt, sleepy, bottom of a hole, worthless feelings. But as my title suggests, this hasn't happened without a tradeoff. Now i have no sex drive whatsoever. So much that i just tonight broke up with a girl that feels its about her.                    </font></mark><mark style=\"background-color: hsl(0, 75%, 96%); opacity:1.0;                     line-height:1.75\"><font color=\"black\">  Of course i explained the problems with the meds. But i also completely understand her point of view.                    </font></mark><mark style=\"background-color: hsl(0, 75%, 98%); opacity:1.0;                     line-height:1.75\"><font color=\"black\">  I take zoloft and wellbutrin. Anybody else have sex drive problems with those? Is there anything short of going off the meds that helped anyone?                    </font></mark><mark style=\"background-color: hsl(0, 75%, 100%); opacity:1.0;                     line-height:1.75\"><font color=\"black\"> [[comment]]                    </font></mark><mark style=\"background-color: hsl(120, 75%, 90%); opacity:1.0;                     line-height:1.75\"><font color=\"black\"> Most of my problems with depression stem from my sex drive. I often wish I could just get rid of it and be happy.                    </font></mark><mark style=\"background-color: hsl(0, 75%, 100%); opacity:1.0;                     line-height:1.75\"><font color=\"black\"> [[reply]]                    </font></mark><mark style=\"background-color: hsl(120, 75%, 61%); opacity:1.0;                     line-height:1.75\"><font color=\"black\"> You mean your depression arises from not having a sex drive?                    </font></mark><mark style=\"background-color: hsl(120, 75%, 74%); opacity:1.0;                     line-height:1.75\"><font color=\"black\"> If so you can always check hormone levels.                    </font></mark></td><tr></table>"
      ],
      "text/plain": [
       "<IPython.core.display.HTML object>"
      ]
     },
     "metadata": {},
     "output_type": "display_data"
    },
    {
     "name": "stdout",
     "output_type": "stream",
     "text": [
      "tensor([ 0.0000, -0.0379, -0.0032, -0.0720, -0.0010, -0.0303,  0.0000,  0.2177,\n",
      "        -0.0286, -0.0939,  0.0000,  0.9672])\n",
      "\u001b[1m Visualization For Score \u001b[0m\n"
     ]
    },
    {
     "data": {
      "text/html": [
       "<table width: 100%><div style=\"border-top: 1px solid; margin-top: 5px;             padding-top: 5px; display: inline-block\"><b>Legend: </b><span style=\"display: inline-block; width: 10px; height: 10px;                 border: 1px solid; background-color:                 hsl(0, 75%, 60%)\"></span> Negative  <span style=\"display: inline-block; width: 10px; height: 10px;                 border: 1px solid; background-color:                 hsl(0, 75%, 100%)\"></span> Neutral  <span style=\"display: inline-block; width: 10px; height: 10px;                 border: 1px solid; background-color:                 hsl(120, 75%, 50%)\"></span> Positive  </div><tr><th>True Label</th><th>Predicted Label</th><th>Attribution Label</th><th>Attribution Score</th><th>Word Importance</th><tr><td><text style=\"padding-right:2em\"><b>0</b></text></td><td><text style=\"padding-right:2em\"><b>0 (1.00)</b></text></td><td><text style=\"padding-right:2em\"><b>I'm wondering if anyone here has thought about suicide methods that come close to killing you but can't.  I'm not ready to die but I want to hurt.  I want people to see physically how much I'm hurting emotionally.I've thought about jumping in front of cars or falling from non-lethal heights.  Those aren't the nicest methods but I'll go with them if I can't find a better one. I hope you consider that there may be one person in that bunch of people that might understand what you're going through. Yes, humans can be nasty, seems like they are more often than not, but every once in a while a genuine soul comes around to touch that broken part inside. I've had it happen to me. Not often, but it has happened. That gives me hope. Religion or not, hope is nice. I get off on being hated and despised so it doesn't work for me.</b></text></td><td><text style=\"padding-right:2em\"><b>0.92</b></text></td><td><mark style=\"background-color: hsl(0, 75%, 100%); opacity:1.0;                     line-height:1.75\"><font color=\"black\"> [[post]]                    </font></mark><mark style=\"background-color: hsl(0, 75%, 99%); opacity:1.0;                     line-height:1.75\"><font color=\"black\">  Yes I am an asshole and I am aware of that. Let us begin.                    </font></mark><mark style=\"background-color: hsl(0, 75%, 100%); opacity:1.0;                     line-height:1.75\"><font color=\"black\">  I really fucking hate it when people try to act nice and empathetic towards me, or when they try to tell me the world needs me or they would miss me if I killed myself. Bullshit. Humans are at their core - bastards. It's in their nature to be cunts so why try to fight it?                    </font></mark><mark style=\"background-color: hsl(0, 75%, 98%); opacity:1.0;                     line-height:1.75\"><font color=\"black\">  Why try to go against the way you're supposed to be? Why not just accept that fact? It just seems so pretentious otherwise.                    </font></mark><mark style=\"background-color: hsl(0, 75%, 100%); opacity:1.0;                     line-height:1.75\"><font color=\"black\">  I don't even know why the fuck I bother with this subreddit seeing as I don't even want help or to be saved, I just wanna fucking die. But nobody else wants that! They all wanna give me the same bullshit about how I am needed in this world and my life would get better if I decided to stick around. I'm sorry but I just can't possibly produce a fuck to give. Why can't you people just let me die? Why can't you just be an asshole like me and tell me to go kill myself? Because that's what I really want.                    </font></mark><mark style=\"background-color: hsl(0, 75%, 99%); opacity:1.0;                     line-height:1.75\"><font color=\"black\">  Hell why not just do me the ultimate favour and stick the knife in back yourselves! That would be some real \"kindness\" or \"compassion\" or \"love\", instead of the clichÃ© crap.                    </font></mark><mark style=\"background-color: hsl(0, 75%, 100%); opacity:1.0;                     line-height:1.75\"><font color=\"black\"> [[comment]]                    </font></mark><mark style=\"background-color: hsl(120, 75%, 90%); opacity:1.0;                     line-height:1.75\"><font color=\"black\">  I hope you consider that there may be one person in that bunch of people that might understand what you're going through. Yes, humans can be nasty, seems like they are more often than not, but every once in a while a genuine soul comes around to touch that broken part inside.                    </font></mark><mark style=\"background-color: hsl(0, 75%, 99%); opacity:1.0;                     line-height:1.75\"><font color=\"black\">  I've had it happen to me. Not often, but it has happened.                    </font></mark><mark style=\"background-color: hsl(0, 75%, 97%); opacity:1.0;                     line-height:1.75\"><font color=\"black\">  That gives me hope. Religion or not, hope is nice.                    </font></mark><mark style=\"background-color: hsl(0, 75%, 100%); opacity:1.0;                     line-height:1.75\"><font color=\"black\"> [[reply]]                    </font></mark><mark style=\"background-color: hsl(120, 75%, 52%); opacity:1.0;                     line-height:1.75\"><font color=\"black\"> I get off on being hated and despised so it doesn't work for me.                    </font></mark></td><tr></table>"
      ],
      "text/plain": [
       "<IPython.core.display.HTML object>"
      ]
     },
     "metadata": {},
     "output_type": "display_data"
    },
    {
     "name": "stdout",
     "output_type": "stream",
     "text": [
      "tensor([0.0000, 0.1179, 0.0000, 0.6469, 0.0000, 0.7534])\n",
      "\u001b[1m Visualization For Score \u001b[0m\n"
     ]
    },
    {
     "data": {
      "text/html": [
       "<table width: 100%><div style=\"border-top: 1px solid; margin-top: 5px;             padding-top: 5px; display: inline-block\"><b>Legend: </b><span style=\"display: inline-block; width: 10px; height: 10px;                 border: 1px solid; background-color:                 hsl(0, 75%, 60%)\"></span> Negative  <span style=\"display: inline-block; width: 10px; height: 10px;                 border: 1px solid; background-color:                 hsl(0, 75%, 100%)\"></span> Neutral  <span style=\"display: inline-block; width: 10px; height: 10px;                 border: 1px solid; background-color:                 hsl(120, 75%, 50%)\"></span> Positive  </div><tr><th>True Label</th><th>Predicted Label</th><th>Attribution Label</th><th>Attribution Score</th><th>Word Importance</th><tr><td><text style=\"padding-right:2em\"><b>0</b></text></td><td><text style=\"padding-right:2em\"><b>0 (1.00)</b></text></td><td><text style=\"padding-right:2em\"><b>I'm wondering if anyone here has thought about suicide methods that come close to killing you but can't.  I'm not ready to die but I want to hurt.  I want people to see physically how much I'm hurting emotionally.I've thought about jumping in front of cars or falling from non-lethal heights.  Those aren't the nicest methods but I'll go with them if I can't find a better one. As bad as I feel about the depression, and I am pretty sure you are just taking out your pent up anger on him, you came out swinging first by calling him a moron over a little mistsle first no he came out swinging first, he has had and still has option of deleting..but he said I was wrong when he was wrong, thats super annoying and whats wrong with this world, nobody cares what they say, he could apologize, delete or say he was wrong but did none of those 3 so no, Im not gonna relent when i was right and had no reason to read his comments since they were irrelevant.</b></text></td><td><text style=\"padding-right:2em\"><b>1.52</b></text></td><td><mark style=\"background-color: hsl(0, 75%, 100%); opacity:1.0;                     line-height:1.75\"><font color=\"black\"> [[post]]                    </font></mark><mark style=\"background-color: hsl(120, 75%, 95%); opacity:1.0;                     line-height:1.75\"><font color=\"black\"> Im the guy no one suspects is as messed up as I am....Am wealthy, have nice wife, kids, everyone envious of our home (8000 sf so not small in wealthiest county in the USA).....good looking and well you name it ..........But Im now unemployed, wife has and I think still sleeps with other men, am now drinking a lot, no sex in years, kids make jokes about my drinking to wife......I embarass my wife out in piblic, I dont work out anymore and have 50 lbs more than I did a yr and half ago, I am going broke and well Im a loser I think........But when i drink at least the pain and how much of a loser I am doesnt keep me awake all night and makes me feel like I can do stuff when drunk......                    </font></mark><mark style=\"background-color: hsl(0, 75%, 100%); opacity:1.0;                     line-height:1.75\"><font color=\"black\"> [[comment]]                    </font></mark><mark style=\"background-color: hsl(120, 75%, 68%); opacity:1.0;                     line-height:1.75\"><font color=\"black\"> As bad as I feel about the depression, and I am pretty sure you are just taking out your pent up anger on him, you came out swinging first by calling him a moron over a little mistsle first                    </font></mark><mark style=\"background-color: hsl(0, 75%, 100%); opacity:1.0;                     line-height:1.75\"><font color=\"black\"> [[reply]]                    </font></mark><mark style=\"background-color: hsl(120, 75%, 63%); opacity:1.0;                     line-height:1.75\"><font color=\"black\"> no he came out swinging first, he has had and still has option of deleting..but he said I was wrong when he was wrong, thats super annoying and whats wrong with this world, nobody cares what they say, he could apologize, delete or say he was wrong but did none of those 3 so no, Im not gonna relent when i was right and had no reason to read his comments since they were irrelevant.                    </font></mark></td><tr></table>"
      ],
      "text/plain": [
       "<IPython.core.display.HTML object>"
      ]
     },
     "metadata": {},
     "output_type": "display_data"
    },
    {
     "name": "stdout",
     "output_type": "stream",
     "text": [
      "tensor([0.0000, 0.0731, 0.2123, 0.0000, 0.7829, 0.0000, 0.4876, 0.3146])\n",
      "\u001b[1m Visualization For Score \u001b[0m\n"
     ]
    },
    {
     "data": {
      "text/html": [
       "<table width: 100%><div style=\"border-top: 1px solid; margin-top: 5px;             padding-top: 5px; display: inline-block\"><b>Legend: </b><span style=\"display: inline-block; width: 10px; height: 10px;                 border: 1px solid; background-color:                 hsl(0, 75%, 60%)\"></span> Negative  <span style=\"display: inline-block; width: 10px; height: 10px;                 border: 1px solid; background-color:                 hsl(0, 75%, 100%)\"></span> Neutral  <span style=\"display: inline-block; width: 10px; height: 10px;                 border: 1px solid; background-color:                 hsl(120, 75%, 50%)\"></span> Positive  </div><tr><th>True Label</th><th>Predicted Label</th><th>Attribution Label</th><th>Attribution Score</th><th>Word Importance</th><tr><td><text style=\"padding-right:2em\"><b>0</b></text></td><td><text style=\"padding-right:2em\"><b>0 (1.00)</b></text></td><td><text style=\"padding-right:2em\"><b>I'm wondering if anyone here has thought about suicide methods that come close to killing you but can't.  I'm not ready to die but I want to hurt.  I want people to see physically how much I'm hurting emotionally.I've thought about jumping in front of cars or falling from non-lethal heights.  Those aren't the nicest methods but I'll go with them if I can't find a better one. This is the depression in you talking. What you describe are common thoughts and feelings of depressive people. It would help you if you just see this as this is \"my depression talking\". Try to get some help. Talk and share those feelings with someone you trust. When you start sharing those thoughts with others, they start losing their grip on you. Stay strong! I don't have anyone to talk to in this situation, I keep finding myself in the same place all of these years. I just want all of this to end, I never mattered, I am going no where</b></text></td><td><text style=\"padding-right:2em\"><b>1.87</b></text></td><td><mark style=\"background-color: hsl(0, 75%, 100%); opacity:1.0;                     line-height:1.75\"><font color=\"black\"> [[post]]                    </font></mark><mark style=\"background-color: hsl(120, 75%, 97%); opacity:1.0;                     line-height:1.75\"><font color=\"black\">  I don't care how my family and the people in my life emotions will be once I'm gone. It's obvious I don't belong here, I'm a huge burden, I feel so misplaced, I honestly shouldn't be alive. I really hate myself, I have nothing going for me, I was never good at anything. I'm not smart, I'm a huge loser. I can tell my parents aren't proud of me.                    </font></mark><mark style=\"background-color: hsl(120, 75%, 90%); opacity:1.0;                     line-height:1.75\"><font color=\"black\">  Holy fuck I want to die so bad. I don't know how much longer I can take this but Suicide doesn't seem so bad afterall.                    </font></mark><mark style=\"background-color: hsl(0, 75%, 100%); opacity:1.0;                     line-height:1.75\"><font color=\"black\"> [[comment]]                    </font></mark><mark style=\"background-color: hsl(120, 75%, 61%); opacity:1.0;                     line-height:1.75\"><font color=\"black\"> This is the depression in you talking. What you describe are common thoughts and feelings of depressive people. It would help you if you just see this as this is \"my depression talking\". Try to get some help. Talk and share those feelings with someone you trust. When you start sharing those thoughts with others, they start losing their grip on you. Stay strong!                    </font></mark><mark style=\"background-color: hsl(0, 75%, 100%); opacity:1.0;                     line-height:1.75\"><font color=\"black\"> [[reply]]                    </font></mark><mark style=\"background-color: hsl(120, 75%, 76%); opacity:1.0;                     line-height:1.75\"><font color=\"black\"> I don't have anyone to talk to in this situation, I keep finding myself in the same place all of these years.                    </font></mark><mark style=\"background-color: hsl(120, 75%, 85%); opacity:1.0;                     line-height:1.75\"><font color=\"black\"> I just want all of this to end, I never mattered, I am going no where                    </font></mark></td><tr></table>"
      ],
      "text/plain": [
       "<IPython.core.display.HTML object>"
      ]
     },
     "metadata": {},
     "output_type": "display_data"
    },
    {
     "name": "stdout",
     "output_type": "stream",
     "text": [
      "tensor([0.0000, 0.0240, 0.0336, 0.0000, 0.2111, 0.0000, 0.7560, 0.6182])\n",
      "\u001b[1m Visualization For Score \u001b[0m\n"
     ]
    },
    {
     "data": {
      "text/html": [
       "<table width: 100%><div style=\"border-top: 1px solid; margin-top: 5px;             padding-top: 5px; display: inline-block\"><b>Legend: </b><span style=\"display: inline-block; width: 10px; height: 10px;                 border: 1px solid; background-color:                 hsl(0, 75%, 60%)\"></span> Negative  <span style=\"display: inline-block; width: 10px; height: 10px;                 border: 1px solid; background-color:                 hsl(0, 75%, 100%)\"></span> Neutral  <span style=\"display: inline-block; width: 10px; height: 10px;                 border: 1px solid; background-color:                 hsl(120, 75%, 50%)\"></span> Positive  </div><tr><th>True Label</th><th>Predicted Label</th><th>Attribution Label</th><th>Attribution Score</th><th>Word Importance</th><tr><td><text style=\"padding-right:2em\"><b>0</b></text></td><td><text style=\"padding-right:2em\"><b>0 (1.00)</b></text></td><td><text style=\"padding-right:2em\"><b>I'm wondering if anyone here has thought about suicide methods that come close to killing you but can't.  I'm not ready to die but I want to hurt.  I want people to see physically how much I'm hurting emotionally.I've thought about jumping in front of cars or falling from non-lethal heights.  Those aren't the nicest methods but I'll go with them if I can't find a better one. Except we're social animals. Trying to rewrite that basic need of human intimacy, closeness and friendship is not realistic. Sure you can be all alone and stand by yourself, but what happens when the loneliness starts causing the depression?  What happens when the depression happens way before the loneliness? It happened opposite for me. </b></text></td><td><text style=\"padding-right:2em\"><b>1.64</b></text></td><td><mark style=\"background-color: hsl(0, 75%, 100%); opacity:1.0;                     line-height:1.75\"><font color=\"black\"> [[post]]                    </font></mark><mark style=\"background-color: hsl(120, 75%, 99%); opacity:1.0;                     line-height:1.75\"><font color=\"black\">  Youâre all alone. No one has your back. Friends, family, theyâre involved in their own lives to truly care.                    </font></mark><mark style=\"background-color: hsl(120, 75%, 99%); opacity:1.0;                     line-height:1.75\"><font color=\"black\">  Be a loner, take care of yourself and be selfish. Fuck everyone and everything that tries to stand in your way.                    </font></mark><mark style=\"background-color: hsl(0, 75%, 100%); opacity:1.0;                     line-height:1.75\"><font color=\"black\"> [[comment]]                    </font></mark><mark style=\"background-color: hsl(120, 75%, 90%); opacity:1.0;                     line-height:1.75\"><font color=\"black\"> Except we're social animals. Trying to rewrite that basic need of human intimacy, closeness and friendship is not realistic. Sure you can be all alone and stand by yourself, but what happens when the loneliness starts causing the depression?                    </font></mark><mark style=\"background-color: hsl(0, 75%, 100%); opacity:1.0;                     line-height:1.75\"><font color=\"black\"> [[reply]]                    </font></mark><mark style=\"background-color: hsl(120, 75%, 63%); opacity:1.0;                     line-height:1.75\"><font color=\"black\"> What happens when the depression happens way before the loneliness?                    </font></mark><mark style=\"background-color: hsl(120, 75%, 70%); opacity:1.0;                     line-height:1.75\"><font color=\"black\"> It happened opposite for me.                    </font></mark></td><tr></table>"
      ],
      "text/plain": [
       "<IPython.core.display.HTML object>"
      ]
     },
     "metadata": {},
     "output_type": "display_data"
    },
    {
     "name": "stdout",
     "output_type": "stream",
     "text": [
      "tensor([ 0.0000, -0.1705, -0.1829, -0.2037,  0.0000,  0.2846,  0.0000,  0.7524,\n",
      "         0.4988])\n",
      "\u001b[1m Visualization For Score \u001b[0m\n"
     ]
    },
    {
     "data": {
      "text/html": [
       "<table width: 100%><div style=\"border-top: 1px solid; margin-top: 5px;             padding-top: 5px; display: inline-block\"><b>Legend: </b><span style=\"display: inline-block; width: 10px; height: 10px;                 border: 1px solid; background-color:                 hsl(0, 75%, 60%)\"></span> Negative  <span style=\"display: inline-block; width: 10px; height: 10px;                 border: 1px solid; background-color:                 hsl(0, 75%, 100%)\"></span> Neutral  <span style=\"display: inline-block; width: 10px; height: 10px;                 border: 1px solid; background-color:                 hsl(120, 75%, 50%)\"></span> Positive  </div><tr><th>True Label</th><th>Predicted Label</th><th>Attribution Label</th><th>Attribution Score</th><th>Word Importance</th><tr><td><text style=\"padding-right:2em\"><b>0</b></text></td><td><text style=\"padding-right:2em\"><b>0 (1.00)</b></text></td><td><text style=\"padding-right:2em\"><b>I'm wondering if anyone here has thought about suicide methods that come close to killing you but can't.  I'm not ready to die but I want to hurt.  I want people to see physically how much I'm hurting emotionally.I've thought about jumping in front of cars or falling from non-lethal heights.  Those aren't the nicest methods but I'll go with them if I can't find a better one. Props to you for partnering with a depressive. Supportive and loving people like you are amazing â¥.If you can convince her to visit a doctor to discuss her mood, I think that would be fantastic. I asked her to. She refuses to see a doctor because she refuses to be put on medication, and she won't go see a therapist or anything because she knows unless she really opens up it won't help, but she can't bring herself to open herself up like that to almost anyone. </b></text></td><td><text style=\"padding-right:2em\"><b>0.98</b></text></td><td><mark style=\"background-color: hsl(0, 75%, 100%); opacity:1.0;                     line-height:1.75\"><font color=\"black\"> [[post]]                    </font></mark><mark style=\"background-color: hsl(0, 75%, 94%); opacity:1.0;                     line-height:1.75\"><font color=\"black\">  My girlfriend has suffered from depression for years. We just recently moved in together and it kills me to see her like this.                    </font></mark><mark style=\"background-color: hsl(0, 75%, 93%); opacity:1.0;                     line-height:1.75\"><font color=\"black\">  I know depression isn't an easy fix, or in a lot of cases even something that can be \"fixed,\" only managed, but I was wondering if you guys had any suggestions for me. Just any advice from the perspective of someone who knows the other side of it. I could never understand what she's going through and just want to help her through it in whatever way I can.                    </font></mark><mark style=\"background-color: hsl(0, 75%, 92%); opacity:1.0;                     line-height:1.75\"><font color=\"black\">  Sorry if I'm doing this wrong. First time to this sub.                    </font></mark><mark style=\"background-color: hsl(0, 75%, 100%); opacity:1.0;                     line-height:1.75\"><font color=\"black\"> [[comment]]                    </font></mark><mark style=\"background-color: hsl(120, 75%, 86%); opacity:1.0;                     line-height:1.75\"><font color=\"black\"> Props to you for partnering with a depressive. Supportive and loving people like you are amazing â¥.If you can convince her to visit a doctor to discuss her mood, I think that would be fantastic.                    </font></mark><mark style=\"background-color: hsl(0, 75%, 100%); opacity:1.0;                     line-height:1.75\"><font color=\"black\"> [[reply]]                    </font></mark><mark style=\"background-color: hsl(120, 75%, 63%); opacity:1.0;                     line-height:1.75\"><font color=\"black\"> I asked her to.                    </font></mark><mark style=\"background-color: hsl(120, 75%, 76%); opacity:1.0;                     line-height:1.75\"><font color=\"black\"> She refuses to see a doctor because she refuses to be put on medication, and she won't go see a therapist or anything because she knows unless she really opens up it won't help, but she can't bring herself to open herself up like that to almost anyone.                    </font></mark></td><tr></table>"
      ],
      "text/plain": [
       "<IPython.core.display.HTML object>"
      ]
     },
     "metadata": {},
     "output_type": "display_data"
    },
    {
     "name": "stdout",
     "output_type": "stream",
     "text": [
      "tensor([ 0.0000, -0.0605,  0.0160, -0.0266,  0.0000,  0.8958,  0.0000,  0.0205,\n",
      "         0.3379,  0.2366, -0.0086,  0.1490])\n",
      "\u001b[1m Visualization For Score \u001b[0m\n"
     ]
    },
    {
     "data": {
      "text/html": [
       "<table width: 100%><div style=\"border-top: 1px solid; margin-top: 5px;             padding-top: 5px; display: inline-block\"><b>Legend: </b><span style=\"display: inline-block; width: 10px; height: 10px;                 border: 1px solid; background-color:                 hsl(0, 75%, 60%)\"></span> Negative  <span style=\"display: inline-block; width: 10px; height: 10px;                 border: 1px solid; background-color:                 hsl(0, 75%, 100%)\"></span> Neutral  <span style=\"display: inline-block; width: 10px; height: 10px;                 border: 1px solid; background-color:                 hsl(120, 75%, 50%)\"></span> Positive  </div><tr><th>True Label</th><th>Predicted Label</th><th>Attribution Label</th><th>Attribution Score</th><th>Word Importance</th><tr><td><text style=\"padding-right:2em\"><b>0</b></text></td><td><text style=\"padding-right:2em\"><b>0 (1.00)</b></text></td><td><text style=\"padding-right:2em\"><b>I'm wondering if anyone here has thought about suicide methods that come close to killing you but can't.  I'm not ready to die but I want to hurt.  I want people to see physically how much I'm hurting emotionally.I've thought about jumping in front of cars or falling from non-lethal heights.  Those aren't the nicest methods but I'll go with them if I can't find a better one. Dude. Ur mom did that for a reason. She wants her son / daughter to be alive. She really loves u. Life is worth living. It'll get better No it isn't. It's not her choice to decide whether I live or die. She might want me to be alive but she doesn't give a fuck if I'm miserable. I HATE that platitude of \"it'll get better\", it doesn't. It gets worse.</b></text></td><td><text style=\"padding-right:2em\"><b>1.56</b></text></td><td><mark style=\"background-color: hsl(0, 75%, 100%); opacity:1.0;                     line-height:1.75\"><font color=\"black\"> [[post]]                    </font></mark><mark style=\"background-color: hsl(0, 75%, 98%); opacity:1.0;                     line-height:1.75\"><font color=\"black\">  My mother stole my rope that I had delivered and then destroyed it or has moved it somewhere. I asked her about it and told her I'd like to be refunded because I paid for it and I have no more money to replace it. She said \"Well you owe me money anyway\". Even though I don't owe her anything.                    </font></mark><mark style=\"background-color: hsl(120, 75%, 100%); opacity:1.0;                     line-height:1.75\"><font color=\"black\">  I'm sick of people thinking they're acting \"in my best interests\". What makes you think that you know what my best interests are when you're not me?                    </font></mark><mark style=\"background-color: hsl(0, 75%, 99%); opacity:1.0;                     line-height:1.75\"><font color=\"black\">  You'd rather see me in a state of perpetual misery than death even though you don't do anything to try and help me. You sit in silence or you treat my depression like it doesn't exist when I try and reach out for real help. Well fuck you. I'm taking out a credit card and buying a new rope from the store then hanging myself in the woods.                    </font></mark><mark style=\"background-color: hsl(0, 75%, 100%); opacity:1.0;                     line-height:1.75\"><font color=\"black\"> [[comment]]                    </font></mark><mark style=\"background-color: hsl(120, 75%, 56%); opacity:1.0;                     line-height:1.75\"><font color=\"black\"> Dude. Ur mom did that for a reason. She wants her son / daughter to be alive. She really loves u. Life is worth living. It'll get better                    </font></mark><mark style=\"background-color: hsl(0, 75%, 100%); opacity:1.0;                     line-height:1.75\"><font color=\"black\"> [[reply]]                    </font></mark><mark style=\"background-color: hsl(120, 75%, 99%); opacity:1.0;                     line-height:1.75\"><font color=\"black\"> No it isn't.                    </font></mark><mark style=\"background-color: hsl(120, 75%, 84%); opacity:1.0;                     line-height:1.75\"><font color=\"black\"> It's not her choice to decide whether I live or die.                    </font></mark><mark style=\"background-color: hsl(120, 75%, 89%); opacity:1.0;                     line-height:1.75\"><font color=\"black\"> She might want me to be alive but she doesn't give a fuck if I'm miserable.                    </font></mark><mark style=\"background-color: hsl(0, 75%, 100%); opacity:1.0;                     line-height:1.75\"><font color=\"black\"> I HATE that platitude of \"it'll get better\", it doesn't.                    </font></mark><mark style=\"background-color: hsl(120, 75%, 93%); opacity:1.0;                     line-height:1.75\"><font color=\"black\"> It gets worse.                    </font></mark></td><tr></table>"
      ],
      "text/plain": [
       "<IPython.core.display.HTML object>"
      ]
     },
     "metadata": {},
     "output_type": "display_data"
    },
    {
     "name": "stdout",
     "output_type": "stream",
     "text": [
      "tensor([ 0.0000, -0.0278,  0.0532,  0.0000,  0.2777, -0.0722,  0.0000,  0.7109,\n",
      "         0.6362,  0.0626])\n",
      "\u001b[1m Visualization For Score \u001b[0m\n"
     ]
    },
    {
     "data": {
      "text/html": [
       "<table width: 100%><div style=\"border-top: 1px solid; margin-top: 5px;             padding-top: 5px; display: inline-block\"><b>Legend: </b><span style=\"display: inline-block; width: 10px; height: 10px;                 border: 1px solid; background-color:                 hsl(0, 75%, 60%)\"></span> Negative  <span style=\"display: inline-block; width: 10px; height: 10px;                 border: 1px solid; background-color:                 hsl(0, 75%, 100%)\"></span> Neutral  <span style=\"display: inline-block; width: 10px; height: 10px;                 border: 1px solid; background-color:                 hsl(120, 75%, 50%)\"></span> Positive  </div><tr><th>True Label</th><th>Predicted Label</th><th>Attribution Label</th><th>Attribution Score</th><th>Word Importance</th><tr><td><text style=\"padding-right:2em\"><b>0</b></text></td><td><text style=\"padding-right:2em\"><b>0 (1.00)</b></text></td><td><text style=\"padding-right:2em\"><b>I'm wondering if anyone here has thought about suicide methods that come close to killing you but can't.  I'm not ready to die but I want to hurt.  I want people to see physically how much I'm hurting emotionally.I've thought about jumping in front of cars or falling from non-lethal heights.  Those aren't the nicest methods but I'll go with them if I can't find a better one. God damn it, this sub is so slow. Your post in an hour old with no comments.I'm chase. I feel what you're feeling.Expectations suck:/ I just want a good life, you know? Why is that so hard to ask? Why does every step of the way have to be so damn difficult?</b></text></td><td><text style=\"padding-right:2em\"><b>1.64</b></text></td><td><mark style=\"background-color: hsl(0, 75%, 100%); opacity:1.0;                     line-height:1.75\"><font color=\"black\"> [[post]]                    </font></mark><mark style=\"background-color: hsl(0, 75%, 99%); opacity:1.0;                     line-height:1.75\"><font color=\"black\">  There's just too much going on right now and so much stress. Everything is complicated and there is so much riding on me to figure shit out for myself without going completely insane.                    </font></mark><mark style=\"background-color: hsl(120, 75%, 98%); opacity:1.0;                     line-height:1.75\"><font color=\"black\">  I'm so tempted to drink bleach or something and just have it all done with. My mum would slap me across the face and say I'm just being lazy and I don't even deserve the nice things that I do have. I don't know what to do.                    </font></mark><mark style=\"background-color: hsl(0, 75%, 100%); opacity:1.0;                     line-height:1.75\"><font color=\"black\"> [[comment]]                    </font></mark><mark style=\"background-color: hsl(120, 75%, 87%); opacity:1.0;                     line-height:1.75\"><font color=\"black\">  God damn it, this sub is so slow. Your post in an hour old with no comments.                    </font></mark><mark style=\"background-color: hsl(0, 75%, 98%); opacity:1.0;                     line-height:1.75\"><font color=\"black\">  I'm chase. I feel what you're feeling. Expectations suck:/                    </font></mark><mark style=\"background-color: hsl(0, 75%, 100%); opacity:1.0;                     line-height:1.75\"><font color=\"black\"> [[reply]]                    </font></mark><mark style=\"background-color: hsl(120, 75%, 65%); opacity:1.0;                     line-height:1.75\"><font color=\"black\"> I just want a good life, you know?                    </font></mark><mark style=\"background-color: hsl(120, 75%, 69%); opacity:1.0;                     line-height:1.75\"><font color=\"black\"> Why is that so hard to ask?                    </font></mark><mark style=\"background-color: hsl(120, 75%, 97%); opacity:1.0;                     line-height:1.75\"><font color=\"black\"> Why does every step of the way have to be so damn difficult?                    </font></mark></td><tr></table>"
      ],
      "text/plain": [
       "<IPython.core.display.HTML object>"
      ]
     },
     "metadata": {},
     "output_type": "display_data"
    },
    {
     "name": "stdout",
     "output_type": "stream",
     "text": [
      "tensor([ 0.0000, -0.1389,  0.0000,  0.5503,  0.0000,  0.8233])\n",
      "\u001b[1m Visualization For Score \u001b[0m\n"
     ]
    },
    {
     "data": {
      "text/html": [
       "<table width: 100%><div style=\"border-top: 1px solid; margin-top: 5px;             padding-top: 5px; display: inline-block\"><b>Legend: </b><span style=\"display: inline-block; width: 10px; height: 10px;                 border: 1px solid; background-color:                 hsl(0, 75%, 60%)\"></span> Negative  <span style=\"display: inline-block; width: 10px; height: 10px;                 border: 1px solid; background-color:                 hsl(0, 75%, 100%)\"></span> Neutral  <span style=\"display: inline-block; width: 10px; height: 10px;                 border: 1px solid; background-color:                 hsl(120, 75%, 50%)\"></span> Positive  </div><tr><th>True Label</th><th>Predicted Label</th><th>Attribution Label</th><th>Attribution Score</th><th>Word Importance</th><tr><td><text style=\"padding-right:2em\"><b>0</b></text></td><td><text style=\"padding-right:2em\"><b>0 (1.00)</b></text></td><td><text style=\"padding-right:2em\"><b>I'm wondering if anyone here has thought about suicide methods that come close to killing you but can't.  I'm not ready to die but I want to hurt.  I want people to see physically how much I'm hurting emotionally.I've thought about jumping in front of cars or falling from non-lethal heights.  Those aren't the nicest methods but I'll go with them if I can't find a better one. You will pass these tough moments. Hang in there. but i need advice i know i should do things to keep my mind off it i just have no motivation</b></text></td><td><text style=\"padding-right:2em\"><b>1.23</b></text></td><td><mark style=\"background-color: hsl(0, 75%, 100%); opacity:1.0;                     line-height:1.75\"><font color=\"black\"> [[post]]                    </font></mark><mark style=\"background-color: hsl(0, 75%, 95%); opacity:1.0;                     line-height:1.75\"><font color=\"black\"> its been 2 weeks since ive seen her, im male 23, i know i should man up,i miss her so much, she was my best friend. I have started anti depressents, problem is we worked in the same office until 2 weeks ago, she got a new job, everywhere i look im reminded, i almost burst into tears in the middle of the office, i want the pain to go away, i feel so alone, i dont see the point of living anymore. i know im a weak pussy but ive never been in so much pain, i need help                    </font></mark><mark style=\"background-color: hsl(0, 75%, 100%); opacity:1.0;                     line-height:1.75\"><font color=\"black\"> [[comment]]                    </font></mark><mark style=\"background-color: hsl(120, 75%, 73%); opacity:1.0;                     line-height:1.75\"><font color=\"black\"> You will pass these tough moments. Hang in there.                    </font></mark><mark style=\"background-color: hsl(0, 75%, 100%); opacity:1.0;                     line-height:1.75\"><font color=\"black\"> [[reply]]                    </font></mark><mark style=\"background-color: hsl(120, 75%, 59%); opacity:1.0;                     line-height:1.75\"><font color=\"black\"> but i need advice i know i should do things to keep my mind off it i just have no motivation                    </font></mark></td><tr></table>"
      ],
      "text/plain": [
       "<IPython.core.display.HTML object>"
      ]
     },
     "metadata": {},
     "output_type": "display_data"
    },
    {
     "name": "stdout",
     "output_type": "stream",
     "text": [
      "tensor([ 0.0000, -0.3123,  0.0000,  0.6356,  0.0000,  0.3750,  0.5982])\n",
      "\u001b[1m Visualization For Score \u001b[0m\n"
     ]
    },
    {
     "data": {
      "text/html": [
       "<table width: 100%><div style=\"border-top: 1px solid; margin-top: 5px;             padding-top: 5px; display: inline-block\"><b>Legend: </b><span style=\"display: inline-block; width: 10px; height: 10px;                 border: 1px solid; background-color:                 hsl(0, 75%, 60%)\"></span> Negative  <span style=\"display: inline-block; width: 10px; height: 10px;                 border: 1px solid; background-color:                 hsl(0, 75%, 100%)\"></span> Neutral  <span style=\"display: inline-block; width: 10px; height: 10px;                 border: 1px solid; background-color:                 hsl(120, 75%, 50%)\"></span> Positive  </div><tr><th>True Label</th><th>Predicted Label</th><th>Attribution Label</th><th>Attribution Score</th><th>Word Importance</th><tr><td><text style=\"padding-right:2em\"><b>0</b></text></td><td><text style=\"padding-right:2em\"><b>0 (1.00)</b></text></td><td><text style=\"padding-right:2em\"><b>I'm wondering if anyone here has thought about suicide methods that come close to killing you but can't.  I'm not ready to die but I want to hurt.  I want people to see physically how much I'm hurting emotionally.I've thought about jumping in front of cars or falling from non-lethal heights.  Those aren't the nicest methods but I'll go with them if I can't find a better one. aw sucks dude idk what advice to give there. is it a new school? Nope Im pretty established here to. I just cant function as a person</b></text></td><td><text style=\"padding-right:2em\"><b>1.30</b></text></td><td><mark style=\"background-color: hsl(0, 75%, 100%); opacity:1.0;                     line-height:1.75\"><font color=\"black\"> [[post]]                    </font></mark><mark style=\"background-color: hsl(0, 75%, 88%); opacity:1.0;                     line-height:1.75\"><font color=\"black\"> Me a girl and another guy hang out at school everyday. The girl was talking to me about how much fun her and the other guy had at the mall. Then she paused and said âWeâll try to invite you next timeâ. Which means âdont be dissapointed if we dont invite you againâ. They know about my problems but just dont care at all.                    </font></mark><mark style=\"background-color: hsl(0, 75%, 100%); opacity:1.0;                     line-height:1.75\"><font color=\"black\"> [[comment]]                    </font></mark><mark style=\"background-color: hsl(120, 75%, 69%); opacity:1.0;                     line-height:1.75\"><font color=\"black\"> aw sucks dude idk what advice to give there. is it a new school?                    </font></mark><mark style=\"background-color: hsl(0, 75%, 100%); opacity:1.0;                     line-height:1.75\"><font color=\"black\"> [[reply]]                    </font></mark><mark style=\"background-color: hsl(120, 75%, 82%); opacity:1.0;                     line-height:1.75\"><font color=\"black\"> Nope Im pretty established here to.                    </font></mark><mark style=\"background-color: hsl(120, 75%, 71%); opacity:1.0;                     line-height:1.75\"><font color=\"black\"> I just cant function as a person                    </font></mark></td><tr></table>"
      ],
      "text/plain": [
       "<IPython.core.display.HTML object>"
      ]
     },
     "metadata": {},
     "output_type": "display_data"
    },
    {
     "name": "stdout",
     "output_type": "stream",
     "text": [
      "tensor([ 0.0000,  0.1357,  0.0000,  0.9573,  0.0000,  0.0960, -0.0439,  0.1113,\n",
      "         0.0116,  0.1059,  0.1740])\n",
      "\u001b[1m Visualization For Score \u001b[0m\n"
     ]
    },
    {
     "data": {
      "text/html": [
       "<table width: 100%><div style=\"border-top: 1px solid; margin-top: 5px;             padding-top: 5px; display: inline-block\"><b>Legend: </b><span style=\"display: inline-block; width: 10px; height: 10px;                 border: 1px solid; background-color:                 hsl(0, 75%, 60%)\"></span> Negative  <span style=\"display: inline-block; width: 10px; height: 10px;                 border: 1px solid; background-color:                 hsl(0, 75%, 100%)\"></span> Neutral  <span style=\"display: inline-block; width: 10px; height: 10px;                 border: 1px solid; background-color:                 hsl(120, 75%, 50%)\"></span> Positive  </div><tr><th>True Label</th><th>Predicted Label</th><th>Attribution Label</th><th>Attribution Score</th><th>Word Importance</th><tr><td><text style=\"padding-right:2em\"><b>0</b></text></td><td><text style=\"padding-right:2em\"><b>0 (1.00)</b></text></td><td><text style=\"padding-right:2em\"><b>I'm wondering if anyone here has thought about suicide methods that come close to killing you but can't.  I'm not ready to die but I want to hurt.  I want people to see physically how much I'm hurting emotionally.I've thought about jumping in front of cars or falling from non-lethal heights.  Those aren't the nicest methods but I'll go with them if I can't find a better one. Donât do these things please. If other people donât believe how hurt you are emotionally, try your best to let it not affect you. No it needs to be seen.  I've talked with people about it all I can.  They don't think I'm being realistic.  I'm capable of killing myself and one day I will if I don't get help.  Maybe sooner rather than later.  Believe it or not this is the responsible choice.</b></text></td><td><text style=\"padding-right:2em\"><b>1.55</b></text></td><td><mark style=\"background-color: hsl(0, 75%, 100%); opacity:1.0;                     line-height:1.75\"><font color=\"black\"> [[post]]                    </font></mark><mark style=\"background-color: hsl(120, 75%, 94%); opacity:1.0;                     line-height:1.75\"><font color=\"black\"> I'm wondering if anyone here has thought about suicide methods that come close to killing you but can't.  I'm not ready to die but I want to hurt.  I want people to see physically how much I'm hurting emotionally. I've thought about jumping in front of cars or falling from non-lethal heights.  Those aren't the nicest methods but I'll go with them if I can't find a better one.                    </font></mark><mark style=\"background-color: hsl(0, 75%, 100%); opacity:1.0;                     line-height:1.75\"><font color=\"black\"> [[comment]]                    </font></mark><mark style=\"background-color: hsl(120, 75%, 53%); opacity:1.0;                     line-height:1.75\"><font color=\"black\"> Donât do these things please. If other people donât believe how hurt you are emotionally, try your best to let it not affect you.                    </font></mark><mark style=\"background-color: hsl(0, 75%, 100%); opacity:1.0;                     line-height:1.75\"><font color=\"black\"> [[reply]]                    </font></mark><mark style=\"background-color: hsl(120, 75%, 96%); opacity:1.0;                     line-height:1.75\"><font color=\"black\"> No it needs to be seen.                    </font></mark><mark style=\"background-color: hsl(0, 75%, 99%); opacity:1.0;                     line-height:1.75\"><font color=\"black\">  I've talked with people about it all I can.                    </font></mark><mark style=\"background-color: hsl(120, 75%, 95%); opacity:1.0;                     line-height:1.75\"><font color=\"black\">  They don't think I'm being realistic.                    </font></mark><mark style=\"background-color: hsl(120, 75%, 100%); opacity:1.0;                     line-height:1.75\"><font color=\"black\">  I'm capable of killing myself and one day I will if I don't get help.                    </font></mark><mark style=\"background-color: hsl(120, 75%, 95%); opacity:1.0;                     line-height:1.75\"><font color=\"black\">  Maybe sooner rather than later.                    </font></mark><mark style=\"background-color: hsl(120, 75%, 92%); opacity:1.0;                     line-height:1.75\"><font color=\"black\">  Believe it or not this is the responsible choice.                    </font></mark></td><tr></table>"
      ],
      "text/plain": [
       "<IPython.core.display.HTML object>"
      ]
     },
     "metadata": {},
     "output_type": "display_data"
    },
    {
     "name": "stdout",
     "output_type": "stream",
     "text": [
      "tensor([ 0.0000, -0.0183, -0.0742, -0.0539, -0.0528,  0.0000,  0.3897,  0.0000,\n",
      "         0.9125,  0.0627])\n",
      "\u001b[1m Visualization For Score \u001b[0m\n"
     ]
    },
    {
     "data": {
      "text/html": [
       "<table width: 100%><div style=\"border-top: 1px solid; margin-top: 5px;             padding-top: 5px; display: inline-block\"><b>Legend: </b><span style=\"display: inline-block; width: 10px; height: 10px;                 border: 1px solid; background-color:                 hsl(0, 75%, 60%)\"></span> Negative  <span style=\"display: inline-block; width: 10px; height: 10px;                 border: 1px solid; background-color:                 hsl(0, 75%, 100%)\"></span> Neutral  <span style=\"display: inline-block; width: 10px; height: 10px;                 border: 1px solid; background-color:                 hsl(120, 75%, 50%)\"></span> Positive  </div><tr><th>True Label</th><th>Predicted Label</th><th>Attribution Label</th><th>Attribution Score</th><th>Word Importance</th><tr><td><text style=\"padding-right:2em\"><b>0</b></text></td><td><text style=\"padding-right:2em\"><b>0 (1.00)</b></text></td><td><text style=\"padding-right:2em\"><b>I'm wondering if anyone here has thought about suicide methods that come close to killing you but can't.  I'm not ready to die but I want to hurt.  I want people to see physically how much I'm hurting emotionally.I've thought about jumping in front of cars or falling from non-lethal heights.  Those aren't the nicest methods but I'll go with them if I can't find a better one. so true, and itâs likely that everyone else is similarly preoccupied with worrying about their own presentations to pay any attention to your âmess upsâ. This is what I have to keep reminding myself because presentations are hell for me as well Everyone didn't have a presentation. They were all just sitting and watching and enjoying my misery. </b></text></td><td><text style=\"padding-right:2em\"><b>1.17</b></text></td><td><mark style=\"background-color: hsl(0, 75%, 100%); opacity:1.0;                     line-height:1.75\"><font color=\"black\"> [[post]]                    </font></mark><mark style=\"background-color: hsl(0, 75%, 100%); opacity:1.0;                     line-height:1.75\"><font color=\"black\">  I'm in Law School. My knowledge of laws is above average but I'm losing my confidence.                    </font></mark><mark style=\"background-color: hsl(0, 75%, 98%); opacity:1.0;                     line-height:1.75\"><font color=\"black\">   I'm depressed because it wasn't my first time.  I've done similar class presentations 2 times before and I did terrible in all of them.                    </font></mark><mark style=\"background-color: hsl(0, 75%, 98%); opacity:1.0;                     line-height:1.75\"><font color=\"black\">  We have these moot courts/dummy court rooms practices where we act as counsels and the professor becomes judge. My professor asked me questions and I started blabbering cos, honestly, I didn't know the answer. Although my topic revolved around that one point but I didn't know the answer and the same professor had taught us that topic in our previous class. For eg, my topic was amalgamation of two companies, my professor asked me what's amalgamation, and bam!                    </font></mark><mark style=\"background-color: hsl(0, 75%, 98%); opacity:1.0;                     line-height:1.75\"><font color=\"black\">  I thought \"oh shit! How did I not revise this thing\" and started blabbering. I was a good orator in school but have lost the capability to stand up for myself. I wanted to do good in this one to makeup for all my drawbacks but I spoke such wrong words, did so terrible and didn't answer any questions (cos I didn't know the answers of those simple, very simple, questions). My teacher nodded his head in disapproval and I was so embarrassed in front of everybody. I feel like a loser!                    </font></mark><mark style=\"background-color: hsl(0, 75%, 100%); opacity:1.0;                     line-height:1.75\"><font color=\"black\"> [[comment]]                    </font></mark><mark style=\"background-color: hsl(120, 75%, 81%); opacity:1.0;                     line-height:1.75\"><font color=\"black\"> so true, and itâs likely that everyone else is similarly preoccupied with worrying about their own presentations to pay any attention to your âmess upsâ. This is what I have to keep reminding myself because presentations are hell for me as well                    </font></mark><mark style=\"background-color: hsl(0, 75%, 100%); opacity:1.0;                     line-height:1.75\"><font color=\"black\"> [[reply]]                    </font></mark><mark style=\"background-color: hsl(120, 75%, 55%); opacity:1.0;                     line-height:1.75\"><font color=\"black\"> Everyone didn't have a presentation.                    </font></mark><mark style=\"background-color: hsl(120, 75%, 97%); opacity:1.0;                     line-height:1.75\"><font color=\"black\"> They were all just sitting and watching and enjoying my misery.                    </font></mark></td><tr></table>"
      ],
      "text/plain": [
       "<IPython.core.display.HTML object>"
      ]
     },
     "metadata": {},
     "output_type": "display_data"
    },
    {
     "name": "stdout",
     "output_type": "stream",
     "text": [
      "tensor([ 0.0000, -0.0401, -0.0387, -0.0129, -0.0104, -0.0268, -0.0322, -0.0222,\n",
      "         0.0000,  0.2072,  0.0000,  0.9754])\n",
      "\u001b[1m Visualization For Score \u001b[0m\n"
     ]
    },
    {
     "data": {
      "text/html": [
       "<table width: 100%><div style=\"border-top: 1px solid; margin-top: 5px;             padding-top: 5px; display: inline-block\"><b>Legend: </b><span style=\"display: inline-block; width: 10px; height: 10px;                 border: 1px solid; background-color:                 hsl(0, 75%, 60%)\"></span> Negative  <span style=\"display: inline-block; width: 10px; height: 10px;                 border: 1px solid; background-color:                 hsl(0, 75%, 100%)\"></span> Neutral  <span style=\"display: inline-block; width: 10px; height: 10px;                 border: 1px solid; background-color:                 hsl(120, 75%, 50%)\"></span> Positive  </div><tr><th>True Label</th><th>Predicted Label</th><th>Attribution Label</th><th>Attribution Score</th><th>Word Importance</th><tr><td><text style=\"padding-right:2em\"><b>0</b></text></td><td><text style=\"padding-right:2em\"><b>0 (1.00)</b></text></td><td><text style=\"padding-right:2em\"><b>I'm wondering if anyone here has thought about suicide methods that come close to killing you but can't.  I'm not ready to die but I want to hurt.  I want people to see physically how much I'm hurting emotionally.I've thought about jumping in front of cars or falling from non-lethal heights.  Those aren't the nicest methods but I'll go with them if I can't find a better one. Flaw in chemistry, not in character. You're reaching, somewhat, here. You talking to a doc, trying meds?  Unfortunately, I don't have health insurance and I live almost paycheck to paycheck</b></text></td><td><text style=\"padding-right:2em\"><b>1.00</b></text></td><td><mark style=\"background-color: hsl(0, 75%, 100%); opacity:1.0;                     line-height:1.75\"><font color=\"black\"> [[post]]                    </font></mark><mark style=\"background-color: hsl(0, 75%, 99%); opacity:1.0;                     line-height:1.75\"><font color=\"black\">  Sometimes you just need to get it out... I'm really not looking for sympathy, words wont make this go away. I feel so lost and alone.                    </font></mark><mark style=\"background-color: hsl(0, 75%, 99%); opacity:1.0;                     line-height:1.75\"><font color=\"black\">   My heart is pounding and my chest feels tight.  My anxiety is a predator camping out in my brain, tearing me apart, inch-by-inch. It leaves me exhausted and scared.                    </font></mark><mark style=\"background-color: hsl(0, 75%, 100%); opacity:1.0;                     line-height:1.75\"><font color=\"black\">   I hate myself, I hate my brain. I want to crawl out of my skin, but it just keeps pulling me back.                    </font></mark><mark style=\"background-color: hsl(0, 75%, 100%); opacity:1.0;                     line-height:1.75\"><font color=\"black\">   I'll never be able to out run it.  My fears will never let me go. My depression dances in the dark of my brain, hollowing out my soul with every pilÃ©.                    </font></mark><mark style=\"background-color: hsl(0, 75%, 99%); opacity:1.0;                     line-height:1.75\"><font color=\"black\">   She weaves her way through my mind, creating a path for my predator to follow.  Her touch numbs my heart, and her sad songs echo into my bones and reverberate into my soul.  I can think of nothing but her and her alone.                    </font></mark><mark style=\"background-color: hsl(0, 75%, 99%); opacity:1.0;                     line-height:1.75\"><font color=\"black\">   Her eyes are beautiful, but they scar me.  Her gaze is deep as it engulfs me. I can't tell you why I feel this way.  I haven't had a great life, but the emotional obstacles I have faced haven't been as harrowing as some of yours.                    </font></mark><mark style=\"background-color: hsl(0, 75%, 100%); opacity:1.0;                     line-height:1.75\"><font color=\"black\">   I feel so selfish and invalid.  My existence and depression are not special, they just are.  I feel like it will never end.                    </font></mark><mark style=\"background-color: hsl(0, 75%, 100%); opacity:1.0;                     line-height:1.75\"><font color=\"black\"> [[comment]]                    </font></mark><mark style=\"background-color: hsl(120, 75%, 90%); opacity:1.0;                     line-height:1.75\"><font color=\"black\"> Flaw in chemistry, not in character. You're reaching, somewhat, here. You talking to a doc, trying meds?                    </font></mark><mark style=\"background-color: hsl(0, 75%, 100%); opacity:1.0;                     line-height:1.75\"><font color=\"black\"> [[reply]]                    </font></mark><mark style=\"background-color: hsl(120, 75%, 52%); opacity:1.0;                     line-height:1.75\"><font color=\"black\"> Unfortunately, I don't have health insurance and I live almost paycheck to paycheck                    </font></mark></td><tr></table>"
      ],
      "text/plain": [
       "<IPython.core.display.HTML object>"
      ]
     },
     "metadata": {},
     "output_type": "display_data"
    },
    {
     "name": "stdout",
     "output_type": "stream",
     "text": [
      "tensor([0.0000, 0.0126, 0.0000, 0.1880, 0.0000, 0.9821])\n",
      "\u001b[1m Visualization For Score \u001b[0m\n"
     ]
    },
    {
     "data": {
      "text/html": [
       "<table width: 100%><div style=\"border-top: 1px solid; margin-top: 5px;             padding-top: 5px; display: inline-block\"><b>Legend: </b><span style=\"display: inline-block; width: 10px; height: 10px;                 border: 1px solid; background-color:                 hsl(0, 75%, 60%)\"></span> Negative  <span style=\"display: inline-block; width: 10px; height: 10px;                 border: 1px solid; background-color:                 hsl(0, 75%, 100%)\"></span> Neutral  <span style=\"display: inline-block; width: 10px; height: 10px;                 border: 1px solid; background-color:                 hsl(120, 75%, 50%)\"></span> Positive  </div><tr><th>True Label</th><th>Predicted Label</th><th>Attribution Label</th><th>Attribution Score</th><th>Word Importance</th><tr><td><text style=\"padding-right:2em\"><b>0</b></text></td><td><text style=\"padding-right:2em\"><b>0 (1.00)</b></text></td><td><text style=\"padding-right:2em\"><b>I'm wondering if anyone here has thought about suicide methods that come close to killing you but can't.  I'm not ready to die but I want to hurt.  I want people to see physically how much I'm hurting emotionally.I've thought about jumping in front of cars or falling from non-lethal heights.  Those aren't the nicest methods but I'll go with them if I can't find a better one. Try and sleep, go to bed early and I will speak to you tomorrow to see if you are okay.Put some background music or sound on. I can't these thoughts keep clouding my head I just want to die</b></text></td><td><text style=\"padding-right:2em\"><b>1.18</b></text></td><td><mark style=\"background-color: hsl(0, 75%, 100%); opacity:1.0;                     line-height:1.75\"><font color=\"black\"> [[post]]                    </font></mark><mark style=\"background-color: hsl(120, 75%, 100%); opacity:1.0;                     line-height:1.75\"><font color=\"black\"> Someone please convince me not to kill myself. I know this is short but I really don't know what to say. Today's the day and I need help right now. Please someone talk to me.                    </font></mark><mark style=\"background-color: hsl(0, 75%, 100%); opacity:1.0;                     line-height:1.75\"><font color=\"black\"> [[comment]]                    </font></mark><mark style=\"background-color: hsl(120, 75%, 91%); opacity:1.0;                     line-height:1.75\"><font color=\"black\"> Try and sleep, go to bed early and I will speak to you tomorrow to see if you are okay. Put some background music or sound on.                    </font></mark><mark style=\"background-color: hsl(0, 75%, 100%); opacity:1.0;                     line-height:1.75\"><font color=\"black\"> [[reply]]                    </font></mark><mark style=\"background-color: hsl(120, 75%, 51%); opacity:1.0;                     line-height:1.75\"><font color=\"black\"> I can't these thoughts keep clouding my head I just want to die                    </font></mark></td><tr></table>"
      ],
      "text/plain": [
       "<IPython.core.display.HTML object>"
      ]
     },
     "metadata": {},
     "output_type": "display_data"
    },
    {
     "name": "stdout",
     "output_type": "stream",
     "text": [
      "tensor([ 0.0000,  0.0135,  0.0153,  0.0121, -0.0092,  0.0021,  0.0027, -0.0118,\n",
      "        -0.0280, -0.0137,  0.0000,  0.5953,  0.0000,  0.5337,  0.5991])\n",
      "\u001b[1m Visualization For Score \u001b[0m\n"
     ]
    },
    {
     "data": {
      "text/html": [
       "<table width: 100%><div style=\"border-top: 1px solid; margin-top: 5px;             padding-top: 5px; display: inline-block\"><b>Legend: </b><span style=\"display: inline-block; width: 10px; height: 10px;                 border: 1px solid; background-color:                 hsl(0, 75%, 60%)\"></span> Negative  <span style=\"display: inline-block; width: 10px; height: 10px;                 border: 1px solid; background-color:                 hsl(0, 75%, 100%)\"></span> Neutral  <span style=\"display: inline-block; width: 10px; height: 10px;                 border: 1px solid; background-color:                 hsl(120, 75%, 50%)\"></span> Positive  </div><tr><th>True Label</th><th>Predicted Label</th><th>Attribution Label</th><th>Attribution Score</th><th>Word Importance</th><tr><td><text style=\"padding-right:2em\"><b>0</b></text></td><td><text style=\"padding-right:2em\"><b>0 (1.00)</b></text></td><td><text style=\"padding-right:2em\"><b>I'm wondering if anyone here has thought about suicide methods that come close to killing you but can't.  I'm not ready to die but I want to hurt.  I want people to see physically how much I'm hurting emotionally.I've thought about jumping in front of cars or falling from non-lethal heights.  Those aren't the nicest methods but I'll go with them if I can't find a better one. I would recommend a psychologist. It is awesome, you will have to get there tho.  Yeah....idk I just figured as nobody in my life cares...id just say it to the void. I'm sick of this life and Idk how to stop hating myself</b></text></td><td><text style=\"padding-right:2em\"><b>1.71</b></text></td><td><mark style=\"background-color: hsl(0, 75%, 100%); opacity:1.0;                     line-height:1.75\"><font color=\"black\"> [[post]]                    </font></mark><mark style=\"background-color: hsl(120, 75%, 100%); opacity:1.0;                     line-height:1.75\"><font color=\"black\">  Idk, I love my wife, i love my son. But I'm sick and tired of being sick and tired. Im disabled for life and wheelchair bound.                    </font></mark><mark style=\"background-color: hsl(120, 75%, 100%); opacity:1.0;                     line-height:1.75\"><font color=\"black\">  My wife works all day and never bothers to ask how my day was, what I did. What im interested in or doing.                    </font></mark><mark style=\"background-color: hsl(120, 75%, 100%); opacity:1.0;                     line-height:1.75\"><font color=\"black\">  I have my own secure income. Money's not a huge issue.                    </font></mark><mark style=\"background-color: hsl(0, 75%, 100%); opacity:1.0;                     line-height:1.75\"><font color=\"black\">  I'm in the house 99% of the time and going out is hard, but she doesnt even ask if I'd like, if like to go grocery shopping or a anything. I just sit at home. Keeping things tidey for when she gets home.                    </font></mark><mark style=\"background-color: hsl(120, 75%, 100%); opacity:1.0;                     line-height:1.75\"><font color=\"black\">  I have no friends. ( Litterally 0) I dont have even passing aquaintances.                    </font></mark><mark style=\"background-color: hsl(120, 75%, 100%); opacity:1.0;                     line-height:1.75\"><font color=\"black\">  I can't walk. I sit in my chair at home just trying to pass time and keep the house In order.                    </font></mark><mark style=\"background-color: hsl(0, 75%, 100%); opacity:1.0;                     line-height:1.75\"><font color=\"black\">  And laitly it's been effecting me. And for all I'm hurting she barely seems to notice or care. I feel like a useless lump. Just completely disconected from everything.                    </font></mark><mark style=\"background-color: hsl(0, 75%, 99%); opacity:1.0;                     line-height:1.75\"><font color=\"black\">  And I'm scared to say anything because I know it will hurt her to hear any of this. And idt I can handle her crying on my shoulder when I'm the one hurting. I'm bad at communication. Always have been.                    </font></mark><mark style=\"background-color: hsl(0, 75%, 100%); opacity:1.0;                     line-height:1.75\"><font color=\"black\">  I just dunno.... I'm pretty young but it's felt like the end of my life laitly. Not the start it was supposed to be                    </font></mark><mark style=\"background-color: hsl(0, 75%, 100%); opacity:1.0;                     line-height:1.75\"><font color=\"black\"> [[comment]]                    </font></mark><mark style=\"background-color: hsl(120, 75%, 71%); opacity:1.0;                     line-height:1.75\"><font color=\"black\"> I would recommend a psychologist. It is awesome, you will have to get there tho.                    </font></mark><mark style=\"background-color: hsl(0, 75%, 100%); opacity:1.0;                     line-height:1.75\"><font color=\"black\"> [[reply]]                    </font></mark><mark style=\"background-color: hsl(120, 75%, 74%); opacity:1.0;                     line-height:1.75\"><font color=\"black\"> Yeah....idk I just figured as nobody in my life cares...id just say it to the void.                    </font></mark><mark style=\"background-color: hsl(120, 75%, 71%); opacity:1.0;                     line-height:1.75\"><font color=\"black\"> I'm sick of this life and Idk how to stop hating myself                    </font></mark></td><tr></table>"
      ],
      "text/plain": [
       "<IPython.core.display.HTML object>"
      ]
     },
     "metadata": {},
     "output_type": "display_data"
    },
    {
     "name": "stdout",
     "output_type": "stream",
     "text": [
      "tensor([ 0.0000, -0.0910,  0.0000,  0.7909,  0.0000,  0.1224,  0.2419,  0.3752,\n",
      "         0.3104,  0.1834,  0.1270,  0.0488,  0.0581])\n",
      "\u001b[1m Visualization For Score \u001b[0m\n"
     ]
    },
    {
     "data": {
      "text/html": [
       "<table width: 100%><div style=\"border-top: 1px solid; margin-top: 5px;             padding-top: 5px; display: inline-block\"><b>Legend: </b><span style=\"display: inline-block; width: 10px; height: 10px;                 border: 1px solid; background-color:                 hsl(0, 75%, 60%)\"></span> Negative  <span style=\"display: inline-block; width: 10px; height: 10px;                 border: 1px solid; background-color:                 hsl(0, 75%, 100%)\"></span> Neutral  <span style=\"display: inline-block; width: 10px; height: 10px;                 border: 1px solid; background-color:                 hsl(120, 75%, 50%)\"></span> Positive  </div><tr><th>True Label</th><th>Predicted Label</th><th>Attribution Label</th><th>Attribution Score</th><th>Word Importance</th><tr><td><text style=\"padding-right:2em\"><b>1</b></text></td><td><text style=\"padding-right:2em\"><b>1 (1.00)</b></text></td><td><text style=\"padding-right:2em\"><b>I'm wondering if anyone here has thought about suicide methods that come close to killing you but can't.  I'm not ready to die but I want to hurt.  I want people to see physically how much I'm hurting emotionally.I've thought about jumping in front of cars or falling from non-lethal heights.  Those aren't the nicest methods but I'll go with them if I can't find a better one. Yeah, my sleep schedule has been all over the place for about two years now. How have you stayed functioning? I'm shutting down. I'm so damn tired to the point of nearly falling asleep at red lights and other bad places. I feel like I'm in a vicious cycle now though. I have to take caffeine pills to stay awake during the day but then I'm not sleeping. I take them in the morning, and it's only like I'm drinking a cup of coffee. So it should be gone by bedtime, but I'm still not sleeping. And then the cycle begins again.</b></text></td><td><text style=\"padding-right:2em\"><b>2.17</b></text></td><td><mark style=\"background-color: hsl(0, 75%, 100%); opacity:1.0;                     line-height:1.75\"><font color=\"black\"> [[post]]                    </font></mark><mark style=\"background-color: hsl(0, 75%, 97%); opacity:1.0;                     line-height:1.75\"><font color=\"black\"> I'm on hour 49 with no sleep. And it's not for lack of trying, I've super medicated myself to sleep. But I haven't. Does anyone else struggle with this, and do you have any ways to actually sleep?                    </font></mark><mark style=\"background-color: hsl(0, 75%, 100%); opacity:1.0;                     line-height:1.75\"><font color=\"black\"> [[comment]]                    </font></mark><mark style=\"background-color: hsl(120, 75%, 61%); opacity:1.0;                     line-height:1.75\"><font color=\"black\"> Yeah, my sleep schedule has been all over the place for about two years now.                    </font></mark><mark style=\"background-color: hsl(0, 75%, 100%); opacity:1.0;                     line-height:1.75\"><font color=\"black\"> [[reply]]                    </font></mark><mark style=\"background-color: hsl(120, 75%, 94%); opacity:1.0;                     line-height:1.75\"><font color=\"black\"> How have you stayed functioning?                    </font></mark><mark style=\"background-color: hsl(120, 75%, 88%); opacity:1.0;                     line-height:1.75\"><font color=\"black\"> I'm shutting down.                    </font></mark><mark style=\"background-color: hsl(120, 75%, 82%); opacity:1.0;                     line-height:1.75\"><font color=\"black\"> I'm so damn tired to the point of nearly falling asleep at red lights and other bad places.                    </font></mark><mark style=\"background-color: hsl(120, 75%, 85%); opacity:1.0;                     line-height:1.75\"><font color=\"black\"> I feel like I'm in a vicious cycle now though.                    </font></mark><mark style=\"background-color: hsl(120, 75%, 91%); opacity:1.0;                     line-height:1.75\"><font color=\"black\"> I have to take caffeine pills to stay awake during the day but then I'm not sleeping.                    </font></mark><mark style=\"background-color: hsl(120, 75%, 94%); opacity:1.0;                     line-height:1.75\"><font color=\"black\"> I take them in the morning, and it's only like I'm drinking a cup of coffee.                    </font></mark><mark style=\"background-color: hsl(120, 75%, 98%); opacity:1.0;                     line-height:1.75\"><font color=\"black\"> So it should be gone by bedtime, but I'm still not sleeping.                    </font></mark><mark style=\"background-color: hsl(120, 75%, 98%); opacity:1.0;                     line-height:1.75\"><font color=\"black\"> And then the cycle begins again.                    </font></mark></td><tr></table>"
      ],
      "text/plain": [
       "<IPython.core.display.HTML object>"
      ]
     },
     "metadata": {},
     "output_type": "display_data"
    },
    {
     "name": "stdout",
     "output_type": "stream",
     "text": [
      "tensor([0.0000, 0.0571, 0.1027, 0.0790, 0.1180, 0.1017, 0.0000, 0.0991, 0.0000,\n",
      "        0.4485, 0.8630])\n",
      "\u001b[1m Visualization For Score \u001b[0m\n"
     ]
    },
    {
     "data": {
      "text/html": [
       "<table width: 100%><div style=\"border-top: 1px solid; margin-top: 5px;             padding-top: 5px; display: inline-block\"><b>Legend: </b><span style=\"display: inline-block; width: 10px; height: 10px;                 border: 1px solid; background-color:                 hsl(0, 75%, 60%)\"></span> Negative  <span style=\"display: inline-block; width: 10px; height: 10px;                 border: 1px solid; background-color:                 hsl(0, 75%, 100%)\"></span> Neutral  <span style=\"display: inline-block; width: 10px; height: 10px;                 border: 1px solid; background-color:                 hsl(120, 75%, 50%)\"></span> Positive  </div><tr><th>True Label</th><th>Predicted Label</th><th>Attribution Label</th><th>Attribution Score</th><th>Word Importance</th><tr><td><text style=\"padding-right:2em\"><b>1</b></text></td><td><text style=\"padding-right:2em\"><b>1 (1.00)</b></text></td><td><text style=\"padding-right:2em\"><b>I'm wondering if anyone here has thought about suicide methods that come close to killing you but can't.  I'm not ready to die but I want to hurt.  I want people to see physically how much I'm hurting emotionally.I've thought about jumping in front of cars or falling from non-lethal heights.  Those aren't the nicest methods but I'll go with them if I can't find a better one. Maybe something happen that caused you to hate being touched. Because there must be something for you go hate something, right? I can tolerate my parents but when my brother or even my friends touch me, I dislike it. I'm not sure what makes me hate it. </b></text></td><td><text style=\"padding-right:2em\"><b>1.87</b></text></td><td><mark style=\"background-color: hsl(0, 75%, 100%); opacity:1.0;                     line-height:1.75\"><font color=\"black\"> [[post]]                    </font></mark><mark style=\"background-color: hsl(120, 75%, 98%); opacity:1.0;                     line-height:1.75\"><font color=\"black\">  I don't like my brother. I just don't like him.                    </font></mark><mark style=\"background-color: hsl(120, 75%, 95%); opacity:1.0;                     line-height:1.75\"><font color=\"black\">  He is too clingy and always wants to touch me and give me hugs. But I hate touching people in general as I am very aware of what people's skin feel like and don't like touching it. Thus, I get really angry when he touches me.                    </font></mark><mark style=\"background-color: hsl(120, 75%, 97%); opacity:1.0;                     line-height:1.75\"><font color=\"black\">  My Dad on the other hand basically makes me feel like shit when I get angry at my brother and now he wants to take me to a psychologist. Obviously I got pissed and said that it was all my brother's fault. The link was clear to me.                    </font></mark><mark style=\"background-color: hsl(120, 75%, 95%); opacity:1.0;                     line-height:1.75\"><font color=\"black\">  Brother touched me-->I got angry-->Dad gets angry and wants to take me to psychologist. Thus, it is my brother's fault.                    </font></mark><mark style=\"background-color: hsl(120, 75%, 95%); opacity:1.0;                     line-height:1.75\"><font color=\"black\">  I don't want to go to a psychologist. Why can't people accept that I don't like to show my love through touching people. Edit: I am male. 16 years old. Indian.                    </font></mark><mark style=\"background-color: hsl(0, 75%, 100%); opacity:1.0;                     line-height:1.75\"><font color=\"black\"> [[comment]]                    </font></mark><mark style=\"background-color: hsl(120, 75%, 96%); opacity:1.0;                     line-height:1.75\"><font color=\"black\"> Maybe something happen that caused you to hate being touched. Because there must be something for you go hate something, right?                    </font></mark><mark style=\"background-color: hsl(0, 75%, 100%); opacity:1.0;                     line-height:1.75\"><font color=\"black\"> [[reply]]                    </font></mark><mark style=\"background-color: hsl(120, 75%, 78%); opacity:1.0;                     line-height:1.75\"><font color=\"black\"> I can tolerate my parents but when my brother or even my friends touch me, I dislike it.                    </font></mark><mark style=\"background-color: hsl(120, 75%, 57%); opacity:1.0;                     line-height:1.75\"><font color=\"black\"> I'm not sure what makes me hate it.                    </font></mark></td><tr></table>"
      ],
      "text/plain": [
       "<IPython.core.display.HTML object>"
      ]
     },
     "metadata": {},
     "output_type": "display_data"
    },
    {
     "name": "stdout",
     "output_type": "stream",
     "text": [
      "tensor([ 0.0000, -0.2104,  0.3218,  0.0000,  0.0114,  0.0000,  0.2877,  0.5510,\n",
      "         0.6824])\n",
      "\u001b[1m Visualization For Score \u001b[0m\n"
     ]
    },
    {
     "data": {
      "text/html": [
       "<table width: 100%><div style=\"border-top: 1px solid; margin-top: 5px;             padding-top: 5px; display: inline-block\"><b>Legend: </b><span style=\"display: inline-block; width: 10px; height: 10px;                 border: 1px solid; background-color:                 hsl(0, 75%, 60%)\"></span> Negative  <span style=\"display: inline-block; width: 10px; height: 10px;                 border: 1px solid; background-color:                 hsl(0, 75%, 100%)\"></span> Neutral  <span style=\"display: inline-block; width: 10px; height: 10px;                 border: 1px solid; background-color:                 hsl(120, 75%, 50%)\"></span> Positive  </div><tr><th>True Label</th><th>Predicted Label</th><th>Attribution Label</th><th>Attribution Score</th><th>Word Importance</th><tr><td><text style=\"padding-right:2em\"><b>1</b></text></td><td><text style=\"padding-right:2em\"><b>1 (1.00)</b></text></td><td><text style=\"padding-right:2em\"><b>I'm wondering if anyone here has thought about suicide methods that come close to killing you but can't.  I'm not ready to die but I want to hurt.  I want people to see physically how much I'm hurting emotionally.I've thought about jumping in front of cars or falling from non-lethal heights.  Those aren't the nicest methods but I'll go with them if I can't find a better one. Ah a fellow skier, unfortunately we can't do that very often. I can't in good heart recommend things I've tried as they're all not that great, do you see a therapist? Agreed, it's a shame.\n",
       "I don't see a therapist and never have. I don't know, I can't imagine talking to a stranger about this face to face although I know it's not that much a big deal.</b></text></td><td><text style=\"padding-right:2em\"><b>1.64</b></text></td><td><mark style=\"background-color: hsl(0, 75%, 100%); opacity:1.0;                     line-height:1.75\"><font color=\"black\"> [[post]]                    </font></mark><mark style=\"background-color: hsl(0, 75%, 92%); opacity:1.0;                     line-height:1.75\"><font color=\"black\">  Been struggling with depression for a few years now. Like most people dealing with this shit, I've thought a lot about suicide, pretty much daily (came to the conclusion pretty soon that it would be selfish tho, and that kinda made me feel even more lonely and trapped).In the past few months though, \"scenes\" (of me killing myself) have started flashing through my head in everyday situations.                    </font></mark><mark style=\"background-color: hsl(120, 75%, 84%); opacity:1.0;                     line-height:1.75\"><font color=\"black\">  I can't control them, they just repeat dozens of times in my head. Even when I was just feeling ok or having slight inconveniences.  Anyone here who found a way for themselves to shut this off?I'm afraid this is gonna throw me back as they're a constant reminder of my general mental state.                    </font></mark><mark style=\"background-color: hsl(0, 75%, 100%); opacity:1.0;                     line-height:1.75\"><font color=\"black\"> [[comment]]                    </font></mark><mark style=\"background-color: hsl(120, 75%, 100%); opacity:1.0;                     line-height:1.75\"><font color=\"black\"> Ah a fellow skier, unfortunately we can't do that very often. I can't in good heart recommend things I've tried as they're all not that great, do you see a therapist?                    </font></mark><mark style=\"background-color: hsl(0, 75%, 100%); opacity:1.0;                     line-height:1.75\"><font color=\"black\"> [[reply]]                    </font></mark><mark style=\"background-color: hsl(120, 75%, 86%); opacity:1.0;                     line-height:1.75\"><font color=\"black\"> Agreed, it's a shame.                    </font></mark><mark style=\"background-color: hsl(120, 75%, 73%); opacity:1.0;                     line-height:1.75\"><font color=\"black\"> \n",
       "I don't see a therapist and never have.                    </font></mark><mark style=\"background-color: hsl(120, 75%, 66%); opacity:1.0;                     line-height:1.75\"><font color=\"black\"> I don't know, I can't imagine talking to a stranger about this face to face although I know it's not that much a big deal.                    </font></mark></td><tr></table>"
      ],
      "text/plain": [
       "<IPython.core.display.HTML object>"
      ]
     },
     "metadata": {},
     "output_type": "display_data"
    },
    {
     "name": "stdout",
     "output_type": "stream",
     "text": [
      "tensor([ 0.0000,  0.1639,  0.2651,  0.1446,  0.0000, -0.1040, -0.1112,  0.0000,\n",
      "         0.3405,  0.8619])\n",
      "\u001b[1m Visualization For Score \u001b[0m\n"
     ]
    },
    {
     "data": {
      "text/html": [
       "<table width: 100%><div style=\"border-top: 1px solid; margin-top: 5px;             padding-top: 5px; display: inline-block\"><b>Legend: </b><span style=\"display: inline-block; width: 10px; height: 10px;                 border: 1px solid; background-color:                 hsl(0, 75%, 60%)\"></span> Negative  <span style=\"display: inline-block; width: 10px; height: 10px;                 border: 1px solid; background-color:                 hsl(0, 75%, 100%)\"></span> Neutral  <span style=\"display: inline-block; width: 10px; height: 10px;                 border: 1px solid; background-color:                 hsl(120, 75%, 50%)\"></span> Positive  </div><tr><th>True Label</th><th>Predicted Label</th><th>Attribution Label</th><th>Attribution Score</th><th>Word Importance</th><tr><td><text style=\"padding-right:2em\"><b>1</b></text></td><td><text style=\"padding-right:2em\"><b>1 (1.00)</b></text></td><td><text style=\"padding-right:2em\"><b>I'm wondering if anyone here has thought about suicide methods that come close to killing you but can't.  I'm not ready to die but I want to hurt.  I want people to see physically how much I'm hurting emotionally.I've thought about jumping in front of cars or falling from non-lethal heights.  Those aren't the nicest methods but I'll go with them if I can't find a better one. Going to a therapist and talking about my problems and life really helps me destress throughout the week. Also you should try group therapy when I had to make the appointment I was tearing and shaking and then was shaking going to the first meeting. Then after the first meeting I started to enjoy it and it became like nothing and looked forward to going. The group I went to was mostly coping skills but Iâm gunna try a different kind of group next time. that kind of stuff really scares me.  i think i definitely need better coping skills and i really need to figure out how to not suppress things</b></text></td><td><text style=\"padding-right:2em\"><b>1.56</b></text></td><td><mark style=\"background-color: hsl(0, 75%, 100%); opacity:1.0;                     line-height:1.75\"><font color=\"black\"> [[post]]                    </font></mark><mark style=\"background-color: hsl(120, 75%, 92%); opacity:1.0;                     line-height:1.75\"><font color=\"black\">  hi iâm 19 and ive been diagnosed with depression for like two years. until i started medication ( around 4 months ago zoloft/sertraline)i would feel sad and cry all the time   but now i donât ???                    </font></mark><mark style=\"background-color: hsl(120, 75%, 87%); opacity:1.0;                     line-height:1.75\"><font color=\"black\">  i only ever cry if i talk about things out loud up. up until i talk about it i donât feel sad.                    </font></mark><mark style=\"background-color: hsl(120, 75%, 93%); opacity:1.0;                     line-height:1.75\"><font color=\"black\">  maybe it made me more numb iâm not sure. . maybe i suppress things? idk can anyone shed some light and if youâve experienced this pls help me out x                    </font></mark><mark style=\"background-color: hsl(0, 75%, 100%); opacity:1.0;                     line-height:1.75\"><font color=\"black\"> [[comment]]                    </font></mark><mark style=\"background-color: hsl(0, 75%, 96%); opacity:1.0;                     line-height:1.75\"><font color=\"black\">  Going to a therapist and talking about my problems and life really helps me destress throughout the week. Also you should try group therapy when I had to make the appointment I was tearing and shaking and then was shaking going to the first meeting.                    </font></mark><mark style=\"background-color: hsl(0, 75%, 96%); opacity:1.0;                     line-height:1.75\"><font color=\"black\">  Then after the first meeting I started to enjoy it and it became like nothing and looked forward to going. The group I went to was mostly coping skills but Iâm gunna try a different kind of group next time.                    </font></mark><mark style=\"background-color: hsl(0, 75%, 100%); opacity:1.0;                     line-height:1.75\"><font color=\"black\"> [[reply]]                    </font></mark><mark style=\"background-color: hsl(120, 75%, 83%); opacity:1.0;                     line-height:1.75\"><font color=\"black\"> that kind of stuff really scares me.                    </font></mark><mark style=\"background-color: hsl(120, 75%, 57%); opacity:1.0;                     line-height:1.75\"><font color=\"black\">  i think i definitely need better coping skills and i really need to figure out how to not suppress things                    </font></mark></td><tr></table>"
      ],
      "text/plain": [
       "<IPython.core.display.HTML object>"
      ]
     },
     "metadata": {},
     "output_type": "display_data"
    },
    {
     "name": "stdout",
     "output_type": "stream",
     "text": [
      "tensor([ 0.0000,  0.0430,  0.0656,  0.2126,  0.0000, -0.1553, -0.0742,  0.0000,\n",
      "         0.4156,  0.8639])\n",
      "\u001b[1m Visualization For Score \u001b[0m\n"
     ]
    },
    {
     "data": {
      "text/html": [
       "<table width: 100%><div style=\"border-top: 1px solid; margin-top: 5px;             padding-top: 5px; display: inline-block\"><b>Legend: </b><span style=\"display: inline-block; width: 10px; height: 10px;                 border: 1px solid; background-color:                 hsl(0, 75%, 60%)\"></span> Negative  <span style=\"display: inline-block; width: 10px; height: 10px;                 border: 1px solid; background-color:                 hsl(0, 75%, 100%)\"></span> Neutral  <span style=\"display: inline-block; width: 10px; height: 10px;                 border: 1px solid; background-color:                 hsl(120, 75%, 50%)\"></span> Positive  </div><tr><th>True Label</th><th>Predicted Label</th><th>Attribution Label</th><th>Attribution Score</th><th>Word Importance</th><tr><td><text style=\"padding-right:2em\"><b>1</b></text></td><td><text style=\"padding-right:2em\"><b>1 (1.00)</b></text></td><td><text style=\"padding-right:2em\"><b>I'm wondering if anyone here has thought about suicide methods that come close to killing you but can't.  I'm not ready to die but I want to hurt.  I want people to see physically how much I'm hurting emotionally.I've thought about jumping in front of cars or falling from non-lethal heights.  Those aren't the nicest methods but I'll go with them if I can't find a better one. you donât t have to be good at them. would you try something like streaming? a lot of people use twitch to stream and support themselves plus youâll meet a lot of people and have opportunities to talk to people without having to act professional.   I've considered streaming, but I've made a few appearances on my brother's stream and the chat mostly just wanted me to go away and said I was boring. There's nothing to stream really, just an empty shell of a person badly playing video games. </b></text></td><td><text style=\"padding-right:2em\"><b>1.37</b></text></td><td><mark style=\"background-color: hsl(0, 75%, 100%); opacity:1.0;                     line-height:1.75\"><font color=\"black\"> [[post]]                    </font></mark><mark style=\"background-color: hsl(120, 75%, 98%); opacity:1.0;                     line-height:1.75\"><font color=\"black\">  I've given up on trying to find something I'm useful for. Everything new I try becomes a reminder of my incompetence and stupidity.                    </font></mark><mark style=\"background-color: hsl(120, 75%, 97%); opacity:1.0;                     line-height:1.75\"><font color=\"black\">  At this point I feel like the right thing to do is throw myself out on to the street before my parents inevitably do because I can't get a job to earn my stay. Throughout my life all I've been able to find about myself is that I have nothing of value to contribute. I haven't made a friend in 10 years because I always seem to end up unintentionally insulting the people I talk to because I can't understand people.                    </font></mark><mark style=\"background-color: hsl(120, 75%, 90%); opacity:1.0;                     line-height:1.75\"><font color=\"black\">  My schoolwork went from mediocre to terrible throughout middle/high school and I eventually started skipping because I couldn't look my teachers in the eye as I completely failed everything they set up to help me succeed. Now here I am, barely graduated because the school held my hand and wouldn't let me fail even though I did. My family is constantly either disappointed in me for not doing anything or disappointed in me for failing the things I do try. Sorry for this garbled mess of a rant but like I said, I'm awful at talking to people.                    </font></mark><mark style=\"background-color: hsl(0, 75%, 100%); opacity:1.0;                     line-height:1.75\"><font color=\"black\"> [[comment]]                    </font></mark><mark style=\"background-color: hsl(0, 75%, 94%); opacity:1.0;                     line-height:1.75\"><font color=\"black\">  you donât t have to be good at them. would you try something like streaming? a lot of people use twitch to stream and support themselves plus youâll meet a lot of people and have opportunities to talk to people without having to act professional.                    </font></mark><mark style=\"background-color: hsl(0, 75%, 98%); opacity:1.0;                     line-height:1.75\"><font color=\"black\">                       </font></mark><mark style=\"background-color: hsl(0, 75%, 100%); opacity:1.0;                     line-height:1.75\"><font color=\"black\"> [[reply]]                    </font></mark><mark style=\"background-color: hsl(120, 75%, 80%); opacity:1.0;                     line-height:1.75\"><font color=\"black\"> I've considered streaming, but I've made a few appearances on my brother's stream and the chat mostly just wanted me to go away and said I was boring.                    </font></mark><mark style=\"background-color: hsl(120, 75%, 57%); opacity:1.0;                     line-height:1.75\"><font color=\"black\"> There's nothing to stream really, just an empty shell of a person badly playing video games.                    </font></mark></td><tr></table>"
      ],
      "text/plain": [
       "<IPython.core.display.HTML object>"
      ]
     },
     "metadata": {},
     "output_type": "display_data"
    },
    {
     "name": "stdout",
     "output_type": "stream",
     "text": [
      "tensor([0.0000, 0.1789, 0.2676, 0.0000, 0.3356, 0.0000, 0.3085, 0.8298])\n",
      "\u001b[1m Visualization For Score \u001b[0m\n"
     ]
    },
    {
     "data": {
      "text/html": [
       "<table width: 100%><div style=\"border-top: 1px solid; margin-top: 5px;             padding-top: 5px; display: inline-block\"><b>Legend: </b><span style=\"display: inline-block; width: 10px; height: 10px;                 border: 1px solid; background-color:                 hsl(0, 75%, 60%)\"></span> Negative  <span style=\"display: inline-block; width: 10px; height: 10px;                 border: 1px solid; background-color:                 hsl(0, 75%, 100%)\"></span> Neutral  <span style=\"display: inline-block; width: 10px; height: 10px;                 border: 1px solid; background-color:                 hsl(120, 75%, 50%)\"></span> Positive  </div><tr><th>True Label</th><th>Predicted Label</th><th>Attribution Label</th><th>Attribution Score</th><th>Word Importance</th><tr><td><text style=\"padding-right:2em\"><b>1</b></text></td><td><text style=\"padding-right:2em\"><b>1 (1.00)</b></text></td><td><text style=\"padding-right:2em\"><b>I'm wondering if anyone here has thought about suicide methods that come close to killing you but can't.  I'm not ready to die but I want to hurt.  I want people to see physically how much I'm hurting emotionally.I've thought about jumping in front of cars or falling from non-lethal heights.  Those aren't the nicest methods but I'll go with them if I can't find a better one. It is the medication I;m on 1gram GABA 3x daily.  So that is a high dosage doesn't make me hungry meds affect everyone differently so just try some different things. Yeah, I'm on gabapentin three times a day as well. 800 mg at breakfast and supper.</b></text></td><td><text style=\"padding-right:2em\"><b>1.92</b></text></td><td><mark style=\"background-color: hsl(0, 75%, 100%); opacity:1.0;                     line-height:1.75\"><font color=\"black\"> [[post]]                    </font></mark><mark style=\"background-color: hsl(120, 75%, 92%); opacity:1.0;                     line-height:1.75\"><font color=\"black\">  I am diagnosed with bi-polar and generalized anxiety/panic disorder. Have been very depressed lately. Not to mention gaining weight like crazy with the new med's I'm on making me even more depressed.                    </font></mark><mark style=\"background-color: hsl(120, 75%, 87%); opacity:1.0;                     line-height:1.75\"><font color=\"black\">  Go to bed at like 7 at night just to escape this life looking forward to when my meds kick in and I can fall asleep. Wake up in the morning dreading the day and wishing it was night time again where I can sleep. Just don't know how much longer I can go on like this.                    </font></mark><mark style=\"background-color: hsl(0, 75%, 100%); opacity:1.0;                     line-height:1.75\"><font color=\"black\"> [[comment]]                    </font></mark><mark style=\"background-color: hsl(120, 75%, 84%); opacity:1.0;                     line-height:1.75\"><font color=\"black\"> It is the medication I;m on 1gram GABA 3x daily.  So that is a high dosage doesn't make me hungry meds affect everyone differently so just try some different things.                    </font></mark><mark style=\"background-color: hsl(0, 75%, 100%); opacity:1.0;                     line-height:1.75\"><font color=\"black\"> [[reply]]                    </font></mark><mark style=\"background-color: hsl(120, 75%, 85%); opacity:1.0;                     line-height:1.75\"><font color=\"black\"> Yeah, I'm on gabapentin three times a day as well.                    </font></mark><mark style=\"background-color: hsl(120, 75%, 59%); opacity:1.0;                     line-height:1.75\"><font color=\"black\"> 800 mg at breakfast and supper.                    </font></mark></td><tr></table>"
      ],
      "text/plain": [
       "<IPython.core.display.HTML object>"
      ]
     },
     "metadata": {},
     "output_type": "display_data"
    },
    {
     "name": "stdout",
     "output_type": "stream",
     "text": [
      "tensor([ 0.0000, -0.0641, -0.0390,  0.0000, -0.0078,  0.0000,  0.9972])\n",
      "\u001b[1m Visualization For Score \u001b[0m\n"
     ]
    },
    {
     "data": {
      "text/html": [
       "<table width: 100%><div style=\"border-top: 1px solid; margin-top: 5px;             padding-top: 5px; display: inline-block\"><b>Legend: </b><span style=\"display: inline-block; width: 10px; height: 10px;                 border: 1px solid; background-color:                 hsl(0, 75%, 60%)\"></span> Negative  <span style=\"display: inline-block; width: 10px; height: 10px;                 border: 1px solid; background-color:                 hsl(0, 75%, 100%)\"></span> Neutral  <span style=\"display: inline-block; width: 10px; height: 10px;                 border: 1px solid; background-color:                 hsl(120, 75%, 50%)\"></span> Positive  </div><tr><th>True Label</th><th>Predicted Label</th><th>Attribution Label</th><th>Attribution Score</th><th>Word Importance</th><tr><td><text style=\"padding-right:2em\"><b>1</b></text></td><td><text style=\"padding-right:2em\"><b>1 (1.00)</b></text></td><td><text style=\"padding-right:2em\"><b>I'm wondering if anyone here has thought about suicide methods that come close to killing you but can't.  I'm not ready to die but I want to hurt.  I want people to see physically how much I'm hurting emotionally.I've thought about jumping in front of cars or falling from non-lethal heights.  Those aren't the nicest methods but I'll go with them if I can't find a better one. Maybe you could consider a different anti-psychotic, or mood stabilizer, it sounds like meds are your best bet, but the journey of finding the right ones can be long and difficult! Im open to anything from placebos to cyanide at this point.</b></text></td><td><text style=\"padding-right:2em\"><b>0.89</b></text></td><td><mark style=\"background-color: hsl(0, 75%, 100%); opacity:1.0;                     line-height:1.75\"><font color=\"black\"> [[post]]                    </font></mark><mark style=\"background-color: hsl(0, 75%, 98%); opacity:1.0;                     line-height:1.75\"><font color=\"black\">  Does anyone get the occasional unpleasant surprise that in fact you can feel worse? I always felt that I was at the lowest but these last few days I have been getting even worse. It is getting to the point where I cant do anything that involves seeing people, which includes watching t.v.                    </font></mark><mark style=\"background-color: hsl(0, 75%, 99%); opacity:1.0;                     line-height:1.75\"><font color=\"black\">  I just despise everything and I want out but I wont commit suicide because I am a coward and i'm religious. Anyone else just keep getting trampled by life for no good reason?                    </font></mark><mark style=\"background-color: hsl(0, 75%, 100%); opacity:1.0;                     line-height:1.75\"><font color=\"black\"> [[comment]]                    </font></mark><mark style=\"background-color: hsl(0, 75%, 100%); opacity:1.0;                     line-height:1.75\"><font color=\"black\"> Maybe you could consider a different anti-psychotic, or mood stabilizer, it sounds like meds are your best bet, but the journey of finding the right ones can be long and difficult!                    </font></mark><mark style=\"background-color: hsl(0, 75%, 100%); opacity:1.0;                     line-height:1.75\"><font color=\"black\"> [[reply]]                    </font></mark><mark style=\"background-color: hsl(120, 75%, 51%); opacity:1.0;                     line-height:1.75\"><font color=\"black\"> Im open to anything from placebos to cyanide at this point.                    </font></mark></td><tr></table>"
      ],
      "text/plain": [
       "<IPython.core.display.HTML object>"
      ]
     },
     "metadata": {},
     "output_type": "display_data"
    },
    {
     "name": "stdout",
     "output_type": "stream",
     "text": [
      "tensor([ 0.0000, -0.0599,  0.0000,  0.5360,  0.0000,  0.4793,  0.6924])\n",
      "\u001b[1m Visualization For Score \u001b[0m\n"
     ]
    },
    {
     "data": {
      "text/html": [
       "<table width: 100%><div style=\"border-top: 1px solid; margin-top: 5px;             padding-top: 5px; display: inline-block\"><b>Legend: </b><span style=\"display: inline-block; width: 10px; height: 10px;                 border: 1px solid; background-color:                 hsl(0, 75%, 60%)\"></span> Negative  <span style=\"display: inline-block; width: 10px; height: 10px;                 border: 1px solid; background-color:                 hsl(0, 75%, 100%)\"></span> Neutral  <span style=\"display: inline-block; width: 10px; height: 10px;                 border: 1px solid; background-color:                 hsl(120, 75%, 50%)\"></span> Positive  </div><tr><th>True Label</th><th>Predicted Label</th><th>Attribution Label</th><th>Attribution Score</th><th>Word Importance</th><tr><td><text style=\"padding-right:2em\"><b>1</b></text></td><td><text style=\"padding-right:2em\"><b>1 (1.00)</b></text></td><td><text style=\"padding-right:2em\"><b>I'm wondering if anyone here has thought about suicide methods that come close to killing you but can't.  I'm not ready to die but I want to hurt.  I want people to see physically how much I'm hurting emotionally.I've thought about jumping in front of cars or falling from non-lethal heights.  Those aren't the nicest methods but I'll go with them if I can't find a better one. Me. For 5 yrs or something and it never goes away. It used to go away for a couple of seconds 2-3 years ago. I don't know, people say it frightens them and they wanna die but I just don't care awh :( have you done anything to treat it specifically? meds, therapy?</b></text></td><td><text style=\"padding-right:2em\"><b>1.65</b></text></td><td><mark style=\"background-color: hsl(0, 75%, 100%); opacity:1.0;                     line-height:1.75\"><font color=\"black\"> [[post]]                    </font></mark><mark style=\"background-color: hsl(0, 75%, 98%); opacity:1.0;                     line-height:1.75\"><font color=\"black\"> I think I have dd - depersonalisation derealization disorder/ emotional numbnessI've had bipolar 2 for a year and a half and shit happened in life and since then I've not felt anything no emotions, nothing. and when I looked my symptoms up, it all matched, and the first cause was major depressive episode, which was correct toohelp me out if you can, thanks                    </font></mark><mark style=\"background-color: hsl(0, 75%, 100%); opacity:1.0;                     line-height:1.75\"><font color=\"black\"> [[comment]]                    </font></mark><mark style=\"background-color: hsl(120, 75%, 74%); opacity:1.0;                     line-height:1.75\"><font color=\"black\"> Me. For 5 yrs or something and it never goes away. It used to go away for a couple of seconds 2-3 years ago. I don't know, people say it frightens them and they wanna die but I just don't care                    </font></mark><mark style=\"background-color: hsl(0, 75%, 100%); opacity:1.0;                     line-height:1.75\"><font color=\"black\"> [[reply]]                    </font></mark><mark style=\"background-color: hsl(120, 75%, 77%); opacity:1.0;                     line-height:1.75\"><font color=\"black\"> awh :( have you done anything to treat it specifically?                    </font></mark><mark style=\"background-color: hsl(120, 75%, 66%); opacity:1.0;                     line-height:1.75\"><font color=\"black\"> meds, therapy?                    </font></mark></td><tr></table>"
      ],
      "text/plain": [
       "<IPython.core.display.HTML object>"
      ]
     },
     "metadata": {},
     "output_type": "display_data"
    },
    {
     "name": "stdout",
     "output_type": "stream",
     "text": [
      "tensor([ 0.0000, -0.1081, -0.1753,  0.0941,  0.0451,  0.0211,  0.0000,  0.0595,\n",
      "        -0.0371,  0.0000,  0.3115,  0.5255,  0.5316,  0.4808,  0.2332])\n",
      "\u001b[1m Visualization For Score \u001b[0m\n"
     ]
    },
    {
     "data": {
      "text/html": [
       "<table width: 100%><div style=\"border-top: 1px solid; margin-top: 5px;             padding-top: 5px; display: inline-block\"><b>Legend: </b><span style=\"display: inline-block; width: 10px; height: 10px;                 border: 1px solid; background-color:                 hsl(0, 75%, 60%)\"></span> Negative  <span style=\"display: inline-block; width: 10px; height: 10px;                 border: 1px solid; background-color:                 hsl(0, 75%, 100%)\"></span> Neutral  <span style=\"display: inline-block; width: 10px; height: 10px;                 border: 1px solid; background-color:                 hsl(120, 75%, 50%)\"></span> Positive  </div><tr><th>True Label</th><th>Predicted Label</th><th>Attribution Label</th><th>Attribution Score</th><th>Word Importance</th><tr><td><text style=\"padding-right:2em\"><b>1</b></text></td><td><text style=\"padding-right:2em\"><b>1 (1.00)</b></text></td><td><text style=\"padding-right:2em\"><b>I'm wondering if anyone here has thought about suicide methods that come close to killing you but can't.  I'm not ready to die but I want to hurt.  I want people to see physically how much I'm hurting emotionally.I've thought about jumping in front of cars or falling from non-lethal heights.  Those aren't the nicest methods but I'll go with them if I can't find a better one. I used to be able to escape through video games and have fun, but lately  can't be bothered to play. My thing was games, I'm good at them, I know a lot about them, my whole life was games. I no longer like video games anymore. Who am I? The thing everybody knows me for is no longer valid. It's infuriating not to enjoy video games. I've had a similar issue with playing guitar. Took lessons for years, became exceptionally good at it, compared to other people I knew at least and then nothing. I stopped being able to have joy with it. It's a horrible feeling. I know. </b></text></td><td><text style=\"padding-right:2em\"><b>1.98</b></text></td><td><mark style=\"background-color: hsl(0, 75%, 100%); opacity:1.0;                     line-height:1.75\"><font color=\"black\"> [[post]]                    </font></mark><mark style=\"background-color: hsl(0, 75%, 96%); opacity:1.0;                     line-height:1.75\"><font color=\"black\">  The feeling that you will never amount to anything. That you will never become as great as you thought you would at the age of 12. How every day you wake up realizing that your day will lead to nothing even tho you're trying to make it so much more. That whatever friends you do have... they don't truly love you. At least not the way you'd hope they would.                    </font></mark><mark style=\"background-color: hsl(0, 75%, 93%); opacity:1.0;                     line-height:1.75\"><font color=\"black\">  Being alone, left out, and abandoned. A lack of sleep knowing that if you don't distract yourself every waking moment that you can that you'll fall into some dark place that you know all to well. A lack of work, lack of love, lack of meaning. Sleeping and never wanting to wake.                    </font></mark><mark style=\"background-color: hsl(120, 75%, 96%); opacity:1.0;                     line-height:1.75\"><font color=\"black\">  Those are my days. Every day.                    </font></mark><mark style=\"background-color: hsl(120, 75%, 98%); opacity:1.0;                     line-height:1.75\"><font color=\"black\">  Wanting connections. Finding none and pleading for it to be better. What's worse is feeling weak and pitiful for even mentioning it to anyone anywhere. Obligating someone to help you. Not believing them because they never wanted to help before the fact.                    </font></mark><mark style=\"background-color: hsl(120, 75%, 99%); opacity:1.0;                     line-height:1.75\"><font color=\"black\">  A life unfulfilled. My life.                    </font></mark><mark style=\"background-color: hsl(0, 75%, 100%); opacity:1.0;                     line-height:1.75\"><font color=\"black\"> [[comment]]                    </font></mark><mark style=\"background-color: hsl(120, 75%, 98%); opacity:1.0;                     line-height:1.75\"><font color=\"black\">  I used to be able to escape through video games and have fun, but lately  can't be bothered to play. My thing was games, I'm good at them, I know a lot about them, my whole life was games. I no longer like video games anymore.                    </font></mark><mark style=\"background-color: hsl(0, 75%, 99%); opacity:1.0;                     line-height:1.75\"><font color=\"black\">  Who am I? The thing everybody knows me for is no longer valid. It's infuriating not to enjoy video games.                    </font></mark><mark style=\"background-color: hsl(0, 75%, 100%); opacity:1.0;                     line-height:1.75\"><font color=\"black\"> [[reply]]                    </font></mark><mark style=\"background-color: hsl(120, 75%, 85%); opacity:1.0;                     line-height:1.75\"><font color=\"black\"> I've had a similar issue with playing guitar.                    </font></mark><mark style=\"background-color: hsl(120, 75%, 74%); opacity:1.0;                     line-height:1.75\"><font color=\"black\"> Took lessons for years, became exceptionally good at it, compared to other people I knew at least and then nothing.                    </font></mark><mark style=\"background-color: hsl(120, 75%, 74%); opacity:1.0;                     line-height:1.75\"><font color=\"black\"> I stopped being able to have joy with it.                    </font></mark><mark style=\"background-color: hsl(120, 75%, 76%); opacity:1.0;                     line-height:1.75\"><font color=\"black\"> It's a horrible feeling.                    </font></mark><mark style=\"background-color: hsl(120, 75%, 89%); opacity:1.0;                     line-height:1.75\"><font color=\"black\"> I know.                    </font></mark></td><tr></table>"
      ],
      "text/plain": [
       "<IPython.core.display.HTML object>"
      ]
     },
     "metadata": {},
     "output_type": "display_data"
    },
    {
     "name": "stdout",
     "output_type": "stream",
     "text": [
      "tensor([ 0.0000,  0.2129,  0.1537,  0.1005,  0.0000, -0.0913,  0.0000,  0.3516,\n",
      "         0.6054,  0.6499])\n",
      "\u001b[1m Visualization For Score \u001b[0m\n"
     ]
    },
    {
     "data": {
      "text/html": [
       "<table width: 100%><div style=\"border-top: 1px solid; margin-top: 5px;             padding-top: 5px; display: inline-block\"><b>Legend: </b><span style=\"display: inline-block; width: 10px; height: 10px;                 border: 1px solid; background-color:                 hsl(0, 75%, 60%)\"></span> Negative  <span style=\"display: inline-block; width: 10px; height: 10px;                 border: 1px solid; background-color:                 hsl(0, 75%, 100%)\"></span> Neutral  <span style=\"display: inline-block; width: 10px; height: 10px;                 border: 1px solid; background-color:                 hsl(120, 75%, 50%)\"></span> Positive  </div><tr><th>True Label</th><th>Predicted Label</th><th>Attribution Label</th><th>Attribution Score</th><th>Word Importance</th><tr><td><text style=\"padding-right:2em\"><b>1</b></text></td><td><text style=\"padding-right:2em\"><b>1 (1.00)</b></text></td><td><text style=\"padding-right:2em\"><b>I'm wondering if anyone here has thought about suicide methods that come close to killing you but can't.  I'm not ready to die but I want to hurt.  I want people to see physically how much I'm hurting emotionally.I've thought about jumping in front of cars or falling from non-lethal heights.  Those aren't the nicest methods but I'll go with them if I can't find a better one. No, you aren't being a baby. Can you explain what about competitive games does this to you? I sometimes used to feel anxious playing comp. games because people are huge dicks and take pixels way too seriously. I don't know what makes me feel like this exactly, usually the whole game I'm just trying my hardest and I think maybe the fact that my friends are getting a little angry when I mess up and and vice versa. The whole time I feel like that, so it makes me point out every time my friends mess up and I just get a little upset over everything. It just snowballs itself into one big mess, and I usually have to remove myself from everything or else I'd end up crying.</b></text></td><td><text style=\"padding-right:2em\"><b>1.98</b></text></td><td><mark style=\"background-color: hsl(0, 75%, 100%); opacity:1.0;                     line-height:1.75\"><font color=\"black\"> [[post]]                    </font></mark><mark style=\"background-color: hsl(120, 75%, 90%); opacity:1.0;                     line-height:1.75\"><font color=\"black\">  This might be weird, but every time I try to play Rocket League (Or any competative game) I end up having to leave the game and chat room all together. Everything just starts to overwhelm me and I can't handle it. I've almost broken down crying trying to continue. My urge to self harm is incredible when this happens.                    </font></mark><mark style=\"background-color: hsl(120, 75%, 93%); opacity:1.0;                     line-height:1.75\"><font color=\"black\">  Am I just being a baby or is this something serious? Not asking for a diagnosis, just wondering if there's anybody out there who may have felt like this and it ended up being something more serious.                    </font></mark><mark style=\"background-color: hsl(120, 75%, 95%); opacity:1.0;                     line-height:1.75\"><font color=\"black\">  I've tried looking this up, but I couldn't find anything. If I accidentally broke a rule or whatever I'd be happy to make edits or move this post all together.                    </font></mark><mark style=\"background-color: hsl(0, 75%, 100%); opacity:1.0;                     line-height:1.75\"><font color=\"black\"> [[comment]]                    </font></mark><mark style=\"background-color: hsl(0, 75%, 97%); opacity:1.0;                     line-height:1.75\"><font color=\"black\"> No, you aren't being a baby. Can you explain what about competitive games does this to you? I sometimes used to feel anxious playing comp. games because people are huge dicks and take pixels way too seriously.                    </font></mark><mark style=\"background-color: hsl(0, 75%, 100%); opacity:1.0;                     line-height:1.75\"><font color=\"black\"> [[reply]]                    </font></mark><mark style=\"background-color: hsl(120, 75%, 83%); opacity:1.0;                     line-height:1.75\"><font color=\"black\"> I don't know what makes me feel like this exactly, usually the whole game I'm just trying my hardest and I think maybe the fact that my friends are getting a little angry when I mess up and and vice versa.                    </font></mark><mark style=\"background-color: hsl(120, 75%, 70%); opacity:1.0;                     line-height:1.75\"><font color=\"black\"> The whole time I feel like that, so it makes me point out every time my friends mess up and I just get a little upset over everything.                    </font></mark><mark style=\"background-color: hsl(120, 75%, 68%); opacity:1.0;                     line-height:1.75\"><font color=\"black\"> It just snowballs itself into one big mess, and I usually have to remove myself from everything or else I'd end up crying.                    </font></mark></td><tr></table>"
      ],
      "text/plain": [
       "<IPython.core.display.HTML object>"
      ]
     },
     "metadata": {},
     "output_type": "display_data"
    },
    {
     "name": "stdout",
     "output_type": "stream",
     "text": [
      "tensor([0.0000, 0.0119, 0.0000, 0.5048, 0.0000, 0.4762, 0.7199])\n",
      "\u001b[1m Visualization For Score \u001b[0m\n"
     ]
    },
    {
     "data": {
      "text/html": [
       "<table width: 100%><div style=\"border-top: 1px solid; margin-top: 5px;             padding-top: 5px; display: inline-block\"><b>Legend: </b><span style=\"display: inline-block; width: 10px; height: 10px;                 border: 1px solid; background-color:                 hsl(0, 75%, 60%)\"></span> Negative  <span style=\"display: inline-block; width: 10px; height: 10px;                 border: 1px solid; background-color:                 hsl(0, 75%, 100%)\"></span> Neutral  <span style=\"display: inline-block; width: 10px; height: 10px;                 border: 1px solid; background-color:                 hsl(120, 75%, 50%)\"></span> Positive  </div><tr><th>True Label</th><th>Predicted Label</th><th>Attribution Label</th><th>Attribution Score</th><th>Word Importance</th><tr><td><text style=\"padding-right:2em\"><b>1</b></text></td><td><text style=\"padding-right:2em\"><b>1 (1.00)</b></text></td><td><text style=\"padding-right:2em\"><b>I'm wondering if anyone here has thought about suicide methods that come close to killing you but can't.  I'm not ready to die but I want to hurt.  I want people to see physically how much I'm hurting emotionally.I've thought about jumping in front of cars or falling from non-lethal heights.  Those aren't the nicest methods but I'll go with them if I can't find a better one. Sertraline (Zoloft) changed my life for real, but everyone is different. I used to take Zoloft around 6 years ago but they didnÃ¢ÂÂt do much for me. I havenÃ¢ÂÂt been on any meds for a long time now</b></text></td><td><text style=\"padding-right:2em\"><b>1.71</b></text></td><td><mark style=\"background-color: hsl(0, 75%, 100%); opacity:1.0;                     line-height:1.75\"><font color=\"black\"> [[post]]                    </font></mark><mark style=\"background-color: hsl(120, 75%, 100%); opacity:1.0;                     line-height:1.75\"><font color=\"black\"> Probably sounds stupid but the only thing I look forward to everyday is laying in bed after doing nothing all day and just sleeping for 15 hours. I wish I could sleep longer                    </font></mark><mark style=\"background-color: hsl(0, 75%, 100%); opacity:1.0;                     line-height:1.75\"><font color=\"black\"> [[comment]]                    </font></mark><mark style=\"background-color: hsl(120, 75%, 75%); opacity:1.0;                     line-height:1.75\"><font color=\"black\"> Sertraline (Zoloft) changed my life for real, but everyone is different.                    </font></mark><mark style=\"background-color: hsl(0, 75%, 100%); opacity:1.0;                     line-height:1.75\"><font color=\"black\"> [[reply]]                    </font></mark><mark style=\"background-color: hsl(120, 75%, 77%); opacity:1.0;                     line-height:1.75\"><font color=\"black\"> I used to take Zoloft around 6 years ago but they didnÃ¢ÂÂt do much for me.                    </font></mark><mark style=\"background-color: hsl(120, 75%, 65%); opacity:1.0;                     line-height:1.75\"><font color=\"black\"> I havenÃ¢ÂÂt been on any meds for a long time now                    </font></mark></td><tr></table>"
      ],
      "text/plain": [
       "<IPython.core.display.HTML object>"
      ]
     },
     "metadata": {},
     "output_type": "display_data"
    },
    {
     "name": "stdout",
     "output_type": "stream",
     "text": [
      "tensor([ 0.0000, -0.1046,  0.0000,  0.7130,  0.0000,  0.5465,  0.4266])\n",
      "\u001b[1m Visualization For Score \u001b[0m\n"
     ]
    },
    {
     "data": {
      "text/html": [
       "<table width: 100%><div style=\"border-top: 1px solid; margin-top: 5px;             padding-top: 5px; display: inline-block\"><b>Legend: </b><span style=\"display: inline-block; width: 10px; height: 10px;                 border: 1px solid; background-color:                 hsl(0, 75%, 60%)\"></span> Negative  <span style=\"display: inline-block; width: 10px; height: 10px;                 border: 1px solid; background-color:                 hsl(0, 75%, 100%)\"></span> Neutral  <span style=\"display: inline-block; width: 10px; height: 10px;                 border: 1px solid; background-color:                 hsl(120, 75%, 50%)\"></span> Positive  </div><tr><th>True Label</th><th>Predicted Label</th><th>Attribution Label</th><th>Attribution Score</th><th>Word Importance</th><tr><td><text style=\"padding-right:2em\"><b>1</b></text></td><td><text style=\"padding-right:2em\"><b>1 (1.00)</b></text></td><td><text style=\"padding-right:2em\"><b>I'm wondering if anyone here has thought about suicide methods that come close to killing you but can't.  I'm not ready to die but I want to hurt.  I want people to see physically how much I'm hurting emotionally.I've thought about jumping in front of cars or falling from non-lethal heights.  Those aren't the nicest methods but I'll go with them if I can't find a better one. Happy for you! :) What job is it, if you don't mind me asking? I'm the assistant web director for my University's website. Should be pretty interesting actually.</b></text></td><td><text style=\"padding-right:2em\"><b>1.58</b></text></td><td><mark style=\"background-color: hsl(0, 75%, 100%); opacity:1.0;                     line-height:1.75\"><font color=\"black\"> [[post]]                    </font></mark><mark style=\"background-color: hsl(0, 75%, 96%); opacity:1.0;                     line-height:1.75\"><font color=\"black\"> I've been a lurker here for a long time. I'm 19 m, and I somehow finally got motivated enough to apply for and somehow qualify for a job. College has been really up and down for me, but somehow something good happened for once. Idk I just wanted to share, I'm super nervous but I thought some of you might be able to relate to how much this simple thing means to me.                    </font></mark><mark style=\"background-color: hsl(0, 75%, 100%); opacity:1.0;                     line-height:1.75\"><font color=\"black\"> [[comment]]                    </font></mark><mark style=\"background-color: hsl(120, 75%, 65%); opacity:1.0;                     line-height:1.75\"><font color=\"black\"> Happy for you! :) What job is it, if you don't mind me asking?                    </font></mark><mark style=\"background-color: hsl(0, 75%, 100%); opacity:1.0;                     line-height:1.75\"><font color=\"black\"> [[reply]]                    </font></mark><mark style=\"background-color: hsl(120, 75%, 73%); opacity:1.0;                     line-height:1.75\"><font color=\"black\"> I'm the assistant web director for my University's website.                    </font></mark><mark style=\"background-color: hsl(120, 75%, 79%); opacity:1.0;                     line-height:1.75\"><font color=\"black\"> Should be pretty interesting actually.                    </font></mark></td><tr></table>"
      ],
      "text/plain": [
       "<IPython.core.display.HTML object>"
      ]
     },
     "metadata": {},
     "output_type": "display_data"
    },
    {
     "name": "stdout",
     "output_type": "stream",
     "text": [
      "tensor([ 0.0000,  0.1055,  0.1581,  0.1622,  0.0000, -0.1809,  0.0000,  0.7014,\n",
      "         0.6425])\n",
      "\u001b[1m Visualization For Score \u001b[0m\n"
     ]
    },
    {
     "data": {
      "text/html": [
       "<table width: 100%><div style=\"border-top: 1px solid; margin-top: 5px;             padding-top: 5px; display: inline-block\"><b>Legend: </b><span style=\"display: inline-block; width: 10px; height: 10px;                 border: 1px solid; background-color:                 hsl(0, 75%, 60%)\"></span> Negative  <span style=\"display: inline-block; width: 10px; height: 10px;                 border: 1px solid; background-color:                 hsl(0, 75%, 100%)\"></span> Neutral  <span style=\"display: inline-block; width: 10px; height: 10px;                 border: 1px solid; background-color:                 hsl(120, 75%, 50%)\"></span> Positive  </div><tr><th>True Label</th><th>Predicted Label</th><th>Attribution Label</th><th>Attribution Score</th><th>Word Importance</th><tr><td><text style=\"padding-right:2em\"><b>1</b></text></td><td><text style=\"padding-right:2em\"><b>1 (1.00)</b></text></td><td><text style=\"padding-right:2em\"><b>I'm wondering if anyone here has thought about suicide methods that come close to killing you but can't.  I'm not ready to die but I want to hurt.  I want people to see physically how much I'm hurting emotionally.I've thought about jumping in front of cars or falling from non-lethal heights.  Those aren't the nicest methods but I'll go with them if I can't find a better one. That is quite a reasonable way of thinking. You said you have a sibling. Are you close with him/her? Or it makes no difference in terms of coping with your loneliness?  It makes no difference. I am close, but with depression it doesnt seem to matter if I have a tight group of people around me, I still have this unwavering sense of loneliness</b></text></td><td><text style=\"padding-right:2em\"><b>1.59</b></text></td><td><mark style=\"background-color: hsl(0, 75%, 100%); opacity:1.0;                     line-height:1.75\"><font color=\"black\"> [[post]]                    </font></mark><mark style=\"background-color: hsl(120, 75%, 95%); opacity:1.0;                     line-height:1.75\"><font color=\"black\">  Heya Reddit hope all is good for you, even though I cant say the same for me. I have no idea what to write here really, but my mind is my enemy. Just today as I am posting this I had a moment where I literally was sucked into the dark void that is my depressed mind.                    </font></mark><mark style=\"background-color: hsl(120, 75%, 93%); opacity:1.0;                     line-height:1.75\"><font color=\"black\">  I am house sitting alone in a 2 story house, and the only companion I have in this house is a cat that would rather kill me than have any sort of contact with me. All this alone time I am constantly getting sucked into my own head, into that void that I know I don't want to be in, but it just keeps grabbing me in a choke hold. That void is just telling me now that all my doubt, my troubles and the pain I keep having in 3 days straight of crying to climb out of my own freaking head will end in one easy step.                    </font></mark><mark style=\"background-color: hsl(120, 75%, 92%); opacity:1.0;                     line-height:1.75\"><font color=\"black\">  Im sorry I am pretty shit at writing, and I am sure there are more people here that could use a hand that have explained their circumstances better. Cheers Reddit.                    </font></mark><mark style=\"background-color: hsl(0, 75%, 100%); opacity:1.0;                     line-height:1.75\"><font color=\"black\"> [[comment]]                    </font></mark><mark style=\"background-color: hsl(0, 75%, 93%); opacity:1.0;                     line-height:1.75\"><font color=\"black\"> That is quite a reasonable way of thinking. You said you have a sibling. Are you close with him/her? Or it makes no difference in terms of coping with your loneliness?                    </font></mark><mark style=\"background-color: hsl(0, 75%, 100%); opacity:1.0;                     line-height:1.75\"><font color=\"black\"> [[reply]]                    </font></mark><mark style=\"background-color: hsl(120, 75%, 65%); opacity:1.0;                     line-height:1.75\"><font color=\"black\"> It makes no difference.                    </font></mark><mark style=\"background-color: hsl(120, 75%, 68%); opacity:1.0;                     line-height:1.75\"><font color=\"black\"> I am close, but with depression it doesnt seem to matter if I have a tight group of people around me, I still have this unwavering sense of loneliness                    </font></mark></td><tr></table>"
      ],
      "text/plain": [
       "<IPython.core.display.HTML object>"
      ]
     },
     "metadata": {},
     "output_type": "display_data"
    },
    {
     "name": "stdout",
     "output_type": "stream",
     "text": [
      "tensor([ 0.0000,  0.0164, -0.0601, -0.0995,  0.0217,  0.0229,  0.1053,  0.0617,\n",
      "         0.1907,  0.1714,  0.0000, -0.0941,  0.0000,  0.4472,  0.8340,  0.0117])\n",
      "\u001b[1m Visualization For Score \u001b[0m\n"
     ]
    },
    {
     "data": {
      "text/html": [
       "<table width: 100%><div style=\"border-top: 1px solid; margin-top: 5px;             padding-top: 5px; display: inline-block\"><b>Legend: </b><span style=\"display: inline-block; width: 10px; height: 10px;                 border: 1px solid; background-color:                 hsl(0, 75%, 60%)\"></span> Negative  <span style=\"display: inline-block; width: 10px; height: 10px;                 border: 1px solid; background-color:                 hsl(0, 75%, 100%)\"></span> Neutral  <span style=\"display: inline-block; width: 10px; height: 10px;                 border: 1px solid; background-color:                 hsl(120, 75%, 50%)\"></span> Positive  </div><tr><th>True Label</th><th>Predicted Label</th><th>Attribution Label</th><th>Attribution Score</th><th>Word Importance</th><tr><td><text style=\"padding-right:2em\"><b>1</b></text></td><td><text style=\"padding-right:2em\"><b>1 (1.00)</b></text></td><td><text style=\"padding-right:2em\"><b>I'm wondering if anyone here has thought about suicide methods that come close to killing you but can't.  I'm not ready to die but I want to hurt.  I want people to see physically how much I'm hurting emotionally.I've thought about jumping in front of cars or falling from non-lethal heights.  Those aren't the nicest methods but I'll go with them if I can't find a better one. Nice to meet you. My name, obviously, is Josh.What do you mean by \"On the outside...\"? On the outside, I'm human. On the inside, I don't know what I am. Nice to meet you too.</b></text></td><td><text style=\"padding-right:2em\"><b>1.63</b></text></td><td><mark style=\"background-color: hsl(0, 75%, 100%); opacity:1.0;                     line-height:1.75\"><font color=\"black\"> [[post]]                    </font></mark><mark style=\"background-color: hsl(120, 75%, 100%); opacity:1.0;                     line-height:1.75\"><font color=\"black\">  I still want to fucking rot away into nothingness. I post on r/depression and r/SuicideWatch way too often...but it gives me a way to vent, and I need to vent a lot.                    </font></mark><mark style=\"background-color: hsl(0, 75%, 98%); opacity:1.0;                     line-height:1.75\"><font color=\"black\">  Otherwise I'd be dead. My problems keep getting worse. Meaning I need to vent more.                    </font></mark><mark style=\"background-color: hsl(0, 75%, 97%); opacity:1.0;                     line-height:1.75\"><font color=\"black\">  Trying to keep the pressure low. Trying to stay sane. Trying not to blow.                    </font></mark><mark style=\"background-color: hsl(120, 75%, 99%); opacity:1.0;                     line-height:1.75\"><font color=\"black\">  I need to make sure it's not a waste. I have someone who cares about me, and I can't let them down. If I do I'm nothing.                    </font></mark><mark style=\"background-color: hsl(120, 75%, 99%); opacity:1.0;                     line-height:1.75\"><font color=\"black\">  I can't do that to her. I can't. I can't. I can't. I'm trying as hard as my mind will let me. I'm tired.                    </font></mark><mark style=\"background-color: hsl(120, 75%, 95%); opacity:1.0;                     line-height:1.75\"><font color=\"black\">  How does she deal with her problems so well? I've been dealing with my problems for a year, but that's nothing compared to her 4.                    </font></mark><mark style=\"background-color: hsl(120, 75%, 97%); opacity:1.0;                     line-height:1.75\"><font color=\"black\">  I'm weak. I can't fucking do it like she can.                    </font></mark><mark style=\"background-color: hsl(120, 75%, 91%); opacity:1.0;                     line-height:1.75\"><font color=\"black\">  This room is driving me insane. I need someone to pull me out.                    </font></mark><mark style=\"background-color: hsl(120, 75%, 92%); opacity:1.0;                     line-height:1.75\"><font color=\"black\">  Sorry about the rambling, it's like I said in the beginning. I need to vent my thoughts quickly and efficiently, whether it sounds good on paper of not, It keeps me sane.                    </font></mark><mark style=\"background-color: hsl(0, 75%, 100%); opacity:1.0;                     line-height:1.75\"><font color=\"black\"> [[comment]]                    </font></mark><mark style=\"background-color: hsl(0, 75%, 97%); opacity:1.0;                     line-height:1.75\"><font color=\"black\"> Nice to meet you. My name, obviously, is Josh. What do you mean by \"On the outside...\"?                    </font></mark><mark style=\"background-color: hsl(0, 75%, 100%); opacity:1.0;                     line-height:1.75\"><font color=\"black\"> [[reply]]                    </font></mark><mark style=\"background-color: hsl(120, 75%, 78%); opacity:1.0;                     line-height:1.75\"><font color=\"black\"> On the outside, I'm human.                    </font></mark><mark style=\"background-color: hsl(120, 75%, 59%); opacity:1.0;                     line-height:1.75\"><font color=\"black\"> On the inside, I don't know what I am.                    </font></mark><mark style=\"background-color: hsl(120, 75%, 100%); opacity:1.0;                     line-height:1.75\"><font color=\"black\"> Nice to meet you too.                    </font></mark></td><tr></table>"
      ],
      "text/plain": [
       "<IPython.core.display.HTML object>"
      ]
     },
     "metadata": {},
     "output_type": "display_data"
    },
    {
     "name": "stdout",
     "output_type": "stream",
     "text": [
      "tensor([ 0.0000,  0.0375,  0.0789, -0.0252,  0.0740,  0.1756,  0.1714,  0.0000,\n",
      "        -0.1601,  0.0000,  0.4664,  0.8263])\n",
      "\u001b[1m Visualization For Score \u001b[0m\n"
     ]
    },
    {
     "data": {
      "text/html": [
       "<table width: 100%><div style=\"border-top: 1px solid; margin-top: 5px;             padding-top: 5px; display: inline-block\"><b>Legend: </b><span style=\"display: inline-block; width: 10px; height: 10px;                 border: 1px solid; background-color:                 hsl(0, 75%, 60%)\"></span> Negative  <span style=\"display: inline-block; width: 10px; height: 10px;                 border: 1px solid; background-color:                 hsl(0, 75%, 100%)\"></span> Neutral  <span style=\"display: inline-block; width: 10px; height: 10px;                 border: 1px solid; background-color:                 hsl(120, 75%, 50%)\"></span> Positive  </div><tr><th>True Label</th><th>Predicted Label</th><th>Attribution Label</th><th>Attribution Score</th><th>Word Importance</th><tr><td><text style=\"padding-right:2em\"><b>1</b></text></td><td><text style=\"padding-right:2em\"><b>1 (1.00)</b></text></td><td><text style=\"padding-right:2em\"><b>I'm wondering if anyone here has thought about suicide methods that come close to killing you but can't.  I'm not ready to die but I want to hurt.  I want people to see physically how much I'm hurting emotionally.I've thought about jumping in front of cars or falling from non-lethal heights.  Those aren't the nicest methods but I'll go with them if I can't find a better one. I understand your situation because I have been there. The way to moving on is to start turning your life around from the small things to the big things, trying to put aside the pain and resentment you feel towards your family in the process. Putting it to the side doesn't mean justifying them or forgiving them for that matter, you're entitled to feel angry at them if you feel like, but don't let that anger prevent you working for yourself. Any chance you might get some kind of job? Well rn im hitchiking (gonna try lmao) I decided I just needed to take some time. But hopefully If I make it to arizona or washington, I can get something quick</b></text></td><td><text style=\"padding-right:2em\"><b>1.64</b></text></td><td><mark style=\"background-color: hsl(0, 75%, 100%); opacity:1.0;                     line-height:1.75\"><font color=\"black\"> [[post]]                    </font></mark><mark style=\"background-color: hsl(120, 75%, 99%); opacity:1.0;                     line-height:1.75\"><font color=\"black\">  I just needed to post because Im lost in life. Ive grown so fucking bitter and full of hatred. Ever since I was 10, bad events and abuse made me a 21 yr old recluse, before I was scared of talking.                    </font></mark><mark style=\"background-color: hsl(120, 75%, 97%); opacity:1.0;                     line-height:1.75\"><font color=\"black\">  Now i cant tolerate it. Ill be cold and distant just to avoid people.                    </font></mark><mark style=\"background-color: hsl(0, 75%, 99%); opacity:1.0;                     line-height:1.75\"><font color=\"black\">  And its been directed at people who don't deserve it. I dont know how to change. I want to.                    </font></mark><mark style=\"background-color: hsl(120, 75%, 97%); opacity:1.0;                     line-height:1.75\"><font color=\"black\">  I want to leave my past abuse behind, but I also feel its unfair. Unfair people like us dont even get the chance to move on or get closure. Youre treated like shit since fucking birth, everyone even family turns on you at your worst. And then you hide all this pain for decades, because no one wants to help a depresses child.                    </font></mark><mark style=\"background-color: hsl(120, 75%, 92%); opacity:1.0;                     line-height:1.75\"><font color=\"black\">  They dismiss you. So you stop. it just builds and builds.                    </font></mark><mark style=\"background-color: hsl(120, 75%, 92%); opacity:1.0;                     line-height:1.75\"><font color=\"black\">  Then as an adult, you're no longer nice/shy/a real go getter. Theyve beaten you down despite your cries for help. Now im just that \"weird loner\" or even betted \" unnapreciative and rude\". All Ive ever heard is justifications towards those who have fucked my life up and who have abused me. Im past asking for help, and now Im who they made me. And they want me to move on like im the villain, as if I was just born like this.                    </font></mark><mark style=\"background-color: hsl(0, 75%, 100%); opacity:1.0;                     line-height:1.75\"><font color=\"black\"> [[comment]]                    </font></mark><mark style=\"background-color: hsl(0, 75%, 94%); opacity:1.0;                     line-height:1.75\"><font color=\"black\"> I understand your situation because I have been there. The way to moving on is to start turning your life around from the small things to the big things, trying to put aside the pain and resentment you feel towards your family in the process. Putting it to the side doesn't mean justifying them or forgiving them for that matter, you're entitled to feel angry at them if you feel like, but don't let that anger prevent you working for yourself. Any chance you might get some kind of job?                    </font></mark><mark style=\"background-color: hsl(0, 75%, 100%); opacity:1.0;                     line-height:1.75\"><font color=\"black\"> [[reply]]                    </font></mark><mark style=\"background-color: hsl(120, 75%, 77%); opacity:1.0;                     line-height:1.75\"><font color=\"black\"> Well rn im hitchiking (gonna try lmao) I decided I just needed to take some time.                    </font></mark><mark style=\"background-color: hsl(120, 75%, 59%); opacity:1.0;                     line-height:1.75\"><font color=\"black\"> But hopefully If I make it to arizona or washington, I can get something quick                    </font></mark></td><tr></table>"
      ],
      "text/plain": [
       "<IPython.core.display.HTML object>"
      ]
     },
     "metadata": {},
     "output_type": "display_data"
    },
    {
     "name": "stdout",
     "output_type": "stream",
     "text": [
      "tensor([ 0.0000, -0.1891,  0.0000,  0.4755,  0.0000,  0.4099,  0.7548, -0.0195])\n",
      "\u001b[1m Visualization For Score \u001b[0m\n"
     ]
    },
    {
     "data": {
      "text/html": [
       "<table width: 100%><div style=\"border-top: 1px solid; margin-top: 5px;             padding-top: 5px; display: inline-block\"><b>Legend: </b><span style=\"display: inline-block; width: 10px; height: 10px;                 border: 1px solid; background-color:                 hsl(0, 75%, 60%)\"></span> Negative  <span style=\"display: inline-block; width: 10px; height: 10px;                 border: 1px solid; background-color:                 hsl(0, 75%, 100%)\"></span> Neutral  <span style=\"display: inline-block; width: 10px; height: 10px;                 border: 1px solid; background-color:                 hsl(120, 75%, 50%)\"></span> Positive  </div><tr><th>True Label</th><th>Predicted Label</th><th>Attribution Label</th><th>Attribution Score</th><th>Word Importance</th><tr><td><text style=\"padding-right:2em\"><b>1</b></text></td><td><text style=\"padding-right:2em\"><b>1 (1.00)</b></text></td><td><text style=\"padding-right:2em\"><b>I'm wondering if anyone here has thought about suicide methods that come close to killing you but can't.  I'm not ready to die but I want to hurt.  I want people to see physically how much I'm hurting emotionally.I've thought about jumping in front of cars or falling from non-lethal heights.  Those aren't the nicest methods but I'll go with them if I can't find a better one. That's great to hear! For myself, at least, the feeling of really clean teeth is one of the best sensations out there. If you wanna go next-level with it, I'd recommend a Sonicare - that thing holds nothing back. IÃ¢ÂÂve been wanting to save up for a nice toothbrush and a waterpik. My friend swears by hers. Thanks for the encouragement!</b></text></td><td><text style=\"padding-right:2em\"><b>1.43</b></text></td><td><mark style=\"background-color: hsl(0, 75%, 100%); opacity:1.0;                     line-height:1.75\"><font color=\"black\"> [[post]]                    </font></mark><mark style=\"background-color: hsl(0, 75%, 93%); opacity:1.0;                     line-height:1.75\"><font color=\"black\"> For the first time in days. I canât stop running my tongue over my teeth, they feel so smooth! And my gums donât itch anymore.                    </font></mark><mark style=\"background-color: hsl(0, 75%, 100%); opacity:1.0;                     line-height:1.75\"><font color=\"black\"> [[comment]]                    </font></mark><mark style=\"background-color: hsl(120, 75%, 77%); opacity:1.0;                     line-height:1.75\"><font color=\"black\"> That's great to hear! For myself, at least, the feeling of really clean teeth is one of the best sensations out there. If you wanna go next-level with it, I'd recommend a Sonicare - that thing holds nothing back.                    </font></mark><mark style=\"background-color: hsl(0, 75%, 100%); opacity:1.0;                     line-height:1.75\"><font color=\"black\"> [[reply]]                    </font></mark><mark style=\"background-color: hsl(120, 75%, 80%); opacity:1.0;                     line-height:1.75\"><font color=\"black\"> IÃ¢ÂÂve been wanting to save up for a nice toothbrush and a waterpik.                    </font></mark><mark style=\"background-color: hsl(120, 75%, 63%); opacity:1.0;                     line-height:1.75\"><font color=\"black\"> My friend swears by hers.                    </font></mark><mark style=\"background-color: hsl(0, 75%, 100%); opacity:1.0;                     line-height:1.75\"><font color=\"black\"> Thanks for the encouragement!                    </font></mark></td><tr></table>"
      ],
      "text/plain": [
       "<IPython.core.display.HTML object>"
      ]
     },
     "metadata": {},
     "output_type": "display_data"
    },
    {
     "name": "stdout",
     "output_type": "stream",
     "text": [
      "tensor([ 0.0000, -0.0486, -0.1274, -0.1358,  0.1856,  0.0000, -0.5119,  0.0000,\n",
      "         0.2248,  0.5163,  0.4592,  0.3270,  0.1674,  0.0590, -0.0039])\n",
      "\u001b[1m Visualization For Score \u001b[0m\n"
     ]
    },
    {
     "data": {
      "text/html": [
       "<table width: 100%><div style=\"border-top: 1px solid; margin-top: 5px;             padding-top: 5px; display: inline-block\"><b>Legend: </b><span style=\"display: inline-block; width: 10px; height: 10px;                 border: 1px solid; background-color:                 hsl(0, 75%, 60%)\"></span> Negative  <span style=\"display: inline-block; width: 10px; height: 10px;                 border: 1px solid; background-color:                 hsl(0, 75%, 100%)\"></span> Neutral  <span style=\"display: inline-block; width: 10px; height: 10px;                 border: 1px solid; background-color:                 hsl(120, 75%, 50%)\"></span> Positive  </div><tr><th>True Label</th><th>Predicted Label</th><th>Attribution Label</th><th>Attribution Score</th><th>Word Importance</th><tr><td><text style=\"padding-right:2em\"><b>1</b></text></td><td><text style=\"padding-right:2em\"><b>1 (1.00)</b></text></td><td><text style=\"padding-right:2em\"><b>I'm wondering if anyone here has thought about suicide methods that come close to killing you but can't.  I'm not ready to die but I want to hurt.  I want people to see physically how much I'm hurting emotionally.I've thought about jumping in front of cars or falling from non-lethal heights.  Those aren't the nicest methods but I'll go with them if I can't find a better one. Check a video on youtube called Lifestyle of A Loner. Has some really good insight on introverts imo. I'm an introvert too and I can really relate to the stuff said on the video. I will check that.\n",
       "\n",
       "I want to be an extrovert now. Most of high school is over. I wanted to be very popular in high school back in 3rd grade. Stuff happened and I forgot my dream until now.\n",
       "\n",
       "I also want to make connections to get a good job in the future, but I really don't have anyone to talk with cause they think I'm annoying and toxic. Life is pretty boring.</b></text></td><td><text style=\"padding-right:2em\"><b>1.11</b></text></td><td><mark style=\"background-color: hsl(0, 75%, 100%); opacity:1.0;                     line-height:1.75\"><font color=\"black\"> [[post]]                    </font></mark><mark style=\"background-color: hsl(0, 75%, 99%); opacity:1.0;                     line-height:1.75\"><font color=\"black\">  In other words, what is the difference between sadness and depression and clinical depressiom?Depression is not a light matter. I can't just go telling everyone I have crippling depression. I just don't get appealed by life anymore, it feels dull and soul-crushing but not exactly depressing.                    </font></mark><mark style=\"background-color: hsl(0, 75%, 95%); opacity:1.0;                     line-height:1.75\"><font color=\"black\">  I really don't know. This is a question that can be answered by Google, but I want to see what you people think.                    </font></mark><mark style=\"background-color: hsl(0, 75%, 95%); opacity:1.0;                     line-height:1.75\"><font color=\"black\">  I have no idea how to express myself. It's killing me.                    </font></mark><mark style=\"background-color: hsl(120, 75%, 91%); opacity:1.0;                     line-height:1.75\"><font color=\"black\">  I have anxiety and I talk as less as possible. People keep telling me I'm not depressed. I'm just a whiny, toxic kid.                    </font></mark><mark style=\"background-color: hsl(0, 75%, 100%); opacity:1.0;                     line-height:1.75\"><font color=\"black\"> [[comment]]                    </font></mark><mark style=\"background-color: hsl(0, 75%, 80%); opacity:1.0;                     line-height:1.75\"><font color=\"black\"> Check a video on youtube called Lifestyle of A Loner. Has some really good insight on introverts imo. I'm an introvert too and I can really relate to the stuff said on the video.                    </font></mark><mark style=\"background-color: hsl(0, 75%, 100%); opacity:1.0;                     line-height:1.75\"><font color=\"black\"> [[reply]]                    </font></mark><mark style=\"background-color: hsl(120, 75%, 89%); opacity:1.0;                     line-height:1.75\"><font color=\"black\"> I will check that.                    </font></mark><mark style=\"background-color: hsl(120, 75%, 75%); opacity:1.0;                     line-height:1.75\"><font color=\"black\"> \n",
       "\n",
       "I want to be an extrovert now.                    </font></mark><mark style=\"background-color: hsl(120, 75%, 78%); opacity:1.0;                     line-height:1.75\"><font color=\"black\"> Most of high school is over.                    </font></mark><mark style=\"background-color: hsl(120, 75%, 84%); opacity:1.0;                     line-height:1.75\"><font color=\"black\"> I wanted to be very popular in high school back in 3rd grade.                    </font></mark><mark style=\"background-color: hsl(120, 75%, 92%); opacity:1.0;                     line-height:1.75\"><font color=\"black\"> Stuff happened and I forgot my dream until now.                    </font></mark><mark style=\"background-color: hsl(120, 75%, 98%); opacity:1.0;                     line-height:1.75\"><font color=\"black\"> \n",
       "\n",
       "I also want to make connections to get a good job in the future, but I really don't have anyone to talk with cause they think I'm annoying and toxic.                    </font></mark><mark style=\"background-color: hsl(0, 75%, 100%); opacity:1.0;                     line-height:1.75\"><font color=\"black\"> Life is pretty boring.                    </font></mark></td><tr></table>"
      ],
      "text/plain": [
       "<IPython.core.display.HTML object>"
      ]
     },
     "metadata": {},
     "output_type": "display_data"
    },
    {
     "name": "stdout",
     "output_type": "stream",
     "text": [
      "tensor([0.0000, 0.1486, 0.0000, 0.1121, 0.0000, 0.5436, 0.8185])\n",
      "\u001b[1m Visualization For Score \u001b[0m\n"
     ]
    },
    {
     "data": {
      "text/html": [
       "<table width: 100%><div style=\"border-top: 1px solid; margin-top: 5px;             padding-top: 5px; display: inline-block\"><b>Legend: </b><span style=\"display: inline-block; width: 10px; height: 10px;                 border: 1px solid; background-color:                 hsl(0, 75%, 60%)\"></span> Negative  <span style=\"display: inline-block; width: 10px; height: 10px;                 border: 1px solid; background-color:                 hsl(0, 75%, 100%)\"></span> Neutral  <span style=\"display: inline-block; width: 10px; height: 10px;                 border: 1px solid; background-color:                 hsl(120, 75%, 50%)\"></span> Positive  </div><tr><th>True Label</th><th>Predicted Label</th><th>Attribution Label</th><th>Attribution Score</th><th>Word Importance</th><tr><td><text style=\"padding-right:2em\"><b>1</b></text></td><td><text style=\"padding-right:2em\"><b>1 (1.00)</b></text></td><td><text style=\"padding-right:2em\"><b>I'm wondering if anyone here has thought about suicide methods that come close to killing you but can't.  I'm not ready to die but I want to hurt.  I want people to see physically how much I'm hurting emotionally.I've thought about jumping in front of cars or falling from non-lethal heights.  Those aren't the nicest methods but I'll go with them if I can't find a better one. i dont know the reason i started getting depressed.But now even the tiniest thing can drag me down easily, can you relate? Yeah i know what you mean, everything that happens even if it's just a little thing it brings me down even more even though I don't know why I feel the way I do in the first place. Also I usually try and force away friends/family because I feel I will just bring them down and I overly think about everything that happens everyday</b></text></td><td><text style=\"padding-right:2em\"><b>1.62</b></text></td><td><mark style=\"background-color: hsl(0, 75%, 100%); opacity:1.0;                     line-height:1.75\"><font color=\"black\"> [[post]]                    </font></mark><mark style=\"background-color: hsl(120, 75%, 93%); opacity:1.0;                     line-height:1.75\"><font color=\"black\"> So I made this account to ask a question about depression without my friends/family finding out about it, I have only talked to one person about how i feel ever but anyway. I was wondering if there was anyone else who can't understand why they are depressed, constantly for years now thinking of suicide and have tried but I don't understand why I am anymore, it's like i casually think to myself daily that I would rather just die, but why.. I can't talk about my \"problems\" because I don't know why im depressed anymore, is there anyone else with this same problem that they just don't know why anymore, they don't know why they are depressed or why they would rather be dead                    </font></mark><mark style=\"background-color: hsl(0, 75%, 100%); opacity:1.0;                     line-height:1.75\"><font color=\"black\"> [[comment]]                    </font></mark><mark style=\"background-color: hsl(120, 75%, 95%); opacity:1.0;                     line-height:1.75\"><font color=\"black\"> i dont know the reason i started getting depressed. But now even the tiniest thing can drag me down easily, can you relate?                    </font></mark><mark style=\"background-color: hsl(0, 75%, 100%); opacity:1.0;                     line-height:1.75\"><font color=\"black\"> [[reply]]                    </font></mark><mark style=\"background-color: hsl(120, 75%, 73%); opacity:1.0;                     line-height:1.75\"><font color=\"black\"> Yeah i know what you mean, everything that happens even if it's just a little thing it brings me down even more even though I don't know why I feel the way I do in the first place.                    </font></mark><mark style=\"background-color: hsl(120, 75%, 60%); opacity:1.0;                     line-height:1.75\"><font color=\"black\"> Also I usually try and force away friends/family because I feel I will just bring them down and I overly think about everything that happens everyday                    </font></mark></td><tr></table>"
      ],
      "text/plain": [
       "<IPython.core.display.HTML object>"
      ]
     },
     "metadata": {},
     "output_type": "display_data"
    },
    {
     "name": "stdout",
     "output_type": "stream",
     "text": [
      "tensor([ 0.0000, -0.0633, -0.0580,  0.1745,  0.0000, -0.2436,  0.0000,  0.4507,\n",
      "         0.5318,  0.5655,  0.3117])\n",
      "\u001b[1m Visualization For Score \u001b[0m\n"
     ]
    },
    {
     "data": {
      "text/html": [
       "<table width: 100%><div style=\"border-top: 1px solid; margin-top: 5px;             padding-top: 5px; display: inline-block\"><b>Legend: </b><span style=\"display: inline-block; width: 10px; height: 10px;                 border: 1px solid; background-color:                 hsl(0, 75%, 60%)\"></span> Negative  <span style=\"display: inline-block; width: 10px; height: 10px;                 border: 1px solid; background-color:                 hsl(0, 75%, 100%)\"></span> Neutral  <span style=\"display: inline-block; width: 10px; height: 10px;                 border: 1px solid; background-color:                 hsl(120, 75%, 50%)\"></span> Positive  </div><tr><th>True Label</th><th>Predicted Label</th><th>Attribution Label</th><th>Attribution Score</th><th>Word Importance</th><tr><td><text style=\"padding-right:2em\"><b>1</b></text></td><td><text style=\"padding-right:2em\"><b>1 (1.00)</b></text></td><td><text style=\"padding-right:2em\"><b>I'm wondering if anyone here has thought about suicide methods that come close to killing you but can't.  I'm not ready to die but I want to hurt.  I want people to see physically how much I'm hurting emotionally.I've thought about jumping in front of cars or falling from non-lethal heights.  Those aren't the nicest methods but I'll go with them if I can't find a better one. Talk to her about setting up an appointment for a therapist if she doesn't see one already. From there she can get a referral to a psychiatrist if the therapist believes that medication may be a worthwhile or needed addition to therapy sessions. We are trying to talk about it but it can be a touchy subject. I dont want to push her to talk as I am nit clear that she wants to. She has made an apoointment with the GP so we will see how that goes. Thanks for your advice.</b></text></td><td><text style=\"padding-right:2em\"><b>1.67</b></text></td><td><mark style=\"background-color: hsl(0, 75%, 100%); opacity:1.0;                     line-height:1.75\"><font color=\"black\"> [[post]]                    </font></mark><mark style=\"background-color: hsl(0, 75%, 98%); opacity:1.0;                     line-height:1.75\"><font color=\"black\">  2 years ago, our youngest daughter came into our lives. We have other children so we knew my wife had difficulty carrying to term. However, our youngest was born really early at 29 weeks.                    </font></mark><mark style=\"background-color: hsl(0, 75%, 98%); opacity:1.0;                     line-height:1.75\"><font color=\"black\">  She had to spend 6 weeks in NICU and had a few other issues. Thankfully, now she is absolutely fine. The experience of an emergency c section was v harrowing for both of us.                    </font></mark><mark style=\"background-color: hsl(120, 75%, 92%); opacity:1.0;                     line-height:1.75\"><font color=\"black\">  Understandably though the whole thing has hit her especially hard and I think she is really struggling to get back to her old self even now. Any advice on how I can support her through this?                    </font></mark><mark style=\"background-color: hsl(0, 75%, 100%); opacity:1.0;                     line-height:1.75\"><font color=\"black\"> [[comment]]                    </font></mark><mark style=\"background-color: hsl(0, 75%, 91%); opacity:1.0;                     line-height:1.75\"><font color=\"black\"> Talk to her about setting up an appointment for a therapist if she doesn't see one already. From there she can get a referral to a psychiatrist if the therapist believes that medication may be a worthwhile or needed addition to therapy sessions.                    </font></mark><mark style=\"background-color: hsl(0, 75%, 100%); opacity:1.0;                     line-height:1.75\"><font color=\"black\"> [[reply]]                    </font></mark><mark style=\"background-color: hsl(120, 75%, 78%); opacity:1.0;                     line-height:1.75\"><font color=\"black\"> We are trying to talk about it but it can be a touchy subject.                    </font></mark><mark style=\"background-color: hsl(120, 75%, 74%); opacity:1.0;                     line-height:1.75\"><font color=\"black\"> I dont want to push her to talk as I am nit clear that she wants to.                    </font></mark><mark style=\"background-color: hsl(120, 75%, 72%); opacity:1.0;                     line-height:1.75\"><font color=\"black\"> She has made an apoointment with the GP so we will see how that goes.                    </font></mark><mark style=\"background-color: hsl(120, 75%, 85%); opacity:1.0;                     line-height:1.75\"><font color=\"black\"> Thanks for your advice.                    </font></mark></td><tr></table>"
      ],
      "text/plain": [
       "<IPython.core.display.HTML object>"
      ]
     },
     "metadata": {},
     "output_type": "display_data"
    },
    {
     "name": "stdout",
     "output_type": "stream",
     "text": [
      "tensor([ 0.0000,  0.0848,  0.0000, -0.3782,  0.0000,  0.1535,  0.5190,  0.5366,\n",
      "         0.5186])\n",
      "\u001b[1m Visualization For Score \u001b[0m\n"
     ]
    },
    {
     "data": {
      "text/html": [
       "<table width: 100%><div style=\"border-top: 1px solid; margin-top: 5px;             padding-top: 5px; display: inline-block\"><b>Legend: </b><span style=\"display: inline-block; width: 10px; height: 10px;                 border: 1px solid; background-color:                 hsl(0, 75%, 60%)\"></span> Negative  <span style=\"display: inline-block; width: 10px; height: 10px;                 border: 1px solid; background-color:                 hsl(0, 75%, 100%)\"></span> Neutral  <span style=\"display: inline-block; width: 10px; height: 10px;                 border: 1px solid; background-color:                 hsl(120, 75%, 50%)\"></span> Positive  </div><tr><th>True Label</th><th>Predicted Label</th><th>Attribution Label</th><th>Attribution Score</th><th>Word Importance</th><tr><td><text style=\"padding-right:2em\"><b>1</b></text></td><td><text style=\"padding-right:2em\"><b>1 (1.00)</b></text></td><td><text style=\"padding-right:2em\"><b>I'm wondering if anyone here has thought about suicide methods that come close to killing you but can't.  I'm not ready to die but I want to hurt.  I want people to see physically how much I'm hurting emotionally.I've thought about jumping in front of cars or falling from non-lethal heights.  Those aren't the nicest methods but I'll go with them if I can't find a better one. I know this sounds stupid, but drinking tea calms me down. Also, you can practice deep breathing exercises. Meditation would also be good if you can do it. Can you call someone to talk to? Okay will do. I've been talking to my mom this whole experience.\n",
       "\n",
       "Been doing the deep breathing and meditation too, very hard. Not sure of the relief</b></text></td><td><text style=\"padding-right:2em\"><b>1.43</b></text></td><td><mark style=\"background-color: hsl(0, 75%, 100%); opacity:1.0;                     line-height:1.75\"><font color=\"black\"> [[post]]                    </font></mark><mark style=\"background-color: hsl(120, 75%, 96%); opacity:1.0;                     line-height:1.75\"><font color=\"black\"> I'm currently in the middle of a horrible manic bout of depressionIt was getting better last night, went to bed, and woke up with mind racing and horrible anxiety and nauseaIs there anything that can suppress the symptoms? I'm on day 3 of renewing prozac but I don't feel any good effects yet                    </font></mark><mark style=\"background-color: hsl(0, 75%, 100%); opacity:1.0;                     line-height:1.75\"><font color=\"black\"> [[comment]]                    </font></mark><mark style=\"background-color: hsl(0, 75%, 85%); opacity:1.0;                     line-height:1.75\"><font color=\"black\"> I know this sounds stupid, but drinking tea calms me down. Also, you can practice deep breathing exercises. Meditation would also be good if you can do it. Can you call someone to talk to?                    </font></mark><mark style=\"background-color: hsl(0, 75%, 100%); opacity:1.0;                     line-height:1.75\"><font color=\"black\"> [[reply]]                    </font></mark><mark style=\"background-color: hsl(120, 75%, 93%); opacity:1.0;                     line-height:1.75\"><font color=\"black\"> Okay will do.                    </font></mark><mark style=\"background-color: hsl(120, 75%, 75%); opacity:1.0;                     line-height:1.75\"><font color=\"black\"> I've been talking to my mom this whole experience.                    </font></mark><mark style=\"background-color: hsl(120, 75%, 74%); opacity:1.0;                     line-height:1.75\"><font color=\"black\"> \n",
       "\n",
       "Been doing the deep breathing and meditation too, very hard.                    </font></mark><mark style=\"background-color: hsl(120, 75%, 75%); opacity:1.0;                     line-height:1.75\"><font color=\"black\"> Not sure of the relief                    </font></mark></td><tr></table>"
      ],
      "text/plain": [
       "<IPython.core.display.HTML object>"
      ]
     },
     "metadata": {},
     "output_type": "display_data"
    },
    {
     "name": "stdout",
     "output_type": "stream",
     "text": [
      "tensor([ 0.0000, -0.2506,  0.1293,  0.0000,  0.0393,  0.0000,  0.4590,  0.8416])\n",
      "\u001b[1m Visualization For Score \u001b[0m\n"
     ]
    },
    {
     "data": {
      "text/html": [
       "<table width: 100%><div style=\"border-top: 1px solid; margin-top: 5px;             padding-top: 5px; display: inline-block\"><b>Legend: </b><span style=\"display: inline-block; width: 10px; height: 10px;                 border: 1px solid; background-color:                 hsl(0, 75%, 60%)\"></span> Negative  <span style=\"display: inline-block; width: 10px; height: 10px;                 border: 1px solid; background-color:                 hsl(0, 75%, 100%)\"></span> Neutral  <span style=\"display: inline-block; width: 10px; height: 10px;                 border: 1px solid; background-color:                 hsl(120, 75%, 50%)\"></span> Positive  </div><tr><th>True Label</th><th>Predicted Label</th><th>Attribution Label</th><th>Attribution Score</th><th>Word Importance</th><tr><td><text style=\"padding-right:2em\"><b>1</b></text></td><td><text style=\"padding-right:2em\"><b>1 (1.00)</b></text></td><td><text style=\"padding-right:2em\"><b>I'm wondering if anyone here has thought about suicide methods that come close to killing you but can't.  I'm not ready to die but I want to hurt.  I want people to see physically how much I'm hurting emotionally.I've thought about jumping in front of cars or falling from non-lethal heights.  Those aren't the nicest methods but I'll go with them if I can't find a better one. I haven't gone yet because I keep telling myself it might not be depression even though I really think it is. How does the doctor diagnose you? And what happens after that usually? They just give you a checklist and let you fill it out yourself. [Check this out](http://www.nhs.uk/Conditions/Depression/Pages/Symptoms.aspx)</b></text></td><td><text style=\"padding-right:2em\"><b>1.22</b></text></td><td><mark style=\"background-color: hsl(0, 75%, 100%); opacity:1.0;                     line-height:1.75\"><font color=\"black\"> [[post]]                    </font></mark><mark style=\"background-color: hsl(0, 75%, 90%); opacity:1.0;                     line-height:1.75\"><font color=\"black\">  I've wasted years of my life slogging along unhappily. All because i bought into the bullshit that I was just lazy, unambitious, making excuses and \"just not trying hard enough\".                    </font></mark><mark style=\"background-color: hsl(120, 75%, 94%); opacity:1.0;                     line-height:1.75\"><font color=\"black\">  Well, guess what, medication isn't just for loonies and weirdos, depression is a real thing and I NEED IT. ( medication that is)                    </font></mark><mark style=\"background-color: hsl(0, 75%, 100%); opacity:1.0;                     line-height:1.75\"><font color=\"black\"> [[comment]]                    </font></mark><mark style=\"background-color: hsl(120, 75%, 99%); opacity:1.0;                     line-height:1.75\"><font color=\"black\"> I haven't gone yet because I keep telling myself it might not be depression even though I really think it is. How does the doctor diagnose you? And what happens after that usually?                    </font></mark><mark style=\"background-color: hsl(0, 75%, 100%); opacity:1.0;                     line-height:1.75\"><font color=\"black\"> [[reply]]                    </font></mark><mark style=\"background-color: hsl(120, 75%, 78%); opacity:1.0;                     line-height:1.75\"><font color=\"black\"> They just give you a checklist and let you fill it out yourself. [                    </font></mark><mark style=\"background-color: hsl(120, 75%, 58%); opacity:1.0;                     line-height:1.75\"><font color=\"black\"> Check this out](http://www.nhs.uk/Conditions/Depression/Pages/Symptoms.aspx)                    </font></mark></td><tr></table>"
      ],
      "text/plain": [
       "<IPython.core.display.HTML object>"
      ]
     },
     "metadata": {},
     "output_type": "display_data"
    },
    {
     "name": "stdout",
     "output_type": "stream",
     "text": [
      "tensor([ 0.0000,  0.1209,  0.2438,  0.0000, -0.1223, -0.3518,  0.0000,  0.2478,\n",
      "         0.4301,  0.7354])\n",
      "\u001b[1m Visualization For Score \u001b[0m\n"
     ]
    },
    {
     "data": {
      "text/html": [
       "<table width: 100%><div style=\"border-top: 1px solid; margin-top: 5px;             padding-top: 5px; display: inline-block\"><b>Legend: </b><span style=\"display: inline-block; width: 10px; height: 10px;                 border: 1px solid; background-color:                 hsl(0, 75%, 60%)\"></span> Negative  <span style=\"display: inline-block; width: 10px; height: 10px;                 border: 1px solid; background-color:                 hsl(0, 75%, 100%)\"></span> Neutral  <span style=\"display: inline-block; width: 10px; height: 10px;                 border: 1px solid; background-color:                 hsl(120, 75%, 50%)\"></span> Positive  </div><tr><th>True Label</th><th>Predicted Label</th><th>Attribution Label</th><th>Attribution Score</th><th>Word Importance</th><tr><td><text style=\"padding-right:2em\"><b>1</b></text></td><td><text style=\"padding-right:2em\"><b>1 (1.00)</b></text></td><td><text style=\"padding-right:2em\"><b>I'm wondering if anyone here has thought about suicide methods that come close to killing you but can't.  I'm not ready to die but I want to hurt.  I want people to see physically how much I'm hurting emotionally.I've thought about jumping in front of cars or falling from non-lethal heights.  Those aren't the nicest methods but I'll go with them if I can't find a better one. Depression is negative thought. So yeah. Turn off your TV and video games. Those really, really do depress you.  Tv and video games i feel are one of the only fun things to do in my little town. The next best thing is a dog park down the street but thats about it. Also im not sure what you mean by tv and video games depressing you.</b></text></td><td><text style=\"padding-right:2em\"><b>1.30</b></text></td><td><mark style=\"background-color: hsl(0, 75%, 100%); opacity:1.0;                     line-height:1.75\"><font color=\"black\"> [[post]]                    </font></mark><mark style=\"background-color: hsl(120, 75%, 94%); opacity:1.0;                     line-height:1.75\"><font color=\"black\">  (Im on mobile pls forgive me for typos)When i was a younger kid (5-12) i was the happiest little thing ever and was so happy to just be out there and do things. Now i honest to god only feel sadness and anger.                    </font></mark><mark style=\"background-color: hsl(120, 75%, 88%); opacity:1.0;                     line-height:1.75\"><font color=\"black\">  I have decent parents that love me but i just dont feel like i belong with the people i hang out with. There happy and i put on a smile but i domt feel anything. Another thing is that i feel like no one in my friend group likes me. All the people that i have asked out have regected me and when ever i talk to people it feels like im in a different room looking in. Does deppresion grow on you or is this not depression?                    </font></mark><mark style=\"background-color: hsl(0, 75%, 100%); opacity:1.0;                     line-height:1.75\"><font color=\"black\"> [[comment]]                    </font></mark><mark style=\"background-color: hsl(0, 75%, 96%); opacity:1.0;                     line-height:1.75\"><font color=\"black\">  Depression is negative thought. So yeah.                    </font></mark><mark style=\"background-color: hsl(0, 75%, 86%); opacity:1.0;                     line-height:1.75\"><font color=\"black\">  Turn off your TV and video games. Those really, really do depress you.                    </font></mark><mark style=\"background-color: hsl(0, 75%, 100%); opacity:1.0;                     line-height:1.75\"><font color=\"black\"> [[reply]]                    </font></mark><mark style=\"background-color: hsl(120, 75%, 88%); opacity:1.0;                     line-height:1.75\"><font color=\"black\"> Tv and video games i feel are one of the only fun things to do in my little town.                    </font></mark><mark style=\"background-color: hsl(120, 75%, 79%); opacity:1.0;                     line-height:1.75\"><font color=\"black\"> The next best thing is a dog park down the street but thats about it.                    </font></mark><mark style=\"background-color: hsl(120, 75%, 64%); opacity:1.0;                     line-height:1.75\"><font color=\"black\"> Also im not sure what you mean by tv and video games depressing you.                    </font></mark></td><tr></table>"
      ],
      "text/plain": [
       "<IPython.core.display.HTML object>"
      ]
     },
     "metadata": {},
     "output_type": "display_data"
    },
    {
     "name": "stdout",
     "output_type": "stream",
     "text": [
      "tensor([ 0.0000,  0.0485,  0.0000, -0.1620, -0.0399,  0.0000,  0.5844,  0.5428,\n",
      "         0.5776])\n",
      "\u001b[1m Visualization For Score \u001b[0m\n"
     ]
    },
    {
     "data": {
      "text/html": [
       "<table width: 100%><div style=\"border-top: 1px solid; margin-top: 5px;             padding-top: 5px; display: inline-block\"><b>Legend: </b><span style=\"display: inline-block; width: 10px; height: 10px;                 border: 1px solid; background-color:                 hsl(0, 75%, 60%)\"></span> Negative  <span style=\"display: inline-block; width: 10px; height: 10px;                 border: 1px solid; background-color:                 hsl(0, 75%, 100%)\"></span> Neutral  <span style=\"display: inline-block; width: 10px; height: 10px;                 border: 1px solid; background-color:                 hsl(120, 75%, 50%)\"></span> Positive  </div><tr><th>True Label</th><th>Predicted Label</th><th>Attribution Label</th><th>Attribution Score</th><th>Word Importance</th><tr><td><text style=\"padding-right:2em\"><b>1</b></text></td><td><text style=\"padding-right:2em\"><b>1 (1.00)</b></text></td><td><text style=\"padding-right:2em\"><b>I'm wondering if anyone here has thought about suicide methods that come close to killing you but can't.  I'm not ready to die but I want to hurt.  I want people to see physically how much I'm hurting emotionally.I've thought about jumping in front of cars or falling from non-lethal heights.  Those aren't the nicest methods but I'll go with them if I can't find a better one. Well, you should tell those people that you don't like that. I do feel quite comforted when people say that to me. It's different for everyone. How would others know that you don't like it? You're right.\n",
       "But like I said, that was when I talked about my problems so problem solved I guess. Take care</b></text></td><td><text style=\"padding-right:2em\"><b>1.55</b></text></td><td><mark style=\"background-color: hsl(0, 75%, 100%); opacity:1.0;                     line-height:1.75\"><font color=\"black\"> [[post]]                    </font></mark><mark style=\"background-color: hsl(120, 75%, 98%); opacity:1.0;                     line-height:1.75\"><font color=\"black\"> I hate when people say \"you're not alone\"( back when I used to talk about my problems).Like I don't care if other people feel shitty too, is that supposed to make feel better? That just makes me feel worse if anything.                    </font></mark><mark style=\"background-color: hsl(0, 75%, 100%); opacity:1.0;                     line-height:1.75\"><font color=\"black\"> [[comment]]                    </font></mark><mark style=\"background-color: hsl(0, 75%, 94%); opacity:1.0;                     line-height:1.75\"><font color=\"black\">  Well, you should tell those people that you don't like that. I do feel quite comforted when people say that to me.                    </font></mark><mark style=\"background-color: hsl(0, 75%, 99%); opacity:1.0;                     line-height:1.75\"><font color=\"black\">  It's different for everyone. How would others know that you don't like it?                    </font></mark><mark style=\"background-color: hsl(0, 75%, 100%); opacity:1.0;                     line-height:1.75\"><font color=\"black\"> [[reply]]                    </font></mark><mark style=\"background-color: hsl(120, 75%, 71%); opacity:1.0;                     line-height:1.75\"><font color=\"black\"> You're right.                    </font></mark><mark style=\"background-color: hsl(120, 75%, 73%); opacity:1.0;                     line-height:1.75\"><font color=\"black\"> \n",
       "But like I said, that was when I talked about my problems so problem solved I guess.                    </font></mark><mark style=\"background-color: hsl(120, 75%, 72%); opacity:1.0;                     line-height:1.75\"><font color=\"black\"> Take care                    </font></mark></td><tr></table>"
      ],
      "text/plain": [
       "<IPython.core.display.HTML object>"
      ]
     },
     "metadata": {},
     "output_type": "display_data"
    },
    {
     "name": "stdout",
     "output_type": "stream",
     "text": [
      "tensor([ 0.0000,  0.3323,  0.3796,  0.0000, -0.1485,  0.0000,  0.3143,  0.7903])\n",
      "\u001b[1m Visualization For Score \u001b[0m\n"
     ]
    },
    {
     "data": {
      "text/html": [
       "<table width: 100%><div style=\"border-top: 1px solid; margin-top: 5px;             padding-top: 5px; display: inline-block\"><b>Legend: </b><span style=\"display: inline-block; width: 10px; height: 10px;                 border: 1px solid; background-color:                 hsl(0, 75%, 60%)\"></span> Negative  <span style=\"display: inline-block; width: 10px; height: 10px;                 border: 1px solid; background-color:                 hsl(0, 75%, 100%)\"></span> Neutral  <span style=\"display: inline-block; width: 10px; height: 10px;                 border: 1px solid; background-color:                 hsl(120, 75%, 50%)\"></span> Positive  </div><tr><th>True Label</th><th>Predicted Label</th><th>Attribution Label</th><th>Attribution Score</th><th>Word Importance</th><tr><td><text style=\"padding-right:2em\"><b>1</b></text></td><td><text style=\"padding-right:2em\"><b>1 (1.00)</b></text></td><td><text style=\"padding-right:2em\"><b>I'm wondering if anyone here has thought about suicide methods that come close to killing you but can't.  I'm not ready to die but I want to hurt.  I want people to see physically how much I'm hurting emotionally.I've thought about jumping in front of cars or falling from non-lethal heights.  Those aren't the nicest methods but I'll go with them if I can't find a better one. Delete Facebook if you can. It's pictures and moments people cherry pick out of their life, giving a false perception of their well being compared to yours.  I probably should really. No idea why I even use social media anymore (except reddit)</b></text></td><td><text style=\"padding-right:2em\"><b>1.67</b></text></td><td><mark style=\"background-color: hsl(0, 75%, 100%); opacity:1.0;                     line-height:1.75\"><font color=\"black\"> [[post]]                    </font></mark><mark style=\"background-color: hsl(120, 75%, 84%); opacity:1.0;                     line-height:1.75\"><font color=\"black\">  Hi guys. Ill keep it short and sweet.                    </font></mark><mark style=\"background-color: hsl(120, 75%, 82%); opacity:1.0;                     line-height:1.75\"><font color=\"black\">  I was depressed for years. Toxic relationship Gf of 6 years had her own problems but basically we broke up 2 months ago. My depression went away with her gone. Just saw a picture of her on social media (I forgot to delete one of her friends) and I feel like im going to slip back into depression :(Does anybody else feel like one event can send you into a chain of rockslides?I want to prevent one but I dont know how...                    </font></mark><mark style=\"background-color: hsl(0, 75%, 100%); opacity:1.0;                     line-height:1.75\"><font color=\"black\"> [[comment]]                    </font></mark><mark style=\"background-color: hsl(0, 75%, 95%); opacity:1.0;                     line-height:1.75\"><font color=\"black\"> Delete Facebook if you can. It's pictures and moments people cherry pick out of their life, giving a false perception of their well being compared to yours.                    </font></mark><mark style=\"background-color: hsl(0, 75%, 100%); opacity:1.0;                     line-height:1.75\"><font color=\"black\"> [[reply]]                    </font></mark><mark style=\"background-color: hsl(120, 75%, 85%); opacity:1.0;                     line-height:1.75\"><font color=\"black\"> I probably should really.                    </font></mark><mark style=\"background-color: hsl(120, 75%, 61%); opacity:1.0;                     line-height:1.75\"><font color=\"black\"> No idea why I even use social media anymore (except reddit)                    </font></mark></td><tr></table>"
      ],
      "text/plain": [
       "<IPython.core.display.HTML object>"
      ]
     },
     "metadata": {},
     "output_type": "display_data"
    },
    {
     "name": "stdout",
     "output_type": "stream",
     "text": [
      "tensor([ 0.0000, -0.0357,  0.0035,  0.0633,  0.0531,  0.0000,  0.0630,  0.0000,\n",
      "         0.5894,  0.8003])\n",
      "\u001b[1m Visualization For Score \u001b[0m\n"
     ]
    },
    {
     "data": {
      "text/html": [
       "<table width: 100%><div style=\"border-top: 1px solid; margin-top: 5px;             padding-top: 5px; display: inline-block\"><b>Legend: </b><span style=\"display: inline-block; width: 10px; height: 10px;                 border: 1px solid; background-color:                 hsl(0, 75%, 60%)\"></span> Negative  <span style=\"display: inline-block; width: 10px; height: 10px;                 border: 1px solid; background-color:                 hsl(0, 75%, 100%)\"></span> Neutral  <span style=\"display: inline-block; width: 10px; height: 10px;                 border: 1px solid; background-color:                 hsl(120, 75%, 50%)\"></span> Positive  </div><tr><th>True Label</th><th>Predicted Label</th><th>Attribution Label</th><th>Attribution Score</th><th>Word Importance</th><tr><td><text style=\"padding-right:2em\"><b>1</b></text></td><td><text style=\"padding-right:2em\"><b>1 (1.00)</b></text></td><td><text style=\"padding-right:2em\"><b>I'm wondering if anyone here has thought about suicide methods that come close to killing you but can't.  I'm not ready to die but I want to hurt.  I want people to see physically how much I'm hurting emotionally.I've thought about jumping in front of cars or falling from non-lethal heights.  Those aren't the nicest methods but I'll go with them if I can't find a better one. Did she say anything about it, what'd she say? She said it frustrated her when I would question how much she loved me. She also said a few other things that she never really brought up to me like how she hated that I would ask for sexy talk when I was stressed and about how long she had been questioning our relationship for</b></text></td><td><text style=\"padding-right:2em\"><b>1.54</b></text></td><td><mark style=\"background-color: hsl(0, 75%, 100%); opacity:1.0;                     line-height:1.75\"><font color=\"black\"> [[post]]                    </font></mark><mark style=\"background-color: hsl(0, 75%, 99%); opacity:1.0;                     line-height:1.75\"><font color=\"black\">  My girlfriend of 7 months broke up with me last week and my appetite and sleep has declined so much. I didnt eat for 24 hours after she told me. I felt like I would puke when I did eat.                    </font></mark><mark style=\"background-color: hsl(120, 75%, 100%); opacity:1.0;                     line-height:1.75\"><font color=\"black\">  She broke up with me because i overshared a lot with her, as i have bipolar disorder and i freaked out a lot. She said she would stay and help me through it, but it ended up being too much for her while doing college and being away from me in a long distance relationship.                    </font></mark><mark style=\"background-color: hsl(120, 75%, 97%); opacity:1.0;                     line-height:1.75\"><font color=\"black\">  I know that we can make it work, because we love each other, but I dont know how in the world I can get her back. I want to let her know that I'm done with oversharing with her and I'm done questioning when I freak out, but I dont want to hurt her again if we do get back together.                    </font></mark><mark style=\"background-color: hsl(120, 75%, 98%); opacity:1.0;                     line-height:1.75\"><font color=\"black\">  She was unhappy but she still stuck beside me when I lost it. I know she loved me so much but I just don't know how i can ever get her to try with me again                    </font></mark><mark style=\"background-color: hsl(0, 75%, 100%); opacity:1.0;                     line-height:1.75\"><font color=\"black\"> [[comment]]                    </font></mark><mark style=\"background-color: hsl(120, 75%, 97%); opacity:1.0;                     line-height:1.75\"><font color=\"black\"> Did she say anything about it, what'd she say?                    </font></mark><mark style=\"background-color: hsl(0, 75%, 100%); opacity:1.0;                     line-height:1.75\"><font color=\"black\"> [[reply]]                    </font></mark><mark style=\"background-color: hsl(120, 75%, 71%); opacity:1.0;                     line-height:1.75\"><font color=\"black\"> She said it frustrated her when I would question how much she loved me.                    </font></mark><mark style=\"background-color: hsl(120, 75%, 60%); opacity:1.0;                     line-height:1.75\"><font color=\"black\"> She also said a few other things that she never really brought up to me like how she hated that I would ask for sexy talk when I was stressed and about how long she had been questioning our relationship for                    </font></mark></td><tr></table>"
      ],
      "text/plain": [
       "<IPython.core.display.HTML object>"
      ]
     },
     "metadata": {},
     "output_type": "display_data"
    },
    {
     "name": "stdout",
     "output_type": "stream",
     "text": [
      "tensor([ 0.0000, -0.0976,  0.0580, -0.0128,  0.0728,  0.2468,  0.0000, -0.1105,\n",
      "        -0.1917,  0.0000,  0.3114,  0.4805,  0.6048,  0.4221])\n",
      "\u001b[1m Visualization For Score \u001b[0m\n"
     ]
    },
    {
     "data": {
      "text/html": [
       "<table width: 100%><div style=\"border-top: 1px solid; margin-top: 5px;             padding-top: 5px; display: inline-block\"><b>Legend: </b><span style=\"display: inline-block; width: 10px; height: 10px;                 border: 1px solid; background-color:                 hsl(0, 75%, 60%)\"></span> Negative  <span style=\"display: inline-block; width: 10px; height: 10px;                 border: 1px solid; background-color:                 hsl(0, 75%, 100%)\"></span> Neutral  <span style=\"display: inline-block; width: 10px; height: 10px;                 border: 1px solid; background-color:                 hsl(120, 75%, 50%)\"></span> Positive  </div><tr><th>True Label</th><th>Predicted Label</th><th>Attribution Label</th><th>Attribution Score</th><th>Word Importance</th><tr><td><text style=\"padding-right:2em\"><b>1</b></text></td><td><text style=\"padding-right:2em\"><b>1 (1.00)</b></text></td><td><text style=\"padding-right:2em\"><b>I'm wondering if anyone here has thought about suicide methods that come close to killing you but can't.  I'm not ready to die but I want to hurt.  I want people to see physically how much I'm hurting emotionally.I've thought about jumping in front of cars or falling from non-lethal heights.  Those aren't the nicest methods but I'll go with them if I can't find a better one. You have a lot to deal with so concentrate on one thing at a time, when you get to work just focus on work, be the best worker you can be. Do not attempt to even think about anything else. For example when I scan or photocopy something at work I simply which the pages run through the autofeeder one at a time and I don't think about anything else. I know it sounds kinda stupid but it helps me stay calm and relaxed as I am too focused to worry about anything. I know you're right. And I know work would probably help, but I'm at a point where I just don't care anymore. About anything. And that scares me. </b></text></td><td><text style=\"padding-right:2em\"><b>1.78</b></text></td><td><mark style=\"background-color: hsl(0, 75%, 100%); opacity:1.0;                     line-height:1.75\"><font color=\"black\"> [[post]]                    </font></mark><mark style=\"background-color: hsl(0, 75%, 97%); opacity:1.0;                     line-height:1.75\"><font color=\"black\">  So my girlfriend of four years just broke up with me last night... We lived together and everything for about three years. I'm so torn up.                    </font></mark><mark style=\"background-color: hsl(120, 75%, 98%); opacity:1.0;                     line-height:1.75\"><font color=\"black\">  Idk how I'm going to get through this. I've even contemplated suicide but I know that's not the right answer. It just hurts so much and idk what to do. We built a life together and now it's all tumbling down before me.                    </font></mark><mark style=\"background-color: hsl(0, 75%, 100%); opacity:1.0;                     line-height:1.75\"><font color=\"black\">  Every where I look I see her. She still hasn't gotten all her stuff out yet.                    </font></mark><mark style=\"background-color: hsl(120, 75%, 97%); opacity:1.0;                     line-height:1.75\"><font color=\"black\">  I just got a new job last week and now I just want to quit and sulk at home. I know it would only make things worse but idk how I'm going to be able to get through my shifts without crying all the time.                    </font></mark><mark style=\"background-color: hsl(120, 75%, 88%); opacity:1.0;                     line-height:1.75\"><font color=\"black\">  Please help me. What do I do?                    </font></mark><mark style=\"background-color: hsl(0, 75%, 100%); opacity:1.0;                     line-height:1.75\"><font color=\"black\"> [[comment]]                    </font></mark><mark style=\"background-color: hsl(0, 75%, 96%); opacity:1.0;                     line-height:1.75\"><font color=\"black\">  You have a lot to deal with so concentrate on one thing at a time, when you get to work just focus on work, be the best worker you can be. Do not attempt to even think about anything else.                    </font></mark><mark style=\"background-color: hsl(0, 75%, 93%); opacity:1.0;                     line-height:1.75\"><font color=\"black\">  For example when I scan or photocopy something at work I simply which the pages run through the autofeeder one at a time and I don't think about anything else. I know it sounds kinda stupid but it helps me stay calm and relaxed as I am too focused to worry about anything.                    </font></mark><mark style=\"background-color: hsl(0, 75%, 100%); opacity:1.0;                     line-height:1.75\"><font color=\"black\"> [[reply]]                    </font></mark><mark style=\"background-color: hsl(120, 75%, 85%); opacity:1.0;                     line-height:1.75\"><font color=\"black\"> I know you're right.                    </font></mark><mark style=\"background-color: hsl(120, 75%, 76%); opacity:1.0;                     line-height:1.75\"><font color=\"black\"> And I know work would probably help, but I'm at a point where I just don't care anymore.                    </font></mark><mark style=\"background-color: hsl(120, 75%, 70%); opacity:1.0;                     line-height:1.75\"><font color=\"black\"> About anything.                    </font></mark><mark style=\"background-color: hsl(120, 75%, 79%); opacity:1.0;                     line-height:1.75\"><font color=\"black\"> And that scares me.                    </font></mark></td><tr></table>"
      ],
      "text/plain": [
       "<IPython.core.display.HTML object>"
      ]
     },
     "metadata": {},
     "output_type": "display_data"
    },
    {
     "name": "stdout",
     "output_type": "stream",
     "text": [
      "tensor([ 0.0000, -0.0115, -0.0430,  0.0000, -0.1222,  0.0000,  0.5609,  0.8176])\n",
      "\u001b[1m Visualization For Score \u001b[0m\n"
     ]
    },
    {
     "data": {
      "text/html": [
       "<table width: 100%><div style=\"border-top: 1px solid; margin-top: 5px;             padding-top: 5px; display: inline-block\"><b>Legend: </b><span style=\"display: inline-block; width: 10px; height: 10px;                 border: 1px solid; background-color:                 hsl(0, 75%, 60%)\"></span> Negative  <span style=\"display: inline-block; width: 10px; height: 10px;                 border: 1px solid; background-color:                 hsl(0, 75%, 100%)\"></span> Neutral  <span style=\"display: inline-block; width: 10px; height: 10px;                 border: 1px solid; background-color:                 hsl(120, 75%, 50%)\"></span> Positive  </div><tr><th>True Label</th><th>Predicted Label</th><th>Attribution Label</th><th>Attribution Score</th><th>Word Importance</th><tr><td><text style=\"padding-right:2em\"><b>1</b></text></td><td><text style=\"padding-right:2em\"><b>1 (1.00)</b></text></td><td><text style=\"padding-right:2em\"><b>I'm wondering if anyone here has thought about suicide methods that come close to killing you but can't.  I'm not ready to die but I want to hurt.  I want people to see physically how much I'm hurting emotionally.I've thought about jumping in front of cars or falling from non-lethal heights.  Those aren't the nicest methods but I'll go with them if I can't find a better one. Same shit I can make an example with video gamesLong time ago I was able to remember anything about a game I liked. Story , buttons , gameplay, dialogue Now ... even if I just finish the best game ever I couldnât remember anything about it just after 2/3 days.The same happens for other aspects of my life Itâs like a heavy fog in the brain. So, I expierience this with media too, but I always remember the plot points and stuff like that, I just forget any enjoyment I ever got out of it. So I can never enjoy a piece of media or reminisce on it. </b></text></td><td><text style=\"padding-right:2em\"><b>1.20</b></text></td><td><mark style=\"background-color: hsl(0, 75%, 100%); opacity:1.0;                     line-height:1.75\"><font color=\"black\"> [[post]]                    </font></mark><mark style=\"background-color: hsl(0, 75%, 100%); opacity:1.0;                     line-height:1.75\"><font color=\"black\">  Hey guys, I was looking through this sub and I came across a throwaway addition to a comment someone left and it got me thinking. I have noticed that my memory is completely trash and I feel like it is almost getting worse. I was wondering if any of you struggle with your memory. I have been struggling with depression for a very long time and I would say it went up exponentially a few years ago to even itself out a little more in the last couple of years, but my memory is still horrible.                    </font></mark><mark style=\"background-color: hsl(0, 75%, 99%); opacity:1.0;                     line-height:1.75\"><font color=\"black\">  I am not only talking about my longterm or even daily memory, I am also talking about losing myself in the middle of a conversation. I just talk or go to make a point and I am lost for any clue of where I was going with it. I genuinely feel like I am getting more and more stupid with the passing years.                    </font></mark><mark style=\"background-color: hsl(0, 75%, 100%); opacity:1.0;                     line-height:1.75\"><font color=\"black\"> [[comment]]                    </font></mark><mark style=\"background-color: hsl(0, 75%, 96%); opacity:1.0;                     line-height:1.75\"><font color=\"black\"> Same shit I can make an example with video gamesLong time ago I was able to remember anything about a game I liked. Story , buttons , gameplay, dialogue Now ... even if I just finish the best game ever I couldnât remember anything about it just after 2/3 days. The same happens for other aspects of my life Itâs like a heavy fog in the brain.                    </font></mark><mark style=\"background-color: hsl(0, 75%, 100%); opacity:1.0;                     line-height:1.75\"><font color=\"black\"> [[reply]]                    </font></mark><mark style=\"background-color: hsl(120, 75%, 72%); opacity:1.0;                     line-height:1.75\"><font color=\"black\"> So, I expierience this with media too, but I always remember the plot points and stuff like that, I just forget any enjoyment I ever got out of it.                    </font></mark><mark style=\"background-color: hsl(120, 75%, 60%); opacity:1.0;                     line-height:1.75\"><font color=\"black\"> So I can never enjoy a piece of media or reminisce on it.                    </font></mark></td><tr></table>"
      ],
      "text/plain": [
       "<IPython.core.display.HTML object>"
      ]
     },
     "metadata": {},
     "output_type": "display_data"
    },
    {
     "name": "stdout",
     "output_type": "stream",
     "text": [
      "tensor([ 0.0000, -0.1527,  0.0530,  0.1283,  0.1954,  0.0000, -0.1884,  0.0000,\n",
      "         0.3220,  0.4589,  0.5832,  0.3728,  0.3004])\n",
      "\u001b[1m Visualization For Score \u001b[0m\n"
     ]
    },
    {
     "data": {
      "text/html": [
       "<table width: 100%><div style=\"border-top: 1px solid; margin-top: 5px;             padding-top: 5px; display: inline-block\"><b>Legend: </b><span style=\"display: inline-block; width: 10px; height: 10px;                 border: 1px solid; background-color:                 hsl(0, 75%, 60%)\"></span> Negative  <span style=\"display: inline-block; width: 10px; height: 10px;                 border: 1px solid; background-color:                 hsl(0, 75%, 100%)\"></span> Neutral  <span style=\"display: inline-block; width: 10px; height: 10px;                 border: 1px solid; background-color:                 hsl(120, 75%, 50%)\"></span> Positive  </div><tr><th>True Label</th><th>Predicted Label</th><th>Attribution Label</th><th>Attribution Score</th><th>Word Importance</th><tr><td><text style=\"padding-right:2em\"><b>1</b></text></td><td><text style=\"padding-right:2em\"><b>1 (1.00)</b></text></td><td><text style=\"padding-right:2em\"><b>I'm wondering if anyone here has thought about suicide methods that come close to killing you but can't.  I'm not ready to die but I want to hurt.  I want people to see physically how much I'm hurting emotionally.I've thought about jumping in front of cars or falling from non-lethal heights.  Those aren't the nicest methods but I'll go with them if I can't find a better one. Have you tried talking to a doctor about this? It could be that you have something else that is affecting your behavior like this that isn't depression. I hope you feel better soon! I haven't talked to a doctor. It is possible that this isn't depression, but it kinda feels like it. What's irritating is that I really don't know what's wrong with me, I just know there is something wrong with me. \n",
       "\n",
       "And As nice as your hopes are, I won't feel better any time soon. I know that i'm being a big debbie downer, but at least I'm doing it in an appropriate place.</b></text></td><td><text style=\"padding-right:2em\"><b>2.07</b></text></td><td><mark style=\"background-color: hsl(0, 75%, 100%); opacity:1.0;                     line-height:1.75\"><font color=\"black\"> [[post]]                    </font></mark><mark style=\"background-color: hsl(0, 75%, 94%); opacity:1.0;                     line-height:1.75\"><font color=\"black\">  I know that seems like a stupid question, but I feel like I'm really not worth it. I don't even know if I have depression, but I do feel empty most of the time. I also know that I'm a bad human being, and that isn't depression talking, that's just common sense. I know it seems like this is a scenario where my lack of insight is clouding my judgement of myself, but my insight is crystal clear.                    </font></mark><mark style=\"background-color: hsl(120, 75%, 98%); opacity:1.0;                     line-height:1.75\"><font color=\"black\">  On top of this I believe I'm losing my mind. Somebody will tell me something and then I'll forget it a few seconds later, or I won't be able to connect to things. Kinda like having a conversation like:**Friend:** We had pizza for dinner last night.**Me:** Sounds good, what'd you have?I think I might be retarded or something.                    </font></mark><mark style=\"background-color: hsl(120, 75%, 94%); opacity:1.0;                     line-height:1.75\"><font color=\"black\">  No matter how hard I try I can't stop being creepy. And that example of a conversation, while accurate to my horrible social skills, may make someone think I actually have friends, which I don't. Which is relevant because I'm not sure if I'm stupid or just have really bad social skills.                    </font></mark><mark style=\"background-color: hsl(120, 75%, 91%); opacity:1.0;                     line-height:1.75\"><font color=\"black\">  I'm just getting tired of being called \"creepy\". I hear that word more than I hear my own name.                    </font></mark><mark style=\"background-color: hsl(0, 75%, 100%); opacity:1.0;                     line-height:1.75\"><font color=\"black\"> [[comment]]                    </font></mark><mark style=\"background-color: hsl(0, 75%, 93%); opacity:1.0;                     line-height:1.75\"><font color=\"black\"> Have you tried talking to a doctor about this? It could be that you have something else that is affecting your behavior like this that isn't depression. I hope you feel better soon!                    </font></mark><mark style=\"background-color: hsl(0, 75%, 100%); opacity:1.0;                     line-height:1.75\"><font color=\"black\"> [[reply]]                    </font></mark><mark style=\"background-color: hsl(120, 75%, 84%); opacity:1.0;                     line-height:1.75\"><font color=\"black\"> I haven't talked to a doctor.                    </font></mark><mark style=\"background-color: hsl(120, 75%, 78%); opacity:1.0;                     line-height:1.75\"><font color=\"black\"> It is possible that this isn't depression, but it kinda feels like it.                    </font></mark><mark style=\"background-color: hsl(120, 75%, 71%); opacity:1.0;                     line-height:1.75\"><font color=\"black\"> What's irritating is that I really don't know what's wrong with me, I just know there is something wrong with me.                    </font></mark><mark style=\"background-color: hsl(120, 75%, 82%); opacity:1.0;                     line-height:1.75\"><font color=\"black\"> \n",
       "\n",
       "And As nice as your hopes are, I won't feel better any time soon.                    </font></mark><mark style=\"background-color: hsl(120, 75%, 85%); opacity:1.0;                     line-height:1.75\"><font color=\"black\"> I know that i'm being a big debbie downer, but at least I'm doing it in an appropriate place.                    </font></mark></td><tr></table>"
      ],
      "text/plain": [
       "<IPython.core.display.HTML object>"
      ]
     },
     "metadata": {},
     "output_type": "display_data"
    },
    {
     "name": "stdout",
     "output_type": "stream",
     "text": [
      "tensor([ 0.0000,  0.1460,  0.0000, -0.0309,  0.0000,  0.8433,  0.5163])\n",
      "\u001b[1m Visualization For Score \u001b[0m\n"
     ]
    },
    {
     "data": {
      "text/html": [
       "<table width: 100%><div style=\"border-top: 1px solid; margin-top: 5px;             padding-top: 5px; display: inline-block\"><b>Legend: </b><span style=\"display: inline-block; width: 10px; height: 10px;                 border: 1px solid; background-color:                 hsl(0, 75%, 60%)\"></span> Negative  <span style=\"display: inline-block; width: 10px; height: 10px;                 border: 1px solid; background-color:                 hsl(0, 75%, 100%)\"></span> Neutral  <span style=\"display: inline-block; width: 10px; height: 10px;                 border: 1px solid; background-color:                 hsl(120, 75%, 50%)\"></span> Positive  </div><tr><th>True Label</th><th>Predicted Label</th><th>Attribution Label</th><th>Attribution Score</th><th>Word Importance</th><tr><td><text style=\"padding-right:2em\"><b>2</b></text></td><td><text style=\"padding-right:2em\"><b>2 (1.00)</b></text></td><td><text style=\"padding-right:2em\"><b>I'm wondering if anyone here has thought about suicide methods that come close to killing you but can't.  I'm not ready to die but I want to hurt.  I want people to see physically how much I'm hurting emotionally.I've thought about jumping in front of cars or falling from non-lethal heights.  Those aren't the nicest methods but I'll go with them if I can't find a better one. Thank u too, for well,.... listening. Even tho its a small thing,for many of us ( specifically me) means a lot * Sincere pet on the shoulder*\n",
       "\n",
       "Ey, you're welcome. :)\n",
       "\n",
       "</b></text></td><td><text style=\"padding-right:2em\"><b>1.47</b></text></td><td><mark style=\"background-color: hsl(0, 75%, 100%); opacity:1.0;                     line-height:1.75\"><font color=\"black\"> [[post]]                    </font></mark><mark style=\"background-color: hsl(120, 75%, 93%); opacity:1.0;                     line-height:1.75\"><font color=\"black\"> I have been doing some experiments with being a bit extra open to my surroundings the last few years..But by getting to know new people lately I find myself misjudging my \"expertise\".                    </font></mark><mark style=\"background-color: hsl(0, 75%, 100%); opacity:1.0;                     line-height:1.75\"><font color=\"black\"> [[comment]]                    </font></mark><mark style=\"background-color: hsl(0, 75%, 99%); opacity:1.0;                     line-height:1.75\"><font color=\"black\"> Thank u too, for well,.... listening. Even tho its a small thing,for many of us ( specifically me) means a lot                    </font></mark><mark style=\"background-color: hsl(0, 75%, 100%); opacity:1.0;                     line-height:1.75\"><font color=\"black\"> [[reply]]                    </font></mark><mark style=\"background-color: hsl(120, 75%, 58%); opacity:1.0;                     line-height:1.75\"><font color=\"black\"> * Sincere pet on the shoulder*\n",
       "\n",
       "Ey, you're welcome. :)                    </font></mark><mark style=\"background-color: hsl(120, 75%, 75%); opacity:1.0;                     line-height:1.75\"><font color=\"black\"> \n",
       "\n",
       "                    </font></mark></td><tr></table>"
      ],
      "text/plain": [
       "<IPython.core.display.HTML object>"
      ]
     },
     "metadata": {},
     "output_type": "display_data"
    },
    {
     "name": "stdout",
     "output_type": "stream",
     "text": [
      "tensor([ 0.0000,  0.0348,  0.0421, -0.0080,  0.0095, -0.0431,  0.0000, -0.3536,\n",
      "         0.0000,  0.4402,  0.2149,  0.4825,  0.6303])\n",
      "\u001b[1m Visualization For Score \u001b[0m\n"
     ]
    },
    {
     "data": {
      "text/html": [
       "<table width: 100%><div style=\"border-top: 1px solid; margin-top: 5px;             padding-top: 5px; display: inline-block\"><b>Legend: </b><span style=\"display: inline-block; width: 10px; height: 10px;                 border: 1px solid; background-color:                 hsl(0, 75%, 60%)\"></span> Negative  <span style=\"display: inline-block; width: 10px; height: 10px;                 border: 1px solid; background-color:                 hsl(0, 75%, 100%)\"></span> Neutral  <span style=\"display: inline-block; width: 10px; height: 10px;                 border: 1px solid; background-color:                 hsl(120, 75%, 50%)\"></span> Positive  </div><tr><th>True Label</th><th>Predicted Label</th><th>Attribution Label</th><th>Attribution Score</th><th>Word Importance</th><tr><td><text style=\"padding-right:2em\"><b>2</b></text></td><td><text style=\"padding-right:2em\"><b>2 (1.00)</b></text></td><td><text style=\"padding-right:2em\"><b>I'm wondering if anyone here has thought about suicide methods that come close to killing you but can't.  I'm not ready to die but I want to hurt.  I want people to see physically how much I'm hurting emotionally.I've thought about jumping in front of cars or falling from non-lethal heights.  Those aren't the nicest methods but I'll go with them if I can't find a better one. I think you should look for the types of jobs that you think you can handle. I learned that I can't handle retail, and I probably can't handle restaurant work, so I'm looking for office jobs. Thank you for replying. I've often thought an office job would be a good fit for me too. I think I will try something of that nature. Thanks again. </b></text></td><td><text style=\"padding-right:2em\"><b>1.45</b></text></td><td><mark style=\"background-color: hsl(0, 75%, 100%); opacity:1.0;                     line-height:1.75\"><font color=\"black\"> [[post]]                    </font></mark><mark style=\"background-color: hsl(120, 75%, 99%); opacity:1.0;                     line-height:1.75\"><font color=\"black\">  I've been suffering with anxiety and depression for the past couple of years. Since April I have been dealing with bouts of derealization caused by anxiety.                    </font></mark><mark style=\"background-color: hsl(120, 75%, 98%); opacity:1.0;                     line-height:1.75\"><font color=\"black\">  I quit my job in April and have yet to find a new job that I feel comfortable with. I went to therapy for a while and that helped a decent amount, offering me new insight on my problems.                    </font></mark><mark style=\"background-color: hsl(0, 75%, 100%); opacity:1.0;                     line-height:1.75\"><font color=\"black\">  I worked on an assembly line two months ago for only two days before quitting. I am ashamed and feel like I am just being lazy, and letting my fear overcome my work ethic.                    </font></mark><mark style=\"background-color: hsl(120, 75%, 100%); opacity:1.0;                     line-height:1.75\"><font color=\"black\">  I am wondering from all of your experiences, if you could offer advice or guidance towards a specific line of work that I should pursue to help me get back on my feet. I think restaurant work would destroy me. My old job was retail.                    </font></mark><mark style=\"background-color: hsl(0, 75%, 99%); opacity:1.0;                     line-height:1.75\"><font color=\"black\">  I am 80% recovered in regards to the derealization. But I have a huge fear of it interrupting my life at unpredictable times. ANY advice would be much appreciated. Am I just a lazy asshole dreading work, or do you think this is related to the depression/anxiety? How do I push through it all and stay calm?                    </font></mark><mark style=\"background-color: hsl(0, 75%, 100%); opacity:1.0;                     line-height:1.75\"><font color=\"black\"> [[comment]]                    </font></mark><mark style=\"background-color: hsl(0, 75%, 86%); opacity:1.0;                     line-height:1.75\"><font color=\"black\"> I think you should look for the types of jobs that you think you can handle. I learned that I can't handle retail, and I probably can't handle restaurant work, so I'm looking for office jobs.                    </font></mark><mark style=\"background-color: hsl(0, 75%, 100%); opacity:1.0;                     line-height:1.75\"><font color=\"black\"> [[reply]]                    </font></mark><mark style=\"background-color: hsl(120, 75%, 78%); opacity:1.0;                     line-height:1.75\"><font color=\"black\"> Thank you for replying.                    </font></mark><mark style=\"background-color: hsl(120, 75%, 90%); opacity:1.0;                     line-height:1.75\"><font color=\"black\"> I've often thought an office job would be a good fit for me too.                    </font></mark><mark style=\"background-color: hsl(120, 75%, 76%); opacity:1.0;                     line-height:1.75\"><font color=\"black\"> I think I will try something of that nature.                    </font></mark><mark style=\"background-color: hsl(120, 75%, 69%); opacity:1.0;                     line-height:1.75\"><font color=\"black\"> Thanks again.                    </font></mark></td><tr></table>"
      ],
      "text/plain": [
       "<IPython.core.display.HTML object>"
      ]
     },
     "metadata": {},
     "output_type": "display_data"
    },
    {
     "name": "stdout",
     "output_type": "stream",
     "text": [
      "tensor([ 0.0000,  0.1615,  0.0520,  0.1987,  0.0000,  0.0597, -0.0065,  0.1518,\n",
      "         0.0000,  0.5438, -0.1622,  0.4657,  0.6051])\n",
      "\u001b[1m Visualization For Score \u001b[0m\n"
     ]
    },
    {
     "data": {
      "text/html": [
       "<table width: 100%><div style=\"border-top: 1px solid; margin-top: 5px;             padding-top: 5px; display: inline-block\"><b>Legend: </b><span style=\"display: inline-block; width: 10px; height: 10px;                 border: 1px solid; background-color:                 hsl(0, 75%, 60%)\"></span> Negative  <span style=\"display: inline-block; width: 10px; height: 10px;                 border: 1px solid; background-color:                 hsl(0, 75%, 100%)\"></span> Neutral  <span style=\"display: inline-block; width: 10px; height: 10px;                 border: 1px solid; background-color:                 hsl(120, 75%, 50%)\"></span> Positive  </div><tr><th>True Label</th><th>Predicted Label</th><th>Attribution Label</th><th>Attribution Score</th><th>Word Importance</th><tr><td><text style=\"padding-right:2em\"><b>2</b></text></td><td><text style=\"padding-right:2em\"><b>2 (1.00)</b></text></td><td><text style=\"padding-right:2em\"><b>I'm wondering if anyone here has thought about suicide methods that come close to killing you but can't.  I'm not ready to die but I want to hurt.  I want people to see physically how much I'm hurting emotionally.I've thought about jumping in front of cars or falling from non-lethal heights.  Those aren't the nicest methods but I'll go with them if I can't find a better one. Yeah, I get more suicidal thoughts at night too. Pretty common. It might bd wortn starting a thread and asking for some second hand wisdom from people whove had therapy, etc. Ive been under \"care\" for a few months. I could pass on some of the \"guidance\" Ive received if it would be remotely helpful.St Johns Wort is a natural anti-depressant you can buy over the counter. Its helped me in the past. It may help balance your mood a little. I'll look for that, hopefully we get it here. As for the wanting to die, it's not wanting to commit suicide but more of just not wanting to feel lile this. I'm not sure if that makes sense but it's the best i can explain it. But any guidance is helpful :)</b></text></td><td><text style=\"padding-right:2em\"><b>2.07</b></text></td><td><mark style=\"background-color: hsl(0, 75%, 100%); opacity:1.0;                     line-height:1.75\"><font color=\"black\"> [[post]]                    </font></mark><mark style=\"background-color: hsl(120, 75%, 92%); opacity:1.0;                     line-height:1.75\"><font color=\"black\">  I am depressed. I have been for 6 years.                    </font></mark><mark style=\"background-color: hsl(120, 75%, 98%); opacity:1.0;                     line-height:1.75\"><font color=\"black\">  But i somehow feel selfish for not going to a doctor. I experience everything you guys do, and I've thought of and attempted suicide. I feel alone and wishing for death. But is it selfish of me for telling myself I'm depressed even though I haven't been diagnosed?I want your honest opinion.                    </font></mark><mark style=\"background-color: hsl(120, 75%, 91%); opacity:1.0;                     line-height:1.75\"><font color=\"black\">  And sorry if the format is bad, I'm on mobile.                    </font></mark><mark style=\"background-color: hsl(0, 75%, 100%); opacity:1.0;                     line-height:1.75\"><font color=\"black\"> [[comment]]                    </font></mark><mark style=\"background-color: hsl(120, 75%, 98%); opacity:1.0;                     line-height:1.75\"><font color=\"black\">  Yeah, I get more suicidal thoughts at night too. Pretty common.                    </font></mark><mark style=\"background-color: hsl(0, 75%, 100%); opacity:1.0;                     line-height:1.75\"><font color=\"black\">  It might bd wortn starting a thread and asking for some second hand wisdom from people whove had therapy, etc. Ive been under \"care\" for a few months. I could pass on some of the \"guidance\" Ive received if it would be remotely helpful.                    </font></mark><mark style=\"background-color: hsl(120, 75%, 93%); opacity:1.0;                     line-height:1.75\"><font color=\"black\">  St Johns Wort is a natural anti-depressant you can buy over the counter. Its helped me in the past. It may help balance your mood a little.                    </font></mark><mark style=\"background-color: hsl(0, 75%, 100%); opacity:1.0;                     line-height:1.75\"><font color=\"black\"> [[reply]]                    </font></mark><mark style=\"background-color: hsl(120, 75%, 73%); opacity:1.0;                     line-height:1.75\"><font color=\"black\"> I'll look for that, hopefully we get it here.                    </font></mark><mark style=\"background-color: hsl(0, 75%, 94%); opacity:1.0;                     line-height:1.75\"><font color=\"black\"> As for the wanting to die, it's not wanting to commit suicide but more of just not wanting to feel lile this.                    </font></mark><mark style=\"background-color: hsl(120, 75%, 77%); opacity:1.0;                     line-height:1.75\"><font color=\"black\"> I'm not sure if that makes sense but it's the best i can explain it.                    </font></mark><mark style=\"background-color: hsl(120, 75%, 70%); opacity:1.0;                     line-height:1.75\"><font color=\"black\"> But any guidance is helpful :)                    </font></mark></td><tr></table>"
      ],
      "text/plain": [
       "<IPython.core.display.HTML object>"
      ]
     },
     "metadata": {},
     "output_type": "display_data"
    },
    {
     "name": "stdout",
     "output_type": "stream",
     "text": [
      "tensor([ 0.0000,  0.1147,  0.0000, -0.2901,  0.0000,  0.7487,  0.5849])\n",
      "\u001b[1m Visualization For Score \u001b[0m\n"
     ]
    },
    {
     "data": {
      "text/html": [
       "<table width: 100%><div style=\"border-top: 1px solid; margin-top: 5px;             padding-top: 5px; display: inline-block\"><b>Legend: </b><span style=\"display: inline-block; width: 10px; height: 10px;                 border: 1px solid; background-color:                 hsl(0, 75%, 60%)\"></span> Negative  <span style=\"display: inline-block; width: 10px; height: 10px;                 border: 1px solid; background-color:                 hsl(0, 75%, 100%)\"></span> Neutral  <span style=\"display: inline-block; width: 10px; height: 10px;                 border: 1px solid; background-color:                 hsl(120, 75%, 50%)\"></span> Positive  </div><tr><th>True Label</th><th>Predicted Label</th><th>Attribution Label</th><th>Attribution Score</th><th>Word Importance</th><tr><td><text style=\"padding-right:2em\"><b>2</b></text></td><td><text style=\"padding-right:2em\"><b>2 (1.00)</b></text></td><td><text style=\"padding-right:2em\"><b>I'm wondering if anyone here has thought about suicide methods that come close to killing you but can't.  I'm not ready to die but I want to hurt.  I want people to see physically how much I'm hurting emotionally.I've thought about jumping in front of cars or falling from non-lethal heights.  Those aren't the nicest methods but I'll go with them if I can't find a better one. This post was so cute haha, your friend and parents sound like cool people. they really are and i love all 3 of them! They are the sunshine</b></text></td><td><text style=\"padding-right:2em\"><b>1.16</b></text></td><td><mark style=\"background-color: hsl(0, 75%, 100%); opacity:1.0;                     line-height:1.75\"><font color=\"black\"> [[post]]                    </font></mark><mark style=\"background-color: hsl(120, 75%, 95%); opacity:1.0;                     line-height:1.75\"><font color=\"black\"> Soooo, i will keep it short, last 2 years have been hell for me, only thing keeping me afloat was my 'secret' youtube channel that only my friend knew about, until my other \"friend\" found out and deleted it from my computer, that was pretty bad for me, but luckily i found a gf and she kept me happy? Or well, at least kept me \"on line\", anyways now, 6 months ago she broke up with me, as u can imagine, first heart break, it hurt as hell, 3 days purely layin on bed, doing nothing, my friend showed up and told my parents about my channel, so later that day, my parents came to my room and asked why i didn't start again, the thing was it was waaay too frustrating to edit the videos with my old pc, so they offered to buy me 1 if i paid for it in parts, and now as i hit 1k subs, i am actually feeling getting better, socially, i do not hate my voice any more (my last channel i didn't use a mic) and in general i feel like i can talk to people now, so, from bottom of my heart, thank you mom and dad!                    </font></mark><mark style=\"background-color: hsl(0, 75%, 100%); opacity:1.0;                     line-height:1.75\"><font color=\"black\"> [[comment]]                    </font></mark><mark style=\"background-color: hsl(0, 75%, 89%); opacity:1.0;                     line-height:1.75\"><font color=\"black\"> This post was so cute haha, your friend and parents sound like cool people.                    </font></mark><mark style=\"background-color: hsl(0, 75%, 100%); opacity:1.0;                     line-height:1.75\"><font color=\"black\"> [[reply]]                    </font></mark><mark style=\"background-color: hsl(120, 75%, 63%); opacity:1.0;                     line-height:1.75\"><font color=\"black\"> they really are and i love all 3 of them!                    </font></mark><mark style=\"background-color: hsl(120, 75%, 71%); opacity:1.0;                     line-height:1.75\"><font color=\"black\"> They are the sunshine                    </font></mark></td><tr></table>"
      ],
      "text/plain": [
       "<IPython.core.display.HTML object>"
      ]
     },
     "metadata": {},
     "output_type": "display_data"
    },
    {
     "name": "stdout",
     "output_type": "stream",
     "text": [
      "tensor([ 0.0000, -0.0166, -0.0116,  0.0207, -0.0451,  0.0000, -0.1671,  0.0000,\n",
      "         0.7487,  0.6393])\n",
      "\u001b[1m Visualization For Score \u001b[0m\n"
     ]
    },
    {
     "data": {
      "text/html": [
       "<table width: 100%><div style=\"border-top: 1px solid; margin-top: 5px;             padding-top: 5px; display: inline-block\"><b>Legend: </b><span style=\"display: inline-block; width: 10px; height: 10px;                 border: 1px solid; background-color:                 hsl(0, 75%, 60%)\"></span> Negative  <span style=\"display: inline-block; width: 10px; height: 10px;                 border: 1px solid; background-color:                 hsl(0, 75%, 100%)\"></span> Neutral  <span style=\"display: inline-block; width: 10px; height: 10px;                 border: 1px solid; background-color:                 hsl(120, 75%, 50%)\"></span> Positive  </div><tr><th>True Label</th><th>Predicted Label</th><th>Attribution Label</th><th>Attribution Score</th><th>Word Importance</th><tr><td><text style=\"padding-right:2em\"><b>2</b></text></td><td><text style=\"padding-right:2em\"><b>2 (1.00)</b></text></td><td><text style=\"padding-right:2em\"><b>I'm wondering if anyone here has thought about suicide methods that come close to killing you but can't.  I'm not ready to die but I want to hurt.  I want people to see physically how much I'm hurting emotionally.I've thought about jumping in front of cars or falling from non-lethal heights.  Those aren't the nicest methods but I'll go with them if I can't find a better one. breathe. you say you donât want to die which is good. just breathe. lay on the ground outside if you must, keep yourself present. this too shall pass  Thank you, I will very much attempt you advice. I appreciate your response, itÃ¢ÂÂs more helpful to me than you may realize.</b></text></td><td><text style=\"padding-right:2em\"><b>1.17</b></text></td><td><mark style=\"background-color: hsl(0, 75%, 100%); opacity:1.0;                     line-height:1.75\"><font color=\"black\"> [[post]]                    </font></mark><mark style=\"background-color: hsl(0, 75%, 100%); opacity:1.0;                     line-height:1.75\"><font color=\"black\">  Today is Christmas Eve, Iâm 27 and Iâve lost the will to live. I slapped myself in the face a few times now and on the wrist and arms few more times. I canât snap out of it.                    </font></mark><mark style=\"background-color: hsl(0, 75%, 100%); opacity:1.0;                     line-height:1.75\"><font color=\"black\">  This is my first post on reddit and Iâm desperate. I donât want to die but Iâm scared.                    </font></mark><mark style=\"background-color: hsl(120, 75%, 99%); opacity:1.0;                     line-height:1.75\"><font color=\"black\">  I donât feel like anyone cares what happens to me anymore and they would be better off without me. I know it will be sad for them at first but overtime theyâll be happier when Iâm out of the picture.                    </font></mark><mark style=\"background-color: hsl(0, 75%, 99%); opacity:1.0;                     line-height:1.75\"><font color=\"black\">  I feel like a useless burden on everyone in my life. The world doesnât need me.                    </font></mark><mark style=\"background-color: hsl(0, 75%, 100%); opacity:1.0;                     line-height:1.75\"><font color=\"black\"> [[comment]]                    </font></mark><mark style=\"background-color: hsl(0, 75%, 94%); opacity:1.0;                     line-height:1.75\"><font color=\"black\"> breathe. you say you donât want to die which is good. just breathe. lay on the ground outside if you must, keep yourself present. this too shall pass                    </font></mark><mark style=\"background-color: hsl(0, 75%, 100%); opacity:1.0;                     line-height:1.75\"><font color=\"black\"> [[reply]]                    </font></mark><mark style=\"background-color: hsl(120, 75%, 63%); opacity:1.0;                     line-height:1.75\"><font color=\"black\"> Thank you, I will very much attempt you advice.                    </font></mark><mark style=\"background-color: hsl(120, 75%, 69%); opacity:1.0;                     line-height:1.75\"><font color=\"black\"> I appreciate your response, itÃ¢ÂÂs more helpful to me than you may realize.                    </font></mark></td><tr></table>"
      ],
      "text/plain": [
       "<IPython.core.display.HTML object>"
      ]
     },
     "metadata": {},
     "output_type": "display_data"
    },
    {
     "name": "stdout",
     "output_type": "stream",
     "text": [
      "tensor([ 0.0000, -0.2578,  0.0000, -0.1957,  0.0000,  0.4809,  0.8148])\n",
      "\u001b[1m Visualization For Score \u001b[0m\n"
     ]
    },
    {
     "data": {
      "text/html": [
       "<table width: 100%><div style=\"border-top: 1px solid; margin-top: 5px;             padding-top: 5px; display: inline-block\"><b>Legend: </b><span style=\"display: inline-block; width: 10px; height: 10px;                 border: 1px solid; background-color:                 hsl(0, 75%, 60%)\"></span> Negative  <span style=\"display: inline-block; width: 10px; height: 10px;                 border: 1px solid; background-color:                 hsl(0, 75%, 100%)\"></span> Neutral  <span style=\"display: inline-block; width: 10px; height: 10px;                 border: 1px solid; background-color:                 hsl(120, 75%, 50%)\"></span> Positive  </div><tr><th>True Label</th><th>Predicted Label</th><th>Attribution Label</th><th>Attribution Score</th><th>Word Importance</th><tr><td><text style=\"padding-right:2em\"><b>2</b></text></td><td><text style=\"padding-right:2em\"><b>2 (1.00)</b></text></td><td><text style=\"padding-right:2em\"><b>I'm wondering if anyone here has thought about suicide methods that come close to killing you but can't.  I'm not ready to die but I want to hurt.  I want people to see physically how much I'm hurting emotionally.I've thought about jumping in front of cars or falling from non-lethal heights.  Those aren't the nicest methods but I'll go with them if I can't find a better one. Life is meaningless. Only thing worth living for is to have fun and good experiencesJust gotta balance long term with short term  This is simple and apt advice, I like it.  Thanks.</b></text></td><td><text style=\"padding-right:2em\"><b>0.84</b></text></td><td><mark style=\"background-color: hsl(0, 75%, 100%); opacity:1.0;                     line-height:1.75\"><font color=\"black\"> [[post]]                    </font></mark><mark style=\"background-color: hsl(0, 75%, 90%); opacity:1.0;                     line-height:1.75\"><font color=\"black\"> Does anyone else focus relentlessly on pointless tasks like video games or whatever to just try to forget about their problems?  I guess you can't do it forever, but hell I have been doing it for years!                    </font></mark><mark style=\"background-color: hsl(0, 75%, 100%); opacity:1.0;                     line-height:1.75\"><font color=\"black\"> [[comment]]                    </font></mark><mark style=\"background-color: hsl(0, 75%, 93%); opacity:1.0;                     line-height:1.75\"><font color=\"black\"> Life is meaningless. Only thing worth living for is to have fun and good experiencesJust gotta balance long term with short term                    </font></mark><mark style=\"background-color: hsl(0, 75%, 100%); opacity:1.0;                     line-height:1.75\"><font color=\"black\"> [[reply]]                    </font></mark><mark style=\"background-color: hsl(120, 75%, 76%); opacity:1.0;                     line-height:1.75\"><font color=\"black\"> This is simple and apt advice, I like it.                    </font></mark><mark style=\"background-color: hsl(120, 75%, 60%); opacity:1.0;                     line-height:1.75\"><font color=\"black\">  Thanks.                    </font></mark></td><tr></table>"
      ],
      "text/plain": [
       "<IPython.core.display.HTML object>"
      ]
     },
     "metadata": {},
     "output_type": "display_data"
    },
    {
     "name": "stdout",
     "output_type": "stream",
     "text": [
      "tensor([ 0.0000, -0.0057,  0.0158,  0.0059,  0.0198,  0.0000, -0.1828,  0.0000,\n",
      "         0.7148,  0.6745])\n",
      "\u001b[1m Visualization For Score \u001b[0m\n"
     ]
    },
    {
     "data": {
      "text/html": [
       "<table width: 100%><div style=\"border-top: 1px solid; margin-top: 5px;             padding-top: 5px; display: inline-block\"><b>Legend: </b><span style=\"display: inline-block; width: 10px; height: 10px;                 border: 1px solid; background-color:                 hsl(0, 75%, 60%)\"></span> Negative  <span style=\"display: inline-block; width: 10px; height: 10px;                 border: 1px solid; background-color:                 hsl(0, 75%, 100%)\"></span> Neutral  <span style=\"display: inline-block; width: 10px; height: 10px;                 border: 1px solid; background-color:                 hsl(120, 75%, 50%)\"></span> Positive  </div><tr><th>True Label</th><th>Predicted Label</th><th>Attribution Label</th><th>Attribution Score</th><th>Word Importance</th><tr><td><text style=\"padding-right:2em\"><b>2</b></text></td><td><text style=\"padding-right:2em\"><b>2 (1.00)</b></text></td><td><text style=\"padding-right:2em\"><b>I'm wondering if anyone here has thought about suicide methods that come close to killing you but can't.  I'm not ready to die but I want to hurt.  I want people to see physically how much I'm hurting emotionally.I've thought about jumping in front of cars or falling from non-lethal heights.  Those aren't the nicest methods but I'll go with them if I can't find a better one. As a psychiatric resident, from personal experience, you can absolutely ask about getting a higher dosage, however you need to be very clear in exactly why you think you need it and what specific symptoms you are having.  Thank you! I donÃ¢ÂÂt see him again for a couple weeks, so IÃ¢ÂÂll be sure to make a few notes on everything.</b></text></td><td><text style=\"padding-right:2em\"><b>1.24</b></text></td><td><mark style=\"background-color: hsl(0, 75%, 100%); opacity:1.0;                     line-height:1.75\"><font color=\"black\"> [[post]]                    </font></mark><mark style=\"background-color: hsl(0, 75%, 100%); opacity:1.0;                     line-height:1.75\"><font color=\"black\">  So my psychiatrist prescribed me 5mg Trintellix (lowest dosage) and I've been on it for about 7 weeks now. The first 5 weeks it really seemed to help and it made my mood swings WAY WAY more manageable. It felt great to be so much more even keel. But the last two weeks haven't been nearly as manageable, at all.                    </font></mark><mark style=\"background-color: hsl(120, 75%, 100%); opacity:1.0;                     line-height:1.75\"><font color=\"black\">  And that's where my question comes in. I'm new to all of this, that is psychiatrists, therapists, medication. It has helped me greatly, but I'm still in uncharted waters personally.                    </font></mark><mark style=\"background-color: hsl(120, 75%, 100%); opacity:1.0;                     line-height:1.75\"><font color=\"black\">  Is it ok for me to ask him to up the dosage to the 10mg version? I don't want to come off as looking for a way to zonk out or anything, but it doesn't feel like enough to manage me mood swings anymore. Like I've gotten used to it. I don't know.                    </font></mark><mark style=\"background-color: hsl(120, 75%, 100%); opacity:1.0;                     line-height:1.75\"><font color=\"black\">  Any advice?                    </font></mark><mark style=\"background-color: hsl(0, 75%, 100%); opacity:1.0;                     line-height:1.75\"><font color=\"black\"> [[comment]]                    </font></mark><mark style=\"background-color: hsl(0, 75%, 93%); opacity:1.0;                     line-height:1.75\"><font color=\"black\"> As a psychiatric resident, from personal experience, you can absolutely ask about getting a higher dosage, however you need to be very clear in exactly why you think you need it and what specific symptoms you are having.                    </font></mark><mark style=\"background-color: hsl(0, 75%, 100%); opacity:1.0;                     line-height:1.75\"><font color=\"black\"> [[reply]]                    </font></mark><mark style=\"background-color: hsl(120, 75%, 65%); opacity:1.0;                     line-height:1.75\"><font color=\"black\"> Thank you!                    </font></mark><mark style=\"background-color: hsl(120, 75%, 67%); opacity:1.0;                     line-height:1.75\"><font color=\"black\"> I donÃ¢ÂÂt see him again for a couple weeks, so IÃ¢ÂÂll be sure to make a few notes on everything.                    </font></mark></td><tr></table>"
      ],
      "text/plain": [
       "<IPython.core.display.HTML object>"
      ]
     },
     "metadata": {},
     "output_type": "display_data"
    },
    {
     "name": "stdout",
     "output_type": "stream",
     "text": [
      "tensor([ 0.0000,  0.0584,  0.0514,  0.0000, -0.5822,  0.0000,  0.8093])\n",
      "\u001b[1m Visualization For Score \u001b[0m\n"
     ]
    },
    {
     "data": {
      "text/html": [
       "<table width: 100%><div style=\"border-top: 1px solid; margin-top: 5px;             padding-top: 5px; display: inline-block\"><b>Legend: </b><span style=\"display: inline-block; width: 10px; height: 10px;                 border: 1px solid; background-color:                 hsl(0, 75%, 60%)\"></span> Negative  <span style=\"display: inline-block; width: 10px; height: 10px;                 border: 1px solid; background-color:                 hsl(0, 75%, 100%)\"></span> Neutral  <span style=\"display: inline-block; width: 10px; height: 10px;                 border: 1px solid; background-color:                 hsl(120, 75%, 50%)\"></span> Positive  </div><tr><th>True Label</th><th>Predicted Label</th><th>Attribution Label</th><th>Attribution Score</th><th>Word Importance</th><tr><td><text style=\"padding-right:2em\"><b>2</b></text></td><td><text style=\"padding-right:2em\"><b>2 (1.00)</b></text></td><td><text style=\"padding-right:2em\"><b>I'm wondering if anyone here has thought about suicide methods that come close to killing you but can't.  I'm not ready to die but I want to hurt.  I want people to see physically how much I'm hurting emotionally.I've thought about jumping in front of cars or falling from non-lethal heights.  Those aren't the nicest methods but I'll go with them if I can't find a better one. In my mind I'm still thinking...Im so lost that idk what to do.Your comment makes too much sense, but then I'm stuck here, cant even move towards any goal right now Just gotta take it one step at a time, no matter how small those steps are</b></text></td><td><text style=\"padding-right:2em\"><b>0.34</b></text></td><td><mark style=\"background-color: hsl(0, 75%, 100%); opacity:1.0;                     line-height:1.75\"><font color=\"black\"> [[post]]                    </font></mark><mark style=\"background-color: hsl(120, 75%, 98%); opacity:1.0;                     line-height:1.75\"><font color=\"black\">  Sometimes I feel like killing myself but then I think, how can I do that when I havent really experienced life or had any fun? Some people arent in a good situation inwhich they could ever enjoy life but I have a chance to do that.                    </font></mark><mark style=\"background-color: hsl(120, 75%, 98%); opacity:1.0;                     line-height:1.75\"><font color=\"black\">  So now everytime I think about killing myself I'm just going to remind myself to live life to the fullest, whatever that means for myself. Whether that means doing well in my career I've chosen, giving myself to the military, or just becoming a drug dealer with my friend. Whatever it is I feel confident now that I'm not going to kill myself                      </font></mark><mark style=\"background-color: hsl(0, 75%, 100%); opacity:1.0;                     line-height:1.75\"><font color=\"black\"> [[comment]]                    </font></mark><mark style=\"background-color: hsl(0, 75%, 77%); opacity:1.0;                     line-height:1.75\"><font color=\"black\"> In my mind I'm still thinking...Im so lost that idk what to do. Your comment makes too much sense, but then I'm stuck here, cant even move towards any goal right now                    </font></mark><mark style=\"background-color: hsl(0, 75%, 100%); opacity:1.0;                     line-height:1.75\"><font color=\"black\"> [[reply]]                    </font></mark><mark style=\"background-color: hsl(120, 75%, 60%); opacity:1.0;                     line-height:1.75\"><font color=\"black\"> Just gotta take it one step at a time, no matter how small those steps are                    </font></mark></td><tr></table>"
      ],
      "text/plain": [
       "<IPython.core.display.HTML object>"
      ]
     },
     "metadata": {},
     "output_type": "display_data"
    },
    {
     "name": "stdout",
     "output_type": "stream",
     "text": [
      "tensor([ 0.0000,  0.0556,  0.0293, -0.0462,  0.0000, -0.1699,  0.0000,  0.5477,\n",
      "         0.4728,  0.5159,  0.4189])\n",
      "\u001b[1m Visualization For Score \u001b[0m\n"
     ]
    },
    {
     "data": {
      "text/html": [
       "<table width: 100%><div style=\"border-top: 1px solid; margin-top: 5px;             padding-top: 5px; display: inline-block\"><b>Legend: </b><span style=\"display: inline-block; width: 10px; height: 10px;                 border: 1px solid; background-color:                 hsl(0, 75%, 60%)\"></span> Negative  <span style=\"display: inline-block; width: 10px; height: 10px;                 border: 1px solid; background-color:                 hsl(0, 75%, 100%)\"></span> Neutral  <span style=\"display: inline-block; width: 10px; height: 10px;                 border: 1px solid; background-color:                 hsl(120, 75%, 50%)\"></span> Positive  </div><tr><th>True Label</th><th>Predicted Label</th><th>Attribution Label</th><th>Attribution Score</th><th>Word Importance</th><tr><td><text style=\"padding-right:2em\"><b>2</b></text></td><td><text style=\"padding-right:2em\"><b>2 (1.00)</b></text></td><td><text style=\"padding-right:2em\"><b>I'm wondering if anyone here has thought about suicide methods that come close to killing you but can't.  I'm not ready to die but I want to hurt.  I want people to see physically how much I'm hurting emotionally.I've thought about jumping in front of cars or falling from non-lethal heights.  Those aren't the nicest methods but I'll go with them if I can't find a better one. We feel your pain OP, none of us want to be this way I am sure but, we are and since we are hearing things like this gives us motivation to try harder as well. This thread was positive all the way around. &lt;3 Well I'm glad that I've helped create such a positive environment! I couldn't have done it by myself though; It's really awesome to see how we can come together like this time and time again. Keep strong everybody! We're in it together. </b></text></td><td><text style=\"padding-right:2em\"><b>1.82</b></text></td><td><mark style=\"background-color: hsl(0, 75%, 100%); opacity:1.0;                     line-height:1.75\"><font color=\"black\"> [[post]]                    </font></mark><mark style=\"background-color: hsl(120, 75%, 98%); opacity:1.0;                     line-height:1.75\"><font color=\"black\">  This is pretty much the only place I can say this because if I say it to anyone else they'll think I'm really fucking weird. Well, for the record, I AM pretty fucking weird. But yea I've actually started to wash my face again instead of just standing in the shower for 40 minutes and wasting my hot water and driving up my water bill.                    </font></mark><mark style=\"background-color: hsl(120, 75%, 99%); opacity:1.0;                     line-height:1.75\"><font color=\"black\">  Little steps. ** Edit:** Wow. I went to sleep and this blew up.                    </font></mark><mark style=\"background-color: hsl(0, 75%, 99%); opacity:1.0;                     line-height:1.75\"><font color=\"black\">  Thank you guys (and girls) so much for all the support. I'm glad you all got something out of it. Stay strong, you all. One step at a time!                    </font></mark><mark style=\"background-color: hsl(0, 75%, 100%); opacity:1.0;                     line-height:1.75\"><font color=\"black\"> [[comment]]                    </font></mark><mark style=\"background-color: hsl(0, 75%, 94%); opacity:1.0;                     line-height:1.75\"><font color=\"black\"> We feel your pain OP, none of us want to be this way I am sure but, we are and since we are hearing things like this gives us motivation to try harder as well. This thread was positive all the way around. & lt;3                    </font></mark><mark style=\"background-color: hsl(0, 75%, 100%); opacity:1.0;                     line-height:1.75\"><font color=\"black\"> [[reply]]                    </font></mark><mark style=\"background-color: hsl(120, 75%, 73%); opacity:1.0;                     line-height:1.75\"><font color=\"black\"> Well I'm glad that I've helped create such a positive environment!                    </font></mark><mark style=\"background-color: hsl(120, 75%, 77%); opacity:1.0;                     line-height:1.75\"><font color=\"black\"> I couldn't have done it by myself though; It's really awesome to see how we can come together like this time and time again.                    </font></mark><mark style=\"background-color: hsl(120, 75%, 75%); opacity:1.0;                     line-height:1.75\"><font color=\"black\"> Keep strong everybody!                    </font></mark><mark style=\"background-color: hsl(120, 75%, 80%); opacity:1.0;                     line-height:1.75\"><font color=\"black\"> We're in it together.                    </font></mark></td><tr></table>"
      ],
      "text/plain": [
       "<IPython.core.display.HTML object>"
      ]
     },
     "metadata": {},
     "output_type": "display_data"
    },
    {
     "name": "stdout",
     "output_type": "stream",
     "text": [
      "tensor([ 0.0000, -0.0050,  0.0069, -0.0181,  0.0000, -0.3209,  0.0000,  0.8708,\n",
      "         0.0831,  0.3598, -0.0441])\n",
      "\u001b[1m Visualization For Score \u001b[0m\n"
     ]
    },
    {
     "data": {
      "text/html": [
       "<table width: 100%><div style=\"border-top: 1px solid; margin-top: 5px;             padding-top: 5px; display: inline-block\"><b>Legend: </b><span style=\"display: inline-block; width: 10px; height: 10px;                 border: 1px solid; background-color:                 hsl(0, 75%, 60%)\"></span> Negative  <span style=\"display: inline-block; width: 10px; height: 10px;                 border: 1px solid; background-color:                 hsl(0, 75%, 100%)\"></span> Neutral  <span style=\"display: inline-block; width: 10px; height: 10px;                 border: 1px solid; background-color:                 hsl(120, 75%, 50%)\"></span> Positive  </div><tr><th>True Label</th><th>Predicted Label</th><th>Attribution Label</th><th>Attribution Score</th><th>Word Importance</th><tr><td><text style=\"padding-right:2em\"><b>2</b></text></td><td><text style=\"padding-right:2em\"><b>2 (1.00)</b></text></td><td><text style=\"padding-right:2em\"><b>I'm wondering if anyone here has thought about suicide methods that come close to killing you but can't.  I'm not ready to die but I want to hurt.  I want people to see physically how much I'm hurting emotionally.I've thought about jumping in front of cars or falling from non-lethal heights.  Those aren't the nicest methods but I'll go with them if I can't find a better one. Pretty much everyday, sometimes my friends or family talk about horrible events where someone with a gun or knife attacks a lot of people in public places. I always say I would run at them and try to stop them, they always reply that I'm stupid or courageous or both. In reality I am not courageous, I just value my life so little that if I can roll the dice to either stop someone and be a hero, stop someone and die, or just die, all outcomes would be good. Me too! Die a hero or die anyway. If only I actually had the powers I imagine myself having in my fantasies, but in real life. Then I'd likely never want to die! </b></text></td><td><text style=\"padding-right:2em\"><b>0.93</b></text></td><td><mark style=\"background-color: hsl(0, 75%, 100%); opacity:1.0;                     line-height:1.75\"><font color=\"black\"> [[post]]                    </font></mark><mark style=\"background-color: hsl(0, 75%, 100%); opacity:1.0;                     line-height:1.75\"><font color=\"black\">  Sorry if this is the wrong place. I don't think suicide watch is the proper place since I don't necessarily want to commit suicide. I just want to cease living. I feel like no matter what I can't escape the demons I have. No matter how well I'm doing, my mind is always like \"the fuck?                    </font></mark><mark style=\"background-color: hsl(120, 75%, 100%); opacity:1.0;                     line-height:1.75\"><font color=\"black\">  Get back in line.\" No matter what, they'll always come back up and I'll be in my room alone at nearly 2 in the morning wishing for some disaster whose only fatality would be me. Even then it doesn't even really matter if they're mad or not.                    </font></mark><mark style=\"background-color: hsl(0, 75%, 100%); opacity:1.0;                     line-height:1.75\"><font color=\"black\">  I'd be dead.**Edit to add: Thank you everyone for responding. You all truly helped calm me down. Now that I've gotten some sleep and kicked the shit out of some weights, I feel better.****That too, has passed. This too, shall pass.****If ANY of you need an ear, or a digital shoulder to digitally cry on, I'd love to be there for you. Shoot me a PM anytime.**                    </font></mark><mark style=\"background-color: hsl(0, 75%, 100%); opacity:1.0;                     line-height:1.75\"><font color=\"black\"> [[comment]]                    </font></mark><mark style=\"background-color: hsl(0, 75%, 88%); opacity:1.0;                     line-height:1.75\"><font color=\"black\"> Pretty much everyday, sometimes my friends or family talk about horrible events where someone with a gun or knife attacks a lot of people in public places. I always say I would run at them and try to stop them, they always reply that I'm stupid or courageous or both. In reality I am not courageous, I just value my life so little that if I can roll the dice to either stop someone and be a hero, stop someone and die, or just die, all outcomes would be good.                    </font></mark><mark style=\"background-color: hsl(0, 75%, 100%); opacity:1.0;                     line-height:1.75\"><font color=\"black\"> [[reply]]                    </font></mark><mark style=\"background-color: hsl(120, 75%, 57%); opacity:1.0;                     line-height:1.75\"><font color=\"black\"> Me too!                    </font></mark><mark style=\"background-color: hsl(120, 75%, 96%); opacity:1.0;                     line-height:1.75\"><font color=\"black\"> Die a hero or die anyway.                    </font></mark><mark style=\"background-color: hsl(120, 75%, 83%); opacity:1.0;                     line-height:1.75\"><font color=\"black\"> If only I actually had the powers I imagine myself having in my fantasies, but in real life.                    </font></mark><mark style=\"background-color: hsl(0, 75%, 99%); opacity:1.0;                     line-height:1.75\"><font color=\"black\"> Then I'd likely never want to die!                    </font></mark></td><tr></table>"
      ],
      "text/plain": [
       "<IPython.core.display.HTML object>"
      ]
     },
     "metadata": {},
     "output_type": "display_data"
    },
    {
     "name": "stdout",
     "output_type": "stream",
     "text": [
      "tensor([ 0.0000,  0.0784,  0.1394,  0.0000, -0.1248,  0.0000, -0.2641,  0.4544,\n",
      "         0.8262])\n",
      "\u001b[1m Visualization For Score \u001b[0m\n"
     ]
    },
    {
     "data": {
      "text/html": [
       "<table width: 100%><div style=\"border-top: 1px solid; margin-top: 5px;             padding-top: 5px; display: inline-block\"><b>Legend: </b><span style=\"display: inline-block; width: 10px; height: 10px;                 border: 1px solid; background-color:                 hsl(0, 75%, 60%)\"></span> Negative  <span style=\"display: inline-block; width: 10px; height: 10px;                 border: 1px solid; background-color:                 hsl(0, 75%, 100%)\"></span> Neutral  <span style=\"display: inline-block; width: 10px; height: 10px;                 border: 1px solid; background-color:                 hsl(120, 75%, 50%)\"></span> Positive  </div><tr><th>True Label</th><th>Predicted Label</th><th>Attribution Label</th><th>Attribution Score</th><th>Word Importance</th><tr><td><text style=\"padding-right:2em\"><b>2</b></text></td><td><text style=\"padding-right:2em\"><b>2 (1.00)</b></text></td><td><text style=\"padding-right:2em\"><b>I'm wondering if anyone here has thought about suicide methods that come close to killing you but can't.  I'm not ready to die but I want to hurt.  I want people to see physically how much I'm hurting emotionally.I've thought about jumping in front of cars or falling from non-lethal heights.  Those aren't the nicest methods but I'll go with them if I can't find a better one. I know it sucks, especially with my family, big serves.  It's probably one of the worst symptoms of my mental illness, best thing I can say is try eating little bits and then distracting yourself if you can, for me I do that and the feeling usually disappears. But I  wish you the best too. Exactly. I'll definitely take your advice. Thanks again :)</b></text></td><td><text style=\"padding-right:2em\"><b>1.11</b></text></td><td><mark style=\"background-color: hsl(0, 75%, 100%); opacity:1.0;                     line-height:1.75\"><font color=\"black\"> [[post]]                    </font></mark><mark style=\"background-color: hsl(120, 75%, 97%); opacity:1.0;                     line-height:1.75\"><font color=\"black\">  Hey thereSo I'm having kind of a rough period atm(more than usual), but all of a sudden I have no appetite what so ever. I am hungry but I can't get myself to eat anything. When I do eat I feel physically ill.                    </font></mark><mark style=\"background-color: hsl(120, 75%, 94%); opacity:1.0;                     line-height:1.75\"><font color=\"black\">  This could turn out to be quite a problem since I don't weigh that much to begin with. Any advice?Thanks in advance                    </font></mark><mark style=\"background-color: hsl(0, 75%, 100%); opacity:1.0;                     line-height:1.75\"><font color=\"black\"> [[comment]]                    </font></mark><mark style=\"background-color: hsl(0, 75%, 96%); opacity:1.0;                     line-height:1.75\"><font color=\"black\"> I know it sucks, especially with my family, big serves.  It's probably one of the worst symptoms of my mental illness, best thing I can say is try eating little bits and then distracting yourself if you can, for me I do that and the feeling usually disappears. But I  wish you the best too.                    </font></mark><mark style=\"background-color: hsl(0, 75%, 100%); opacity:1.0;                     line-height:1.75\"><font color=\"black\"> [[reply]]                    </font></mark><mark style=\"background-color: hsl(0, 75%, 90%); opacity:1.0;                     line-height:1.75\"><font color=\"black\"> Exactly.                    </font></mark><mark style=\"background-color: hsl(120, 75%, 78%); opacity:1.0;                     line-height:1.75\"><font color=\"black\"> I'll definitely take your advice.                    </font></mark><mark style=\"background-color: hsl(120, 75%, 59%); opacity:1.0;                     line-height:1.75\"><font color=\"black\"> Thanks again :)                    </font></mark></td><tr></table>"
      ],
      "text/plain": [
       "<IPython.core.display.HTML object>"
      ]
     },
     "metadata": {},
     "output_type": "display_data"
    },
    {
     "name": "stdout",
     "output_type": "stream",
     "text": [
      "tensor([ 0.0000,  0.2517,  0.0000, -0.2429,  0.0000,  0.3626,  0.5725,  0.6468])\n",
      "\u001b[1m Visualization For Score \u001b[0m\n"
     ]
    },
    {
     "data": {
      "text/html": [
       "<table width: 100%><div style=\"border-top: 1px solid; margin-top: 5px;             padding-top: 5px; display: inline-block\"><b>Legend: </b><span style=\"display: inline-block; width: 10px; height: 10px;                 border: 1px solid; background-color:                 hsl(0, 75%, 60%)\"></span> Negative  <span style=\"display: inline-block; width: 10px; height: 10px;                 border: 1px solid; background-color:                 hsl(0, 75%, 100%)\"></span> Neutral  <span style=\"display: inline-block; width: 10px; height: 10px;                 border: 1px solid; background-color:                 hsl(120, 75%, 50%)\"></span> Positive  </div><tr><th>True Label</th><th>Predicted Label</th><th>Attribution Label</th><th>Attribution Score</th><th>Word Importance</th><tr><td><text style=\"padding-right:2em\"><b>2</b></text></td><td><text style=\"padding-right:2em\"><b>2 (1.00)</b></text></td><td><text style=\"padding-right:2em\"><b>I'm wondering if anyone here has thought about suicide methods that come close to killing you but can't.  I'm not ready to die but I want to hurt.  I want people to see physically how much I'm hurting emotionally.I've thought about jumping in front of cars or falling from non-lethal heights.  Those aren't the nicest methods but I'll go with them if I can't find a better one. Perhaps it has, i read somewhere that if you think about something, or if you think a certain way often enough, then your brain creates new physical pathways to make it easier for you to think that way.i don't know if that is correct, but if it is, then theoretically with effort, a person can force their brain to make new pathways on purpose, to think positively if that is what they train themselves to do.i wish you luck I've heard of that! Super interesting. Thank you so much, good luck to you as well. </b></text></td><td><text style=\"padding-right:2em\"><b>1.59</b></text></td><td><mark style=\"background-color: hsl(0, 75%, 100%); opacity:1.0;                     line-height:1.75\"><font color=\"black\"> [[post]]                    </font></mark><mark style=\"background-color: hsl(120, 75%, 88%); opacity:1.0;                     line-height:1.75\"><font color=\"black\"> I've been suffering from depression for around a year now, and, looking back to the person I used to be before all this ugliness, I'm shocked by the disparity between old-me and current-me. I feel like I think differently, now, not just when I'm in the throes of my sadness, but all the time--my mind has been rebooted in a totally different way. I see everything differently, think differently, and the core person I am is different, even if in talking to others, I pretend not to have changed.                    </font></mark><mark style=\"background-color: hsl(0, 75%, 100%); opacity:1.0;                     line-height:1.75\"><font color=\"black\"> [[comment]]                    </font></mark><mark style=\"background-color: hsl(0, 75%, 91%); opacity:1.0;                     line-height:1.75\"><font color=\"black\"> Perhaps it has, i read somewhere that if you think about something, or if you think a certain way often enough, then your brain creates new physical pathways to make it easier for you to think that way.i don't know if that is correct, but if it is, then theoretically with effort, a person can force their brain to make new pathways on purpose, to think positively if that is what they train themselves to do.i wish you luck                    </font></mark><mark style=\"background-color: hsl(0, 75%, 100%); opacity:1.0;                     line-height:1.75\"><font color=\"black\"> [[reply]]                    </font></mark><mark style=\"background-color: hsl(120, 75%, 82%); opacity:1.0;                     line-height:1.75\"><font color=\"black\"> I've heard of that!                    </font></mark><mark style=\"background-color: hsl(120, 75%, 72%); opacity:1.0;                     line-height:1.75\"><font color=\"black\"> Super interesting.                    </font></mark><mark style=\"background-color: hsl(120, 75%, 68%); opacity:1.0;                     line-height:1.75\"><font color=\"black\"> Thank you so much, good luck to you as well.                    </font></mark></td><tr></table>"
      ],
      "text/plain": [
       "<IPython.core.display.HTML object>"
      ]
     },
     "metadata": {},
     "output_type": "display_data"
    },
    {
     "name": "stdout",
     "output_type": "stream",
     "text": [
      "tensor([ 0.0000,  0.1262,  0.1608,  0.0385,  0.0000, -0.5755,  0.0000,  0.6369,\n",
      "         0.2740,  0.2562,  0.1460,  0.2406])\n",
      "\u001b[1m Visualization For Score \u001b[0m\n"
     ]
    },
    {
     "data": {
      "text/html": [
       "<table width: 100%><div style=\"border-top: 1px solid; margin-top: 5px;             padding-top: 5px; display: inline-block\"><b>Legend: </b><span style=\"display: inline-block; width: 10px; height: 10px;                 border: 1px solid; background-color:                 hsl(0, 75%, 60%)\"></span> Negative  <span style=\"display: inline-block; width: 10px; height: 10px;                 border: 1px solid; background-color:                 hsl(0, 75%, 100%)\"></span> Neutral  <span style=\"display: inline-block; width: 10px; height: 10px;                 border: 1px solid; background-color:                 hsl(120, 75%, 50%)\"></span> Positive  </div><tr><th>True Label</th><th>Predicted Label</th><th>Attribution Label</th><th>Attribution Score</th><th>Word Importance</th><tr><td><text style=\"padding-right:2em\"><b>2</b></text></td><td><text style=\"padding-right:2em\"><b>2 (1.00)</b></text></td><td><text style=\"padding-right:2em\"><b>I'm wondering if anyone here has thought about suicide methods that come close to killing you but can't.  I'm not ready to die but I want to hurt.  I want people to see physically how much I'm hurting emotionally.I've thought about jumping in front of cars or falling from non-lethal heights.  Those aren't the nicest methods but I'll go with them if I can't find a better one. I do this but my brain makes me miss people I barely know because I associate all the things I want with them, me not really knowing them makes them the blank canvas Iâd need to imagine them as whoever I like. This is perfectly said. ThereÃ¢ÂÂs a girl IÃ¢ÂÂve known my whole life (daughter of a family friend) but have never really talked to her or gotten to know her on a personal level. Recently my family spent time with hers and suddenly sheÃ¢ÂÂs all I can think about because sheÃ¢ÂÂs the one IÃ¢ÂÂm using to imagine all those things with. I miss her yet weÃ¢ÂÂve barely every spoken to each other. I hate my brain lol </b></text></td><td><text style=\"padding-right:2em\"><b>1.30</b></text></td><td><mark style=\"background-color: hsl(0, 75%, 100%); opacity:1.0;                     line-height:1.75\"><font color=\"black\"> [[post]]                    </font></mark><mark style=\"background-color: hsl(120, 75%, 94%); opacity:1.0;                     line-height:1.75\"><font color=\"black\">  This is difficult to explain but itâs a feeling Iâve been experiencing lately. I find myself missing someone who isnât real. I think my depressed, fucked up brain has created the image of a person who represents everything Iâve longed for for as long as I can remember.                    </font></mark><mark style=\"background-color: hsl(120, 75%, 92%); opacity:1.0;                     line-height:1.75\"><font color=\"black\">  The feelings I desire (love, compassion, affection, partnership, togetherness, etc.) but have never had from anyone outside of my family, who I am very grateful for, have taken the form of one âperfectâ person in my mind. This imaginary person embodies everything I donât have. From time to time (and much more often recently) I find myself missing this person even though Iâve never met her because, well, she doesnât exist.                    </font></mark><mark style=\"background-color: hsl(120, 75%, 99%); opacity:1.0;                     line-height:1.75\"><font color=\"black\">  Maybe itâs just my brainâs way of dealing with the fact that Iâve never had anybody who liked me for me. Iâve never felt wanted or like I truly matter, so perhaps my brain has created this person to fill that void. Whatever it is, itâs an awful feeling because I feel like Iâm constantly chasing after something unattainable. Can anyone relate to this?                    </font></mark><mark style=\"background-color: hsl(0, 75%, 100%); opacity:1.0;                     line-height:1.75\"><font color=\"black\"> [[comment]]                    </font></mark><mark style=\"background-color: hsl(0, 75%, 77%); opacity:1.0;                     line-height:1.75\"><font color=\"black\"> I do this but my brain makes me miss people I barely know because I associate all the things I want with them, me not really knowing them makes them the blank canvas Iâd need to imagine them as whoever I like.                    </font></mark><mark style=\"background-color: hsl(0, 75%, 100%); opacity:1.0;                     line-height:1.75\"><font color=\"black\"> [[reply]]                    </font></mark><mark style=\"background-color: hsl(120, 75%, 69%); opacity:1.0;                     line-height:1.75\"><font color=\"black\"> This is perfectly said.                    </font></mark><mark style=\"background-color: hsl(120, 75%, 87%); opacity:1.0;                     line-height:1.75\"><font color=\"black\"> ThereÃ¢ÂÂs a girl IÃ¢ÂÂve known my whole life (daughter of a family friend) but have never really talked to her or gotten to know her on a personal level.                    </font></mark><mark style=\"background-color: hsl(120, 75%, 88%); opacity:1.0;                     line-height:1.75\"><font color=\"black\"> Recently my family spent time with hers and suddenly sheÃ¢ÂÂs all I can think about because sheÃ¢ÂÂs the one IÃ¢ÂÂm using to imagine all those things with.                    </font></mark><mark style=\"background-color: hsl(120, 75%, 93%); opacity:1.0;                     line-height:1.75\"><font color=\"black\"> I miss her yet weÃ¢ÂÂve barely every spoken to each other.                    </font></mark><mark style=\"background-color: hsl(120, 75%, 88%); opacity:1.0;                     line-height:1.75\"><font color=\"black\"> I hate my brain lol                    </font></mark></td><tr></table>"
      ],
      "text/plain": [
       "<IPython.core.display.HTML object>"
      ]
     },
     "metadata": {},
     "output_type": "display_data"
    },
    {
     "name": "stdout",
     "output_type": "stream",
     "text": [
      "tensor([ 0.0000, -0.0413, -0.0078, -0.0219, -0.0195,  0.0000, -0.1958,  0.0000,\n",
      "         0.7676,  0.6081])\n",
      "\u001b[1m Visualization For Score \u001b[0m\n"
     ]
    },
    {
     "data": {
      "text/html": [
       "<table width: 100%><div style=\"border-top: 1px solid; margin-top: 5px;             padding-top: 5px; display: inline-block\"><b>Legend: </b><span style=\"display: inline-block; width: 10px; height: 10px;                 border: 1px solid; background-color:                 hsl(0, 75%, 60%)\"></span> Negative  <span style=\"display: inline-block; width: 10px; height: 10px;                 border: 1px solid; background-color:                 hsl(0, 75%, 100%)\"></span> Neutral  <span style=\"display: inline-block; width: 10px; height: 10px;                 border: 1px solid; background-color:                 hsl(120, 75%, 50%)\"></span> Positive  </div><tr><th>True Label</th><th>Predicted Label</th><th>Attribution Label</th><th>Attribution Score</th><th>Word Importance</th><tr><td><text style=\"padding-right:2em\"><b>2</b></text></td><td><text style=\"padding-right:2em\"><b>2 (1.00)</b></text></td><td><text style=\"padding-right:2em\"><b>I'm wondering if anyone here has thought about suicide methods that come close to killing you but can't.  I'm not ready to die but I want to hurt.  I want people to see physically how much I'm hurting emotionally.I've thought about jumping in front of cars or falling from non-lethal heights.  Those aren't the nicest methods but I'll go with them if I can't find a better one. I know it might not be comforting or helpful, but I know that empty feeling. Not having a logical reason to be depressed makes me feel so empty inside.  Thank you.  Just knowing someone is reading what I wrote is helpful to me already..</b></text></td><td><text style=\"padding-right:2em\"><b>1.09</b></text></td><td><mark style=\"background-color: hsl(0, 75%, 100%); opacity:1.0;                     line-height:1.75\"><font color=\"black\"> [[post]]                    </font></mark><mark style=\"background-color: hsl(0, 75%, 99%); opacity:1.0;                     line-height:1.75\"><font color=\"black\">  Hey redditors&amp;#x200B;I just need some platforms to vent and share my mind for the moment.  I have been super down lately and is currently dealing the demon within myself right now.                    </font></mark><mark style=\"background-color: hsl(0, 75%, 100%); opacity:1.0;                     line-height:1.75\"><font color=\"black\">   I have a good job, am smart but I constantly feel like I am not good enough.  My job is facing some set back and I am currently doing very little due to the lack of process on project.  Therefore, I feel like a human waste at my work and is on my phone all the time.  In addition, I have been sick/injured the last two week so I couldn't do anything active.                    </font></mark><mark style=\"background-color: hsl(0, 75%, 100%); opacity:1.0;                     line-height:1.75\"><font color=\"black\">   Therefore, I just sit in my room watch TV/netflix and feel so useless and worthless.   I am also feeling the just so empty and lonely within my social circle.  I feel like I don't exist and anything I do don't matter.                    </font></mark><mark style=\"background-color: hsl(0, 75%, 100%); opacity:1.0;                     line-height:1.75\"><font color=\"black\">   All the people in my group chat are seemingly avoiding me.  No one come and ask me how am I feeling.  I feel like I am giving to much to people around me yet not getting anything back.  I know things will getting better but at this moment that the only thing on my mind.....  &amp;#x200B;Thank you all for listening...                    </font></mark><mark style=\"background-color: hsl(0, 75%, 100%); opacity:1.0;                     line-height:1.75\"><font color=\"black\"> [[comment]]                    </font></mark><mark style=\"background-color: hsl(0, 75%, 93%); opacity:1.0;                     line-height:1.75\"><font color=\"black\"> I know it might not be comforting or helpful, but I know that empty feeling. Not having a logical reason to be depressed makes me feel so empty inside.                    </font></mark><mark style=\"background-color: hsl(0, 75%, 100%); opacity:1.0;                     line-height:1.75\"><font color=\"black\"> [[reply]]                    </font></mark><mark style=\"background-color: hsl(120, 75%, 62%); opacity:1.0;                     line-height:1.75\"><font color=\"black\"> Thank you.                    </font></mark><mark style=\"background-color: hsl(120, 75%, 70%); opacity:1.0;                     line-height:1.75\"><font color=\"black\">  Just knowing someone is reading what I wrote is helpful to me already..                    </font></mark></td><tr></table>"
      ],
      "text/plain": [
       "<IPython.core.display.HTML object>"
      ]
     },
     "metadata": {},
     "output_type": "display_data"
    },
    {
     "name": "stdout",
     "output_type": "stream",
     "text": [
      "tensor([ 0.0000,  0.1629,  0.0000, -0.4447,  0.0000,  0.0099, -0.0674,  0.8781])\n",
      "\u001b[1m Visualization For Score \u001b[0m\n"
     ]
    },
    {
     "data": {
      "text/html": [
       "<table width: 100%><div style=\"border-top: 1px solid; margin-top: 5px;             padding-top: 5px; display: inline-block\"><b>Legend: </b><span style=\"display: inline-block; width: 10px; height: 10px;                 border: 1px solid; background-color:                 hsl(0, 75%, 60%)\"></span> Negative  <span style=\"display: inline-block; width: 10px; height: 10px;                 border: 1px solid; background-color:                 hsl(0, 75%, 100%)\"></span> Neutral  <span style=\"display: inline-block; width: 10px; height: 10px;                 border: 1px solid; background-color:                 hsl(120, 75%, 50%)\"></span> Positive  </div><tr><th>True Label</th><th>Predicted Label</th><th>Attribution Label</th><th>Attribution Score</th><th>Word Importance</th><tr><td><text style=\"padding-right:2em\"><b>2</b></text></td><td><text style=\"padding-right:2em\"><b>2 (1.00)</b></text></td><td><text style=\"padding-right:2em\"><b>I'm wondering if anyone here has thought about suicide methods that come close to killing you but can't.  I'm not ready to die but I want to hurt.  I want people to see physically how much I'm hurting emotionally.I've thought about jumping in front of cars or falling from non-lethal heights.  Those aren't the nicest methods but I'll go with them if I can't find a better one. It was even more amazing and beautiful than I imagined, you definitely should go if you can. A lot of people speak or at least understand English, so that's not a problem either.  I'm gonna try and go one day! Vacations give me like a temporary relief from all the bad shit in my life. Glad you had a good time :)</b></text></td><td><text style=\"padding-right:2em\"><b>0.54</b></text></td><td><mark style=\"background-color: hsl(0, 75%, 100%); opacity:1.0;                     line-height:1.75\"><font color=\"black\"> [[post]]                    </font></mark><mark style=\"background-color: hsl(120, 75%, 92%); opacity:1.0;                     line-height:1.75\"><font color=\"black\"> This is an interesting thing I've noticed about myself. Everyone - and I do mean *everyone* - that I know likes to either take pictures of themselves or have pictures of them be taken. Most people's social media profiles are filled with their own face - which is not a bad thing in any way, in fact it's wonderful they're confident in who they are. But even the quieter, sadder looking people I've met still like to show off images of themselves. Which, I guess, goes to show, that you have to be in a pretty bad place and have a significantly low image of yourself to never once consider wanting to display your own face to the rest of the world. And that's where I'm at right now. :/                    </font></mark><mark style=\"background-color: hsl(0, 75%, 100%); opacity:1.0;                     line-height:1.75\"><font color=\"black\"> [[comment]]                    </font></mark><mark style=\"background-color: hsl(0, 75%, 83%); opacity:1.0;                     line-height:1.75\"><font color=\"black\"> It was even more amazing and beautiful than I imagined, you definitely should go if you can. A lot of people speak or at least understand English, so that's not a problem either.                    </font></mark><mark style=\"background-color: hsl(0, 75%, 100%); opacity:1.0;                     line-height:1.75\"><font color=\"black\"> [[reply]]                    </font></mark><mark style=\"background-color: hsl(120, 75%, 100%); opacity:1.0;                     line-height:1.75\"><font color=\"black\"> I'm gonna try and go one day!                    </font></mark><mark style=\"background-color: hsl(0, 75%, 98%); opacity:1.0;                     line-height:1.75\"><font color=\"black\"> Vacations give me like a temporary relief from all the bad shit in my life.                    </font></mark><mark style=\"background-color: hsl(120, 75%, 57%); opacity:1.0;                     line-height:1.75\"><font color=\"black\"> Glad you had a good time :)                    </font></mark></td><tr></table>"
      ],
      "text/plain": [
       "<IPython.core.display.HTML object>"
      ]
     },
     "metadata": {},
     "output_type": "display_data"
    },
    {
     "name": "stdout",
     "output_type": "stream",
     "text": [
      "tensor([ 0.0000,  0.0453,  0.0465,  0.0094,  0.0309,  0.0000, -0.5046,  0.0000,\n",
      "        -0.2589,  0.3164,  0.7569])\n",
      "\u001b[1m Visualization For Score \u001b[0m\n"
     ]
    },
    {
     "data": {
      "text/html": [
       "<table width: 100%><div style=\"border-top: 1px solid; margin-top: 5px;             padding-top: 5px; display: inline-block\"><b>Legend: </b><span style=\"display: inline-block; width: 10px; height: 10px;                 border: 1px solid; background-color:                 hsl(0, 75%, 60%)\"></span> Negative  <span style=\"display: inline-block; width: 10px; height: 10px;                 border: 1px solid; background-color:                 hsl(0, 75%, 100%)\"></span> Neutral  <span style=\"display: inline-block; width: 10px; height: 10px;                 border: 1px solid; background-color:                 hsl(120, 75%, 50%)\"></span> Positive  </div><tr><th>True Label</th><th>Predicted Label</th><th>Attribution Label</th><th>Attribution Score</th><th>Word Importance</th><tr><td><text style=\"padding-right:2em\"><b>2</b></text></td><td><text style=\"padding-right:2em\"><b>2 (1.00)</b></text></td><td><text style=\"padding-right:2em\"><b>I'm wondering if anyone here has thought about suicide methods that come close to killing you but can't.  I'm not ready to die but I want to hurt.  I want people to see physically how much I'm hurting emotionally.I've thought about jumping in front of cars or falling from non-lethal heights.  Those aren't the nicest methods but I'll go with them if I can't find a better one. Though I don't know if it was emotional abuse, my father's behaviour towards me could create a non-nurturing environment for me as well. I'm not very touchy around any subject if you need to confide in someone.  I understand. Just you listening about it is enough. I thank you for that.</b></text></td><td><text style=\"padding-right:2em\"><b>0.44</b></text></td><td><mark style=\"background-color: hsl(0, 75%, 100%); opacity:1.0;                     line-height:1.75\"><font color=\"black\"> [[post]]                    </font></mark><mark style=\"background-color: hsl(120, 75%, 98%); opacity:1.0;                     line-height:1.75\"><font color=\"black\">  Don't know how to start this but my life is just like the rest in my place; predictable, mediocre and just overcomplicates things. It's just... this environment I'm raised in just turned me into a guy who does nothing but overly depends on others, especially his parents, just to cope up in the society I'm in. That mindset can only go so far and I'm disgusted by it.                    </font></mark><mark style=\"background-color: hsl(120, 75%, 98%); opacity:1.0;                     line-height:1.75\"><font color=\"black\">  Not only that, but this place is not enough to further develop myself. The scary thing here us that this is what others did and did not reach the same goals as I desired. Simply put, history does repeat itself and it is discouraging to just do something from building my career to doing mundane things. I just don't want to be like them and repeat that exact trend.                    </font></mark><mark style=\"background-color: hsl(120, 75%, 100%); opacity:1.0;                     line-height:1.75\"><font color=\"black\">  If this lifetime is as predictable and mediocre as history dictates, then I have no choice but to end my life. I'd rather risk it than slowly becoming one of them. I can feel that change bit-by-bit every second of every day. I'm scared of what's to come after that.                    </font></mark><mark style=\"background-color: hsl(120, 75%, 99%); opacity:1.0;                     line-height:1.75\"><font color=\"black\">  I have no one to talk to about my situation and even if do, one would just disregard it and just say that I'm 'crazy' because I'm 'malnourished' or something. I might go mad from their cluelessness and ignorance. I have so much to talk about and details to insert in but this is the simplification of my current situation.                    </font></mark><mark style=\"background-color: hsl(0, 75%, 100%); opacity:1.0;                     line-height:1.75\"><font color=\"black\"> [[comment]]                    </font></mark><mark style=\"background-color: hsl(0, 75%, 80%); opacity:1.0;                     line-height:1.75\"><font color=\"black\"> Though I don't know if it was emotional abuse, my father's behaviour towards me could create a non-nurturing environment for me as well. I'm not very touchy around any subject if you need to confide in someone.                    </font></mark><mark style=\"background-color: hsl(0, 75%, 100%); opacity:1.0;                     line-height:1.75\"><font color=\"black\"> [[reply]]                    </font></mark><mark style=\"background-color: hsl(0, 75%, 90%); opacity:1.0;                     line-height:1.75\"><font color=\"black\"> I understand.                    </font></mark><mark style=\"background-color: hsl(120, 75%, 85%); opacity:1.0;                     line-height:1.75\"><font color=\"black\"> Just you listening about it is enough.                    </font></mark><mark style=\"background-color: hsl(120, 75%, 63%); opacity:1.0;                     line-height:1.75\"><font color=\"black\"> I thank you for that.                    </font></mark></td><tr></table>"
      ],
      "text/plain": [
       "<IPython.core.display.HTML object>"
      ]
     },
     "metadata": {},
     "output_type": "display_data"
    },
    {
     "name": "stdout",
     "output_type": "stream",
     "text": [
      "tensor([ 0.0000,  0.2769,  0.0000, -0.2062,  0.0000, -0.3485,  0.2518,  0.8342])\n",
      "\u001b[1m Visualization For Score \u001b[0m\n"
     ]
    },
    {
     "data": {
      "text/html": [
       "<table width: 100%><div style=\"border-top: 1px solid; margin-top: 5px;             padding-top: 5px; display: inline-block\"><b>Legend: </b><span style=\"display: inline-block; width: 10px; height: 10px;                 border: 1px solid; background-color:                 hsl(0, 75%, 60%)\"></span> Negative  <span style=\"display: inline-block; width: 10px; height: 10px;                 border: 1px solid; background-color:                 hsl(0, 75%, 100%)\"></span> Neutral  <span style=\"display: inline-block; width: 10px; height: 10px;                 border: 1px solid; background-color:                 hsl(120, 75%, 50%)\"></span> Positive  </div><tr><th>True Label</th><th>Predicted Label</th><th>Attribution Label</th><th>Attribution Score</th><th>Word Importance</th><tr><td><text style=\"padding-right:2em\"><b>2</b></text></td><td><text style=\"padding-right:2em\"><b>2 (1.00)</b></text></td><td><text style=\"padding-right:2em\"><b>I'm wondering if anyone here has thought about suicide methods that come close to killing you but can't.  I'm not ready to die but I want to hurt.  I want people to see physically how much I'm hurting emotionally.I've thought about jumping in front of cars or falling from non-lethal heights.  Those aren't the nicest methods but I'll go with them if I can't find a better one. What is the name of your blog? I'm currently learning Korean so I would enjoy it :) Oh first, thank you for interest in my post and I'm sorry but my blog is in platform which is only available in Korea and all posts in my blog are locked because I'm ashamed when I show people my bad emotions like sadness,angry,and depression. I hope you will get better way to learn Korean It must be more helpful and enjoyable than my blog things. I'm sorry and thank you,, Hope you have a nice day! :)</b></text></td><td><text style=\"padding-right:2em\"><b>0.81</b></text></td><td><mark style=\"background-color: hsl(0, 75%, 100%); opacity:1.0;                     line-height:1.75\"><font color=\"black\"> [[post]]                    </font></mark><mark style=\"background-color: hsl(120, 75%, 87%); opacity:1.0;                     line-height:1.75\"><font color=\"black\"> I think there are so many peoples in Korea like who always against to other's opinions and only insist there thoughts. I don't intend to humble Korean or people close to me but who I've been met and deeply bond with didn't try to sympathize me. They just response as if I'm a weirdo. If you can translate comments any of Korean youtube video, you can see how peoples are aggressive and disdain other's opinions and insist only just their own...Plus, I'm Korean and live in here about 20years and I wanna freaking escape our country...I'm tired of my suck lifeð­I'm sorry my English is bad, so you're gonna be confused what I'm saying                    </font></mark><mark style=\"background-color: hsl(0, 75%, 100%); opacity:1.0;                     line-height:1.75\"><font color=\"black\"> [[comment]]                    </font></mark><mark style=\"background-color: hsl(0, 75%, 92%); opacity:1.0;                     line-height:1.75\"><font color=\"black\"> What is the name of your blog? I'm currently learning Korean so I would enjoy it :)                    </font></mark><mark style=\"background-color: hsl(0, 75%, 100%); opacity:1.0;                     line-height:1.75\"><font color=\"black\"> [[reply]]                    </font></mark><mark style=\"background-color: hsl(0, 75%, 87%); opacity:1.0;                     line-height:1.75\"><font color=\"black\"> Oh first, thank you for interest in my post and I'm sorry but my blog is in platform which is only available in Korea and all posts in my blog are locked because I'm ashamed when I show people my bad emotions like sadness,angry,and depression.                    </font></mark><mark style=\"background-color: hsl(120, 75%, 88%); opacity:1.0;                     line-height:1.75\"><font color=\"black\"> I hope you will get better way to learn Korean It must be more helpful and enjoyable than my blog things.                    </font></mark><mark style=\"background-color: hsl(120, 75%, 59%); opacity:1.0;                     line-height:1.75\"><font color=\"black\"> I'm sorry and thank you,, Hope you have a nice day! :)                    </font></mark></td><tr></table>"
      ],
      "text/plain": [
       "<IPython.core.display.HTML object>"
      ]
     },
     "metadata": {},
     "output_type": "display_data"
    },
    {
     "name": "stdout",
     "output_type": "stream",
     "text": [
      "tensor([ 0.0000,  0.0973,  0.0793,  0.0916,  0.0000, -0.3848,  0.0000,  0.1992,\n",
      "         0.1361,  0.8773])\n",
      "\u001b[1m Visualization For Score \u001b[0m\n"
     ]
    },
    {
     "data": {
      "text/html": [
       "<table width: 100%><div style=\"border-top: 1px solid; margin-top: 5px;             padding-top: 5px; display: inline-block\"><b>Legend: </b><span style=\"display: inline-block; width: 10px; height: 10px;                 border: 1px solid; background-color:                 hsl(0, 75%, 60%)\"></span> Negative  <span style=\"display: inline-block; width: 10px; height: 10px;                 border: 1px solid; background-color:                 hsl(0, 75%, 100%)\"></span> Neutral  <span style=\"display: inline-block; width: 10px; height: 10px;                 border: 1px solid; background-color:                 hsl(120, 75%, 50%)\"></span> Positive  </div><tr><th>True Label</th><th>Predicted Label</th><th>Attribution Label</th><th>Attribution Score</th><th>Word Importance</th><tr><td><text style=\"padding-right:2em\"><b>2</b></text></td><td><text style=\"padding-right:2em\"><b>2 (1.00)</b></text></td><td><text style=\"padding-right:2em\"><b>I'm wondering if anyone here has thought about suicide methods that come close to killing you but can't.  I'm not ready to die but I want to hurt.  I want people to see physically how much I'm hurting emotionally.I've thought about jumping in front of cars or falling from non-lethal heights.  Those aren't the nicest methods but I'll go with them if I can't find a better one. Not really good advice, but I suggest lurking on this sub for a little bit. Sometimes some really good advice, ideas and tips will come along.  That is good advice. IÃ¢ÂÂve already started doing this. Thank you! </b></text></td><td><text style=\"padding-right:2em\"><b>1.10</b></text></td><td><mark style=\"background-color: hsl(0, 75%, 100%); opacity:1.0;                     line-height:1.75\"><font color=\"black\"> [[post]]                    </font></mark><mark style=\"background-color: hsl(120, 75%, 96%); opacity:1.0;                     line-height:1.75\"><font color=\"black\">  First and foremost, if this is inappropriate for me to seek this kind of advice within your support space, I apologize and will happily remove my post. I absolutely love my girlfriend. She is the most special woman I have ever met. She Is my  best friend, and I want to spend my life with her, without question.                    </font></mark><mark style=\"background-color: hsl(120, 75%, 97%); opacity:1.0;                     line-height:1.75\"><font color=\"black\">  She has self-described depressive episodes where she feels hopeless,  like she canât do anything right and how everything in her life is bad. Tonight I had a moment where I realized Iâm entirely un-equip on how to best support her. She was having a very low moment and opened up to meâdescribing how she feltâfor the very first time. I defensively made it about me and an attack on our relationship, and instantly realized this was a huge mistake.                    </font></mark><mark style=\"background-color: hsl(120, 75%, 96%); opacity:1.0;                     line-height:1.75\"><font color=\"black\">  I have a genuine desire to learn the proper tools on how best to support her when she feels like this, and Iâm hoping that you will offer me some pointers from your own personal experiences. I never want to make such a stupid mistake again, and to be the best support structure I can possible be. Please help with any and all advice!                    </font></mark><mark style=\"background-color: hsl(0, 75%, 100%); opacity:1.0;                     line-height:1.75\"><font color=\"black\"> [[comment]]                    </font></mark><mark style=\"background-color: hsl(0, 75%, 85%); opacity:1.0;                     line-height:1.75\"><font color=\"black\"> Not really good advice, but I suggest lurking on this sub for a little bit. Sometimes some really good advice, ideas and tips will come along.                    </font></mark><mark style=\"background-color: hsl(0, 75%, 100%); opacity:1.0;                     line-height:1.75\"><font color=\"black\"> [[reply]]                    </font></mark><mark style=\"background-color: hsl(120, 75%, 91%); opacity:1.0;                     line-height:1.75\"><font color=\"black\"> That is good advice.                    </font></mark><mark style=\"background-color: hsl(120, 75%, 94%); opacity:1.0;                     line-height:1.75\"><font color=\"black\"> IÃ¢ÂÂve already started doing this.                    </font></mark><mark style=\"background-color: hsl(120, 75%, 57%); opacity:1.0;                     line-height:1.75\"><font color=\"black\"> Thank you!                    </font></mark></td><tr></table>"
      ],
      "text/plain": [
       "<IPython.core.display.HTML object>"
      ]
     },
     "metadata": {},
     "output_type": "display_data"
    },
    {
     "name": "stdout",
     "output_type": "stream",
     "text": [
      "tensor([ 0.0000,  0.0647,  0.1114,  0.0270,  0.0272,  0.0000, -0.2410,  0.0000,\n",
      "         0.1476,  0.1801,  0.9325])\n",
      "\u001b[1m Visualization For Score \u001b[0m\n"
     ]
    },
    {
     "data": {
      "text/html": [
       "<table width: 100%><div style=\"border-top: 1px solid; margin-top: 5px;             padding-top: 5px; display: inline-block\"><b>Legend: </b><span style=\"display: inline-block; width: 10px; height: 10px;                 border: 1px solid; background-color:                 hsl(0, 75%, 60%)\"></span> Negative  <span style=\"display: inline-block; width: 10px; height: 10px;                 border: 1px solid; background-color:                 hsl(0, 75%, 100%)\"></span> Neutral  <span style=\"display: inline-block; width: 10px; height: 10px;                 border: 1px solid; background-color:                 hsl(120, 75%, 50%)\"></span> Positive  </div><tr><th>True Label</th><th>Predicted Label</th><th>Attribution Label</th><th>Attribution Score</th><th>Word Importance</th><tr><td><text style=\"padding-right:2em\"><b>2</b></text></td><td><text style=\"padding-right:2em\"><b>2 (1.00)</b></text></td><td><text style=\"padding-right:2em\"><b>I'm wondering if anyone here has thought about suicide methods that come close to killing you but can't.  I'm not ready to die but I want to hurt.  I want people to see physically how much I'm hurting emotionally.I've thought about jumping in front of cars or falling from non-lethal heights.  Those aren't the nicest methods but I'll go with them if I can't find a better one. That's good to hear! Could you see a doctor to get the diagnose and possibly discuss about the therapy? I just got a new family doctor. I'll ask for a referral.\n",
       "\n",
       "Thanks for responding. :) </b></text></td><td><text style=\"padding-right:2em\"><b>1.25</b></text></td><td><mark style=\"background-color: hsl(0, 75%, 100%); opacity:1.0;                     line-height:1.75\"><font color=\"black\"> [[post]]                    </font></mark><mark style=\"background-color: hsl(120, 75%, 97%); opacity:1.0;                     line-height:1.75\"><font color=\"black\">  I have no emotional connection with anything in my life. No passion. Every day, I do work that I don't want to do... Because I don't know what is the work that I want to do. I cut off contact with my family.                    </font></mark><mark style=\"background-color: hsl(120, 75%, 95%); opacity:1.0;                     line-height:1.75\"><font color=\"black\">  I feel no negativity about it. No guilt. No regret. No hate. Nothing. I cut off contact with my two separate groups of friends.                    </font></mark><mark style=\"background-color: hsl(120, 75%, 99%); opacity:1.0;                     line-height:1.75\"><font color=\"black\">  Meh. I don't feel lonely. I don't desire human contact.                    </font></mark><mark style=\"background-color: hsl(120, 75%, 99%); opacity:1.0;                     line-height:1.75\"><font color=\"black\">  I cry; I've realized not because I'm sad, but because I feel empty. I'm not even looking to feel happy. I just want to feel some passion or excitement for something.                    </font></mark><mark style=\"background-color: hsl(0, 75%, 100%); opacity:1.0;                     line-height:1.75\"><font color=\"black\"> [[comment]]                    </font></mark><mark style=\"background-color: hsl(0, 75%, 91%); opacity:1.0;                     line-height:1.75\"><font color=\"black\"> That's good to hear! Could you see a doctor to get the diagnose and possibly discuss about the therapy?                    </font></mark><mark style=\"background-color: hsl(0, 75%, 100%); opacity:1.0;                     line-height:1.75\"><font color=\"black\"> [[reply]]                    </font></mark><mark style=\"background-color: hsl(120, 75%, 93%); opacity:1.0;                     line-height:1.75\"><font color=\"black\"> I just got a new family doctor.                    </font></mark><mark style=\"background-color: hsl(120, 75%, 91%); opacity:1.0;                     line-height:1.75\"><font color=\"black\"> I'll ask for a referral.                    </font></mark><mark style=\"background-color: hsl(120, 75%, 54%); opacity:1.0;                     line-height:1.75\"><font color=\"black\"> \n",
       "\n",
       "Thanks for responding. :)                    </font></mark></td><tr></table>"
      ],
      "text/plain": [
       "<IPython.core.display.HTML object>"
      ]
     },
     "metadata": {},
     "output_type": "display_data"
    },
    {
     "name": "stdout",
     "output_type": "stream",
     "text": [
      "tensor([ 0.0000,  0.0500,  0.0564,  0.0000, -0.2206, -0.0888,  0.0000,  0.5911,\n",
      "         0.5310,  0.4318,  0.3464])\n",
      "\u001b[1m Visualization For Score \u001b[0m\n"
     ]
    },
    {
     "data": {
      "text/html": [
       "<table width: 100%><div style=\"border-top: 1px solid; margin-top: 5px;             padding-top: 5px; display: inline-block\"><b>Legend: </b><span style=\"display: inline-block; width: 10px; height: 10px;                 border: 1px solid; background-color:                 hsl(0, 75%, 60%)\"></span> Negative  <span style=\"display: inline-block; width: 10px; height: 10px;                 border: 1px solid; background-color:                 hsl(0, 75%, 100%)\"></span> Neutral  <span style=\"display: inline-block; width: 10px; height: 10px;                 border: 1px solid; background-color:                 hsl(120, 75%, 50%)\"></span> Positive  </div><tr><th>True Label</th><th>Predicted Label</th><th>Attribution Label</th><th>Attribution Score</th><th>Word Importance</th><tr><td><text style=\"padding-right:2em\"><b>2</b></text></td><td><text style=\"padding-right:2em\"><b>2 (1.00)</b></text></td><td><text style=\"padding-right:2em\"><b>I'm wondering if anyone here has thought about suicide methods that come close to killing you but can't.  I'm not ready to die but I want to hurt.  I want people to see physically how much I'm hurting emotionally.I've thought about jumping in front of cars or falling from non-lethal heights.  Those aren't the nicest methods but I'll go with them if I can't find a better one. Try and be there for her as partner instead of as someone who works in the field. I think it's actually a positive that you are so familiar with how all that jazz works. She's inpatient so she'll have access to doctors, therapists, meds, whatever. What she won't have access is a caring partner, and that's the role you need to fill. Also, be sure and take stock of your own wellness. It can't be easy having an SO struggling as you also have your own afflictions. Thanks so much for your feedback!  That's very re-assuring and I appreciate it.  I do feel like I've been so concerned about her that I had let it effect my mental health as well.  </b></text></td><td><text style=\"padding-right:2em\"><b>1.70</b></text></td><td><mark style=\"background-color: hsl(0, 75%, 100%); opacity:1.0;                     line-height:1.75\"><font color=\"black\"> [[post]]                    </font></mark><mark style=\"background-color: hsl(120, 75%, 98%); opacity:1.0;                     line-height:1.75\"><font color=\"black\">  My girlfriend has been severely depressed for the better part of 2 months and fighting her symptoms in addition to medication adherance and weekly talk therapy just wasn't cutting it.  She made the decision to go inpatient today after a week of intermittent SI and thoughts of SIB.  I work in acute mental health treatment and have chronic mental illness myself and while she's told me that she'll alert me when I've hit a raw spot or need to take off my mental health thinking cap, I've never been on the other side of this, at least not in this deep.                    </font></mark><mark style=\"background-color: hsl(120, 75%, 98%); opacity:1.0;                     line-height:1.75\"><font color=\"black\">   She had a rough patch when I first started dating her, but we weren't living together.  Any recommendations for being supportive of her while she's being hospitalized, with thoughts to how my experience as both a mental health provider and consumer may hinder/help my behavior and thoughts?  I won't be visiting everyday, partially because the hospital is over an hour away and also because she's got support just a phone call away and I know relatively what the environment is going to be like.  I will be visiting a couple of times this week but I'm going to be as unintrusive as I can.                    </font></mark><mark style=\"background-color: hsl(0, 75%, 100%); opacity:1.0;                     line-height:1.75\"><font color=\"black\"> [[comment]]                    </font></mark><mark style=\"background-color: hsl(0, 75%, 92%); opacity:1.0;                     line-height:1.75\"><font color=\"black\">  Try and be there for her as partner instead of as someone who works in the field. I think it's actually a positive that you are so familiar with how all that jazz works.                    </font></mark><mark style=\"background-color: hsl(0, 75%, 97%); opacity:1.0;                     line-height:1.75\"><font color=\"black\">  She's inpatient so she'll have access to doctors, therapists, meds, whatever. What she won't have access is a caring partner, and that's the role you need to fill. Also, be sure and take stock of your own wellness. It can't be easy having an SO struggling as you also have your own afflictions.                    </font></mark><mark style=\"background-color: hsl(0, 75%, 100%); opacity:1.0;                     line-height:1.75\"><font color=\"black\"> [[reply]]                    </font></mark><mark style=\"background-color: hsl(120, 75%, 71%); opacity:1.0;                     line-height:1.75\"><font color=\"black\"> Thanks so much for your feedback!                    </font></mark><mark style=\"background-color: hsl(120, 75%, 74%); opacity:1.0;                     line-height:1.75\"><font color=\"black\">  That's very re-assuring and I appreciate it.                    </font></mark><mark style=\"background-color: hsl(120, 75%, 79%); opacity:1.0;                     line-height:1.75\"><font color=\"black\">  I do feel like I've been so concerned about her that I had let it effect my mental health as well.                    </font></mark><mark style=\"background-color: hsl(120, 75%, 83%); opacity:1.0;                     line-height:1.75\"><font color=\"black\">                      </font></mark></td><tr></table>"
      ],
      "text/plain": [
       "<IPython.core.display.HTML object>"
      ]
     },
     "metadata": {},
     "output_type": "display_data"
    },
    {
     "name": "stdout",
     "output_type": "stream",
     "text": [
      "tensor([ 0.0000,  0.1558,  0.1404,  0.0000, -0.2592, -0.1960,  0.0000,  0.4574,\n",
      "         0.3101,  0.3541,  0.5640,  0.3186])\n",
      "\u001b[1m Visualization For Score \u001b[0m\n"
     ]
    },
    {
     "data": {
      "text/html": [
       "<table width: 100%><div style=\"border-top: 1px solid; margin-top: 5px;             padding-top: 5px; display: inline-block\"><b>Legend: </b><span style=\"display: inline-block; width: 10px; height: 10px;                 border: 1px solid; background-color:                 hsl(0, 75%, 60%)\"></span> Negative  <span style=\"display: inline-block; width: 10px; height: 10px;                 border: 1px solid; background-color:                 hsl(0, 75%, 100%)\"></span> Neutral  <span style=\"display: inline-block; width: 10px; height: 10px;                 border: 1px solid; background-color:                 hsl(120, 75%, 50%)\"></span> Positive  </div><tr><th>True Label</th><th>Predicted Label</th><th>Attribution Label</th><th>Attribution Score</th><th>Word Importance</th><tr><td><text style=\"padding-right:2em\"><b>2</b></text></td><td><text style=\"padding-right:2em\"><b>2 (1.00)</b></text></td><td><text style=\"padding-right:2em\"><b>I'm wondering if anyone here has thought about suicide methods that come close to killing you but can't.  I'm not ready to die but I want to hurt.  I want people to see physically how much I'm hurting emotionally.I've thought about jumping in front of cars or falling from non-lethal heights.  Those aren't the nicest methods but I'll go with them if I can't find a better one. Facing tough situations is very important to learning more about how to cope with depressive disorder. These experiences help us in the long term through constant trifles. Don't let yourself be down because all these things has happened but let go of the negatives and stay vigilant. Let your situation calm down and see where to go from there. Thanks for your reply. Yeah, it's about learning from the situations and trying to cope in a positive way or manner. I'll try not to, I've been strong I guess, otherwise I wouldn't be 'here' posting this. I like that, staying vigilant. Alrighty thanks, I'll try to get some clarity.</b></text></td><td><text style=\"padding-right:2em\"><b>1.85</b></text></td><td><mark style=\"background-color: hsl(0, 75%, 100%); opacity:1.0;                     line-height:1.75\"><font color=\"black\"> [[post]]                    </font></mark><mark style=\"background-color: hsl(120, 75%, 93%); opacity:1.0;                     line-height:1.75\"><font color=\"black\">  I donât even knowâ¦â¦.. I feel so lost. This the worst experience in my life.                    </font></mark><mark style=\"background-color: hsl(120, 75%, 93%); opacity:1.0;                     line-height:1.75\"><font color=\"black\">  These past several years consisted of frustrations, situational bullshit, existential bullshit, dealing with things I canât change, photos I hate of myself, all the RX and products for external issues, facing or dealing with people, social norms, trajectory and losing sight of what I wanted out of life, original intentions in my life, lack of friends, lacking relationships until recently, lacking social gatherings and being in other peopleâs lives, money issues, more money issues, lack of consistency. I am so lost and itâs almost September, another time for âchangeâ when people talk about school again, a lot of momentum, things theyâre working on, or Fall/Winter planning.                    </font></mark><mark style=\"background-color: hsl(0, 75%, 100%); opacity:1.0;                     line-height:1.75\"><font color=\"black\"> [[comment]]                    </font></mark><mark style=\"background-color: hsl(0, 75%, 90%); opacity:1.0;                     line-height:1.75\"><font color=\"black\">  Facing tough situations is very important to learning more about how to cope with depressive disorder. These experiences help us in the long term through constant trifles.                    </font></mark><mark style=\"background-color: hsl(0, 75%, 93%); opacity:1.0;                     line-height:1.75\"><font color=\"black\">  Don't let yourself be down because all these things has happened but let go of the negatives and stay vigilant. Let your situation calm down and see where to go from there.                    </font></mark><mark style=\"background-color: hsl(0, 75%, 100%); opacity:1.0;                     line-height:1.75\"><font color=\"black\"> [[reply]]                    </font></mark><mark style=\"background-color: hsl(120, 75%, 78%); opacity:1.0;                     line-height:1.75\"><font color=\"black\"> Thanks for your reply.                    </font></mark><mark style=\"background-color: hsl(120, 75%, 85%); opacity:1.0;                     line-height:1.75\"><font color=\"black\"> Yeah, it's about learning from the situations and trying to cope in a positive way or manner.                    </font></mark><mark style=\"background-color: hsl(120, 75%, 83%); opacity:1.0;                     line-height:1.75\"><font color=\"black\"> I'll try not to, I've been strong I guess, otherwise I wouldn't be 'here' posting this.                    </font></mark><mark style=\"background-color: hsl(120, 75%, 72%); opacity:1.0;                     line-height:1.75\"><font color=\"black\"> I like that, staying vigilant.                    </font></mark><mark style=\"background-color: hsl(120, 75%, 85%); opacity:1.0;                     line-height:1.75\"><font color=\"black\"> Alrighty thanks, I'll try to get some clarity.                    </font></mark></td><tr></table>"
      ],
      "text/plain": [
       "<IPython.core.display.HTML object>"
      ]
     },
     "metadata": {},
     "output_type": "display_data"
    },
    {
     "name": "stdout",
     "output_type": "stream",
     "text": [
      "tensor([ 0.0000, -0.0324,  0.0035,  0.0020, -0.0731,  0.0000, -0.4527,  0.0000,\n",
      "         0.6871,  0.4229,  0.3710])\n",
      "\u001b[1m Visualization For Score \u001b[0m\n"
     ]
    },
    {
     "data": {
      "text/html": [
       "<table width: 100%><div style=\"border-top: 1px solid; margin-top: 5px;             padding-top: 5px; display: inline-block\"><b>Legend: </b><span style=\"display: inline-block; width: 10px; height: 10px;                 border: 1px solid; background-color:                 hsl(0, 75%, 60%)\"></span> Negative  <span style=\"display: inline-block; width: 10px; height: 10px;                 border: 1px solid; background-color:                 hsl(0, 75%, 100%)\"></span> Neutral  <span style=\"display: inline-block; width: 10px; height: 10px;                 border: 1px solid; background-color:                 hsl(120, 75%, 50%)\"></span> Positive  </div><tr><th>True Label</th><th>Predicted Label</th><th>Attribution Label</th><th>Attribution Score</th><th>Word Importance</th><tr><td><text style=\"padding-right:2em\"><b>2</b></text></td><td><text style=\"padding-right:2em\"><b>2 (1.00)</b></text></td><td><text style=\"padding-right:2em\"><b>I'm wondering if anyone here has thought about suicide methods that come close to killing you but can't.  I'm not ready to die but I want to hurt.  I want people to see physically how much I'm hurting emotionally.I've thought about jumping in front of cars or falling from non-lethal heights.  Those aren't the nicest methods but I'll go with them if I can't find a better one. That's a learned thought pattern, one which is hard to break. CBT (Cognitive behavioral therapy) is highly recommended. It helps change this kind of thinking, tho takes time. Thank you. I should bring it up with my therapist.\n",
       "\n",
       "Further guilt tripping is just not working... </b></text></td><td><text style=\"padding-right:2em\"><b>0.93</b></text></td><td><mark style=\"background-color: hsl(0, 75%, 100%); opacity:1.0;                     line-height:1.75\"><font color=\"black\"> [[post]]                    </font></mark><mark style=\"background-color: hsl(0, 75%, 99%); opacity:1.0;                     line-height:1.75\"><font color=\"black\">  I'm fresh off 2 weeks of emotional torture from a bloody narcissist. I want to take a break.                    </font></mark><mark style=\"background-color: hsl(120, 75%, 100%); opacity:1.0;                     line-height:1.75\"><font color=\"black\">  I don't want to adult and look for a job. I don't want to do irl stuff because it's hopeless -- who wants to hire a depressed piece of shit?                    </font></mark><mark style=\"background-color: hsl(120, 75%, 100%); opacity:1.0;                     line-height:1.75\"><font color=\"black\">  I'm drained. Can I take a break? Because all of my jailors say I can't and I'm forced to go back and adult it all out. Only losers and idiots get depressed, they say.                    </font></mark><mark style=\"background-color: hsl(0, 75%, 98%); opacity:1.0;                     line-height:1.75\"><font color=\"black\">  Can I just make the break permanent? I'm exhausted.                    </font></mark><mark style=\"background-color: hsl(0, 75%, 100%); opacity:1.0;                     line-height:1.75\"><font color=\"black\"> [[comment]]                    </font></mark><mark style=\"background-color: hsl(0, 75%, 82%); opacity:1.0;                     line-height:1.75\"><font color=\"black\"> That's a learned thought pattern, one which is hard to break. CBT (Cognitive behavioral therapy) is highly recommended. It helps change this kind of thinking, tho takes time.                    </font></mark><mark style=\"background-color: hsl(0, 75%, 100%); opacity:1.0;                     line-height:1.75\"><font color=\"black\"> [[reply]]                    </font></mark><mark style=\"background-color: hsl(120, 75%, 66%); opacity:1.0;                     line-height:1.75\"><font color=\"black\"> Thank you.                    </font></mark><mark style=\"background-color: hsl(120, 75%, 79%); opacity:1.0;                     line-height:1.75\"><font color=\"black\"> I should bring it up with my therapist.                    </font></mark><mark style=\"background-color: hsl(120, 75%, 82%); opacity:1.0;                     line-height:1.75\"><font color=\"black\"> \n",
       "\n",
       "Further guilt tripping is just not working...                    </font></mark></td><tr></table>"
      ],
      "text/plain": [
       "<IPython.core.display.HTML object>"
      ]
     },
     "metadata": {},
     "output_type": "display_data"
    },
    {
     "name": "stdout",
     "output_type": "stream",
     "text": [
      "tensor([ 0.0000,  0.3153,  0.0000, -0.1820, -0.0044,  0.0000,  0.9089,  0.2032])\n",
      "\u001b[1m Visualization For Score \u001b[0m\n"
     ]
    },
    {
     "data": {
      "text/html": [
       "<table width: 100%><div style=\"border-top: 1px solid; margin-top: 5px;             padding-top: 5px; display: inline-block\"><b>Legend: </b><span style=\"display: inline-block; width: 10px; height: 10px;                 border: 1px solid; background-color:                 hsl(0, 75%, 60%)\"></span> Negative  <span style=\"display: inline-block; width: 10px; height: 10px;                 border: 1px solid; background-color:                 hsl(0, 75%, 100%)\"></span> Neutral  <span style=\"display: inline-block; width: 10px; height: 10px;                 border: 1px solid; background-color:                 hsl(120, 75%, 50%)\"></span> Positive  </div><tr><th>True Label</th><th>Predicted Label</th><th>Attribution Label</th><th>Attribution Score</th><th>Word Importance</th><tr><td><text style=\"padding-right:2em\"><b>2</b></text></td><td><text style=\"padding-right:2em\"><b>2 (1.00)</b></text></td><td><text style=\"padding-right:2em\"><b>I'm wondering if anyone here has thought about suicide methods that come close to killing you but can't.  I'm not ready to die but I want to hurt.  I want people to see physically how much I'm hurting emotionally.I've thought about jumping in front of cars or falling from non-lethal heights.  Those aren't the nicest methods but I'll go with them if I can't find a better one. I find the best way to describe depression is like you have the flu, except no cough, no sore throat, no fever.It just saps motivation and leaves you in a permanent state of \"fuck this\". It's like your worst enemy just jumped into your brain, and knows the exact right thing to say to make you feel like shit. And it really sucks. That's a good way of describing it. I guess relating it to a physical illness would help for the people who have trouble understanding. </b></text></td><td><text style=\"padding-right:2em\"><b>1.24</b></text></td><td><mark style=\"background-color: hsl(0, 75%, 100%); opacity:1.0;                     line-height:1.75\"><font color=\"black\"> [[post]]                    </font></mark><mark style=\"background-color: hsl(120, 75%, 85%); opacity:1.0;                     line-height:1.75\"><font color=\"black\"> I'm having so much trouble explain to any of my loved ones what I'm experiencing and it makes me feel more isolated then I already feel everyday. I have a lot of good days where I feel myself and feel like I'm a good person to be around. Then I have bad days where I feel empty and worthless. My memory feel fried and I can't even have simple conversations with people. These good feelings won't out way my bad days and I'm starting to wonder whether it's worth it.                    </font></mark><mark style=\"background-color: hsl(0, 75%, 100%); opacity:1.0;                     line-height:1.75\"><font color=\"black\"> [[comment]]                    </font></mark><mark style=\"background-color: hsl(0, 75%, 93%); opacity:1.0;                     line-height:1.75\"><font color=\"black\">  I find the best way to describe depression is like you have the flu, except no cough, no sore throat, no fever. It just saps motivation and leaves you in a permanent state of \"fuck this\".                    </font></mark><mark style=\"background-color: hsl(0, 75%, 100%); opacity:1.0;                     line-height:1.75\"><font color=\"black\">  It's like your worst enemy just jumped into your brain, and knows the exact right thing to say to make you feel like shit. And it really sucks.                    </font></mark><mark style=\"background-color: hsl(0, 75%, 100%); opacity:1.0;                     line-height:1.75\"><font color=\"black\"> [[reply]]                    </font></mark><mark style=\"background-color: hsl(120, 75%, 55%); opacity:1.0;                     line-height:1.75\"><font color=\"black\"> That's a good way of describing it.                    </font></mark><mark style=\"background-color: hsl(120, 75%, 90%); opacity:1.0;                     line-height:1.75\"><font color=\"black\"> I guess relating it to a physical illness would help for the people who have trouble understanding.                    </font></mark></td><tr></table>"
      ],
      "text/plain": [
       "<IPython.core.display.HTML object>"
      ]
     },
     "metadata": {},
     "output_type": "display_data"
    },
    {
     "name": "stdout",
     "output_type": "stream",
     "text": [
      "tensor([ 0.0000,  0.0939,  0.2619,  0.0000, -0.1593, -0.0919,  0.0000,  0.0809,\n",
      "         0.0113,  0.3023,  0.8892])\n",
      "\u001b[1m Visualization For Score \u001b[0m\n"
     ]
    },
    {
     "data": {
      "text/html": [
       "<table width: 100%><div style=\"border-top: 1px solid; margin-top: 5px;             padding-top: 5px; display: inline-block\"><b>Legend: </b><span style=\"display: inline-block; width: 10px; height: 10px;                 border: 1px solid; background-color:                 hsl(0, 75%, 60%)\"></span> Negative  <span style=\"display: inline-block; width: 10px; height: 10px;                 border: 1px solid; background-color:                 hsl(0, 75%, 100%)\"></span> Neutral  <span style=\"display: inline-block; width: 10px; height: 10px;                 border: 1px solid; background-color:                 hsl(120, 75%, 50%)\"></span> Positive  </div><tr><th>True Label</th><th>Predicted Label</th><th>Attribution Label</th><th>Attribution Score</th><th>Word Importance</th><tr><td><text style=\"padding-right:2em\"><b>2</b></text></td><td><text style=\"padding-right:2em\"><b>2 (1.00)</b></text></td><td><text style=\"padding-right:2em\"><b>I'm wondering if anyone here has thought about suicide methods that come close to killing you but can't.  I'm not ready to die but I want to hurt.  I want people to see physically how much I'm hurting emotionally.I've thought about jumping in front of cars or falling from non-lethal heights.  Those aren't the nicest methods but I'll go with them if I can't find a better one. Iâm not trying to be rude or scare you at all. But no. It IS serious. Really, I wish and hope you will talk to your doctor about this immediately. Depression can Disassociate people. But it does not give them delusions.. Delusions derive from other physical or mental illness. And you need to address that so you canât treat it and stay healthy.  Nah no worries. I was genuinley not aware it was this serious, thought it was just caused by the depression. I'll get the necessary help. Thank you. </b></text></td><td><text style=\"padding-right:2em\"><b>1.39</b></text></td><td><mark style=\"background-color: hsl(0, 75%, 100%); opacity:1.0;                     line-height:1.75\"><font color=\"black\"> [[post]]                    </font></mark><mark style=\"background-color: hsl(120, 75%, 96%); opacity:1.0;                     line-height:1.75\"><font color=\"black\">  Well yeah title says it all. The other night I thought there were eyes on every single surface in my room, but they'd close whenever I looked at them, and the eyelids were the actual surface, so they'd dissappear. Felt like my bed was gonna open up and swallow me whole. And yesterday and the day before I thought everyone in my life was some kind of actor, an alien, a robot, I'm not even sure.                    </font></mark><mark style=\"background-color: hsl(120, 75%, 87%); opacity:1.0;                     line-height:1.75\"><font color=\"black\">  Like a Truman Show type thing. I thought I was the centre of some kind of experiment. Anyone else experience anything similar?                    </font></mark><mark style=\"background-color: hsl(0, 75%, 100%); opacity:1.0;                     line-height:1.75\"><font color=\"black\"> [[comment]]                    </font></mark><mark style=\"background-color: hsl(0, 75%, 94%); opacity:1.0;                     line-height:1.75\"><font color=\"black\">  Iâm not trying to be rude or scare you at all. But no. It IS serious. Really, I wish and hope you will talk to your doctor about this immediately.                    </font></mark><mark style=\"background-color: hsl(0, 75%, 97%); opacity:1.0;                     line-height:1.75\"><font color=\"black\">  Depression can Disassociate people. But it does not give them delusions.. Delusions derive from other physical or mental illness. And you need to address that so you canât treat it and stay healthy.                    </font></mark><mark style=\"background-color: hsl(0, 75%, 100%); opacity:1.0;                     line-height:1.75\"><font color=\"black\"> [[reply]]                    </font></mark><mark style=\"background-color: hsl(120, 75%, 96%); opacity:1.0;                     line-height:1.75\"><font color=\"black\"> Nah no worries.                    </font></mark><mark style=\"background-color: hsl(120, 75%, 100%); opacity:1.0;                     line-height:1.75\"><font color=\"black\"> I was genuinley not aware it was this serious, thought it was just caused by the depression.                    </font></mark><mark style=\"background-color: hsl(120, 75%, 85%); opacity:1.0;                     line-height:1.75\"><font color=\"black\"> I'll get the necessary help.                    </font></mark><mark style=\"background-color: hsl(120, 75%, 56%); opacity:1.0;                     line-height:1.75\"><font color=\"black\"> Thank you.                    </font></mark></td><tr></table>"
      ],
      "text/plain": [
       "<IPython.core.display.HTML object>"
      ]
     },
     "metadata": {},
     "output_type": "display_data"
    },
    {
     "name": "stdout",
     "output_type": "stream",
     "text": [
      "tensor([ 0.0000e+00, -2.5246e-02, -2.8836e-02, -1.7418e-04,  0.0000e+00,\n",
      "        -1.5849e-01,  0.0000e+00,  7.6074e-01,  6.2824e-01])\n",
      "\u001b[1m Visualization For Score \u001b[0m\n"
     ]
    },
    {
     "data": {
      "text/html": [
       "<table width: 100%><div style=\"border-top: 1px solid; margin-top: 5px;             padding-top: 5px; display: inline-block\"><b>Legend: </b><span style=\"display: inline-block; width: 10px; height: 10px;                 border: 1px solid; background-color:                 hsl(0, 75%, 60%)\"></span> Negative  <span style=\"display: inline-block; width: 10px; height: 10px;                 border: 1px solid; background-color:                 hsl(0, 75%, 100%)\"></span> Neutral  <span style=\"display: inline-block; width: 10px; height: 10px;                 border: 1px solid; background-color:                 hsl(120, 75%, 50%)\"></span> Positive  </div><tr><th>True Label</th><th>Predicted Label</th><th>Attribution Label</th><th>Attribution Score</th><th>Word Importance</th><tr><td><text style=\"padding-right:2em\"><b>2</b></text></td><td><text style=\"padding-right:2em\"><b>2 (1.00)</b></text></td><td><text style=\"padding-right:2em\"><b>I'm wondering if anyone here has thought about suicide methods that come close to killing you but can't.  I'm not ready to die but I want to hurt.  I want people to see physically how much I'm hurting emotionally.I've thought about jumping in front of cars or falling from non-lethal heights.  Those aren't the nicest methods but I'll go with them if I can't find a better one. If you could I would tell your manager how you've been feeling and if he should ever have trouble with the new hire, he consider you to come back. :) keep your chin up, new job or not.  Thank you :)! I was thinking the same thing but, I wasn't sure if that would be weird to go back on my word. </b></text></td><td><text style=\"padding-right:2em\"><b>1.18</b></text></td><td><mark style=\"background-color: hsl(0, 75%, 100%); opacity:1.0;                     line-height:1.75\"><font color=\"black\"> [[post]]                    </font></mark><mark style=\"background-color: hsl(0, 75%, 99%); opacity:1.0;                     line-height:1.75\"><font color=\"black\">  I quit my job, after 4 months, while I was experiencing major anxiety and depression. I broke down (tears and all) to my boss and let him know how uncomfortable I've been working in his company. I'm a bookkeeper/admin at a design company and I'm totally isolated and work alone.                    </font></mark><mark style=\"background-color: hsl(0, 75%, 99%); opacity:1.0;                     line-height:1.75\"><font color=\"black\">  Its made me feel worse and the quiet days dragged so much. Since \"I quit\" my managers have been really nice to me and showed more interest in me. Ive still stuck around because I felt bad about leaving empty staffed so I offered to train my replacement. My replacement is a total ditz and won't last in the fast pace environment we work in.                    </font></mark><mark style=\"background-color: hsl(0, 75%, 100%); opacity:1.0;                     line-height:1.75\"><font color=\"black\">  I kind of want my job back because I didn't find another job yet and I'm starting to enjoy what I do. I'm afraid if my depression comes again I'll be at the same original state I started, feeling isolated and unmotivated to give work any effort. Anybody go through anything similar?                    </font></mark><mark style=\"background-color: hsl(0, 75%, 100%); opacity:1.0;                     line-height:1.75\"><font color=\"black\"> [[comment]]                    </font></mark><mark style=\"background-color: hsl(0, 75%, 94%); opacity:1.0;                     line-height:1.75\"><font color=\"black\"> If you could I would tell your manager how you've been feeling and if he should ever have trouble with the new hire, he consider you to come back. :) keep your chin up, new job or not.                    </font></mark><mark style=\"background-color: hsl(0, 75%, 100%); opacity:1.0;                     line-height:1.75\"><font color=\"black\"> [[reply]]                    </font></mark><mark style=\"background-color: hsl(120, 75%, 62%); opacity:1.0;                     line-height:1.75\"><font color=\"black\"> Thank you :)!                    </font></mark><mark style=\"background-color: hsl(120, 75%, 69%); opacity:1.0;                     line-height:1.75\"><font color=\"black\"> I was thinking the same thing but, I wasn't sure if that would be weird to go back on my word.                    </font></mark></td><tr></table>"
      ],
      "text/plain": [
       "<IPython.core.display.HTML object>"
      ]
     },
     "metadata": {},
     "output_type": "display_data"
    },
    {
     "name": "stdout",
     "output_type": "stream",
     "text": [
      "tensor([ 0.0000, -0.0068,  0.0000, -0.0388,  0.0000,  0.7103,  0.7028])\n",
      "\u001b[1m Visualization For Score \u001b[0m\n"
     ]
    },
    {
     "data": {
      "text/html": [
       "<table width: 100%><div style=\"border-top: 1px solid; margin-top: 5px;             padding-top: 5px; display: inline-block\"><b>Legend: </b><span style=\"display: inline-block; width: 10px; height: 10px;                 border: 1px solid; background-color:                 hsl(0, 75%, 60%)\"></span> Negative  <span style=\"display: inline-block; width: 10px; height: 10px;                 border: 1px solid; background-color:                 hsl(0, 75%, 100%)\"></span> Neutral  <span style=\"display: inline-block; width: 10px; height: 10px;                 border: 1px solid; background-color:                 hsl(120, 75%, 50%)\"></span> Positive  </div><tr><th>True Label</th><th>Predicted Label</th><th>Attribution Label</th><th>Attribution Score</th><th>Word Importance</th><tr><td><text style=\"padding-right:2em\"><b>2</b></text></td><td><text style=\"padding-right:2em\"><b>2 (1.00)</b></text></td><td><text style=\"padding-right:2em\"><b>I'm wondering if anyone here has thought about suicide methods that come close to killing you but can't.  I'm not ready to die but I want to hurt.  I want people to see physically how much I'm hurting emotionally.I've thought about jumping in front of cars or falling from non-lethal heights.  Those aren't the nicest methods but I'll go with them if I can't find a better one. Im proud of you! For the first time in a couple days i managed to eat lunch, im hoping i can wake up early enough to eat breakfast soon. Good work though im proud and hope you keep up the good work! Thank you! I hope you will improve too!!!</b></text></td><td><text style=\"padding-right:2em\"><b>1.37</b></text></td><td><mark style=\"background-color: hsl(0, 75%, 100%); opacity:1.0;                     line-height:1.75\"><font color=\"black\"> [[post]]                    </font></mark><mark style=\"background-color: hsl(0, 75%, 100%); opacity:1.0;                     line-height:1.75\"><font color=\"black\"> I just managed to eat for over one week in a way that seems pretty healthy, and not like 100kcal a day max...I don't know how but I'm proud of it. Hope I won't relapse and gain some weight                    </font></mark><mark style=\"background-color: hsl(0, 75%, 100%); opacity:1.0;                     line-height:1.75\"><font color=\"black\"> [[comment]]                    </font></mark><mark style=\"background-color: hsl(0, 75%, 99%); opacity:1.0;                     line-height:1.75\"><font color=\"black\"> Im proud of you! For the first time in a couple days i managed to eat lunch, im hoping i can wake up early enough to eat breakfast soon. Good work though im proud and hope you keep up the good work!                    </font></mark><mark style=\"background-color: hsl(0, 75%, 100%); opacity:1.0;                     line-height:1.75\"><font color=\"black\"> [[reply]]                    </font></mark><mark style=\"background-color: hsl(120, 75%, 65%); opacity:1.0;                     line-height:1.75\"><font color=\"black\"> Thank you!                    </font></mark><mark style=\"background-color: hsl(120, 75%, 65%); opacity:1.0;                     line-height:1.75\"><font color=\"black\"> I hope you will improve too!!!                    </font></mark></td><tr></table>"
      ],
      "text/plain": [
       "<IPython.core.display.HTML object>"
      ]
     },
     "metadata": {},
     "output_type": "display_data"
    }
   ],
   "source": [
    "for indexes in index_list:\n",
    "    for j in indexes:\n",
    "        splitbert_integrated_gradient(j, post_sequences[j], comment_sequences[j], reply_sequences[j], post_contents[N], comment_bodies[j], reply_contents[j], satisfactions[j], satisfactions_float[j], True)"
   ]
  },
  {
   "cell_type": "code",
   "execution_count": 64,
   "id": "de9c48d9",
   "metadata": {},
   "outputs": [
    {
     "name": "stdout",
     "output_type": "stream",
     "text": [
      "\u001b[1m Visualization For Score \u001b[0m\n"
     ]
    },
    {
     "data": {
      "text/html": [
       "<table width: 100%><div style=\"border-top: 1px solid; margin-top: 5px;             padding-top: 5px; display: inline-block\"><b>Legend: </b><span style=\"display: inline-block; width: 10px; height: 10px;                 border: 1px solid; background-color:                 hsl(0, 75%, 60%)\"></span> Negative  <span style=\"display: inline-block; width: 10px; height: 10px;                 border: 1px solid; background-color:                 hsl(0, 75%, 100%)\"></span> Neutral  <span style=\"display: inline-block; width: 10px; height: 10px;                 border: 1px solid; background-color:                 hsl(120, 75%, 50%)\"></span> Positive  </div><tr><th>True Label</th><th>Predicted Label</th><th>Attribution Label</th><th>Attribution Score</th><th>Word Importance</th><tr><td><text style=\"padding-right:2em\"><b>0</b></text></td><td><text style=\"padding-right:2em\"><b>0 (1.00)</b></text></td><td><text style=\"padding-right:2em\"><b>I'm wondering if anyone here has thought about suicide methods that come close to killing you but can't.  I'm not ready to die but I want to hurt.  I want people to see physically how much I'm hurting emotionally.I've thought about jumping in front of cars or falling from non-lethal heights.  Those aren't the nicest methods but I'll go with them if I can't find a better one. Donât do these things please. If other people donât believe how hurt you are emotionally, try your best to let it not affect you. No it needs to be seen.  I've talked with people about it all I can.  They don't think I'm being realistic.  I'm capable of killing myself and one day I will if I don't get help.  Maybe sooner rather than later.  Believe it or not this is the responsible choice.</b></text></td><td><text style=\"padding-right:2em\"><b>1.55</b></text></td><td><mark style=\"background-color: hsl(0, 75%, 100%); opacity:1.0;                     line-height:1.75\"><font color=\"black\"> [[post]]                    </font></mark><mark style=\"background-color: hsl(120, 75%, 94%); opacity:1.0;                     line-height:1.75\"><font color=\"black\"> I'm wondering if anyone here has thought about suicide methods that come close to killing you but can't.  I'm not ready to die but I want to hurt.  I want people to see physically how much I'm hurting emotionally. I've thought about jumping in front of cars or falling from non-lethal heights.  Those aren't the nicest methods but I'll go with them if I can't find a better one.                    </font></mark><mark style=\"background-color: hsl(0, 75%, 100%); opacity:1.0;                     line-height:1.75\"><font color=\"black\"> [[comment]]                    </font></mark><mark style=\"background-color: hsl(120, 75%, 53%); opacity:1.0;                     line-height:1.75\"><font color=\"black\"> Donât do these things please. If other people donât believe how hurt you are emotionally, try your best to let it not affect you.                    </font></mark><mark style=\"background-color: hsl(0, 75%, 100%); opacity:1.0;                     line-height:1.75\"><font color=\"black\"> [[reply]]                    </font></mark><mark style=\"background-color: hsl(120, 75%, 96%); opacity:1.0;                     line-height:1.75\"><font color=\"black\"> No it needs to be seen.                    </font></mark><mark style=\"background-color: hsl(0, 75%, 99%); opacity:1.0;                     line-height:1.75\"><font color=\"black\">  I've talked with people about it all I can.                    </font></mark><mark style=\"background-color: hsl(120, 75%, 95%); opacity:1.0;                     line-height:1.75\"><font color=\"black\">  They don't think I'm being realistic.                    </font></mark><mark style=\"background-color: hsl(120, 75%, 100%); opacity:1.0;                     line-height:1.75\"><font color=\"black\">  I'm capable of killing myself and one day I will if I don't get help.                    </font></mark><mark style=\"background-color: hsl(120, 75%, 95%); opacity:1.0;                     line-height:1.75\"><font color=\"black\">  Maybe sooner rather than later.                    </font></mark><mark style=\"background-color: hsl(120, 75%, 92%); opacity:1.0;                     line-height:1.75\"><font color=\"black\">  Believe it or not this is the responsible choice.                    </font></mark></td><tr></table>"
      ],
      "text/plain": [
       "<IPython.core.display.HTML object>"
      ]
     },
     "metadata": {},
     "output_type": "display_data"
    }
   ],
   "source": [
    "N = 23\n",
    "\n",
    "splitbert_integrated_gradient(N, post_sequences[N], comment_sequences[N], reply_sequences[N], post_contents[N], comment_bodies[N], reply_contents[N], satisfactions[N], satisfactions_float[N], True)"
   ]
  },
  {
   "cell_type": "code",
   "execution_count": 220,
   "id": "517cfa18",
   "metadata": {},
   "outputs": [
    {
     "data": {
      "text/html": [
       "<div>\n",
       "<style scoped>\n",
       "    .dataframe tbody tr th:only-of-type {\n",
       "        vertical-align: middle;\n",
       "    }\n",
       "\n",
       "    .dataframe tbody tr th {\n",
       "        vertical-align: top;\n",
       "    }\n",
       "\n",
       "    .dataframe thead th {\n",
       "        text-align: right;\n",
       "    }\n",
       "</style>\n",
       "<table border=\"1\" class=\"dataframe\">\n",
       "  <thead>\n",
       "    <tr style=\"text-align: right;\">\n",
       "      <th></th>\n",
       "      <th>Unnamed: 0</th>\n",
       "      <th>idx</th>\n",
       "      <th>post_text</th>\n",
       "      <th>comment_text</th>\n",
       "      <th>reply_text</th>\n",
       "      <th>score</th>\n",
       "      <th>attr_sentence</th>\n",
       "      <th>attr_score</th>\n",
       "      <th>origin</th>\n",
       "    </tr>\n",
       "  </thead>\n",
       "  <tbody>\n",
       "    <tr>\n",
       "      <th>0</th>\n",
       "      <td>0</td>\n",
       "      <td>3</td>\n",
       "      <td>[\" Almost every day for months, I've gone to a...</td>\n",
       "      <td>['Then you have nothing to lose. Tell her dude.']</td>\n",
       "      <td>[\"I just can't, I'm just way too shy for it.\"]</td>\n",
       "      <td>3.30</td>\n",
       "      <td>I just can't, I'm just way too shy for it.</td>\n",
       "      <td>0.898281</td>\n",
       "      <td>reply</td>\n",
       "    </tr>\n",
       "    <tr>\n",
       "      <th>1</th>\n",
       "      <td>1</td>\n",
       "      <td>3</td>\n",
       "      <td>[\" Almost every day for months, I've gone to a...</td>\n",
       "      <td>['Then you have nothing to lose. Tell her dude.']</td>\n",
       "      <td>[\"I just can't, I'm just way too shy for it.\"]</td>\n",
       "      <td>3.30</td>\n",
       "      <td>Then you have nothing to lose. Tell her dude.</td>\n",
       "      <td>0.437093</td>\n",
       "      <td>comment</td>\n",
       "    </tr>\n",
       "    <tr>\n",
       "      <th>2</th>\n",
       "      <td>2</td>\n",
       "      <td>3</td>\n",
       "      <td>[\" Almost every day for months, I've gone to a...</td>\n",
       "      <td>['Then you have nothing to lose. Tell her dude.']</td>\n",
       "      <td>[\"I just can't, I'm just way too shy for it.\"]</td>\n",
       "      <td>3.30</td>\n",
       "      <td>I've considered that the easiest way, and the...</td>\n",
       "      <td>-0.043678</td>\n",
       "      <td>post</td>\n",
       "    </tr>\n",
       "    <tr>\n",
       "      <th>3</th>\n",
       "      <td>3</td>\n",
       "      <td>9</td>\n",
       "      <td>[\" I was never really a jealous person. I like...</td>\n",
       "      <td>['you could try to explain this dilemma to the...</td>\n",
       "      <td>['Normally they believe my pretending.', \"Some...</td>\n",
       "      <td>3.25</td>\n",
       "      <td>Normally they believe my pretending.</td>\n",
       "      <td>0.704133</td>\n",
       "      <td>reply</td>\n",
       "    </tr>\n",
       "    <tr>\n",
       "      <th>4</th>\n",
       "      <td>4</td>\n",
       "      <td>9</td>\n",
       "      <td>[\" I was never really a jealous person. I like...</td>\n",
       "      <td>['you could try to explain this dilemma to the...</td>\n",
       "      <td>['Normally they believe my pretending.', \"Some...</td>\n",
       "      <td>3.25</td>\n",
       "      <td>you could try to explain this dilemma to them....</td>\n",
       "      <td>0.693229</td>\n",
       "      <td>comment</td>\n",
       "    </tr>\n",
       "    <tr>\n",
       "      <th>5</th>\n",
       "      <td>5</td>\n",
       "      <td>9</td>\n",
       "      <td>[\" I was never really a jealous person. I like...</td>\n",
       "      <td>['you could try to explain this dilemma to the...</td>\n",
       "      <td>['Normally they believe my pretending.', \"Some...</td>\n",
       "      <td>3.25</td>\n",
       "      <td>Sometimes it's just really difficult and tirin...</td>\n",
       "      <td>0.134231</td>\n",
       "      <td>reply</td>\n",
       "    </tr>\n",
       "    <tr>\n",
       "      <th>6</th>\n",
       "      <td>6</td>\n",
       "      <td>10</td>\n",
       "      <td>['Im the guy no one suspects is as messed up a...</td>\n",
       "      <td>['As bad as I feel about the depression, and I...</td>\n",
       "      <td>['no he came out swinging first, he has had an...</td>\n",
       "      <td>2.45</td>\n",
       "      <td>no he came out swinging first, he has had and ...</td>\n",
       "      <td>0.753380</td>\n",
       "      <td>reply</td>\n",
       "    </tr>\n",
       "    <tr>\n",
       "      <th>7</th>\n",
       "      <td>7</td>\n",
       "      <td>10</td>\n",
       "      <td>['Im the guy no one suspects is as messed up a...</td>\n",
       "      <td>['As bad as I feel about the depression, and I...</td>\n",
       "      <td>['no he came out swinging first, he has had an...</td>\n",
       "      <td>2.45</td>\n",
       "      <td>As bad as I feel about the depression, and I a...</td>\n",
       "      <td>0.646939</td>\n",
       "      <td>comment</td>\n",
       "    </tr>\n",
       "    <tr>\n",
       "      <th>8</th>\n",
       "      <td>8</td>\n",
       "      <td>10</td>\n",
       "      <td>['Im the guy no one suspects is as messed up a...</td>\n",
       "      <td>['As bad as I feel about the depression, and I...</td>\n",
       "      <td>['no he came out swinging first, he has had an...</td>\n",
       "      <td>2.45</td>\n",
       "      <td>Im the guy no one suspects is as messed up as ...</td>\n",
       "      <td>0.117850</td>\n",
       "      <td>post</td>\n",
       "    </tr>\n",
       "    <tr>\n",
       "      <th>9</th>\n",
       "      <td>9</td>\n",
       "      <td>11</td>\n",
       "      <td>[' I finally did it. It took me a week to work...</td>\n",
       "      <td>[\"You are saying this because you don't know h...</td>\n",
       "      <td>['Bruh, I went years without having anybody to...</td>\n",
       "      <td>3.10</td>\n",
       "      <td>Bruh, I went years without having anybody to s...</td>\n",
       "      <td>0.553607</td>\n",
       "      <td>reply</td>\n",
       "    </tr>\n",
       "    <tr>\n",
       "      <th>10</th>\n",
       "      <td>10</td>\n",
       "      <td>11</td>\n",
       "      <td>[' I finally did it. It took me a week to work...</td>\n",
       "      <td>[\"You are saying this because you don't know h...</td>\n",
       "      <td>['Bruh, I went years without having anybody to...</td>\n",
       "      <td>3.10</td>\n",
       "      <td>Unless you are terminal, suicide isn't worth it.</td>\n",
       "      <td>0.462067</td>\n",
       "      <td>reply</td>\n",
       "    </tr>\n",
       "    <tr>\n",
       "      <th>11</th>\n",
       "      <td>11</td>\n",
       "      <td>11</td>\n",
       "      <td>[' I finally did it. It took me a week to work...</td>\n",
       "      <td>[\"You are saying this because you don't know h...</td>\n",
       "      <td>['Bruh, I went years without having anybody to...</td>\n",
       "      <td>3.10</td>\n",
       "      <td>You are saying this because you don't know how...</td>\n",
       "      <td>0.410366</td>\n",
       "      <td>comment</td>\n",
       "    </tr>\n",
       "    <tr>\n",
       "      <th>12</th>\n",
       "      <td>12</td>\n",
       "      <td>14</td>\n",
       "      <td>[\"She's gone somewhere with friends twice. The...</td>\n",
       "      <td>[\"It never turns out well for anyone if ya thi...</td>\n",
       "      <td>[\"That sounds enjoyable, but I don't have any ...</td>\n",
       "      <td>3.10</td>\n",
       "      <td>It never turns out well for anyone if ya think...</td>\n",
       "      <td>0.942053</td>\n",
       "      <td>comment</td>\n",
       "    </tr>\n",
       "    <tr>\n",
       "      <th>13</th>\n",
       "      <td>13</td>\n",
       "      <td>14</td>\n",
       "      <td>[\"She's gone somewhere with friends twice. The...</td>\n",
       "      <td>[\"It never turns out well for anyone if ya thi...</td>\n",
       "      <td>[\"That sounds enjoyable, but I don't have any ...</td>\n",
       "      <td>3.10</td>\n",
       "      <td>Or friends in general</td>\n",
       "      <td>0.208914</td>\n",
       "      <td>reply</td>\n",
       "    </tr>\n",
       "    <tr>\n",
       "      <th>14</th>\n",
       "      <td>14</td>\n",
       "      <td>14</td>\n",
       "      <td>[\"She's gone somewhere with friends twice. The...</td>\n",
       "      <td>[\"It never turns out well for anyone if ya thi...</td>\n",
       "      <td>[\"That sounds enjoyable, but I don't have any ...</td>\n",
       "      <td>3.10</td>\n",
       "      <td>She's gone somewhere with friends twice. The o...</td>\n",
       "      <td>-0.196423</td>\n",
       "      <td>post</td>\n",
       "    </tr>\n",
       "    <tr>\n",
       "      <th>15</th>\n",
       "      <td>15</td>\n",
       "      <td>16</td>\n",
       "      <td>[\" Not literally; the slang term. I was exiled...</td>\n",
       "      <td>['I hate those kind of people too. I may not a...</td>\n",
       "      <td>['I hate that it happened, but moreover, I hat...</td>\n",
       "      <td>3.40</td>\n",
       "      <td>It's like they want to ignore the facts becaus...</td>\n",
       "      <td>0.807809</td>\n",
       "      <td>reply</td>\n",
       "    </tr>\n",
       "    <tr>\n",
       "      <th>16</th>\n",
       "      <td>16</td>\n",
       "      <td>16</td>\n",
       "      <td>[\" Not literally; the slang term. I was exiled...</td>\n",
       "      <td>['I hate those kind of people too. I may not a...</td>\n",
       "      <td>['I hate that it happened, but moreover, I hat...</td>\n",
       "      <td>3.40</td>\n",
       "      <td>I hate that it happened, but moreover, I hate ...</td>\n",
       "      <td>0.526069</td>\n",
       "      <td>reply</td>\n",
       "    </tr>\n",
       "    <tr>\n",
       "      <th>17</th>\n",
       "      <td>17</td>\n",
       "      <td>16</td>\n",
       "      <td>[\" Not literally; the slang term. I was exiled...</td>\n",
       "      <td>['I hate those kind of people too. I may not a...</td>\n",
       "      <td>['I hate that it happened, but moreover, I hat...</td>\n",
       "      <td>3.40</td>\n",
       "      <td>I hate those kind of people too. I may not alw...</td>\n",
       "      <td>0.234764</td>\n",
       "      <td>comment</td>\n",
       "    </tr>\n",
       "    <tr>\n",
       "      <th>18</th>\n",
       "      <td>18</td>\n",
       "      <td>23</td>\n",
       "      <td>[\"I'm wondering if anyone here has thought abo...</td>\n",
       "      <td>['Donâ\\x80\\x99t do these things please. If oth...</td>\n",
       "      <td>['No it needs to be seen.', \" I've talked with...</td>\n",
       "      <td>2.45</td>\n",
       "      <td>Donât do these things please. If other peopl...</td>\n",
       "      <td>0.957295</td>\n",
       "      <td>comment</td>\n",
       "    </tr>\n",
       "    <tr>\n",
       "      <th>19</th>\n",
       "      <td>19</td>\n",
       "      <td>23</td>\n",
       "      <td>[\"I'm wondering if anyone here has thought abo...</td>\n",
       "      <td>['Donâ\\x80\\x99t do these things please. If oth...</td>\n",
       "      <td>['No it needs to be seen.', \" I've talked with...</td>\n",
       "      <td>2.45</td>\n",
       "      <td>Believe it or not this is the responsible cho...</td>\n",
       "      <td>0.173979</td>\n",
       "      <td>reply</td>\n",
       "    </tr>\n",
       "    <tr>\n",
       "      <th>20</th>\n",
       "      <td>20</td>\n",
       "      <td>23</td>\n",
       "      <td>[\"I'm wondering if anyone here has thought abo...</td>\n",
       "      <td>['Donâ\\x80\\x99t do these things please. If oth...</td>\n",
       "      <td>['No it needs to be seen.', \" I've talked with...</td>\n",
       "      <td>2.45</td>\n",
       "      <td>I'm wondering if anyone here has thought about...</td>\n",
       "      <td>0.135743</td>\n",
       "      <td>post</td>\n",
       "    </tr>\n",
       "    <tr>\n",
       "      <th>21</th>\n",
       "      <td>21</td>\n",
       "      <td>27</td>\n",
       "      <td>[' Thereâ\\x80\\x99s so much Iâ\\x80\\x99m holding...</td>\n",
       "      <td>[\" You can take part in any activity. Don't ju...</td>\n",
       "      <td>['I mean I donÃ¢Â\\x80Â\\x99t lie in bed all day...</td>\n",
       "      <td>2.95</td>\n",
       "      <td>You can take part in any activity. Don't just...</td>\n",
       "      <td>0.498969</td>\n",
       "      <td>comment</td>\n",
       "    </tr>\n",
       "    <tr>\n",
       "      <th>22</th>\n",
       "      <td>22</td>\n",
       "      <td>27</td>\n",
       "      <td>[' Thereâ\\x80\\x99s so much Iâ\\x80\\x99m holding...</td>\n",
       "      <td>[\" You can take part in any activity. Don't ju...</td>\n",
       "      <td>['I mean I donÃ¢Â\\x80Â\\x99t lie in bed all day...</td>\n",
       "      <td>2.95</td>\n",
       "      <td>It sucks.</td>\n",
       "      <td>0.441168</td>\n",
       "      <td>reply</td>\n",
       "    </tr>\n",
       "    <tr>\n",
       "      <th>23</th>\n",
       "      <td>23</td>\n",
       "      <td>27</td>\n",
       "      <td>[' Thereâ\\x80\\x99s so much Iâ\\x80\\x99m holding...</td>\n",
       "      <td>[\" You can take part in any activity. Don't ju...</td>\n",
       "      <td>['I mean I donÃ¢Â\\x80Â\\x99t lie in bed all day...</td>\n",
       "      <td>2.95</td>\n",
       "      <td>I mean I donÃ¢ÂÂt lie in bed all day, I do t...</td>\n",
       "      <td>0.399157</td>\n",
       "      <td>reply</td>\n",
       "    </tr>\n",
       "    <tr>\n",
       "      <th>24</th>\n",
       "      <td>24</td>\n",
       "      <td>28</td>\n",
       "      <td>['Iâ\\x80\\x99ve been unemployed since January w...</td>\n",
       "      <td>['Ah yeah I know what you mean. Some people ar...</td>\n",
       "      <td>['I donÃ¢Â\\x80Â\\x99t think iÃ¢Â\\x80Â\\x99m goin...</td>\n",
       "      <td>2.75</td>\n",
       "      <td>I donÃ¢ÂÂt think iÃ¢ÂÂm going to go</td>\n",
       "      <td>0.805961</td>\n",
       "      <td>reply</td>\n",
       "    </tr>\n",
       "    <tr>\n",
       "      <th>25</th>\n",
       "      <td>25</td>\n",
       "      <td>28</td>\n",
       "      <td>['Iâ\\x80\\x99ve been unemployed since January w...</td>\n",
       "      <td>['Ah yeah I know what you mean. Some people ar...</td>\n",
       "      <td>['I donÃ¢Â\\x80Â\\x99t think iÃ¢Â\\x80Â\\x99m goin...</td>\n",
       "      <td>2.75</td>\n",
       "      <td>Ah yeah I know what you mean. Some people are ...</td>\n",
       "      <td>0.591961</td>\n",
       "      <td>comment</td>\n",
       "    </tr>\n",
       "    <tr>\n",
       "      <th>26</th>\n",
       "      <td>26</td>\n",
       "      <td>28</td>\n",
       "      <td>['Iâ\\x80\\x99ve been unemployed since January w...</td>\n",
       "      <td>['Ah yeah I know what you mean. Some people ar...</td>\n",
       "      <td>['I donÃ¢Â\\x80Â\\x99t think iÃ¢Â\\x80Â\\x99m goin...</td>\n",
       "      <td>2.75</td>\n",
       "      <td>Iâve been unemployed since January when i re...</td>\n",
       "      <td>-0.003071</td>\n",
       "      <td>post</td>\n",
       "    </tr>\n",
       "    <tr>\n",
       "      <th>27</th>\n",
       "      <td>27</td>\n",
       "      <td>33</td>\n",
       "      <td>[\"Sometimes I wish everybody else would suffer...</td>\n",
       "      <td>[\"Yes and no. Yes because I am pissed I can't ...</td>\n",
       "      <td>['So, am I in the minority for wanting happy, ...</td>\n",
       "      <td>2.60</td>\n",
       "      <td>So, am I in the minority for wanting happy, su...</td>\n",
       "      <td>0.986004</td>\n",
       "      <td>reply</td>\n",
       "    </tr>\n",
       "    <tr>\n",
       "      <th>28</th>\n",
       "      <td>28</td>\n",
       "      <td>33</td>\n",
       "      <td>[\"Sometimes I wish everybody else would suffer...</td>\n",
       "      <td>[\"Yes and no. Yes because I am pissed I can't ...</td>\n",
       "      <td>['So, am I in the minority for wanting happy, ...</td>\n",
       "      <td>2.60</td>\n",
       "      <td>Yes and no. Yes because I am pissed I can't ac...</td>\n",
       "      <td>0.122394</td>\n",
       "      <td>comment</td>\n",
       "    </tr>\n",
       "    <tr>\n",
       "      <th>29</th>\n",
       "      <td>29</td>\n",
       "      <td>33</td>\n",
       "      <td>[\"Sometimes I wish everybody else would suffer...</td>\n",
       "      <td>[\"Yes and no. Yes because I am pissed I can't ...</td>\n",
       "      <td>['So, am I in the minority for wanting happy, ...</td>\n",
       "      <td>2.60</td>\n",
       "      <td>Sometimes I wish everybody else would suffer s...</td>\n",
       "      <td>0.113207</td>\n",
       "      <td>post</td>\n",
       "    </tr>\n",
       "    <tr>\n",
       "      <th>30</th>\n",
       "      <td>30</td>\n",
       "      <td>49</td>\n",
       "      <td>[' Hi all, recent graduate looking for advice ...</td>\n",
       "      <td>['You donâ\\x80\\x99t have to tell anyone you ha...</td>\n",
       "      <td>['Having sat through a couple interviews now, ...</td>\n",
       "      <td>3.25</td>\n",
       "      <td>Having sat through a couple interviews now, I ...</td>\n",
       "      <td>0.831786</td>\n",
       "      <td>reply</td>\n",
       "    </tr>\n",
       "    <tr>\n",
       "      <th>31</th>\n",
       "      <td>31</td>\n",
       "      <td>49</td>\n",
       "      <td>[' Hi all, recent graduate looking for advice ...</td>\n",
       "      <td>['You donâ\\x80\\x99t have to tell anyone you ha...</td>\n",
       "      <td>['Having sat through a couple interviews now, ...</td>\n",
       "      <td>3.25</td>\n",
       "      <td>You donât have to tell anyone you have depre...</td>\n",
       "      <td>0.514803</td>\n",
       "      <td>comment</td>\n",
       "    </tr>\n",
       "    <tr>\n",
       "      <th>32</th>\n",
       "      <td>32</td>\n",
       "      <td>49</td>\n",
       "      <td>[' Hi all, recent graduate looking for advice ...</td>\n",
       "      <td>['You donâ\\x80\\x99t have to tell anyone you ha...</td>\n",
       "      <td>['Having sat through a couple interviews now, ...</td>\n",
       "      <td>3.25</td>\n",
       "      <td>Additionally, I'm having trouble coming to te...</td>\n",
       "      <td>-0.131826</td>\n",
       "      <td>post</td>\n",
       "    </tr>\n",
       "    <tr>\n",
       "      <th>33</th>\n",
       "      <td>33</td>\n",
       "      <td>57</td>\n",
       "      <td>['Im feeling really down rn... Half empty... A...</td>\n",
       "      <td>['O...............r............u........o........</td>\n",
       "      <td>['I dont know... Probably not... I wish i was ...</td>\n",
       "      <td>2.50</td>\n",
       "      <td>I dont know... Probably not... I wish i was fe...</td>\n",
       "      <td>0.977026</td>\n",
       "      <td>reply</td>\n",
       "    </tr>\n",
       "    <tr>\n",
       "      <th>34</th>\n",
       "      <td>34</td>\n",
       "      <td>57</td>\n",
       "      <td>['Im feeling really down rn... Half empty... A...</td>\n",
       "      <td>['O...............r............u........o........</td>\n",
       "      <td>['I dont know... Probably not... I wish i was ...</td>\n",
       "      <td>2.50</td>\n",
       "      <td>O...............r............u........o..........</td>\n",
       "      <td>0.168382</td>\n",
       "      <td>comment</td>\n",
       "    </tr>\n",
       "    <tr>\n",
       "      <th>35</th>\n",
       "      <td>35</td>\n",
       "      <td>57</td>\n",
       "      <td>['Im feeling really down rn... Half empty... A...</td>\n",
       "      <td>['O...............r............u........o........</td>\n",
       "      <td>['I dont know... Probably not... I wish i was ...</td>\n",
       "      <td>2.50</td>\n",
       "      <td>Im feeling really down rn... Half empty... A b...</td>\n",
       "      <td>-0.130642</td>\n",
       "      <td>post</td>\n",
       "    </tr>\n",
       "    <tr>\n",
       "      <th>36</th>\n",
       "      <td>36</td>\n",
       "      <td>70</td>\n",
       "      <td>['I have a fear of writing and when i see long...</td>\n",
       "      <td>[' Seems like you have a fear of performing wh...</td>\n",
       "      <td>['Is not there a medicine to vanish my fear?',...</td>\n",
       "      <td>2.25</td>\n",
       "      <td>Is not there a medicine to vanish my fear?</td>\n",
       "      <td>0.954005</td>\n",
       "      <td>reply</td>\n",
       "    </tr>\n",
       "    <tr>\n",
       "      <th>37</th>\n",
       "      <td>37</td>\n",
       "      <td>70</td>\n",
       "      <td>['I have a fear of writing and when i see long...</td>\n",
       "      <td>[' Seems like you have a fear of performing wh...</td>\n",
       "      <td>['Is not there a medicine to vanish my fear?',...</td>\n",
       "      <td>2.25</td>\n",
       "      <td>Whenever i hold my pen to write something , my...</td>\n",
       "      <td>0.177743</td>\n",
       "      <td>reply</td>\n",
       "    </tr>\n",
       "    <tr>\n",
       "      <th>38</th>\n",
       "      <td>38</td>\n",
       "      <td>70</td>\n",
       "      <td>['I have a fear of writing and when i see long...</td>\n",
       "      <td>[' Seems like you have a fear of performing wh...</td>\n",
       "      <td>['Is not there a medicine to vanish my fear?',...</td>\n",
       "      <td>2.25</td>\n",
       "      <td>Seems like you have a fear of performing when...</td>\n",
       "      <td>0.170558</td>\n",
       "      <td>comment</td>\n",
       "    </tr>\n",
       "    <tr>\n",
       "      <th>39</th>\n",
       "      <td>39</td>\n",
       "      <td>74</td>\n",
       "      <td>[' Iâ\\x80\\x99ve been clinically depressed for ...</td>\n",
       "      <td>['My doctor has always told me to wait a maxim...</td>\n",
       "      <td>['IÃ¢Â\\x80Â\\x99ve been on them 2 months.', 'I ...</td>\n",
       "      <td>3.35</td>\n",
       "      <td>My doctor has always told me to wait a maximum...</td>\n",
       "      <td>0.783496</td>\n",
       "      <td>comment</td>\n",
       "    </tr>\n",
       "    <tr>\n",
       "      <th>40</th>\n",
       "      <td>40</td>\n",
       "      <td>74</td>\n",
       "      <td>[' Iâ\\x80\\x99ve been clinically depressed for ...</td>\n",
       "      <td>['My doctor has always told me to wait a maxim...</td>\n",
       "      <td>['IÃ¢Â\\x80Â\\x99ve been on them 2 months.', 'I ...</td>\n",
       "      <td>3.35</td>\n",
       "      <td>IÃ¢ÂÂve been on them 2 months.</td>\n",
       "      <td>0.547735</td>\n",
       "      <td>reply</td>\n",
       "    </tr>\n",
       "    <tr>\n",
       "      <th>41</th>\n",
       "      <td>41</td>\n",
       "      <td>74</td>\n",
       "      <td>[' Iâ\\x80\\x99ve been clinically depressed for ...</td>\n",
       "      <td>['My doctor has always told me to wait a maxim...</td>\n",
       "      <td>['IÃ¢Â\\x80Â\\x99ve been on them 2 months.', 'I ...</td>\n",
       "      <td>3.35</td>\n",
       "      <td>Iâve been clinically depressed for a LONG t...</td>\n",
       "      <td>-0.213103</td>\n",
       "      <td>post</td>\n",
       "    </tr>\n",
       "    <tr>\n",
       "      <th>42</th>\n",
       "      <td>42</td>\n",
       "      <td>79</td>\n",
       "      <td>[\" It's impossible at this point. I've tried i...</td>\n",
       "      <td>['Watching sad videos or listening to sad musi...</td>\n",
       "      <td>[\"I've tried that already.\", \"Didn't work.\", \"...</td>\n",
       "      <td>3.25</td>\n",
       "      <td>Watching sad videos or listening to sad music ...</td>\n",
       "      <td>0.872237</td>\n",
       "      <td>comment</td>\n",
       "    </tr>\n",
       "    <tr>\n",
       "      <th>43</th>\n",
       "      <td>43</td>\n",
       "      <td>79</td>\n",
       "      <td>[\" It's impossible at this point. I've tried i...</td>\n",
       "      <td>['Watching sad videos or listening to sad musi...</td>\n",
       "      <td>[\"I've tried that already.\", \"Didn't work.\", \"...</td>\n",
       "      <td>3.25</td>\n",
       "      <td>I've tried that already.</td>\n",
       "      <td>0.323440</td>\n",
       "      <td>reply</td>\n",
       "    </tr>\n",
       "    <tr>\n",
       "      <th>44</th>\n",
       "      <td>44</td>\n",
       "      <td>79</td>\n",
       "      <td>[\" It's impossible at this point. I've tried i...</td>\n",
       "      <td>['Watching sad videos or listening to sad musi...</td>\n",
       "      <td>[\"I've tried that already.\", \"Didn't work.\", \"...</td>\n",
       "      <td>3.25</td>\n",
       "      <td>Even when my dog died, I couldn't share one si...</td>\n",
       "      <td>-0.244261</td>\n",
       "      <td>reply</td>\n",
       "    </tr>\n",
       "    <tr>\n",
       "      <th>45</th>\n",
       "      <td>45</td>\n",
       "      <td>85</td>\n",
       "      <td>['Nobody will fucking talk to me nobody ever t...</td>\n",
       "      <td>[' You are most definitely alive and still bre...</td>\n",
       "      <td>['Why am I here though what the fuck is the po...</td>\n",
       "      <td>2.10</td>\n",
       "      <td>Why am I here though what the fuck is the poin...</td>\n",
       "      <td>0.988700</td>\n",
       "      <td>reply</td>\n",
       "    </tr>\n",
       "    <tr>\n",
       "      <th>46</th>\n",
       "      <td>46</td>\n",
       "      <td>85</td>\n",
       "      <td>['Nobody will fucking talk to me nobody ever t...</td>\n",
       "      <td>[' You are most definitely alive and still bre...</td>\n",
       "      <td>['Why am I here though what the fuck is the po...</td>\n",
       "      <td>2.10</td>\n",
       "      <td>Take a second and just sit. Just stop and tak...</td>\n",
       "      <td>0.109379</td>\n",
       "      <td>comment</td>\n",
       "    </tr>\n",
       "    <tr>\n",
       "      <th>47</th>\n",
       "      <td>47</td>\n",
       "      <td>85</td>\n",
       "      <td>['Nobody will fucking talk to me nobody ever t...</td>\n",
       "      <td>[' You are most definitely alive and still bre...</td>\n",
       "      <td>['Why am I here though what the fuck is the po...</td>\n",
       "      <td>2.10</td>\n",
       "      <td>Nobody will fucking talk to me nobody ever tal...</td>\n",
       "      <td>0.089480</td>\n",
       "      <td>post</td>\n",
       "    </tr>\n",
       "    <tr>\n",
       "      <th>48</th>\n",
       "      <td>48</td>\n",
       "      <td>90</td>\n",
       "      <td>[\"Our neighbours are strangersOur co-workers a...</td>\n",
       "      <td>[' The world is how you perceive it to be. It ...</td>\n",
       "      <td>['How do I get a new mind?', 'Suicide and hope...</td>\n",
       "      <td>3.20</td>\n",
       "      <td>Suicide and hope for rebirth?</td>\n",
       "      <td>0.679666</td>\n",
       "      <td>reply</td>\n",
       "    </tr>\n",
       "    <tr>\n",
       "      <th>49</th>\n",
       "      <td>49</td>\n",
       "      <td>90</td>\n",
       "      <td>[\"Our neighbours are strangersOur co-workers a...</td>\n",
       "      <td>[' The world is how you perceive it to be. It ...</td>\n",
       "      <td>['How do I get a new mind?', 'Suicide and hope...</td>\n",
       "      <td>3.20</td>\n",
       "      <td>How do I get a new mind?</td>\n",
       "      <td>0.666231</td>\n",
       "      <td>reply</td>\n",
       "    </tr>\n",
       "    <tr>\n",
       "      <th>50</th>\n",
       "      <td>50</td>\n",
       "      <td>90</td>\n",
       "      <td>[\"Our neighbours are strangersOur co-workers a...</td>\n",
       "      <td>[' The world is how you perceive it to be. It ...</td>\n",
       "      <td>['How do I get a new mind?', 'Suicide and hope...</td>\n",
       "      <td>3.20</td>\n",
       "      <td>The world is how you perceive it to be. It is...</td>\n",
       "      <td>0.242495</td>\n",
       "      <td>comment</td>\n",
       "    </tr>\n",
       "  </tbody>\n",
       "</table>\n",
       "</div>"
      ],
      "text/plain": [
       "    Unnamed: 0  idx                                          post_text  \\\n",
       "0            0    3  [\" Almost every day for months, I've gone to a...   \n",
       "1            1    3  [\" Almost every day for months, I've gone to a...   \n",
       "2            2    3  [\" Almost every day for months, I've gone to a...   \n",
       "3            3    9  [\" I was never really a jealous person. I like...   \n",
       "4            4    9  [\" I was never really a jealous person. I like...   \n",
       "5            5    9  [\" I was never really a jealous person. I like...   \n",
       "6            6   10  ['Im the guy no one suspects is as messed up a...   \n",
       "7            7   10  ['Im the guy no one suspects is as messed up a...   \n",
       "8            8   10  ['Im the guy no one suspects is as messed up a...   \n",
       "9            9   11  [' I finally did it. It took me a week to work...   \n",
       "10          10   11  [' I finally did it. It took me a week to work...   \n",
       "11          11   11  [' I finally did it. It took me a week to work...   \n",
       "12          12   14  [\"She's gone somewhere with friends twice. The...   \n",
       "13          13   14  [\"She's gone somewhere with friends twice. The...   \n",
       "14          14   14  [\"She's gone somewhere with friends twice. The...   \n",
       "15          15   16  [\" Not literally; the slang term. I was exiled...   \n",
       "16          16   16  [\" Not literally; the slang term. I was exiled...   \n",
       "17          17   16  [\" Not literally; the slang term. I was exiled...   \n",
       "18          18   23  [\"I'm wondering if anyone here has thought abo...   \n",
       "19          19   23  [\"I'm wondering if anyone here has thought abo...   \n",
       "20          20   23  [\"I'm wondering if anyone here has thought abo...   \n",
       "21          21   27  [' Thereâ\\x80\\x99s so much Iâ\\x80\\x99m holding...   \n",
       "22          22   27  [' Thereâ\\x80\\x99s so much Iâ\\x80\\x99m holding...   \n",
       "23          23   27  [' Thereâ\\x80\\x99s so much Iâ\\x80\\x99m holding...   \n",
       "24          24   28  ['Iâ\\x80\\x99ve been unemployed since January w...   \n",
       "25          25   28  ['Iâ\\x80\\x99ve been unemployed since January w...   \n",
       "26          26   28  ['Iâ\\x80\\x99ve been unemployed since January w...   \n",
       "27          27   33  [\"Sometimes I wish everybody else would suffer...   \n",
       "28          28   33  [\"Sometimes I wish everybody else would suffer...   \n",
       "29          29   33  [\"Sometimes I wish everybody else would suffer...   \n",
       "30          30   49  [' Hi all, recent graduate looking for advice ...   \n",
       "31          31   49  [' Hi all, recent graduate looking for advice ...   \n",
       "32          32   49  [' Hi all, recent graduate looking for advice ...   \n",
       "33          33   57  ['Im feeling really down rn... Half empty... A...   \n",
       "34          34   57  ['Im feeling really down rn... Half empty... A...   \n",
       "35          35   57  ['Im feeling really down rn... Half empty... A...   \n",
       "36          36   70  ['I have a fear of writing and when i see long...   \n",
       "37          37   70  ['I have a fear of writing and when i see long...   \n",
       "38          38   70  ['I have a fear of writing and when i see long...   \n",
       "39          39   74  [' Iâ\\x80\\x99ve been clinically depressed for ...   \n",
       "40          40   74  [' Iâ\\x80\\x99ve been clinically depressed for ...   \n",
       "41          41   74  [' Iâ\\x80\\x99ve been clinically depressed for ...   \n",
       "42          42   79  [\" It's impossible at this point. I've tried i...   \n",
       "43          43   79  [\" It's impossible at this point. I've tried i...   \n",
       "44          44   79  [\" It's impossible at this point. I've tried i...   \n",
       "45          45   85  ['Nobody will fucking talk to me nobody ever t...   \n",
       "46          46   85  ['Nobody will fucking talk to me nobody ever t...   \n",
       "47          47   85  ['Nobody will fucking talk to me nobody ever t...   \n",
       "48          48   90  [\"Our neighbours are strangersOur co-workers a...   \n",
       "49          49   90  [\"Our neighbours are strangersOur co-workers a...   \n",
       "50          50   90  [\"Our neighbours are strangersOur co-workers a...   \n",
       "\n",
       "                                         comment_text  \\\n",
       "0   ['Then you have nothing to lose. Tell her dude.']   \n",
       "1   ['Then you have nothing to lose. Tell her dude.']   \n",
       "2   ['Then you have nothing to lose. Tell her dude.']   \n",
       "3   ['you could try to explain this dilemma to the...   \n",
       "4   ['you could try to explain this dilemma to the...   \n",
       "5   ['you could try to explain this dilemma to the...   \n",
       "6   ['As bad as I feel about the depression, and I...   \n",
       "7   ['As bad as I feel about the depression, and I...   \n",
       "8   ['As bad as I feel about the depression, and I...   \n",
       "9   [\"You are saying this because you don't know h...   \n",
       "10  [\"You are saying this because you don't know h...   \n",
       "11  [\"You are saying this because you don't know h...   \n",
       "12  [\"It never turns out well for anyone if ya thi...   \n",
       "13  [\"It never turns out well for anyone if ya thi...   \n",
       "14  [\"It never turns out well for anyone if ya thi...   \n",
       "15  ['I hate those kind of people too. I may not a...   \n",
       "16  ['I hate those kind of people too. I may not a...   \n",
       "17  ['I hate those kind of people too. I may not a...   \n",
       "18  ['Donâ\\x80\\x99t do these things please. If oth...   \n",
       "19  ['Donâ\\x80\\x99t do these things please. If oth...   \n",
       "20  ['Donâ\\x80\\x99t do these things please. If oth...   \n",
       "21  [\" You can take part in any activity. Don't ju...   \n",
       "22  [\" You can take part in any activity. Don't ju...   \n",
       "23  [\" You can take part in any activity. Don't ju...   \n",
       "24  ['Ah yeah I know what you mean. Some people ar...   \n",
       "25  ['Ah yeah I know what you mean. Some people ar...   \n",
       "26  ['Ah yeah I know what you mean. Some people ar...   \n",
       "27  [\"Yes and no. Yes because I am pissed I can't ...   \n",
       "28  [\"Yes and no. Yes because I am pissed I can't ...   \n",
       "29  [\"Yes and no. Yes because I am pissed I can't ...   \n",
       "30  ['You donâ\\x80\\x99t have to tell anyone you ha...   \n",
       "31  ['You donâ\\x80\\x99t have to tell anyone you ha...   \n",
       "32  ['You donâ\\x80\\x99t have to tell anyone you ha...   \n",
       "33  ['O...............r............u........o........   \n",
       "34  ['O...............r............u........o........   \n",
       "35  ['O...............r............u........o........   \n",
       "36  [' Seems like you have a fear of performing wh...   \n",
       "37  [' Seems like you have a fear of performing wh...   \n",
       "38  [' Seems like you have a fear of performing wh...   \n",
       "39  ['My doctor has always told me to wait a maxim...   \n",
       "40  ['My doctor has always told me to wait a maxim...   \n",
       "41  ['My doctor has always told me to wait a maxim...   \n",
       "42  ['Watching sad videos or listening to sad musi...   \n",
       "43  ['Watching sad videos or listening to sad musi...   \n",
       "44  ['Watching sad videos or listening to sad musi...   \n",
       "45  [' You are most definitely alive and still bre...   \n",
       "46  [' You are most definitely alive and still bre...   \n",
       "47  [' You are most definitely alive and still bre...   \n",
       "48  [' The world is how you perceive it to be. It ...   \n",
       "49  [' The world is how you perceive it to be. It ...   \n",
       "50  [' The world is how you perceive it to be. It ...   \n",
       "\n",
       "                                           reply_text  score  \\\n",
       "0      [\"I just can't, I'm just way too shy for it.\"]   3.30   \n",
       "1      [\"I just can't, I'm just way too shy for it.\"]   3.30   \n",
       "2      [\"I just can't, I'm just way too shy for it.\"]   3.30   \n",
       "3   ['Normally they believe my pretending.', \"Some...   3.25   \n",
       "4   ['Normally they believe my pretending.', \"Some...   3.25   \n",
       "5   ['Normally they believe my pretending.', \"Some...   3.25   \n",
       "6   ['no he came out swinging first, he has had an...   2.45   \n",
       "7   ['no he came out swinging first, he has had an...   2.45   \n",
       "8   ['no he came out swinging first, he has had an...   2.45   \n",
       "9   ['Bruh, I went years without having anybody to...   3.10   \n",
       "10  ['Bruh, I went years without having anybody to...   3.10   \n",
       "11  ['Bruh, I went years without having anybody to...   3.10   \n",
       "12  [\"That sounds enjoyable, but I don't have any ...   3.10   \n",
       "13  [\"That sounds enjoyable, but I don't have any ...   3.10   \n",
       "14  [\"That sounds enjoyable, but I don't have any ...   3.10   \n",
       "15  ['I hate that it happened, but moreover, I hat...   3.40   \n",
       "16  ['I hate that it happened, but moreover, I hat...   3.40   \n",
       "17  ['I hate that it happened, but moreover, I hat...   3.40   \n",
       "18  ['No it needs to be seen.', \" I've talked with...   2.45   \n",
       "19  ['No it needs to be seen.', \" I've talked with...   2.45   \n",
       "20  ['No it needs to be seen.', \" I've talked with...   2.45   \n",
       "21  ['I mean I donÃ¢Â\\x80Â\\x99t lie in bed all day...   2.95   \n",
       "22  ['I mean I donÃ¢Â\\x80Â\\x99t lie in bed all day...   2.95   \n",
       "23  ['I mean I donÃ¢Â\\x80Â\\x99t lie in bed all day...   2.95   \n",
       "24  ['I donÃ¢Â\\x80Â\\x99t think iÃ¢Â\\x80Â\\x99m goin...   2.75   \n",
       "25  ['I donÃ¢Â\\x80Â\\x99t think iÃ¢Â\\x80Â\\x99m goin...   2.75   \n",
       "26  ['I donÃ¢Â\\x80Â\\x99t think iÃ¢Â\\x80Â\\x99m goin...   2.75   \n",
       "27  ['So, am I in the minority for wanting happy, ...   2.60   \n",
       "28  ['So, am I in the minority for wanting happy, ...   2.60   \n",
       "29  ['So, am I in the minority for wanting happy, ...   2.60   \n",
       "30  ['Having sat through a couple interviews now, ...   3.25   \n",
       "31  ['Having sat through a couple interviews now, ...   3.25   \n",
       "32  ['Having sat through a couple interviews now, ...   3.25   \n",
       "33  ['I dont know... Probably not... I wish i was ...   2.50   \n",
       "34  ['I dont know... Probably not... I wish i was ...   2.50   \n",
       "35  ['I dont know... Probably not... I wish i was ...   2.50   \n",
       "36  ['Is not there a medicine to vanish my fear?',...   2.25   \n",
       "37  ['Is not there a medicine to vanish my fear?',...   2.25   \n",
       "38  ['Is not there a medicine to vanish my fear?',...   2.25   \n",
       "39  ['IÃ¢Â\\x80Â\\x99ve been on them 2 months.', 'I ...   3.35   \n",
       "40  ['IÃ¢Â\\x80Â\\x99ve been on them 2 months.', 'I ...   3.35   \n",
       "41  ['IÃ¢Â\\x80Â\\x99ve been on them 2 months.', 'I ...   3.35   \n",
       "42  [\"I've tried that already.\", \"Didn't work.\", \"...   3.25   \n",
       "43  [\"I've tried that already.\", \"Didn't work.\", \"...   3.25   \n",
       "44  [\"I've tried that already.\", \"Didn't work.\", \"...   3.25   \n",
       "45  ['Why am I here though what the fuck is the po...   2.10   \n",
       "46  ['Why am I here though what the fuck is the po...   2.10   \n",
       "47  ['Why am I here though what the fuck is the po...   2.10   \n",
       "48  ['How do I get a new mind?', 'Suicide and hope...   3.20   \n",
       "49  ['How do I get a new mind?', 'Suicide and hope...   3.20   \n",
       "50  ['How do I get a new mind?', 'Suicide and hope...   3.20   \n",
       "\n",
       "                                        attr_sentence  attr_score   origin  \n",
       "0          I just can't, I'm just way too shy for it.    0.898281    reply  \n",
       "1       Then you have nothing to lose. Tell her dude.    0.437093  comment  \n",
       "2    I've considered that the easiest way, and the...   -0.043678     post  \n",
       "3                Normally they believe my pretending.    0.704133    reply  \n",
       "4   you could try to explain this dilemma to them....    0.693229  comment  \n",
       "5   Sometimes it's just really difficult and tirin...    0.134231    reply  \n",
       "6   no he came out swinging first, he has had and ...    0.753380    reply  \n",
       "7   As bad as I feel about the depression, and I a...    0.646939  comment  \n",
       "8   Im the guy no one suspects is as messed up as ...    0.117850     post  \n",
       "9   Bruh, I went years without having anybody to s...    0.553607    reply  \n",
       "10   Unless you are terminal, suicide isn't worth it.    0.462067    reply  \n",
       "11  You are saying this because you don't know how...    0.410366  comment  \n",
       "12  It never turns out well for anyone if ya think...    0.942053  comment  \n",
       "13                              Or friends in general    0.208914    reply  \n",
       "14  She's gone somewhere with friends twice. The o...   -0.196423     post  \n",
       "15  It's like they want to ignore the facts becaus...    0.807809    reply  \n",
       "16  I hate that it happened, but moreover, I hate ...    0.526069    reply  \n",
       "17  I hate those kind of people too. I may not alw...    0.234764  comment  \n",
       "18  Donât do these things please. If other peopl...    0.957295  comment  \n",
       "19   Believe it or not this is the responsible cho...    0.173979    reply  \n",
       "20  I'm wondering if anyone here has thought about...    0.135743     post  \n",
       "21   You can take part in any activity. Don't just...    0.498969  comment  \n",
       "22                                          It sucks.    0.441168    reply  \n",
       "23  I mean I donÃ¢ÂÂt lie in bed all day, I do t...    0.399157    reply  \n",
       "24            I donÃ¢ÂÂt think iÃ¢ÂÂm going to go    0.805961    reply  \n",
       "25  Ah yeah I know what you mean. Some people are ...    0.591961  comment  \n",
       "26  Iâve been unemployed since January when i re...   -0.003071     post  \n",
       "27  So, am I in the minority for wanting happy, su...    0.986004    reply  \n",
       "28  Yes and no. Yes because I am pissed I can't ac...    0.122394  comment  \n",
       "29  Sometimes I wish everybody else would suffer s...    0.113207     post  \n",
       "30  Having sat through a couple interviews now, I ...    0.831786    reply  \n",
       "31  You donât have to tell anyone you have depre...    0.514803  comment  \n",
       "32   Additionally, I'm having trouble coming to te...   -0.131826     post  \n",
       "33  I dont know... Probably not... I wish i was fe...    0.977026    reply  \n",
       "34  O...............r............u........o..........    0.168382  comment  \n",
       "35  Im feeling really down rn... Half empty... A b...   -0.130642     post  \n",
       "36         Is not there a medicine to vanish my fear?    0.954005    reply  \n",
       "37  Whenever i hold my pen to write something , my...    0.177743    reply  \n",
       "38   Seems like you have a fear of performing when...    0.170558  comment  \n",
       "39  My doctor has always told me to wait a maximum...    0.783496  comment  \n",
       "40                   IÃ¢ÂÂve been on them 2 months.    0.547735    reply  \n",
       "41   Iâve been clinically depressed for a LONG t...   -0.213103     post  \n",
       "42  Watching sad videos or listening to sad music ...    0.872237  comment  \n",
       "43                           I've tried that already.    0.323440    reply  \n",
       "44  Even when my dog died, I couldn't share one si...   -0.244261    reply  \n",
       "45  Why am I here though what the fuck is the poin...    0.988700    reply  \n",
       "46   Take a second and just sit. Just stop and tak...    0.109379  comment  \n",
       "47  Nobody will fucking talk to me nobody ever tal...    0.089480     post  \n",
       "48                      Suicide and hope for rebirth?    0.679666    reply  \n",
       "49                           How do I get a new mind?    0.666231    reply  \n",
       "50   The world is how you perceive it to be. It is...    0.242495  comment  "
      ]
     },
     "execution_count": 220,
     "metadata": {},
     "output_type": "execute_result"
    }
   ],
   "source": [
    "result_df1 = pd.read_csv(f'../predicting-satisfaction-using-graphs/csv/integrated_gradient_result/label_0_pred_0_attribution.csv', encoding='UTF-8')\n",
    "result_df1"
   ]
  }
 ],
 "metadata": {
  "kernelspec": {
   "display_name": "Python 3 (ipykernel)",
   "language": "python",
   "name": "python3"
  },
  "language_info": {
   "codemirror_mode": {
    "name": "ipython",
    "version": 3
   },
   "file_extension": ".py",
   "mimetype": "text/x-python",
   "name": "python",
   "nbconvert_exporter": "python",
   "pygments_lexer": "ipython3",
   "version": "3.8.10"
  }
 },
 "nbformat": 4,
 "nbformat_minor": 5
}
