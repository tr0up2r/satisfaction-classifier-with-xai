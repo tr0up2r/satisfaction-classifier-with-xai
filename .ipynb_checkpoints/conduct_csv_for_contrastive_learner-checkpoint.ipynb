{
 "cells": [
  {
   "cell_type": "code",
   "execution_count": 311,
   "id": "e95477a3",
   "metadata": {},
   "outputs": [],
   "source": [
    "import pandas as pd\n",
    "from spacy.lang.en import English\n",
    "import itertools"
   ]
  },
  {
   "cell_type": "code",
   "execution_count": 312,
   "id": "ab45559c",
   "metadata": {},
   "outputs": [],
   "source": [
    "post_df = pd.read_csv('../predicting-satisfaction-using-graphs/csv/dataset/liwc_post.csv', encoding='UTF-8')\n",
    "comment_df = pd.read_csv('../predicting-satisfaction-using-graphs/csv/dataset/liwc_comment.csv', encoding='UTF-8')"
   ]
  },
  {
   "cell_type": "code",
   "execution_count": 313,
   "id": "6180ad5c",
   "metadata": {},
   "outputs": [],
   "source": [
    "satisfactions_float = list(post_df['satisfaction'])"
   ]
  },
  {
   "cell_type": "code",
   "execution_count": 314,
   "id": "892af9dd",
   "metadata": {},
   "outputs": [
    {
     "data": {
      "text/plain": [
       "<spacy.pipeline.sentencizer.Sentencizer at 0x7f03c3749dc0>"
      ]
     },
     "execution_count": 314,
     "metadata": {},
     "output_type": "execute_result"
    }
   ],
   "source": [
    "nlp = English()\n",
    "nlp.add_pipe(\"sentencizer\")"
   ]
  },
  {
   "cell_type": "code",
   "execution_count": 315,
   "id": "e9546279",
   "metadata": {},
   "outputs": [],
   "source": [
    "post_contents = list(post_df['content'])\n",
    "comment_bodies = list(comment_df['content'])\n",
    "\n",
    "post_sequences = []\n",
    "comment_sequences = []\n",
    "\n",
    "\n",
    "for post_content, comment_body in zip(post_contents, comment_bodies):\n",
    "    post_sequences.append(list(map(lambda x: str(x), list(nlp(post_content).sents))))\n",
    "    comment_sequences.append(list(map(lambda x: str(x), list(nlp(comment_body).sents))))\n",
    "\n",
    "\n",
    "\n",
    "# satisfaction score (y)\n",
    "satisfactions_float = list(post_df['satisfaction'])\n",
    "satisfactions = []\n",
    "for_contrastive = []\n",
    "\n",
    "for s in satisfactions_float:\n",
    "    if s < 3.5:\n",
    "        satisfactions.append(0)\n",
    "    elif s < 5:\n",
    "        satisfactions.append(1)\n",
    "    else:\n",
    "        satisfactions.append(2)\n",
    "        \n",
    "for s in satisfactions_float:\n",
    "    if s <= 2.5:\n",
    "        for_contrastive.append(0)\n",
    "    elif s <= 3.5:\n",
    "        for_contrastive.append(1)\n",
    "    elif s <= 4.5:\n",
    "        for_contrastive.append(2)\n",
    "    elif s <= 5.5:\n",
    "        for_contrastive.append(3)\n",
    "    else:\n",
    "        for_contrastive.append(4)\n",
    "\n",
    "# print(satisfactions_float)\n",
    "# print(satisfactions)\n",
    "\n",
    "data = []\n",
    "\n",
    "i = 0\n",
    "for post, comment, satisfaction1, satisfaction2, satisfaction_float in zip(post_contents, comment_bodies,\n",
    "                                                                           satisfactions, for_contrastive, satisfactions_float):\n",
    "    data.append([i, post, comment, satisfaction1, satisfaction2, satisfaction_float])\n",
    "    i += 1\n",
    "\n",
    "columns = ['index', 'post_contents', 'comment_contents', 'label', 'label_for_contrastive', 'score']\n",
    "df = pd.DataFrame(data, columns=columns)"
   ]
  },
  {
   "cell_type": "code",
   "execution_count": 316,
   "id": "e7229002",
   "metadata": {},
   "outputs": [],
   "source": [
    "def make_comb_for_contrastive_learner(comb_list, df):\n",
    "    columns = ['index', 'post_contents', 'comment_contents', 'label', 'label_for_contrastive', 'score'] * 2\n",
    "    result_df = pd.DataFrame([], columns=columns)\n",
    "    i = 0\n",
    "    for comb in comb_list:\n",
    "        sub_comb_df = pd.concat([df[df.index == comb[0]].reset_index(drop=True), \n",
    "                                 df[df.index == comb[1]].reset_index(drop=True)], axis=1)\n",
    "        result_df = pd.concat([result_df, sub_comb_df]).reset_index(drop=True)\n",
    "        if i % 10000 == 0:\n",
    "            print(i, end=' ')\n",
    "        i += 1\n",
    "    \n",
    "    return result_df"
   ]
  },
  {
   "cell_type": "code",
   "execution_count": 317,
   "id": "b1393866",
   "metadata": {},
   "outputs": [],
   "source": [
    "def make_comb_for_contrastive_learner(comb_list, df):\n",
    "    columns = ['index1', 'index2']\n",
    "    result_df = pd.DataFrame([], columns=columns)\n",
    "    i = 0\n",
    "    for comb in comb_list:\n",
    "        sub_comb_df = pd.concat([df[df.index == comb[0]]].index)\n",
    "        print(sub_comb_df)\n",
    "        result_df = pd.concat([result_df, sub_comb_df]).reset_index(drop=True)\n",
    "        if i % 10000 == 0:\n",
    "            print(i, end=' ')\n",
    "        i += 1\n",
    "    \n",
    "    return result_df"
   ]
  },
  {
   "cell_type": "code",
   "execution_count": 318,
   "id": "40d7f55a",
   "metadata": {},
   "outputs": [],
   "source": [
    "def conduct_train_test_set(df, train_size, test_size):\n",
    "    copy_df = df.copy()\n",
    "    train_df = pd.DataFrame([], columns=columns)\n",
    "    test_df = pd.DataFrame([], columns=columns)\n",
    "    \n",
    "    for i in range(5):\n",
    "        sub_df = copy_df[copy_df.label_for_contrastive == i].sample(train_size)\n",
    "        train_df = pd.concat([train_df, sub_df])\n",
    "        \n",
    "    remain_df = copy_df.drop(train_df.index)\n",
    "    \n",
    "    for i in range(5):\n",
    "        sub_df = remain_df[remain_df.label_for_contrastive == i].sample(test_size)\n",
    "        test_df = pd.concat([test_df, sub_df])\n",
    "        \n",
    "    train_comb = list(itertools.combinations(train_df['index'], 2))\n",
    "    test_comb = list(itertools.combinations(test_df['index'], 2))\n",
    "    \n",
    "    train_result_df = make_comb_for_contrastive_learner(train_comb, df)\n",
    "    test_result_df = make_comb_for_contrastive_learner(test_comb, df)\n",
    "    \n",
    "    new_columns = ['index1', 'post_contents1', 'comment_contents1', 'label1', 'label_for_contrastive1', 'score1', 'index2', \n",
    "                   'post_contents2', 'comment_contents2', 'label2', 'label_for_contrastive2', 'score2']\n",
    "    \n",
    "    train_result_df.columns = new_columns\n",
    "    test_result_df.columns = new_columns\n",
    "    \n",
    "    train_result_df.to_csv(f'../predicting-satisfaction-using-graphs/csv/dataset/df_for_contrastive_learner_train_{train_size * 5}.csv')\n",
    "    test_result_df.to_csv(f'../predicting-satisfaction-using-graphs/csv/dataset/df_for_contrastive_learner_test_{test_size * 5}.csv')"
   ]
  },
  {
   "cell_type": "code",
   "execution_count": 367,
   "id": "f559fe0d",
   "metadata": {},
   "outputs": [],
   "source": [
    "def conduct_train_test_set_product(df, train_size=0, test_size=0):\n",
    "    copy_df = df.copy()\n",
    "    \n",
    "    # production\n",
    "    product_df = copy_df.merge(copy_df, how='cross')\n",
    "    new_columns = ['index1', 'post_contents1', 'comment_contents1', 'label1', 'label_for_contrastive1', 'score1', 'index2', \n",
    "                   'post_contents2', 'comment_contents2', 'label2', 'label_for_contrastive2', 'score2']\n",
    "    product_df.columns = new_columns\n",
    "    product_df = product_df.drop(product_df[product_df.index1 == product_df.index2].index).reset_index(drop=True)\n",
    "    \n",
    "    if train_size == 0 and test_size == 0:\n",
    "        return product_df\n",
    "    \n",
    "    train_df = pd.DataFrame([], columns=new_columns)\n",
    "    test_df = pd.DataFrame([], columns=new_columns)\n",
    "    \n",
    "    def conduct_sets(origin_df, target_df, size):\n",
    "        for i in range(5):\n",
    "            for j in range(5):\n",
    "                sub_df = origin_df[(origin_df.label_for_contrastive1 == i) & (origin_df.label_for_contrastive2 == j)].sample(size)\n",
    "                target_df = pd.concat([target_df, sub_df])\n",
    "        return target_df\n",
    "    \n",
    "    train_df = conduct_sets(product_df, train_df, train_size)\n",
    "    remain_df = product_df.drop(train_df.index)\n",
    "    test_df = conduct_sets(remain_df, test_df, test_size)\n",
    "    \n",
    "    # after using reamin_df, reset index\n",
    "    train_df = train_df.reset_index(drop=True)\n",
    "    test_df = test_df.reset_index(drop=True)\n",
    "    \n",
    "    train_result_df.to_csv(f'../predicting-satisfaction-using-graphs/csv/dataset/df_for_contrastive_learner_train_{train_size * 5}.csv')\n",
    "    test_result_df.to_csv(f'../predicting-satisfaction-using-graphs/csv/dataset/df_for_contrastive_learner_test_{test_size * 5}.csv')"
   ]
  },
  {
   "cell_type": "code",
   "execution_count": 368,
   "id": "0a586445",
   "metadata": {},
   "outputs": [],
   "source": [
    "product_df = conduct_train_test_set_product(df)"
   ]
  },
  {
   "cell_type": "code",
   "execution_count": 369,
   "id": "5194183d",
   "metadata": {},
   "outputs": [],
   "source": [
    "counts = product_df.apply(pd.value_counts)\n",
    "mini_df = product_df[['label_for_contrastive1', 'label_for_contrastive2']]\n",
    "mini_df = mini_df.groupby(['label_for_contrastive1', 'label_for_contrastive2']).size().reset_index().rename(columns={0:'count'})\n",
    "table = mini_df.pivot('label_for_contrastive1', 'label_for_contrastive2', 'count')"
   ]
  },
  {
   "cell_type": "code",
   "execution_count": 370,
   "id": "bdaf5ddd",
   "metadata": {},
   "outputs": [
    {
     "data": {
      "text/html": [
       "<div>\n",
       "<style scoped>\n",
       "    .dataframe tbody tr th:only-of-type {\n",
       "        vertical-align: middle;\n",
       "    }\n",
       "\n",
       "    .dataframe tbody tr th {\n",
       "        vertical-align: top;\n",
       "    }\n",
       "\n",
       "    .dataframe thead th {\n",
       "        text-align: right;\n",
       "    }\n",
       "</style>\n",
       "<table border=\"1\" class=\"dataframe\">\n",
       "  <thead>\n",
       "    <tr style=\"text-align: right;\">\n",
       "      <th>label_for_contrastive2</th>\n",
       "      <th>0</th>\n",
       "      <th>1</th>\n",
       "      <th>2</th>\n",
       "      <th>3</th>\n",
       "      <th>4</th>\n",
       "    </tr>\n",
       "    <tr>\n",
       "      <th>label_for_contrastive1</th>\n",
       "      <th></th>\n",
       "      <th></th>\n",
       "      <th></th>\n",
       "      <th></th>\n",
       "      <th></th>\n",
       "    </tr>\n",
       "  </thead>\n",
       "  <tbody>\n",
       "    <tr>\n",
       "      <th>0</th>\n",
       "      <td>2550</td>\n",
       "      <td>9027</td>\n",
       "      <td>17187</td>\n",
       "      <td>15300</td>\n",
       "      <td>6885</td>\n",
       "    </tr>\n",
       "    <tr>\n",
       "      <th>1</th>\n",
       "      <td>9027</td>\n",
       "      <td>31152</td>\n",
       "      <td>59649</td>\n",
       "      <td>53100</td>\n",
       "      <td>23895</td>\n",
       "    </tr>\n",
       "    <tr>\n",
       "      <th>2</th>\n",
       "      <td>17187</td>\n",
       "      <td>59649</td>\n",
       "      <td>113232</td>\n",
       "      <td>101100</td>\n",
       "      <td>45495</td>\n",
       "    </tr>\n",
       "    <tr>\n",
       "      <th>3</th>\n",
       "      <td>15300</td>\n",
       "      <td>53100</td>\n",
       "      <td>101100</td>\n",
       "      <td>89700</td>\n",
       "      <td>40500</td>\n",
       "    </tr>\n",
       "    <tr>\n",
       "      <th>4</th>\n",
       "      <td>6885</td>\n",
       "      <td>23895</td>\n",
       "      <td>45495</td>\n",
       "      <td>40500</td>\n",
       "      <td>18090</td>\n",
       "    </tr>\n",
       "  </tbody>\n",
       "</table>\n",
       "</div>"
      ],
      "text/plain": [
       "label_for_contrastive2      0      1       2       3      4\n",
       "label_for_contrastive1                                     \n",
       "0                        2550   9027   17187   15300   6885\n",
       "1                        9027  31152   59649   53100  23895\n",
       "2                       17187  59649  113232  101100  45495\n",
       "3                       15300  53100  101100   89700  40500\n",
       "4                        6885  23895   45495   40500  18090"
      ]
     },
     "execution_count": 370,
     "metadata": {},
     "output_type": "execute_result"
    }
   ],
   "source": [
    "table"
   ]
  },
  {
   "cell_type": "code",
   "execution_count": null,
   "id": "c903ad2f",
   "metadata": {},
   "outputs": [],
   "source": []
  },
  {
   "cell_type": "code",
   "execution_count": 372,
   "id": "2591dfec",
   "metadata": {},
   "outputs": [],
   "source": [
    "conduct_train_test_set_product(df, 2000, 500)"
   ]
  }
 ],
 "metadata": {
  "kernelspec": {
   "display_name": "Python 3 (ipykernel)",
   "language": "python",
   "name": "python3"
  },
  "language_info": {
   "codemirror_mode": {
    "name": "ipython",
    "version": 3
   },
   "file_extension": ".py",
   "mimetype": "text/x-python",
   "name": "python",
   "nbconvert_exporter": "python",
   "pygments_lexer": "ipython3",
   "version": "3.8.10"
  }
 },
 "nbformat": 4,
 "nbformat_minor": 5
}
