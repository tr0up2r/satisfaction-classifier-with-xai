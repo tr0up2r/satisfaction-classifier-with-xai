{
 "cells": [
  {
   "cell_type": "code",
   "execution_count": 2,
   "id": "173692d8",
   "metadata": {},
   "outputs": [],
   "source": [
    "# For using custom module.\n",
    "import sys\n",
    "sys.path.append('../custom_library')"
   ]
  },
  {
   "cell_type": "code",
   "execution_count": 3,
   "id": "4dcca131",
   "metadata": {},
   "outputs": [],
   "source": [
    "import pymysql.cursors\n",
    "import pandas as pd\n",
    "import numpy as np\n",
    "import connect_to_db as cn\n",
    "import json\n",
    "from itertools import combinations\n",
    "from sklearn.feature_extraction.text import TfidfVectorizer\n",
    "import re\n",
    "import csv\n",
    "import parmap"
   ]
  },
  {
   "cell_type": "code",
   "execution_count": 4,
   "id": "6d58260e",
   "metadata": {},
   "outputs": [],
   "source": [
    "def check_body(document):\n",
    "    p = re.compile('[a-zA-Z]')\n",
    "    for text in document[:]:\n",
    "        # 특수문자, 이모지 등으로만 이루어진 text를 거르기 위한 code.\n",
    "        if p.search(text) is None:\n",
    "            document.remove(text)\n",
    "        # 특수문자와 알파벳 하나(ex. :p)로만 이루어진 text를 거르기 위한 code.\n",
    "        elif len(re.sub('[^a-zA-Z]',' ',text).strip()) == 1:\n",
    "            document.remove(text)\n",
    "        else:\n",
    "            text_list = text.split('.')\n",
    "            length = len(text_list)\n",
    "            for i in range(length):\n",
    "                if len(text_list[i]) > 1:\n",
    "                    break\n",
    "                if length - 1 == i:\n",
    "                    document.remove(text)\n",
    "    \n",
    "    return document"
   ]
  },
  {
   "cell_type": "code",
   "execution_count": 22,
   "id": "fcd1bd9a",
   "metadata": {},
   "outputs": [
    {
     "name": "stdout",
     "output_type": "stream",
     "text": [
      "     post_index         author_id post_id  \\\n",
      "0             1          nAnarchy  112354   \n",
      "1             2      DNetherdrake  ab42bx   \n",
      "2             3         Tazmania8  b9hq37   \n",
      "3             4           ErlendJ  1zair5   \n",
      "4             5       Smegcellent  8x4657   \n",
      "..          ...               ...     ...   \n",
      "995         365        scooter_se  924wz3   \n",
      "996         366  RedEyesSeeInPink  7nlzxy   \n",
      "997         367           hm-what  3y524a   \n",
      "998         368     helpme1324354  ahklz6   \n",
      "999         369       Skyleena101  btwyps   \n",
      "\n",
      "                                            post_title    post_utc  \\\n",
      "0    I went to my first ever party last night. It s...  1349557216   \n",
      "1                                                 Cold  1546233498   \n",
      "2      My girlfriend insults me when she is depressed.  1554408730   \n",
      "3    Almost every day for months, I've gone to a se...  1393707577   \n",
      "4                                                Love?  1531079437   \n",
      "..                                                 ...         ...   \n",
      "995                     I'm so fucking tired of myself  1532630313   \n",
      "996                        Never thought I'd post here  1514893982   \n",
      "997                                               help  1451007888   \n",
      "998    Wheres the evidence that I deserve to be happy?  1547889340   \n",
      "999                                  [deleted by user]  1559027640   \n",
      "\n",
      "     post_num_comments  post_score  post_upvote_ratio  \\\n",
      "0                    2           0               0.50   \n",
      "1                    4           1               1.00   \n",
      "2                    2           1               0.67   \n",
      "3                   12          14               0.90   \n",
      "4                    9           3               1.00   \n",
      "..                 ...         ...                ...   \n",
      "995                  7           1               1.00   \n",
      "996                  6           4               0.99   \n",
      "997                  4           3               1.00   \n",
      "998                  5           3               1.00   \n",
      "999                  8           1               1.00   \n",
      "\n",
      "                                          post_content  post_tenure  ...  \\\n",
      "0    Third year college student. My depression has ...      5840088  ...   \n",
      "1                                            [deleted]       127811  ...   \n",
      "2    I am 30 years old and my girlfriend is 24 are ...            0  ...   \n",
      "3    Almost every day for months, I've gone to a se...      1113565  ...   \n",
      "4                                            [deleted]      3389473  ...   \n",
      "..                                                 ...          ...  ...   \n",
      "995                                          [deleted]     21690794  ...   \n",
      "996                                          [deleted]            0  ...   \n",
      "997                                          [deleted]            0  ...   \n",
      "998  Shouldn't  my supposed worth and value be refl...      2468167  ...   \n",
      "999                                          [removed]     13343610  ...   \n",
      "\n",
      "                                         reply_content   reply_utc  \\\n",
      "0    Yet at the same time, it made me aloof, unable...  1349583748   \n",
      "1    I hate it when I'm not really depressed. I'm a...  1546234190   \n",
      "2    Thank you. This is completely new to me and I ...  1554453920   \n",
      "3           I just can't, I'm just way too shy for it.  1393771638   \n",
      "4    It's romantic relationships I struggle with. M...  1531083234   \n",
      "..                                                 ...         ...   \n",
      "995  #relatable \\r\\nIt just gets exhausting, you kn...  1532636332   \n",
      "996  I got some good out of it. The people I befrie...  1514894637   \n",
      "997  wow, that is exactly what i've been thinking. ...  1451014356   \n",
      "998  The incentive to keep getting back up has defi...  1547891215   \n",
      "999  I had already lost my best friend of 16 years ...  1559033224   \n",
      "\n",
      "     reply_length satisfaction politeness  post_between_comment  \\\n",
      "0              41         3.15        3.8                 26095   \n",
      "1              42         4.25        4.6                   241   \n",
      "2              22         5.35        6.0                  6746   \n",
      "3              12         3.30        4.4                 53624   \n",
      "4              47         3.80        4.4                  1296   \n",
      "..            ...          ...        ...                   ...   \n",
      "995            14         4.40        5.4                  4381   \n",
      "996            43         3.55        4.4                   368   \n",
      "997            64         6.15        6.6                  2128   \n",
      "998            33         3.00        4.0                  1607   \n",
      "999            62         2.95        4.8                  2394   \n",
      "\n",
      "     comment_between_reply  IS_difference  ES_difference difference_sum  \n",
      "0                      437              0              0              0  \n",
      "1                      451             -2              0             -2  \n",
      "2                    38444             -1              1              0  \n",
      "3                    10437             -1              1              0  \n",
      "4                     2501              0              0              0  \n",
      "..                     ...            ...            ...            ...  \n",
      "995                   1638              1             -1              0  \n",
      "996                    287              0              1              1  \n",
      "997                   4340             -1             -1             -2  \n",
      "998                    268             -1             -1             -2  \n",
      "999                   3190              2              0              2  \n",
      "\n",
      "[1000 rows x 30 columns]\n"
     ]
    }
   ],
   "source": [
    "print(result_df)"
   ]
  },
  {
   "cell_type": "code",
   "execution_count": 24,
   "id": "f1d464b9",
   "metadata": {},
   "outputs": [],
   "source": [
    "result_df = pd.read_csv('../temp/seeker_satisfaction_1000_thread.csv')\n",
    "# print(result_df)\n",
    "post_ids = list(result_df['post_id'])\n",
    "post_contents = list(result_df['post_content'])\n",
    "post_titles = list(result_df['post_title'])\n",
    "\n",
    "post_ids_contents = []\n",
    "post_ids_titles = []\n",
    "\n",
    "for i in range(len(post_ids)):\n",
    "    if post_contents[i] != '[removed]' and post_contents[i] != '[deleted]':\n",
    "        post_ids_contents.append([post_ids[i], post_contents[i]])\n",
    "    if post_titles[i] != '[deleted by user]':\n",
    "        post_ids_titles.append([post_ids[i], post_titles[i]])"
   ]
  },
  {
   "cell_type": "code",
   "execution_count": 28,
   "id": "bb1de5b8",
   "metadata": {},
   "outputs": [],
   "source": [
    "def tf_idf_similarity_from_list(document):\n",
    "    document = check_body(document)\n",
    "\n",
    "    # comment/body list가 빈 list인지를 체크해서 빈 list이면 -1 return.\n",
    "    if not document:\n",
    "        return -1\n",
    "    \n",
    "    # check_body() 함수를 거친 후, 이모지로만 이루어진 comment/post title이 지워져서\n",
    "    # 하나의 text만 남았을 경우. 구분을 위해 -2 return.\n",
    "    if len(document) == 1:\n",
    "        return -2\n",
    "\n",
    "    tfidf_vectorizer = TfidfVectorizer(min_df=1)\n",
    "    tfidf_matrix = tfidf_vectorizer.fit_transform(document)\n",
    "\n",
    "    document_distances = (tfidf_matrix * tfidf_matrix.T)\n",
    "    \n",
    "    result_array = document_distances.toarray()\n",
    "    \n",
    "    similarity = 0\n",
    "    count = 0\n",
    "    \n",
    "    for i in range(len(result_array)):\n",
    "        for j in range(len(result_array[i])):\n",
    "            if i < j:\n",
    "                similarity += result_array[i][j]\n",
    "                count += 1\n",
    "    \n",
    "    return (similarity / count)"
   ]
  },
  {
   "cell_type": "code",
   "execution_count": 72,
   "id": "a7167af4",
   "metadata": {},
   "outputs": [
    {
     "name": "stdout",
     "output_type": "stream",
     "text": [
      "0 1\n",
      "0 2\n",
      "0 3\n",
      "0 4\n",
      "0 5\n",
      "0 6\n",
      "0 7\n",
      "0 8\n",
      "1 1\n",
      "1 2\n",
      "1 3\n",
      "1 4\n",
      "1 5\n",
      "1 6\n",
      "1 7\n",
      "1 8\n",
      "2 1\n",
      "2 2\n",
      "2 3\n",
      "2 4\n",
      "2 5\n",
      "2 6\n",
      "2 7\n",
      "2 8\n",
      "3 1\n",
      "3 2\n",
      "3 3\n",
      "3 4\n",
      "3 5\n",
      "3 6\n",
      "3 7\n",
      "3 8\n",
      "4 1\n",
      "4 2\n",
      "4 3\n",
      "4 4\n",
      "4 5\n",
      "4 6\n",
      "4 7\n",
      "4 8\n",
      "5 1\n",
      "5 2\n",
      "5 3\n",
      "5 4\n",
      "5 5\n",
      "5 6\n",
      "5 7\n",
      "5 8\n",
      "6 1\n",
      "6 2\n",
      "6 3\n",
      "6 4\n",
      "6 5\n",
      "6 6\n",
      "6 7\n",
      "6 8\n",
      "7 1\n",
      "7 2\n",
      "7 3\n",
      "7 4\n",
      "7 5\n",
      "7 6\n",
      "7 7\n",
      "7 8\n",
      "8 1\n",
      "8 2\n",
      "8 3\n",
      "8 4\n",
      "8 5\n",
      "8 6\n",
      "8 7\n",
      "8 8\n",
      "9 1\n",
      "9 2\n",
      "9 3\n",
      "9 4\n",
      "9 5\n",
      "9 6\n",
      "9 7\n",
      "9 8\n"
     ]
    }
   ],
   "source": [
    "for i in range(10):\n",
    "    for j in range(1, 10):\n",
    "        print(i, j)"
   ]
  },
  {
   "cell_type": "code",
   "execution_count": 49,
   "id": "b08cf23c",
   "metadata": {},
   "outputs": [],
   "source": [
    "result_list = []"
   ]
  },
  {
   "cell_type": "code",
   "execution_count": 50,
   "id": "54bf900b",
   "metadata": {},
   "outputs": [
    {
     "name": "stdout",
     "output_type": "stream",
     "text": [
      "0 1 2 3 4 5 6 7 8 9 10 11 12 13 14 15 16 17 18 19 20 21 22 23 24 25 26 27 28 29 30 31 32 33 34 35 36 37 38 39 40 41 42 43 44 45 46 47 48 49 50 51 52 53 54 55 56 57 58 59 60 61 62 63 64 65 66 67 68 69 70 71 72 73 74 75 76 77 78 79 80 81 82 83 84 85 86 87 88 89 90 91 92 93 94 95 96 97 98 99 100 101 102 103 104 105 106 107 108 109 110 111 112 113 114 115 116 117 118 119 120 121 122 123 124 125 126 127 128 129 130 131 132 133 134 135 136 137 138 139 140 141 142 143 144 145 146 147 148 149 150 151 152 153 154 155 156 157 158 159 160 161 162 163 164 165 166 167 168 169 170 171 172 173 174 175 176 177 178 179 180 181 182 183 184 185 186 187 188 189 190 191 192 193 194 195 196 197 198 199 200 201 202 203 204 205 206 207 208 209 210 211 212 213 214 215 216 217 218 219 220 221 222 223 224 225 226 227 228 229 230 231 232 233 234 235 236 237 238 239 240 241 242 243 244 245 246 247 248 249 250 251 252 253 254 255 256 257 258 259 260 261 262 263 264 265 266 267 268 269 270 271 272 273 274 275 276 277 278 279 280 281 282 283 284 285 286 287 288 289 290 291 292 293 294 295 296 297 298 299 300 301 302 303 304 305 306 307 308 309 310 311 312 313 314 315 316 317 318 319 320 321 322 323 324 325 326 327 328 329 330 331 332 333 334 335 336 337 338 339 340 341 342 343 344 345 346 347 348 349 350 351 352 353 354 355 356 357 358 359 360 361 362 363 364 365 366 367 368 369 370 371 372 373 374 375 376 377 378 379 380 381 382 383 384 385 386 387 388 389 390 391 392 393 394 395 396 397 398 399 400 401 402 403 404 405 406 407 408 409 410 411 412 413 414 415 416 417 418 419 420 421 422 423 424 425 426 427 428 429 430 431 432 433 434 435 436 437 438 439 440 441 442 443 444 445 446 447 448 449 450 451 452 453 454 455 456 457 458 459 460 461 462 463 464 465 466 467 468 469 470 471 472 473 474 475 476 477 478 479 480 481 482 483 484 485 486 487 488 489 490 491 492 493 494 495 496 497 498 499 500 501 502 503 504 505 506 507 508 509 510 511 512 513 514 515 516 517 518 519 520 521 522 523 524 525 526 527 528 529 530 531 532 533 534 535 536 537 538 539 540 541 542 543 544 545 546 547 548 549 550 551 552 553 554 555 556 557 558 559 560 561 562 563 564 565 566 567 568 569 570 571 572 573 574 575 576 577 578 579 580 581 582 583 584 585 586 587 588 589 590 591 592 593 594 595 596 597 598 599 600 601 602 603 604 605 606 607 608 609 610 611 612 613 614 615 616 617 618 619 620 621 622 623 "
     ]
    }
   ],
   "source": [
    "for i in range(len(post_ids_contents)):\n",
    "    print(i, end=' ')\n",
    "    for j in range(1, len(post_ids_contents)):\n",
    "        result_list.append([post_ids_contents[i][0], post_ids_contents[j][0], tf_idf_similarity_from_list([post_ids_contents[i][1], post_ids_contents[j][1]])])"
   ]
  },
  {
   "cell_type": "code",
   "execution_count": 51,
   "id": "a127518c",
   "metadata": {},
   "outputs": [],
   "source": [
    "titles_result_list = []"
   ]
  },
  {
   "cell_type": "code",
   "execution_count": 52,
   "id": "8ef391ec",
   "metadata": {},
   "outputs": [
    {
     "name": "stdout",
     "output_type": "stream",
     "text": [
      "0 1 2 3 4 5 6 7 8 9 10 11 12 13 14 15 16 17 18 19 20 21 22 23 24 25 26 27 28 29 30 31 32 33 34 35 36 37 38 39 40 41 42 43 44 45 46 47 48 49 50 51 52 53 54 55 56 57 58 59 60 61 62 63 64 65 66 67 68 69 70 71 72 73 74 75 76 77 78 79 80 81 82 83 84 85 86 87 88 89 90 91 92 93 94 95 96 97 98 99 100 101 102 103 104 105 106 107 108 109 110 111 112 113 114 115 116 117 118 119 120 121 122 123 124 125 126 127 128 129 130 131 132 133 134 135 136 137 138 139 140 141 142 143 144 145 146 147 148 149 150 151 152 153 154 155 156 157 158 159 160 161 162 163 164 165 166 167 168 169 170 171 172 173 174 175 176 177 178 179 180 181 182 183 184 185 186 187 188 189 190 191 192 193 194 195 196 197 198 199 200 201 202 203 204 205 206 207 208 209 210 211 212 213 214 215 216 217 218 219 220 221 222 223 224 225 226 227 228 229 230 231 232 233 234 235 236 237 238 239 240 241 242 243 244 245 246 247 248 249 250 251 252 253 254 255 256 257 258 259 260 261 262 263 264 265 266 267 268 269 270 271 272 273 274 275 276 277 278 279 280 281 282 283 284 285 286 287 288 289 290 291 292 293 294 295 296 297 298 299 300 301 302 303 304 305 306 307 308 309 310 311 312 313 314 315 316 317 318 319 320 321 322 323 324 325 326 327 328 329 330 331 332 333 334 335 336 337 338 339 340 341 342 343 344 345 346 347 348 349 350 351 352 353 354 355 356 357 358 359 360 361 362 363 364 365 366 367 368 369 370 371 372 373 374 375 376 377 378 379 380 381 382 383 384 385 386 387 388 389 390 391 392 393 394 395 396 397 398 399 400 401 402 403 404 405 406 407 408 409 410 411 412 413 414 415 416 417 418 419 420 421 422 423 424 425 426 427 428 429 430 431 432 433 434 435 436 437 438 439 440 441 442 443 444 445 446 447 448 449 450 451 452 453 454 455 456 457 458 459 460 461 462 463 464 465 466 467 468 469 470 471 472 473 474 475 476 477 478 479 480 481 482 483 484 485 486 487 488 489 490 491 492 493 494 495 496 497 498 499 500 501 502 503 504 505 506 507 508 509 510 511 512 513 514 515 516 517 518 519 520 521 522 523 524 525 526 527 528 529 530 531 532 533 534 535 536 537 538 539 540 541 542 543 544 545 546 547 548 549 550 551 552 553 554 555 556 557 558 559 560 561 562 563 564 565 566 567 568 569 570 571 572 573 574 575 576 577 578 579 580 581 582 583 584 585 586 587 588 589 590 591 592 593 594 595 596 597 598 599 600 601 602 603 604 605 606 607 608 609 610 611 612 613 614 615 616 617 618 619 620 621 622 623 624 625 626 627 628 629 630 631 632 633 634 635 636 637 638 639 640 641 642 643 644 645 646 647 648 649 650 651 652 653 654 655 656 657 658 659 660 661 662 663 664 665 666 667 668 669 670 671 672 673 674 675 676 677 678 679 680 681 682 683 684 685 686 687 688 689 690 691 692 693 694 695 696 697 698 699 700 701 702 703 704 705 706 707 708 709 710 711 712 713 714 715 716 717 718 719 720 721 722 723 724 725 726 727 728 729 730 731 732 733 734 735 736 737 738 739 740 741 742 743 744 745 746 747 748 749 750 751 752 753 754 755 756 757 758 759 760 761 762 763 764 765 766 767 768 769 770 771 772 773 774 775 776 777 778 779 780 781 782 783 784 785 786 787 788 789 790 791 792 793 794 795 796 797 798 799 800 801 802 803 804 805 806 807 808 809 810 811 812 813 814 815 816 817 818 819 820 821 822 823 824 825 826 827 828 829 830 831 832 833 834 835 836 837 838 839 840 841 842 843 844 845 846 847 848 849 850 851 852 853 854 855 856 857 858 859 860 861 862 863 864 865 866 867 868 869 870 871 872 873 874 875 876 877 878 879 880 881 882 883 884 885 886 887 888 889 890 891 892 893 894 895 896 897 898 899 900 901 902 903 904 905 906 907 908 909 910 911 912 913 914 915 916 917 918 919 920 921 922 923 924 925 926 927 928 929 930 931 932 933 934 935 936 937 938 939 940 941 942 943 944 945 946 947 948 949 950 951 952 953 954 955 956 957 958 959 960 961 962 963 964 965 966 967 968 969 970 971 972 973 974 975 976 977 978 979 980 981 982 983 984 985 986 987 988 989 990 991 992 993 994 995 996 997 998 "
     ]
    }
   ],
   "source": [
    "for i in range(len(post_ids_titles)):\n",
    "    print(i, end=' ')\n",
    "    for j in range(1, len(post_ids_titles)):\n",
    "        titles_result_list.append([post_ids_titles[i][0], post_ids_titles[j][0], tf_idf_similarity_from_list([post_ids_titles[i][1], post_ids_titles[j][1]])])"
   ]
  },
  {
   "cell_type": "code",
   "execution_count": 34,
   "id": "1bb22f5e",
   "metadata": {},
   "outputs": [
    {
     "name": "stdout",
     "output_type": "stream",
     "text": [
      "Third year college student. My depression has always stemmed largely from social anxiety, wishing I had friends but not knowing how to make them. I spent two years in dorms and never spoke to any of my neighbors and didn't really meet anybody.\n",
      "\n",
      "Last night, for the first time in my life, I was invited to a party (not personally mind you; I was a part of a group that got collectively invited). I drank a little bit, but got tipsy quickly, and not knowing my limits I stopped. I was completely sober within the first hour. \n",
      "\n",
      "Besides introductions and an occasional greeting, the only people I actually spoke to were the people I already knew. I then spent a few hours sitting in a corner and observing drunk antics.\n",
      "\n",
      "It was pretty weird, observing two people go from complete strangers, to being in one another's arms at the end of the night. Looks so easy.\n",
      "\n",
      "Is this the shit that I've been \"missing\" for all of my life? In which case, wow. Good riddance, I'll take my depression over that any day.\n",
      "\n",
      "Sorry about the rant, I guess that's all it really is. I give up.\n",
      "I am 30 years old and my girlfriend is 24 are together since 4 months. She has high level of depression and anxiety and she sees a therapist. When she is depressed, she starts insulting me and saying not nice things to me. She explained, that because of her depression, she can't control her feelings. I am very supportive to her and when she feels down, i always remind her that i love her and if she wants us to meet we can do it or have a video chat. Lately, if i say something nice, she says: you want this relationship more than me and you are desperate for a relationship, that's why you said that. When i give her space, she gets angry that I don't trust her. Any advise? Also, do people with depression insults the ones they love? \n",
      "Note: she wasn't like that for the first two months and then she changed, blaming it on that relationship scares her. Thanks \n"
     ]
    }
   ],
   "source": [
    "print(post_ids_contents[0][1])\n",
    "print(post_ids_contents[1][1])"
   ]
  },
  {
   "cell_type": "code",
   "execution_count": 55,
   "id": "aa96ed00",
   "metadata": {},
   "outputs": [
    {
     "name": "stdout",
     "output_type": "stream",
     "text": [
      "<class 'pandas.core.frame.DataFrame'>\n",
      "RangeIndex: 1000 entries, 0 to 999\n",
      "Data columns (total 30 columns):\n",
      " #   Column                 Non-Null Count  Dtype  \n",
      "---  ------                 --------------  -----  \n",
      " 0   post_index             1000 non-null   int64  \n",
      " 1   author_id              1000 non-null   object \n",
      " 2   post_id                1000 non-null   object \n",
      " 3   post_title             1000 non-null   object \n",
      " 4   post_utc               1000 non-null   int64  \n",
      " 5   post_num_comments      1000 non-null   int64  \n",
      " 6   post_score             1000 non-null   int64  \n",
      " 7   post_upvote_ratio      1000 non-null   float64\n",
      " 8   post_content           1000 non-null   object \n",
      " 9   post_tenure            1000 non-null   int64  \n",
      " 10  familiarity            1000 non-null   int64  \n",
      " 11  post_IS                1000 non-null   int64  \n",
      " 12  post_ES                1000 non-null   int64  \n",
      " 13  comment_id             1000 non-null   object \n",
      " 14  comment_body           1000 non-null   object \n",
      " 15  comment_utc            1000 non-null   int64  \n",
      " 16  comment_score          1000 non-null   int64  \n",
      " 17  comment_IS             1000 non-null   int64  \n",
      " 18  comment_ES             1000 non-null   int64  \n",
      " 19  reply_id               1000 non-null   object \n",
      " 20  reply_content          1000 non-null   object \n",
      " 21  reply_utc              1000 non-null   int64  \n",
      " 22  reply_length           1000 non-null   int64  \n",
      " 23  satisfaction           1000 non-null   float64\n",
      " 24  politeness             1000 non-null   float64\n",
      " 25  post_between_comment   1000 non-null   int64  \n",
      " 26  comment_between_reply  1000 non-null   int64  \n",
      " 27  IS_difference          1000 non-null   int64  \n",
      " 28  ES_difference          1000 non-null   int64  \n",
      " 29  difference_sum         1000 non-null   int64  \n",
      "dtypes: float64(3), int64(19), object(8)\n",
      "memory usage: 234.5+ KB\n"
     ]
    }
   ],
   "source": [
    "result_df.info()"
   ]
  },
  {
   "cell_type": "code",
   "execution_count": 57,
   "id": "1dff12fc",
   "metadata": {},
   "outputs": [],
   "source": [
    "comment_ids = list(result_df['comment_id'])\n",
    "comment_bodies = list(result_df['comment_body'])\n",
    "\n",
    "parent_ids_comment_ids_bodies = []\n",
    "\n",
    "for i in range(len(comment_ids)):\n",
    "    if comment_bodies[i] != '[removed]' and comment_bodies[i] != '[deleted]':\n",
    "        parent_ids_comment_ids_bodies.append([post_ids[i], comment_ids[i], comment_bodies[i]])"
   ]
  },
  {
   "cell_type": "code",
   "execution_count": 60,
   "id": "b02ca4db",
   "metadata": {},
   "outputs": [
    {
     "name": "stdout",
     "output_type": "stream",
     "text": [
      "882\n"
     ]
    }
   ],
   "source": [
    "print(len(parent_ids_comment_ids_bodies))"
   ]
  },
  {
   "cell_type": "code",
   "execution_count": 62,
   "id": "74f40671",
   "metadata": {},
   "outputs": [],
   "source": [
    "comments_result_list = []"
   ]
  },
  {
   "cell_type": "code",
   "execution_count": 64,
   "id": "7641f6a1",
   "metadata": {},
   "outputs": [
    {
     "name": "stdout",
     "output_type": "stream",
     "text": [
      "0 1 2 3 4 5 6 7 8 9 10 11 12 13 14 15 16 17 18 19 20 21 22 23 24 25 26 27 28 29 30 31 32 33 34 35 36 37 38 39 40 41 42 43 44 45 46 47 48 49 50 51 52 53 54 55 56 57 58 59 60 61 62 63 64 65 66 67 68 69 70 71 72 73 74 75 76 77 78 79 80 81 82 83 84 85 86 87 88 89 90 91 92 93 94 95 96 97 98 99 100 101 102 103 104 105 106 107 108 109 110 111 112 113 114 115 116 117 118 119 120 121 122 123 124 125 126 127 128 129 130 131 132 133 134 135 136 137 138 139 140 141 142 143 144 145 146 147 148 149 150 151 152 153 154 155 156 157 158 159 160 161 162 163 164 165 166 167 168 169 170 171 172 173 174 175 176 177 178 179 180 181 182 183 184 185 186 187 188 189 190 191 192 193 194 195 196 197 198 199 200 201 202 203 204 205 206 207 208 209 210 211 212 213 214 215 216 217 218 219 220 221 222 223 224 225 226 227 228 229 230 231 232 233 234 235 236 237 238 239 240 241 242 243 244 245 246 247 248 249 250 251 252 253 254 255 256 257 258 259 260 261 262 263 264 265 266 267 268 269 270 271 272 273 274 275 276 277 278 279 280 281 282 283 284 285 286 287 288 289 290 291 292 293 294 295 296 297 298 299 300 301 302 303 304 305 306 307 308 309 310 311 312 313 314 315 316 317 318 319 320 321 322 323 324 325 326 327 328 329 330 331 332 333 334 335 336 337 338 339 340 341 342 343 344 345 346 347 348 349 350 351 352 353 354 355 356 357 358 359 360 361 362 363 364 365 366 367 368 369 370 371 372 373 374 375 376 377 378 379 380 381 382 383 384 385 386 387 388 389 390 391 392 393 394 395 396 397 398 399 400 401 402 403 404 405 406 407 408 409 410 411 412 413 414 415 416 417 418 419 420 421 422 423 424 425 426 427 428 429 430 431 432 433 434 435 436 437 438 439 440 441 442 443 444 445 446 447 448 449 450 451 452 453 454 455 456 457 458 459 460 461 462 463 464 465 466 467 468 469 470 471 472 473 474 475 476 477 478 479 480 481 482 483 484 485 486 487 488 489 490 491 492 493 494 495 496 497 498 499 500 501 502 503 504 505 506 507 508 509 510 511 512 513 514 515 516 517 518 519 520 521 522 523 524 525 526 527 528 529 530 531 532 533 534 535 536 537 538 539 540 541 542 543 544 545 546 547 548 549 550 551 552 553 554 555 556 557 558 559 560 561 562 563 564 565 566 567 568 569 570 571 572 573 574 575 576 577 578 579 580 581 582 583 584 585 586 587 588 589 590 591 592 593 594 595 596 597 598 599 600 601 602 603 604 605 606 607 608 609 610 611 612 613 614 615 616 617 618 619 620 621 622 623 624 625 626 627 628 629 630 631 632 633 634 635 636 637 638 639 640 641 642 643 644 645 646 647 648 649 650 651 652 653 654 655 656 657 658 659 660 661 662 663 664 665 666 667 668 669 670 671 672 673 674 675 676 677 678 679 680 681 682 683 684 685 686 687 688 689 690 691 692 693 694 695 696 697 698 699 700 701 702 703 704 705 706 707 708 709 710 711 712 713 714 715 716 717 718 719 720 721 722 723 724 725 726 727 728 729 730 731 732 733 734 735 736 737 738 739 740 741 742 743 744 745 746 747 748 749 750 751 752 753 754 755 756 757 758 759 760 761 762 763 764 765 766 767 768 769 770 771 772 773 774 775 776 777 778 779 780 781 782 783 784 785 786 787 788 789 790 791 792 793 794 795 796 797 798 799 800 801 802 803 804 805 806 807 808 809 810 811 812 813 814 815 816 817 818 819 820 821 822 823 824 825 826 827 828 829 830 831 832 833 834 835 836 837 838 839 840 841 842 843 844 845 846 847 848 849 850 851 852 853 854 855 856 857 858 859 860 861 862 863 864 865 866 867 868 869 870 871 872 873 874 875 876 877 878 879 880 881 "
     ]
    }
   ],
   "source": [
    "for i in range(len(parent_ids_comment_ids_bodies)):\n",
    "    print(i, end=' ')\n",
    "    for j in range(1, len(parent_ids_comment_ids_bodies)):\n",
    "        comments_result_list.append([parent_ids_comment_ids_bodies[i][0], parent_ids_comment_ids_bodies[i][1], \n",
    "                                   parent_ids_comment_ids_bodies[j][0], parent_ids_comment_ids_bodies[j][1], \n",
    "                                   tf_idf_similarity_from_list([parent_ids_comment_ids_bodies[i][2], parent_ids_comment_ids_bodies[j][2]])])"
   ]
  },
  {
   "cell_type": "code",
   "execution_count": 69,
   "id": "a05fd102",
   "metadata": {},
   "outputs": [],
   "source": [
    "# make csv files here\n",
    "# result_list, titles_result_list, comments_result_list\n",
    "header = ['post_id1', 'post_id2', 'tf-idf_similarity']\n",
    "post_content_df = pd.DataFrame(result_list, columns = header)\n",
    "post_content_df.to_csv(f\"../temp/csv/tf_idf_similarity_post_content_pair.csv\", header=header, index=None)\n",
    "\n"
   ]
  },
  {
   "cell_type": "code",
   "execution_count": 68,
   "id": "0c55c7b7",
   "metadata": {},
   "outputs": [
    {
     "name": "stderr",
     "output_type": "stream",
     "text": [
      "IOPub data rate exceeded.\n",
      "The notebook server will temporarily stop sending output\n",
      "to the client in order to avoid crashing it.\n",
      "To change this limit, set the config variable\n",
      "`--NotebookApp.iopub_data_rate_limit`.\n",
      "\n",
      "Current values:\n",
      "NotebookApp.iopub_data_rate_limit=1000000.0 (bytes/sec)\n",
      "NotebookApp.rate_limit_window=3.0 (secs)\n",
      "\n"
     ]
    }
   ],
   "source": []
  },
  {
   "cell_type": "code",
   "execution_count": null,
   "id": "f0ab1a09",
   "metadata": {},
   "outputs": [],
   "source": []
  },
  {
   "cell_type": "markdown",
   "id": "62f8f5a0",
   "metadata": {},
   "source": [
    "# BERT-NER"
   ]
  },
  {
   "cell_type": "code",
   "execution_count": null,
   "id": "292e6b0b",
   "metadata": {},
   "outputs": [],
   "source": []
  }
 ],
 "metadata": {
  "kernelspec": {
   "display_name": "Python 3 (ipykernel)",
   "language": "python",
   "name": "python3"
  },
  "language_info": {
   "codemirror_mode": {
    "name": "ipython",
    "version": 3
   },
   "file_extension": ".py",
   "mimetype": "text/x-python",
   "name": "python",
   "nbconvert_exporter": "python",
   "pygments_lexer": "ipython3",
   "version": "3.8.10"
  }
 },
 "nbformat": 4,
 "nbformat_minor": 5
}
