{
 "cells": [
  {
   "cell_type": "code",
   "execution_count": 6,
   "id": "3e68a38c",
   "metadata": {},
   "outputs": [],
   "source": [
    "# For using custom module.\n",
    "import sys\n",
    "sys.path.append('../custom_library')"
   ]
  },
  {
   "cell_type": "code",
   "execution_count": 7,
   "id": "c1cb2020",
   "metadata": {},
   "outputs": [],
   "source": [
    "import igraph\n",
    "import pandas as pd\n",
    "import numpy as np\n",
    "import matplotlib.pyplot as plt\n",
    "from igraph import *\n",
    "# import connect_to_db as cn"
   ]
  },
  {
   "cell_type": "code",
   "execution_count": 8,
   "id": "94848fd2",
   "metadata": {},
   "outputs": [],
   "source": [
    "data1 = pd.read_csv('../predicting-satisfaction-using-graphs/csv/tf_idf_similarity_comments_pair.csv')\n",
    "data2 = pd.read_csv('../predicting-satisfaction-using-graphs/csv/tf_idf_similarity_post_contents_pair.csv')"
   ]
  },
  {
   "cell_type": "code",
   "execution_count": 9,
   "id": "ee0b25a7",
   "metadata": {},
   "outputs": [
    {
     "data": {
      "text/html": [
       "<div>\n",
       "<style scoped>\n",
       "    .dataframe tbody tr th:only-of-type {\n",
       "        vertical-align: middle;\n",
       "    }\n",
       "\n",
       "    .dataframe tbody tr th {\n",
       "        vertical-align: top;\n",
       "    }\n",
       "\n",
       "    .dataframe thead th {\n",
       "        text-align: right;\n",
       "    }\n",
       "</style>\n",
       "<table border=\"1\" class=\"dataframe\">\n",
       "  <thead>\n",
       "    <tr style=\"text-align: right;\">\n",
       "      <th></th>\n",
       "      <th>post_id1</th>\n",
       "      <th>post_id2</th>\n",
       "      <th>tf-idf_similarity</th>\n",
       "    </tr>\n",
       "  </thead>\n",
       "  <tbody>\n",
       "    <tr>\n",
       "      <th>0</th>\n",
       "      <td>112354</td>\n",
       "      <td>b9hq37</td>\n",
       "      <td>0.223179</td>\n",
       "    </tr>\n",
       "    <tr>\n",
       "      <th>1</th>\n",
       "      <td>112354</td>\n",
       "      <td>1zair5</td>\n",
       "      <td>0.410175</td>\n",
       "    </tr>\n",
       "    <tr>\n",
       "      <th>2</th>\n",
       "      <td>112354</td>\n",
       "      <td>653701</td>\n",
       "      <td>0.317580</td>\n",
       "    </tr>\n",
       "    <tr>\n",
       "      <th>3</th>\n",
       "      <td>112354</td>\n",
       "      <td>3wf4dn</td>\n",
       "      <td>0.202252</td>\n",
       "    </tr>\n",
       "    <tr>\n",
       "      <th>4</th>\n",
       "      <td>112354</td>\n",
       "      <td>2wdype</td>\n",
       "      <td>0.268716</td>\n",
       "    </tr>\n",
       "    <tr>\n",
       "      <th>...</th>\n",
       "      <td>...</td>\n",
       "      <td>...</td>\n",
       "      <td>...</td>\n",
       "    </tr>\n",
       "    <tr>\n",
       "      <th>192505</th>\n",
       "      <td>aziyc1</td>\n",
       "      <td>8vnu4a</td>\n",
       "      <td>0.118166</td>\n",
       "    </tr>\n",
       "    <tr>\n",
       "      <th>192506</th>\n",
       "      <td>aziyc1</td>\n",
       "      <td>ahklz6</td>\n",
       "      <td>0.093965</td>\n",
       "    </tr>\n",
       "    <tr>\n",
       "      <th>192507</th>\n",
       "      <td>385k9t</td>\n",
       "      <td>8vnu4a</td>\n",
       "      <td>0.198749</td>\n",
       "    </tr>\n",
       "    <tr>\n",
       "      <th>192508</th>\n",
       "      <td>385k9t</td>\n",
       "      <td>ahklz6</td>\n",
       "      <td>0.134808</td>\n",
       "    </tr>\n",
       "    <tr>\n",
       "      <th>192509</th>\n",
       "      <td>8vnu4a</td>\n",
       "      <td>ahklz6</td>\n",
       "      <td>0.174048</td>\n",
       "    </tr>\n",
       "  </tbody>\n",
       "</table>\n",
       "<p>192510 rows × 3 columns</p>\n",
       "</div>"
      ],
      "text/plain": [
       "       post_id1 post_id2  tf-idf_similarity\n",
       "0        112354   b9hq37           0.223179\n",
       "1        112354   1zair5           0.410175\n",
       "2        112354   653701           0.317580\n",
       "3        112354   3wf4dn           0.202252\n",
       "4        112354   2wdype           0.268716\n",
       "...         ...      ...                ...\n",
       "192505   aziyc1   8vnu4a           0.118166\n",
       "192506   aziyc1   ahklz6           0.093965\n",
       "192507   385k9t   8vnu4a           0.198749\n",
       "192508   385k9t   ahklz6           0.134808\n",
       "192509   8vnu4a   ahklz6           0.174048\n",
       "\n",
       "[192510 rows x 3 columns]"
      ]
     },
     "execution_count": 9,
     "metadata": {},
     "output_type": "execute_result"
    }
   ],
   "source": [
    "data2"
   ]
  },
  {
   "cell_type": "code",
   "execution_count": 10,
   "id": "4a87e5b0",
   "metadata": {},
   "outputs": [],
   "source": [
    "data1 = data1[['comment_id1', 'comment_id2', 'tf-idf_similarity']]\n",
    "data2 = data2[['post_id1', 'post_id2', 'tf-idf_similarity']]"
   ]
  },
  {
   "cell_type": "code",
   "execution_count": 11,
   "id": "068e5f1f",
   "metadata": {},
   "outputs": [],
   "source": [
    "idx1 = data1[data1['tf-idf_similarity'] < 0.1016043857145497].index\n",
    "idx2 = data2[data2['tf-idf_similarity'] < 0.2175105303918816].index"
   ]
  },
  {
   "cell_type": "code",
   "execution_count": 12,
   "id": "2d93eef5",
   "metadata": {},
   "outputs": [],
   "source": [
    "data1_filtered = data1.drop(idx1)\n",
    "data2_filtered = data2.drop(idx2)"
   ]
  },
  {
   "cell_type": "code",
   "execution_count": 13,
   "id": "851a29f1",
   "metadata": {},
   "outputs": [],
   "source": [
    "tuples1 = [tuple(x) for x in data1_filtered.values]\n",
    "g1 = igraph.Graph.TupleList(tuples1, directed=False, edge_attrs=['tf-idf_similarity'])\n",
    "\n",
    "tuples2 = [tuple(x) for x in data2_filtered.values]\n",
    "g2 = igraph.Graph.TupleList(tuples2, directed=False, edge_attrs=['tf-idf_similarity'])"
   ]
  },
  {
   "cell_type": "code",
   "execution_count": 14,
   "id": "acd29a63",
   "metadata": {},
   "outputs": [
    {
     "data": {
      "text/plain": [
       "<igraph.Graph at 0x7fe4015f4d60>"
      ]
     },
     "execution_count": 14,
     "metadata": {},
     "output_type": "execute_result"
    }
   ],
   "source": [
    "g1"
   ]
  },
  {
   "cell_type": "code",
   "execution_count": 15,
   "id": "77451db8",
   "metadata": {},
   "outputs": [
    {
     "name": "stdout",
     "output_type": "stream",
     "text": [
      "Comment Graph\n",
      "Number of vertices in the graph: 881\n",
      "Number of edges in the graph: 194266\n",
      "Maximum degree in the graph: 767\n",
      "\n",
      "Post Graph\n",
      "Number of vertices in the graph: 613\n",
      "Number of edges in the graph: 96255\n",
      "Maximum degree in the graph: 544\n"
     ]
    }
   ],
   "source": [
    "print(\"Comment Graph\")\n",
    "print(\"Number of vertices in the graph:\", g1.vcount())\n",
    "print(\"Number of edges in the graph:\", g1.ecount())\n",
    "print(\"Maximum degree in the graph:\", g1.maxdegree())\n",
    "print()\n",
    "print(\"Post Graph\")\n",
    "print(\"Number of vertices in the graph:\", g2.vcount())\n",
    "print(\"Number of edges in the graph:\", g2.ecount())\n",
    "print(\"Maximum degree in the graph:\", g2.maxdegree())"
   ]
  },
  {
   "cell_type": "code",
   "execution_count": null,
   "id": "9dc0b96e",
   "metadata": {},
   "outputs": [],
   "source": []
  },
  {
   "cell_type": "code",
   "execution_count": 22,
   "id": "12eae869",
   "metadata": {},
   "outputs": [
    {
     "name": "stdout",
     "output_type": "stream",
     "text": [
      "comment graph avg degree : 441.0124858115782\n",
      "post graph avg degree : 317.607843137255\n"
     ]
    }
   ],
   "source": [
    "print(f'comment graph avg degree : {mean(g1.degree())}')\n",
    "print(f'post graph avg degree : {mean(g2.degree())}')"
   ]
  },
  {
   "cell_type": "code",
   "execution_count": 44,
   "id": "c860c0bc",
   "metadata": {},
   "outputs": [
    {
     "name": "stdout",
     "output_type": "stream",
     "text": [
      "igraph.Vertex(<igraph.Graph object at 0x7f3fb777f8b0>, 256, {'name': '751qhd'}) 890\n",
      "igraph.Vertex(<igraph.Graph object at 0x7f3fb777f8b0>, 256, {'name': '751qhd'})\n"
     ]
    },
    {
     "data": {
      "text/html": [
       "<div>\n",
       "<style scoped>\n",
       "    .dataframe tbody tr th:only-of-type {\n",
       "        vertical-align: middle;\n",
       "    }\n",
       "\n",
       "    .dataframe tbody tr th {\n",
       "        vertical-align: top;\n",
       "    }\n",
       "\n",
       "    .dataframe thead th {\n",
       "        text-align: right;\n",
       "    }\n",
       "</style>\n",
       "<table border=\"1\" class=\"dataframe\">\n",
       "  <thead>\n",
       "    <tr style=\"text-align: right;\">\n",
       "      <th></th>\n",
       "      <th>post_id1</th>\n",
       "      <th>post_id2</th>\n",
       "      <th>tf-idf_similarity</th>\n",
       "    </tr>\n",
       "  </thead>\n",
       "  <tbody>\n",
       "    <tr>\n",
       "      <th>348</th>\n",
       "      <td>112354</td>\n",
       "      <td>751qhd</td>\n",
       "      <td>0.310205</td>\n",
       "    </tr>\n",
       "    <tr>\n",
       "      <th>422</th>\n",
       "      <td>112354</td>\n",
       "      <td>751qhd</td>\n",
       "      <td>0.310205</td>\n",
       "    </tr>\n",
       "    <tr>\n",
       "      <th>1591</th>\n",
       "      <td>1zair5</td>\n",
       "      <td>751qhd</td>\n",
       "      <td>0.277877</td>\n",
       "    </tr>\n",
       "    <tr>\n",
       "      <th>1665</th>\n",
       "      <td>1zair5</td>\n",
       "      <td>751qhd</td>\n",
       "      <td>0.277877</td>\n",
       "    </tr>\n",
       "    <tr>\n",
       "      <th>2211</th>\n",
       "      <td>653701</td>\n",
       "      <td>751qhd</td>\n",
       "      <td>0.371841</td>\n",
       "    </tr>\n",
       "    <tr>\n",
       "      <th>...</th>\n",
       "      <td>...</td>\n",
       "      <td>...</td>\n",
       "      <td>...</td>\n",
       "    </tr>\n",
       "    <tr>\n",
       "      <th>172854</th>\n",
       "      <td>40phll</td>\n",
       "      <td>751qhd</td>\n",
       "      <td>0.295354</td>\n",
       "    </tr>\n",
       "    <tr>\n",
       "      <th>173060</th>\n",
       "      <td>9cq1n3</td>\n",
       "      <td>751qhd</td>\n",
       "      <td>0.236607</td>\n",
       "    </tr>\n",
       "    <tr>\n",
       "      <th>173265</th>\n",
       "      <td>a9xhdn</td>\n",
       "      <td>751qhd</td>\n",
       "      <td>0.272967</td>\n",
       "    </tr>\n",
       "    <tr>\n",
       "      <th>173874</th>\n",
       "      <td>5f1rr0</td>\n",
       "      <td>751qhd</td>\n",
       "      <td>0.298002</td>\n",
       "    </tr>\n",
       "    <tr>\n",
       "      <th>174075</th>\n",
       "      <td>51vhw1</td>\n",
       "      <td>751qhd</td>\n",
       "      <td>0.343491</td>\n",
       "    </tr>\n",
       "  </tbody>\n",
       "</table>\n",
       "<p>556 rows × 3 columns</p>\n",
       "</div>"
      ],
      "text/plain": [
       "       post_id1 post_id2  tf-idf_similarity\n",
       "348      112354   751qhd           0.310205\n",
       "422      112354   751qhd           0.310205\n",
       "1591     1zair5   751qhd           0.277877\n",
       "1665     1zair5   751qhd           0.277877\n",
       "2211     653701   751qhd           0.371841\n",
       "...         ...      ...                ...\n",
       "172854   40phll   751qhd           0.295354\n",
       "173060   9cq1n3   751qhd           0.236607\n",
       "173265   a9xhdn   751qhd           0.272967\n",
       "173874   5f1rr0   751qhd           0.298002\n",
       "174075   51vhw1   751qhd           0.343491\n",
       "\n",
       "[556 rows x 3 columns]"
      ]
     },
     "execution_count": 44,
     "metadata": {},
     "output_type": "execute_result"
    }
   ],
   "source": [
    "for v, deg in zip(g2.vs, g2.degree()):\n",
    "    if deg > 800:\n",
    "        print(v, deg)\n",
    "        \n",
    "\n",
    "print(g2.vs[256])\n",
    "data2_filtered[data2_filtered.post_id2 == '751qhd']"
   ]
  },
  {
   "cell_type": "code",
   "execution_count": null,
   "id": "5771e502",
   "metadata": {},
   "outputs": [],
   "source": []
  }
 ],
 "metadata": {
  "kernelspec": {
   "display_name": "Python 3 (ipykernel)",
   "language": "python",
   "name": "python3"
  },
  "language_info": {
   "codemirror_mode": {
    "name": "ipython",
    "version": 3
   },
   "file_extension": ".py",
   "mimetype": "text/x-python",
   "name": "python",
   "nbconvert_exporter": "python",
   "pygments_lexer": "ipython3",
   "version": "3.8.10"
  }
 },
 "nbformat": 4,
 "nbformat_minor": 5
}
