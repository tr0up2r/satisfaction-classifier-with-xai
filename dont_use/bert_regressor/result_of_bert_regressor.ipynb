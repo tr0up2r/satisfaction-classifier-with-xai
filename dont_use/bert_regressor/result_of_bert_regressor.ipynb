{
 "cells": [
  {
   "cell_type": "code",
   "execution_count": 1,
   "id": "2d6bfb7a",
   "metadata": {},
   "outputs": [],
   "source": [
    "import pandas as pd"
   ]
  },
  {
   "cell_type": "code",
   "execution_count": 16,
   "id": "aaae538e",
   "metadata": {},
   "outputs": [],
   "source": [
    "data1 = pd.read_csv('../predicting-satisfaction-using-graphs/sep_32_1e_5_training_result.csv')\n",
    "data2 = pd.read_csv('../predicting-satisfaction-using-graphs/sep_32_2e_5_training_result.csv')\n",
    "data3 = pd.read_csv('../predicting-satisfaction-using-graphs/sep_3_1e_5_training_result.csv')\n",
    "data4 = pd.read_csv('../predicting-satisfaction-using-graphs/sep_3_2e_5_training_result.csv')"
   ]
  },
  {
   "cell_type": "code",
   "execution_count": 4,
   "id": "dcf648f4",
   "metadata": {},
   "outputs": [
    {
     "data": {
      "text/html": [
       "<div>\n",
       "<style scoped>\n",
       "    .dataframe tbody tr th:only-of-type {\n",
       "        vertical-align: middle;\n",
       "    }\n",
       "\n",
       "    .dataframe tbody tr th {\n",
       "        vertical-align: top;\n",
       "    }\n",
       "\n",
       "    .dataframe thead th {\n",
       "        text-align: right;\n",
       "    }\n",
       "</style>\n",
       "<table border=\"1\" class=\"dataframe\">\n",
       "  <thead>\n",
       "    <tr style=\"text-align: right;\">\n",
       "      <th></th>\n",
       "      <th>epoch</th>\n",
       "      <th>training_loss</th>\n",
       "      <th>validation_loss</th>\n",
       "      <th>r^2_score</th>\n",
       "    </tr>\n",
       "  </thead>\n",
       "  <tbody>\n",
       "    <tr>\n",
       "      <th>0</th>\n",
       "      <td>1</td>\n",
       "      <td>13.599873</td>\n",
       "      <td>8.522799</td>\n",
       "      <td>-7.036966</td>\n",
       "    </tr>\n",
       "    <tr>\n",
       "      <th>1</th>\n",
       "      <td>2</td>\n",
       "      <td>6.960439</td>\n",
       "      <td>4.414955</td>\n",
       "      <td>-3.150369</td>\n",
       "    </tr>\n",
       "    <tr>\n",
       "      <th>2</th>\n",
       "      <td>3</td>\n",
       "      <td>3.662772</td>\n",
       "      <td>2.048939</td>\n",
       "      <td>-0.926656</td>\n",
       "    </tr>\n",
       "    <tr>\n",
       "      <th>3</th>\n",
       "      <td>4</td>\n",
       "      <td>1.771325</td>\n",
       "      <td>1.056793</td>\n",
       "      <td>-0.029160</td>\n",
       "    </tr>\n",
       "    <tr>\n",
       "      <th>4</th>\n",
       "      <td>5</td>\n",
       "      <td>1.075450</td>\n",
       "      <td>1.092607</td>\n",
       "      <td>-0.087855</td>\n",
       "    </tr>\n",
       "    <tr>\n",
       "      <th>...</th>\n",
       "      <td>...</td>\n",
       "      <td>...</td>\n",
       "      <td>...</td>\n",
       "      <td>...</td>\n",
       "    </tr>\n",
       "    <tr>\n",
       "      <th>195</th>\n",
       "      <td>196</td>\n",
       "      <td>0.028421</td>\n",
       "      <td>1.161255</td>\n",
       "      <td>-0.128916</td>\n",
       "    </tr>\n",
       "    <tr>\n",
       "      <th>196</th>\n",
       "      <td>197</td>\n",
       "      <td>0.028125</td>\n",
       "      <td>1.158725</td>\n",
       "      <td>-0.125624</td>\n",
       "    </tr>\n",
       "    <tr>\n",
       "      <th>197</th>\n",
       "      <td>198</td>\n",
       "      <td>0.027873</td>\n",
       "      <td>1.163319</td>\n",
       "      <td>-0.131179</td>\n",
       "    </tr>\n",
       "    <tr>\n",
       "      <th>198</th>\n",
       "      <td>199</td>\n",
       "      <td>0.027799</td>\n",
       "      <td>1.164611</td>\n",
       "      <td>-0.132762</td>\n",
       "    </tr>\n",
       "    <tr>\n",
       "      <th>199</th>\n",
       "      <td>200</td>\n",
       "      <td>0.027779</td>\n",
       "      <td>1.162330</td>\n",
       "      <td>-0.130036</td>\n",
       "    </tr>\n",
       "  </tbody>\n",
       "</table>\n",
       "<p>200 rows × 4 columns</p>\n",
       "</div>"
      ],
      "text/plain": [
       "     epoch  training_loss  validation_loss  r^2_score\n",
       "0        1      13.599873         8.522799  -7.036966\n",
       "1        2       6.960439         4.414955  -3.150369\n",
       "2        3       3.662772         2.048939  -0.926656\n",
       "3        4       1.771325         1.056793  -0.029160\n",
       "4        5       1.075450         1.092607  -0.087855\n",
       "..     ...            ...              ...        ...\n",
       "195    196       0.028421         1.161255  -0.128916\n",
       "196    197       0.028125         1.158725  -0.125624\n",
       "197    198       0.027873         1.163319  -0.131179\n",
       "198    199       0.027799         1.164611  -0.132762\n",
       "199    200       0.027779         1.162330  -0.130036\n",
       "\n",
       "[200 rows x 4 columns]"
      ]
     },
     "execution_count": 4,
     "metadata": {},
     "output_type": "execute_result"
    }
   ],
   "source": [
    "data1"
   ]
  },
  {
   "cell_type": "code",
   "execution_count": 19,
   "id": "b7844abf",
   "metadata": {},
   "outputs": [],
   "source": [
    "data_list = [data1, data2, data3, data4]"
   ]
  },
  {
   "cell_type": "code",
   "execution_count": 21,
   "id": "99fa034b",
   "metadata": {},
   "outputs": [
    {
     "name": "stdout",
     "output_type": "stream",
     "text": [
      "189    0.023656\n",
      "Name: training_loss, dtype: float64\n",
      "7    1.030943\n",
      "Name: validation_loss, dtype: float64\n",
      "8   -0.010922\n",
      "Name: r^2_score, dtype: float64\n",
      "\n",
      "194    0.011029\n",
      "Name: training_loss, dtype: float64\n",
      "4    1.030625\n",
      "Name: validation_loss, dtype: float64\n",
      "4   -0.009155\n",
      "Name: r^2_score, dtype: float64\n",
      "\n",
      "186    0.007683\n",
      "Name: training_loss, dtype: float64\n",
      "1    1.07825\n",
      "Name: validation_loss, dtype: float64\n",
      "1   -0.024602\n",
      "Name: r^2_score, dtype: float64\n",
      "\n",
      "197    0.004859\n",
      "Name: training_loss, dtype: float64\n",
      "2    1.075603\n",
      "Name: validation_loss, dtype: float64\n",
      "0   -0.021909\n",
      "Name: r^2_score, dtype: float64\n",
      "\n"
     ]
    }
   ],
   "source": [
    "for data in data_list:\n",
    "    print(data['training_loss'][data[['training_loss']].idxmin()])\n",
    "    print(data['validation_loss'][data[['validation_loss']].idxmin()])\n",
    "    print(data['r^2_score'][data[['r^2_score']].idxmax()])\n",
    "    print()"
   ]
  },
  {
   "cell_type": "code",
   "execution_count": 22,
   "id": "e571ec35",
   "metadata": {},
   "outputs": [],
   "source": [
    "data1 = pd.read_csv('../predicting-satisfaction-using-graphs/ws_32_1e_5_training_result.csv')\n",
    "data2 = pd.read_csv('../predicting-satisfaction-using-graphs/ws_32_2e_5_training_result.csv')\n",
    "data3 = pd.read_csv('../predicting-satisfaction-using-graphs/ws_3_1e_5_training_result.csv')\n",
    "data4 = pd.read_csv('../predicting-satisfaction-using-graphs/ws_3_2e_5_training_result.csv')"
   ]
  },
  {
   "cell_type": "code",
   "execution_count": 23,
   "id": "466fb09b",
   "metadata": {},
   "outputs": [
    {
     "name": "stdout",
     "output_type": "stream",
     "text": [
      "189    0.015695\n",
      "Name: training_loss, dtype: float64\n",
      "3    1.054037\n",
      "Name: validation_loss, dtype: float64\n",
      "3   -0.048338\n",
      "Name: r^2_score, dtype: float64\n",
      "\n",
      "189    0.014305\n",
      "Name: training_loss, dtype: float64\n",
      "4    1.016461\n",
      "Name: validation_loss, dtype: float64\n",
      "5    0.00542\n",
      "Name: r^2_score, dtype: float64\n",
      "\n",
      "194    0.009224\n",
      "Name: training_loss, dtype: float64\n",
      "1    1.098977\n",
      "Name: validation_loss, dtype: float64\n",
      "1   -0.053239\n",
      "Name: r^2_score, dtype: float64\n",
      "\n",
      "195    0.005673\n",
      "Name: training_loss, dtype: float64\n",
      "1    1.081274\n",
      "Name: validation_loss, dtype: float64\n",
      "1   -0.031513\n",
      "Name: r^2_score, dtype: float64\n",
      "\n"
     ]
    }
   ],
   "source": [
    "data_list = [data1, data2, data3, data4]\n",
    "\n",
    "for data in data_list:\n",
    "    print(data['training_loss'][data[['training_loss']].idxmin()])\n",
    "    print(data['validation_loss'][data[['validation_loss']].idxmin()])\n",
    "    print(data['r^2_score'][data[['r^2_score']].idxmax()])\n",
    "    print()"
   ]
  },
  {
   "cell_type": "code",
   "execution_count": null,
   "id": "1368751d",
   "metadata": {},
   "outputs": [],
   "source": []
  }
 ],
 "metadata": {
  "kernelspec": {
   "display_name": "Python 3 (ipykernel)",
   "language": "python",
   "name": "python3"
  },
  "language_info": {
   "codemirror_mode": {
    "name": "ipython",
    "version": 3
   },
   "file_extension": ".py",
   "mimetype": "text/x-python",
   "name": "python",
   "nbconvert_exporter": "python",
   "pygments_lexer": "ipython3",
   "version": "3.8.10"
  }
 },
 "nbformat": 4,
 "nbformat_minor": 5
}
