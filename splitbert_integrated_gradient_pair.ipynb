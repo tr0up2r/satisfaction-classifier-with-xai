{
 "cells": [
  {
   "cell_type": "code",
   "execution_count": 1,
   "id": "a8991db3",
   "metadata": {},
   "outputs": [
    {
     "name": "stderr",
     "output_type": "stream",
     "text": [
      "/home/mykim/.local/lib/python3.8/site-packages/torch/cuda/__init__.py:83: UserWarning: CUDA initialization: Unexpected error from cudaGetDeviceCount(). Did you run some cuda functions before calling NumCudaDevices() that might have already set an error? Error 804: forward compatibility was attempted on non supported HW (Triggered internally at  ../c10/cuda/CUDAFunctions.cpp:109.)\n",
      "  return torch._C._cuda_getDeviceCount() > 0\n",
      "2023-11-05 21:04:54.709294: I tensorflow/stream_executor/platform/default/dso_loader.cc:49] Successfully opened dynamic library libcudart.so.11.0\n"
     ]
    }
   ],
   "source": [
    "import torch\n",
    "import torch.nn as nn\n",
    "import torch.nn.functional as F\n",
    "from captum.attr import IntegratedGradients\n",
    "\n",
    "import numpy as np\n",
    "import pandas as pd\n",
    "import seaborn as sns\n",
    "import matplotlib.pyplot as plt\n",
    "\n",
    "from transformers import BertTokenizer, BertForSequenceClassification, BertConfig\n",
    "\n",
    "from captum.attr import visualization as viz\n",
    "from captum.attr import LayerConductance, LayerIntegratedGradients\n",
    "from sklearn.model_selection import train_test_split\n",
    "from spacy.lang.en import English\n",
    "from splitbert.textsplit import text_segmentation\n",
    "from splitbert.splitbert import SplitBertConcatEncoderModel\n",
    "from splitbert.splitbert import conduct_input_ids_and_attention_masks\n",
    "from splitbert.splitbert import make_masks\n",
    "from torch.utils.data import DataLoader, RandomSampler, SequentialSampler\n",
    "import tqdm"
   ]
  },
  {
   "cell_type": "markdown",
   "id": "ccd1668f",
   "metadata": {},
   "source": [
    "# Data Preparation"
   ]
  },
  {
   "cell_type": "code",
   "execution_count": 2,
   "id": "5a53f02f",
   "metadata": {},
   "outputs": [
    {
     "name": "stdout",
     "output_type": "stream",
     "text": [
      "['seg', 'seg', 'snt']\n",
      "10 4 10\n",
      "10\n"
     ]
    }
   ],
   "source": [
    "post_df = pd.read_csv('../predicting-satisfaction-using-graphs/csv/dataset/liwc_post.csv', encoding='UTF-8')\n",
    "comment_df = pd.read_csv('../predicting-satisfaction-using-graphs/csv/dataset/liwc_comment.csv', encoding='UTF-8')\n",
    "reply_df = pd.read_csv('../predicting-satisfaction-using-graphs/csv/dataset/avg_satisfaction_raw_0-999.csv', encoding='ISO-8859-1')\n",
    "\n",
    "modes = [['seg', 'seg', 'snt']]\n",
    "\n",
    "nlp = English()\n",
    "nlp.add_pipe(\"sentencizer\")\n",
    "\n",
    "# satisfaction score (y)\n",
    "satisfactions_float = list(reply_df['satisfy_composite'])\n",
    "satisfactions = []\n",
    "\n",
    "for s in satisfactions_float:\n",
    "    if s < 3.5:\n",
    "        satisfactions.append(0)\n",
    "    elif s < 5:\n",
    "        satisfactions.append(1)\n",
    "    else:\n",
    "        satisfactions.append(2)\n",
    "\n",
    "reply_contents = list(reply_df['replyContent'])\n",
    "post_contents = list(post_df['content'])\n",
    "comment_bodies = list(comment_df['content'])\n",
    "\n",
    "\n",
    "def get_sequences(contents, mode):\n",
    "    sequences = []\n",
    "\n",
    "    if mode == 'all':\n",
    "        for content in contents:\n",
    "            sequences.append([content])\n",
    "    elif mode == 'seg':\n",
    "        for content in contents:\n",
    "            sentences = list(map(lambda x: str(x), list(nlp(content).sents)))\n",
    "            sequences.append(text_segmentation(sentences))\n",
    "    else:  # sentences\n",
    "        for content in contents:\n",
    "            sequences.append(list(map(lambda x: str(x), list(nlp(content).sents))))\n",
    "\n",
    "    return sequences\n",
    "\n",
    "\n",
    "for mode in modes:\n",
    "    print(mode)\n",
    "    post_sequences = get_sequences(post_contents, mode[0])\n",
    "    comment_sequences = get_sequences(comment_bodies, mode[1])\n",
    "    reply_sequences = get_sequences(reply_contents, mode[2])\n",
    "\n",
    "    data = []\n",
    "    max_post, max_comment, max_reply = 0, 0, 0\n",
    "    i = 0\n",
    "    for post, comment, reply, satisfaction, satisfaction_float in zip(post_sequences, comment_sequences,\n",
    "                                                                          reply_sequences, satisfactions,\n",
    "                                                                          satisfactions_float):\n",
    "        if len(post) > max_post:\n",
    "            max_post = len(post)\n",
    "        if len(comment) > max_comment:\n",
    "            max_comment = len(comment)\n",
    "        if len(reply) > max_reply:\n",
    "            max_reply = len(reply)\n",
    "\n",
    "        data.append([i, post, comment, reply, satisfaction, satisfaction_float])\n",
    "        i += 1\n",
    "\n",
    "    print(max_post, max_comment, max_reply)\n",
    "    max_count = max(max_post, max_comment, max_reply)\n",
    "    print(max_count)\n",
    "\n",
    "    columns = ['index', 'post_contents', 'comment_contents', 'reply_contents', 'label', 'score']\n",
    "    df = pd.DataFrame(data, columns=columns)\n",
    "\n",
    "    # data split (train & test sets)\n",
    "    idx_train, idx_remain = train_test_split(df.index.values, test_size=0.20, random_state=42)\n",
    "    idx_val, idx_test = train_test_split(idx_remain, test_size=0.50, random_state=42)\n",
    "\n",
    "    train_df = df.iloc[idx_train]\n",
    "    val_df = df.iloc[idx_val]\n",
    "    test_df = df.iloc[idx_test]\n",
    "\n",
    "    count_min_label = min(train_df['label'].value_counts())\n",
    "\n",
    "    labels = [0, 1, 2]\n",
    "\n",
    "    train_sample_df = pd.DataFrame([], columns=columns)\n",
    "\n",
    "    for label in labels:\n",
    "        tmp = train_df[train_df['label'] == label]\n",
    "        tmp_sampled = tmp.sample(frac=1).iloc[:count_min_label]\n",
    "        train_sample_df = pd.concat([train_sample_df, tmp_sampled])\n",
    "\n",
    "    train_sample_df = train_sample_df.sample(frac=1)"
   ]
  },
  {
   "cell_type": "markdown",
   "id": "d8e0bf40",
   "metadata": {},
   "source": [
    "# Model Preparation"
   ]
  },
  {
   "cell_type": "code",
   "execution_count": 3,
   "id": "637e711e",
   "metadata": {},
   "outputs": [],
   "source": [
    "def normalize_tensor(data):\n",
    "    return (data - torch.min(data)) / (torch.max(data) - torch.min(data))"
   ]
  },
  {
   "cell_type": "code",
   "execution_count": 4,
   "id": "5e805e08",
   "metadata": {},
   "outputs": [],
   "source": [
    "def forward_func_ig(inputs, p_count, c_count, model, softmax=False):\n",
    "    embeddings = inputs[0]\n",
    "    \n",
    "    for i, now_max, now_count in zip(range(2), [model.max_post_len, model.max_comment_len], [p_count, c_count]):\n",
    "        now_embeddings = embeddings.swapaxes(0, 1)\n",
    "        if i == 0:\n",
    "            now_embeddings = model.pe(now_embeddings[:model.max_post_len])\n",
    "        else:\n",
    "            now_embeddings = model.pe(now_embeddings[model.max_post_len:])\n",
    "            \n",
    "        # make masks\n",
    "        src_mask, src_key_padding_mask = make_masks(now_max, now_count, model.device)\n",
    "        \n",
    "        encoder_output = model.encoder(now_embeddings, mask=src_mask, src_key_padding_mask=src_key_padding_mask)\n",
    "        encoder_output = torch.mean(encoder_output[:now_count], dim=0).squeeze(0)\n",
    "        \n",
    "        if i == 0:\n",
    "            total_encoder_output = encoder_output\n",
    "        else:\n",
    "            total_encoder_output = torch.cat([total_encoder_output, encoder_output])\n",
    "    \n",
    "    encoder_outputs = total_encoder_output.unsqueeze(0)\n",
    "    encoder_outputs = model.classifier1(encoder_outputs)\n",
    "    encoder_outputs = torch.cat([encoder_outputs, torch.zeros(1, model.embedding_size, device=model.device)], dim=1)\n",
    "\n",
    "    # mean + flatten attentioned tensor\n",
    "    batch_embeddings_list = []\n",
    "    outputs_list = []\n",
    "    attentions = []\n",
    "    \n",
    "    batch_embeddings = inputs.clone().detach()\n",
    "\n",
    "    for i in range(len(batch_embeddings)):\n",
    "        non_zero_rows = batch_embeddings[i][0][batch_embeddings[i][0].sum(dim=1) != 0]\n",
    "        zero_rows = torch.zeros((batch_embeddings[i][0].shape[0] - non_zero_rows.shape[0], model.embedding_size),\n",
    "                                dtype=torch.int, device=model.device)\n",
    "        batch_embeddings[i] = torch.cat([non_zero_rows, zero_rows])\n",
    "\n",
    "    embeddings = batch_embeddings[0].swapaxes(0, 1)\n",
    "    src_mask, src_key_padding_mask = make_masks(model.max_post_len, [p_count, c_count], model.device,\n",
    "                                                model.max_post_len, model.max_comment_len, \"concat_all\")\n",
    "\n",
    "    encoder_output = model.encoder(embeddings, mask=src_mask, src_key_padding_mask=src_key_padding_mask)\n",
    "    attention = model.encoder_layer.self_attn(encoder_output, encoder_output, encoder_output,\n",
    "                                              attn_mask=src_mask, key_padding_mask=src_key_padding_mask)[0]\n",
    "\n",
    "    if model.attention_mode == 'attention_residual':\n",
    "        # add & norm\n",
    "        residual = outputs_list[i]\n",
    "        attention = self.dropout(attention) + residual\n",
    "        attention = self.layer_norm(attention)\n",
    "\n",
    "    # mul mask - diagonal masking\n",
    "    attention = attention.swapaxes(0, 2)\n",
    "    mask = torch.tensor([1] * (p_count + c_count) + [0] * (model.max_post_len + model.max_comment_len - (p_count + c_count))).to(model.device)\n",
    "    attention = attention.mul(mask).swapaxes(0, 2)\n",
    "\n",
    "    attention = torch.flatten(attention)\n",
    "    attention = model.attn_classifier1(attention)\n",
    "    attention = model.attn_classifier2(attention)\n",
    "    encoder_outputs[i][model.embedding_size:] = attention\n",
    "    encoder_outputs = model.mean_attn_layer(encoder_outputs)\n",
    "    logits = model.classifier2(encoder_outputs)\n",
    "    \n",
    "    if softmax:\n",
    "        logits = F.softmax(logits, dim=1)\n",
    "    \n",
    "    return logits\n",
    "\n",
    "\n",
    "ig = IntegratedGradients(forward_func_ig)"
   ]
  },
  {
   "cell_type": "code",
   "execution_count": 5,
   "id": "10ede48b",
   "metadata": {},
   "outputs": [],
   "source": [
    "def prepare_model(target, path, epoch, softmax):\n",
    "    # device = torch.device(\"cuda:0\" if torch.cuda.is_available() else \"cpu\")\n",
    "    device = torch.device('cpu')\n",
    "\n",
    "    tokenizer = BertTokenizer.from_pretrained('bert-base-uncased', do_lower_case=True)\n",
    "    \n",
    "    model_path = f'{path}/epoch_{epoch}.model'\n",
    "\n",
    "    if softmax:\n",
    "        model = SplitBertConcatEncoderModel(num_labels=len(labels), embedding_size=384, max_len=max_count, \n",
    "                                            max_post_len=max_post, max_comment_len=max_comment,\n",
    "                                            device='cpu', target=target, concat_mode=\"sep_attention\",\n",
    "                                           attention_mode=False, output_attentions=True, softmax=True)\n",
    "    else:\n",
    "        model = SplitBertConcatEncoderModel(num_labels=len(labels), embedding_size=384, max_len=max_count, \n",
    "                                            max_post_len=max_post, max_comment_len=max_comment,\n",
    "                                            device='cpu', target=target, concat_mode=\"sep_attention\",\n",
    "                                           attention_mode=False, output_attentions=True)\n",
    "    model.load_state_dict(torch.load(model_path, map_location=device))\n",
    "    model.to('cpu')\n",
    "    model.eval()\n",
    "\n",
    "    for param in model.sbert.parameters():\n",
    "        param.requires_grad = False\n",
    "    \n",
    "    for param in model.bert.parameters():\n",
    "        param.requires_grad = False\n",
    "        \n",
    "    return device, model, tokenizer"
   ]
  },
  {
   "cell_type": "code",
   "execution_count": 6,
   "id": "f529f25f",
   "metadata": {},
   "outputs": [],
   "source": [
    "def construct_input_ref_pair(targets):\n",
    "    input_ids_list, ref_input_ids_list, attention_masks_list, sentence_count_list = [], [], [], []\n",
    "    \n",
    "    for contents in targets:\n",
    "        result = tokenizer(contents, pad_to_max_length=True, truncation=True, max_length=256, return_tensors='pt')\n",
    "        \n",
    "        input_ids = result['input_ids']\n",
    "        sentence_count_list.append(torch.tensor(len(input_ids)).unsqueeze(0))\n",
    "        attention_masks = result['attention_mask']\n",
    "        \n",
    "        pad = (0, 0, 0, max_count-len(input_ids))\n",
    "        input_ids = nn.functional.pad(input_ids, pad, \"constant\", 0)\n",
    "        attention_masks = nn.functional.pad(attention_masks, pad, \"constant\", 0)\n",
    "        ref_input_ids = torch.zeros_like(input_ids)\n",
    "\n",
    "        input_ids_list.append(input_ids.unsqueeze(0))\n",
    "        ref_input_ids_list.append(ref_input_ids.unsqueeze(0))\n",
    "        attention_masks_list.append(attention_masks.unsqueeze(0))\n",
    "    \n",
    "    return input_ids_list, ref_input_ids_list, attention_masks_list, sentence_count_list"
   ]
  },
  {
   "cell_type": "code",
   "execution_count": 7,
   "id": "5f2e6dee",
   "metadata": {},
   "outputs": [],
   "source": [
    "def summarize_attributions(attribution):\n",
    "    attributions = attribution.sum(dim=-1).squeeze(0)\n",
    "    attributions = attributions / torch.norm(attributions)\n",
    "    return attributions"
   ]
  },
  {
   "cell_type": "code",
   "execution_count": 8,
   "id": "d435e908",
   "metadata": {},
   "outputs": [],
   "source": [
    "def get_indexes(filename):\n",
    "    index_df = pd.read_csv(filename, encoding='UTF-8')\n",
    "    index_df.columns = ['Unnamed: 0', 'prediction', 'label', 'score', 'idx']\n",
    "    val_index = sorted(list(index_df.idx.values))\n",
    "    \n",
    "    return val_index"
   ]
  },
  {
   "cell_type": "code",
   "execution_count": 9,
   "id": "f7735b51",
   "metadata": {},
   "outputs": [],
   "source": [
    "index_list = get_indexes(f'../predicting-satisfaction-using-graphs/csv/splitbert_classifier/post_comment/seg_seg/epoch_4_result.csv')"
   ]
  },
  {
   "cell_type": "code",
   "execution_count": 54,
   "id": "39c6191e",
   "metadata": {},
   "outputs": [],
   "source": [
    "def splitbert_integrated_gradient_post_comment(index, post, comment, p_sentences, c_sentences, label, score, visualize=False, softmax=False):\n",
    "    \n",
    "    def post_or_comment_or_reply(index):\n",
    "        for i, sentences in enumerate(all_sentences):\n",
    "            if all_tokens[index] in sentences:\n",
    "                if i == 0:\n",
    "                    return 'post'\n",
    "                elif i == 1:\n",
    "                    return 'comment'\n",
    "                else:\n",
    "                    return 'reply'\n",
    "    \n",
    "    input_ids, ref_input_ids, attention_masks, sentence_counts = construct_input_ref_pair([post, comment])\n",
    "    \n",
    "    one_hot_labels = torch.nn.functional.one_hot(torch.tensor(label), num_classes=len(labels))\n",
    "    inputs = {'labels': one_hot_labels.type(torch.float).to(device),\n",
    "          'input_ids1': input_ids[0].to(device),\n",
    "          'input_ids2': input_ids[1].to(device),\n",
    "          'attention_mask1': attention_masks[0].to(device),\n",
    "          'attention_mask2': attention_masks[1].to(device),\n",
    "          'sentence_count1': sentence_counts[0].to(device),\n",
    "          'sentence_count2': sentence_counts[1].to(device),\n",
    "          'mode': 'post_comment'\n",
    "         }\n",
    "    \n",
    "    with torch.no_grad():\n",
    "        inputs = pc_model(**inputs).hidden_states\n",
    "\n",
    "    # inputs = torch.stack(embeddings, dim=0)\n",
    "    baselines = torch.zeros((1, 1, 14, 384))\n",
    "    pred = forward_func_ig(inputs, sentence_counts[0], sentence_counts[1], pc_model, softmax)\n",
    "    base_pred = forward_func_ig(baselines, sentence_counts[0], sentence_counts[1], pc_model, softmax)\n",
    "        \n",
    "    print(f'pred: {pred}, base_pred: {base_pred}')\n",
    "    print(f'sub: {pred - base_pred}')\n",
    "    print('=======================================================')\n",
    "    \n",
    "    pred = forward_func_ig(inputs, sentence_counts[0], sentence_counts[1], pc_model, False)\n",
    "    base_pred = forward_func_ig(baselines, sentence_counts[0], sentence_counts[1], pc_model, False)\n",
    "        \n",
    "    print(f'pred: {pred}, base_pred: {base_pred}')\n",
    "    print(f'sub: {pred - base_pred}')\n",
    "    \n",
    "#     pred = forward_func_ig(inputs, sentence_counts[0], sentence_counts[1], pc_model)\n",
    "#     base_pred = forward_func_ig(baselines, sentence_counts[0], sentence_counts[1], pc_model)\n",
    "#     print(f'pred: {pred}, base_pred: {base_pred}')\n",
    "    \n",
    "    result = []\n",
    "    \n",
    "    \n",
    "    attribution, delta = ig.attribute(inputs=inputs, target=torch.argmax(pred), additional_forward_args=(sentence_counts[0], sentence_counts[1], pc_model, softmax), n_steps=1, return_convergence_delta=True)\n",
    "    attributions = summarize_attributions(attribution)\n",
    "    f_attributions = torch.flatten(attributions)\n",
    "    f_attributions = f_attributions[f_attributions.nonzero()].squeeze(1)\n",
    "    abs_attributions = list(map(abs, map(float, f_attributions)))\n",
    "    idx_attributions = []\n",
    "    for j in range(len(abs_attributions)):\n",
    "        idx_attributions.append((j, abs_attributions[j], f_attributions[j].item()))\n",
    "    idx_attributions.sort(key=lambda x:x[1], reverse=True)\n",
    "        \n",
    "    top3 = idx_attributions[:3]\n",
    "    \n",
    "    if visualize:\n",
    "        all_sentences = [['[[post]]'], post, ['[[comment]]'], comment]\n",
    "        all_tokens = [item for all_sentences in all_sentences for item in all_sentences]\n",
    "        \n",
    "        vis_attributions = []\n",
    "        \n",
    "        j = 0\n",
    "        for i in range(len(all_tokens)):\n",
    "            if all_tokens[i] in ['[[post]]', '[[comment]]']:\n",
    "                vis_attributions.append(0)\n",
    "            else:\n",
    "                vis_attributions.append(f_attributions[j].item())\n",
    "                j += 1\n",
    "                \n",
    "        vis_attributions = torch.tensor(vis_attributions)\n",
    "        \n",
    "        score_vis = viz.VisualizationDataRecord(vis_attributions,\n",
    "                                                torch.max(torch.softmax(pred, dim=0)),\n",
    "                                                torch.argmax(pred),  # predicted label\n",
    "                                                f'{label}, {score}',  # true label\n",
    "                                                p_sentences + ' ' + c_sentences,\n",
    "                                                vis_attributions.sum(),\n",
    "                                                all_tokens,\n",
    "                                                delta)\n",
    "        raw_text = ' '.join(post) + ' '.join(comment)\n",
    "        \n",
    "        print('\\033[1m', 'Visualization For Score', '\\033[0m')\n",
    "        viz.visualize_text([score_vis])\n",
    "        print(vis_attributions)\n",
    "        \n",
    "    else:\n",
    "        where = []\n",
    "        \n",
    "        all_sentences = [post, comment]\n",
    "        all_tokens = [item for all_sentences in all_sentences for item in all_sentences]\n",
    "\n",
    "        for j in range(len(top3)):\n",
    "            where.append(post_or_comment_or_reply(top3[j][0]))\n",
    "            result.append([index, post, comment, score, all_tokens[top3[j][0]], top3[j][2], post_or_comment_or_reply(top3[j][0])])\n",
    "\n",
    "        # result.append([index, post, comment, score, all_tokens[top3[0][0]], top3[0][2], where[0]])\n",
    "        # result.append([index, post, comment, score, all_tokens[top3[1][0]], top3[1][2], where[1]])\n",
    "        # result.append([index, post, comment, score, all_tokens[top3[2][0]], top3[2][2], where[2]])\n",
    "\n",
    "        return result, label, torch.argmax(pred).item()"
   ]
  },
  {
   "cell_type": "code",
   "execution_count": 11,
   "id": "a64a29d0",
   "metadata": {},
   "outputs": [
    {
     "name": "stderr",
     "output_type": "stream",
     "text": [
      "Some weights of the model checkpoint at bert-base-uncased were not used when initializing BertModel: ['cls.predictions.transform.dense.bias', 'cls.predictions.decoder.weight', 'cls.seq_relationship.weight', 'cls.predictions.transform.LayerNorm.weight', 'cls.predictions.transform.dense.weight', 'cls.predictions.bias', 'cls.seq_relationship.bias', 'cls.predictions.transform.LayerNorm.bias']\n",
      "- This IS expected if you are initializing BertModel from the checkpoint of a model trained on another task or with another architecture (e.g. initializing a BertForSequenceClassification model from a BertForPreTraining model).\n",
      "- This IS NOT expected if you are initializing BertModel from the checkpoint of a model that you expect to be exactly identical (initializing a BertForSequenceClassification model from a BertForSequenceClassification model).\n"
     ]
    }
   ],
   "source": [
    "device, pc_model, tokenizer = prepare_model('post_comment', '../predicting-satisfaction-using-graphs/splitbert/model/seg_seg/w_softmax', 5, True)"
   ]
  },
  {
   "cell_type": "code",
   "execution_count": 55,
   "id": "691b0f01",
   "metadata": {
    "scrolled": false
   },
   "outputs": [
    {
     "name": "stdout",
     "output_type": "stream",
     "text": [
      "pred: tensor([[1.3023e-04, 9.9917e-01, 6.9802e-04]], grad_fn=<SoftmaxBackward0>), base_pred: tensor([[1.3390e-10, 9.9989e-01, 1.0777e-04]], grad_fn=<SoftmaxBackward0>)\n",
      "sub: tensor([[ 0.0001, -0.0007,  0.0006]], grad_fn=<SubBackward0>)\n",
      "=======================================================\n",
      "pred: tensor([[-3.8070,  5.1384, -2.1280]], grad_fn=<AddmmBackward0>), base_pred: tensor([[-12.5639,  10.1699,   1.0346]], grad_fn=<AddmmBackward0>)\n",
      "sub: tensor([[ 8.7569, -5.0315, -3.1626]], grad_fn=<SubBackward0>)\n",
      "\u001b[1m Visualization For Score \u001b[0m\n"
     ]
    },
    {
     "data": {
      "text/html": [
       "<table width: 100%><div style=\"border-top: 1px solid; margin-top: 5px;             padding-top: 5px; display: inline-block\"><b>Legend: </b><span style=\"display: inline-block; width: 10px; height: 10px;                 border: 1px solid; background-color:                 hsl(0, 75%, 60%)\"></span> Negative  <span style=\"display: inline-block; width: 10px; height: 10px;                 border: 1px solid; background-color:                 hsl(0, 75%, 100%)\"></span> Neutral  <span style=\"display: inline-block; width: 10px; height: 10px;                 border: 1px solid; background-color:                 hsl(120, 75%, 50%)\"></span> Positive  </div><tr><th>True Label</th><th>Predicted Label</th><th>Attribution Label</th><th>Attribution Score</th><th>Word Importance</th><tr><td><text style=\"padding-right:2em\"><b>0, 2.45</b></text></td><td><text style=\"padding-right:2em\"><b>1 (1.00)</b></text></td><td><text style=\"padding-right:2em\"><b>Im the guy no one suspects is as messed up as I am....Am wealthy, have nice wife, kids, everyone envious of our home (8000 sf so not small in wealthiest county in the USA).....good looking and well you name it ..........But Im now unemployed, wife has and I think still sleeps with other men, am now drinking a lot, no sex in years, kids make jokes about my drinking to wife......I embarass my wife out in piblic, I dont work out anymore and have 50 lbs more than I did a yr and half ago, I am going broke and well Im a loser I think........But when i drink at least the pain and how much of a loser I am doesnt keep me awake all night and makes me feel like I can do stuff when drunk...... As bad as I feel about the depression, and I am pretty sure you are just taking out your pent up anger on him, you came out swinging first by calling him a moron over a little mistsle first</b></text></td><td><text style=\"padding-right:2em\"><b>-0.46</b></text></td><td><mark style=\"background-color: hsl(0, 75%, 100%); opacity:1.0;                     line-height:1.75\"><font color=\"black\"> [[post]]                    </font></mark><mark style=\"background-color: hsl(120, 75%, 79%); opacity:1.0;                     line-height:1.75\"><font color=\"black\"> Im the guy no one suspects is as messed up as I am....Am wealthy, have nice wife, kids, everyone envious of our home (8000 sf so not small in wealthiest county in the USA).....good looking and well you name it ..........But Im now unemployed, wife has and I think still sleeps with other men, am now drinking a lot, no sex in years, kids make jokes about my drinking to wife......I embarass my wife out in piblic, I dont work out anymore and have 50 lbs more than I did a yr and half ago, I am going broke and well Im a loser I think........But when i drink at least the pain and how much of a loser I am doesnt keep me awake all night and makes me feel like I can do stuff when drunk......                    </font></mark><mark style=\"background-color: hsl(0, 75%, 100%); opacity:1.0;                     line-height:1.75\"><font color=\"black\"> [[comment]]                    </font></mark><mark style=\"background-color: hsl(0, 75%, 65%); opacity:1.0;                     line-height:1.75\"><font color=\"black\"> As bad as I feel about the depression, and I am pretty sure you are just taking out your pent up anger on him, you came out swinging first by calling him a moron over a little mistsle first                    </font></mark></td><tr></table>"
      ],
      "text/plain": [
       "<IPython.core.display.HTML object>"
      ]
     },
     "metadata": {},
     "output_type": "display_data"
    },
    {
     "name": "stdout",
     "output_type": "stream",
     "text": [
      "tensor([ 0.0000,  0.4364,  0.0000, -0.8998])\n",
      "pred: tensor([[9.9800e-01, 3.2447e-04, 1.6793e-03]], grad_fn=<SoftmaxBackward0>), base_pred: tensor([[1.3390e-10, 9.9989e-01, 1.0777e-04]], grad_fn=<SoftmaxBackward0>)\n",
      "sub: tensor([[ 0.9980, -0.9996,  0.0016]], grad_fn=<SubBackward0>)\n",
      "=======================================================\n",
      "pred: tensor([[ 4.9934, -3.0379, -1.3940]], grad_fn=<AddmmBackward0>), base_pred: tensor([[-12.5639,  10.1699,   1.0346]], grad_fn=<AddmmBackward0>)\n",
      "sub: tensor([[ 17.5573, -13.2078,  -2.4286]], grad_fn=<SubBackward0>)\n",
      "\u001b[1m Visualization For Score \u001b[0m\n"
     ]
    },
    {
     "data": {
      "text/html": [
       "<table width: 100%><div style=\"border-top: 1px solid; margin-top: 5px;             padding-top: 5px; display: inline-block\"><b>Legend: </b><span style=\"display: inline-block; width: 10px; height: 10px;                 border: 1px solid; background-color:                 hsl(0, 75%, 60%)\"></span> Negative  <span style=\"display: inline-block; width: 10px; height: 10px;                 border: 1px solid; background-color:                 hsl(0, 75%, 100%)\"></span> Neutral  <span style=\"display: inline-block; width: 10px; height: 10px;                 border: 1px solid; background-color:                 hsl(120, 75%, 50%)\"></span> Positive  </div><tr><th>True Label</th><th>Predicted Label</th><th>Attribution Label</th><th>Attribution Score</th><th>Word Importance</th><tr><td><text style=\"padding-right:2em\"><b>0, 2.45</b></text></td><td><text style=\"padding-right:2em\"><b>0 (1.00)</b></text></td><td><text style=\"padding-right:2em\"><b>I'm wondering if anyone here has thought about suicide methods that come close to killing you but can't.  I'm not ready to die but I want to hurt.  I want people to see physically how much I'm hurting emotionally.I've thought about jumping in front of cars or falling from non-lethal heights.  Those aren't the nicest methods but I'll go with them if I can't find a better one. Donât do these things please. If other people donât believe how hurt you are emotionally, try your best to let it not affect you.</b></text></td><td><text style=\"padding-right:2em\"><b>1.22</b></text></td><td><mark style=\"background-color: hsl(0, 75%, 100%); opacity:1.0;                     line-height:1.75\"><font color=\"black\"> [[post]]                    </font></mark><mark style=\"background-color: hsl(120, 75%, 88%); opacity:1.0;                     line-height:1.75\"><font color=\"black\"> I'm wondering if anyone here has thought about suicide methods that come close to killing you but can't.  I'm not ready to die but I want to hurt.  I want people to see physically how much I'm hurting emotionally. I've thought about jumping in front of cars or falling from non-lethal heights.  Those aren't the nicest methods but I'll go with them if I can't find a better one.                    </font></mark><mark style=\"background-color: hsl(0, 75%, 100%); opacity:1.0;                     line-height:1.75\"><font color=\"black\"> [[comment]]                    </font></mark><mark style=\"background-color: hsl(120, 75%, 52%); opacity:1.0;                     line-height:1.75\"><font color=\"black\"> Donât do these things please. If other people donât believe how hurt you are emotionally, try your best to let it not affect you.                    </font></mark></td><tr></table>"
      ],
      "text/plain": [
       "<IPython.core.display.HTML object>"
      ]
     },
     "metadata": {},
     "output_type": "display_data"
    },
    {
     "name": "stdout",
     "output_type": "stream",
     "text": [
      "tensor([0.0000, 0.2564, 0.0000, 0.9666])\n",
      "pred: tensor([[0.0081, 0.9398, 0.0521]], grad_fn=<SoftmaxBackward0>), base_pred: tensor([[3.2676e-11, 9.9915e-01, 8.5308e-04]], grad_fn=<SoftmaxBackward0>)\n",
      "sub: tensor([[ 0.0081, -0.0593,  0.0512]], grad_fn=<SubBackward0>)\n",
      "=======================================================\n",
      "pred: tensor([[-2.2836,  2.4664, -0.4270]], grad_fn=<AddmmBackward0>), base_pred: tensor([[-14.1674,   9.9761,   2.9103]], grad_fn=<AddmmBackward0>)\n",
      "sub: tensor([[11.8838, -7.5097, -3.3374]], grad_fn=<SubBackward0>)\n",
      "\u001b[1m Visualization For Score \u001b[0m\n"
     ]
    },
    {
     "data": {
      "text/html": [
       "<table width: 100%><div style=\"border-top: 1px solid; margin-top: 5px;             padding-top: 5px; display: inline-block\"><b>Legend: </b><span style=\"display: inline-block; width: 10px; height: 10px;                 border: 1px solid; background-color:                 hsl(0, 75%, 60%)\"></span> Negative  <span style=\"display: inline-block; width: 10px; height: 10px;                 border: 1px solid; background-color:                 hsl(0, 75%, 100%)\"></span> Neutral  <span style=\"display: inline-block; width: 10px; height: 10px;                 border: 1px solid; background-color:                 hsl(120, 75%, 50%)\"></span> Positive  </div><tr><th>True Label</th><th>Predicted Label</th><th>Attribution Label</th><th>Attribution Score</th><th>Word Importance</th><tr><td><text style=\"padding-right:2em\"><b>1, 4.0</b></text></td><td><text style=\"padding-right:2em\"><b>1 (1.00)</b></text></td><td><text style=\"padding-right:2em\"><b>I remember being pretty excited for the new sun and moon version and had quite a bit of fun when it came out but now almost a week later I just dont have the energy to finish it, its just not enjoyable anymore. I  feel like depression steals all of the fun in things i liked doing. And the fact that i just failed an exam at uni doesnt help things. Sometimes I dont feel like living but dont want to die either and it sucks, sorry for rambling, just needed to get it out somewhere :c I just started playing a HeartGold ROM on my android device and after 2:37 of playtime I don't see the point anymore. I know how the game plays out already, no point in carrying on for another 70 hours. </b></text></td><td><text style=\"padding-right:2em\"><b>-0.40</b></text></td><td><mark style=\"background-color: hsl(0, 75%, 100%); opacity:1.0;                     line-height:1.75\"><font color=\"black\"> [[post]]                    </font></mark><mark style=\"background-color: hsl(120, 75%, 68%); opacity:1.0;                     line-height:1.75\"><font color=\"black\">  I remember being pretty excited for the new sun and moon version and had quite a bit of fun when it came out but now almost a week later I just dont have the energy to finish it, its just not enjoyable anymore. I  feel like depression steals all of the fun in things i liked doing.                    </font></mark><mark style=\"background-color: hsl(0, 75%, 78%); opacity:1.0;                     line-height:1.75\"><font color=\"black\">  And the fact that i just failed an exam at uni doesnt help things. Sometimes I dont feel like living but dont want to die either and it sucks, sorry for rambling, just needed to get it out somewhere :c                    </font></mark><mark style=\"background-color: hsl(0, 75%, 100%); opacity:1.0;                     line-height:1.75\"><font color=\"black\"> [[comment]]                    </font></mark><mark style=\"background-color: hsl(0, 75%, 80%); opacity:1.0;                     line-height:1.75\"><font color=\"black\"> I just started playing a HeartGold ROM on my android device and after 2:37 of playtime I don't see the point anymore. I know how the game plays out already, no point in carrying on for another 70 hours.                    </font></mark></td><tr></table>"
      ],
      "text/plain": [
       "<IPython.core.display.HTML object>"
      ]
     },
     "metadata": {},
     "output_type": "display_data"
    },
    {
     "name": "stdout",
     "output_type": "stream",
     "text": [
      "tensor([ 0.0000,  0.6587, -0.5609,  0.0000, -0.5015])\n",
      "pred: tensor([[0.0752, 0.0042, 0.9207]], grad_fn=<SoftmaxBackward0>), base_pred: tensor([[1.3390e-10, 9.9989e-01, 1.0777e-04]], grad_fn=<SoftmaxBackward0>)\n",
      "sub: tensor([[ 0.0752, -0.9957,  0.9206]], grad_fn=<SubBackward0>)\n",
      "=======================================================\n",
      "pred: tensor([[ 0.3243, -2.5705,  2.8297]], grad_fn=<AddmmBackward0>), base_pred: tensor([[-12.5639,  10.1699,   1.0346]], grad_fn=<AddmmBackward0>)\n",
      "sub: tensor([[ 12.8881, -12.7405,   1.7951]], grad_fn=<SubBackward0>)\n",
      "\u001b[1m Visualization For Score \u001b[0m\n"
     ]
    },
    {
     "data": {
      "text/html": [
       "<table width: 100%><div style=\"border-top: 1px solid; margin-top: 5px;             padding-top: 5px; display: inline-block\"><b>Legend: </b><span style=\"display: inline-block; width: 10px; height: 10px;                 border: 1px solid; background-color:                 hsl(0, 75%, 60%)\"></span> Negative  <span style=\"display: inline-block; width: 10px; height: 10px;                 border: 1px solid; background-color:                 hsl(0, 75%, 100%)\"></span> Neutral  <span style=\"display: inline-block; width: 10px; height: 10px;                 border: 1px solid; background-color:                 hsl(120, 75%, 50%)\"></span> Positive  </div><tr><th>True Label</th><th>Predicted Label</th><th>Attribution Label</th><th>Attribution Score</th><th>Word Importance</th><tr><td><text style=\"padding-right:2em\"><b>1, 3.6</b></text></td><td><text style=\"padding-right:2em\"><b>2 (1.00)</b></text></td><td><text style=\"padding-right:2em\"><b>Probably sounds stupid but the only thing I look forward to everyday is laying in bed after doing nothing all day and just sleeping for 15 hours. I wish I could sleep longer Sertraline (Zoloft) changed my life for real, but everyone is different.</b></text></td><td><text style=\"padding-right:2em\"><b>-1.29</b></text></td><td><mark style=\"background-color: hsl(0, 75%, 100%); opacity:1.0;                     line-height:1.75\"><font color=\"black\"> [[post]]                    </font></mark><mark style=\"background-color: hsl(0, 75%, 63%); opacity:1.0;                     line-height:1.75\"><font color=\"black\"> Probably sounds stupid but the only thing I look forward to everyday is laying in bed after doing nothing all day and just sleeping for 15 hours. I wish I could sleep longer                    </font></mark><mark style=\"background-color: hsl(0, 75%, 100%); opacity:1.0;                     line-height:1.75\"><font color=\"black\"> [[comment]]                    </font></mark><mark style=\"background-color: hsl(0, 75%, 86%); opacity:1.0;                     line-height:1.75\"><font color=\"black\"> Sertraline (Zoloft) changed my life for real, but everyone is different.                    </font></mark></td><tr></table>"
      ],
      "text/plain": [
       "<IPython.core.display.HTML object>"
      ]
     },
     "metadata": {},
     "output_type": "display_data"
    },
    {
     "name": "stdout",
     "output_type": "stream",
     "text": [
      "tensor([ 0.0000, -0.9318,  0.0000, -0.3629])\n",
      "pred: tensor([[4.1522e-06, 1.3498e-01, 8.6501e-01]], grad_fn=<SoftmaxBackward0>), base_pred: tensor([[1.1490e-11, 2.1919e-01, 7.8081e-01]], grad_fn=<SoftmaxBackward0>)\n",
      "sub: tensor([[ 4.1522e-06, -8.4211e-02,  8.4207e-02]], grad_fn=<SubBackward0>)\n",
      "=======================================================\n",
      "pred: tensor([[-7.6191,  2.7702,  4.6278]], grad_fn=<AddmmBackward0>), base_pred: tensor([[-16.4454,   7.2264,   8.4968]], grad_fn=<AddmmBackward0>)\n",
      "sub: tensor([[ 8.8263, -4.4562, -3.8690]], grad_fn=<SubBackward0>)\n",
      "\u001b[1m Visualization For Score \u001b[0m\n"
     ]
    },
    {
     "data": {
      "text/html": [
       "<table width: 100%><div style=\"border-top: 1px solid; margin-top: 5px;             padding-top: 5px; display: inline-block\"><b>Legend: </b><span style=\"display: inline-block; width: 10px; height: 10px;                 border: 1px solid; background-color:                 hsl(0, 75%, 60%)\"></span> Negative  <span style=\"display: inline-block; width: 10px; height: 10px;                 border: 1px solid; background-color:                 hsl(0, 75%, 100%)\"></span> Neutral  <span style=\"display: inline-block; width: 10px; height: 10px;                 border: 1px solid; background-color:                 hsl(120, 75%, 50%)\"></span> Positive  </div><tr><th>True Label</th><th>Predicted Label</th><th>Attribution Label</th><th>Attribution Score</th><th>Word Importance</th><tr><td><text style=\"padding-right:2em\"><b>2, 6.4</b></text></td><td><text style=\"padding-right:2em\"><b>2 (1.00)</b></text></td><td><text style=\"padding-right:2em\"><b>My girlfriend has been severely depressed for the better part of 2 months and fighting her symptoms in addition to medication adherance and weekly talk therapy just wasn't cutting it.  She made the decision to go inpatient today after a week of intermittent SI and thoughts of SIB.  I work in acute mental health treatment and have chronic mental illness myself and while she's told me that she'll alert me when I've hit a raw spot or need to take off my mental health thinking cap, I've never been on the other side of this, at least not in this deep.  She had a rough patch when I first started dating her, but we weren't living together.  Any recommendations for being supportive of her while she's being hospitalized, with thoughts to how my experience as both a mental health provider and consumer may hinder/help my behavior and thoughts?  I won't be visiting everyday, partially because the hospital is over an hour away and also because she's got support just a phone call away and I know relatively what the environment is going to be like.  I will be visiting a couple of times this week but I'm going to be as unintrusive as I can. Try and be there for her as partner instead of as someone who works in the field. I think it's actually a positive that you are so familiar with how all that jazz works. She's inpatient so she'll have access to doctors, therapists, meds, whatever. What she won't have access is a caring partner, and that's the role you need to fill. Also, be sure and take stock of your own wellness. It can't be easy having an SO struggling as you also have your own afflictions.</b></text></td><td><text style=\"padding-right:2em\"><b>-1.52</b></text></td><td><mark style=\"background-color: hsl(0, 75%, 100%); opacity:1.0;                     line-height:1.75\"><font color=\"black\"> [[post]]                    </font></mark><mark style=\"background-color: hsl(0, 75%, 96%); opacity:1.0;                     line-height:1.75\"><font color=\"black\">  My girlfriend has been severely depressed for the better part of 2 months and fighting her symptoms in addition to medication adherance and weekly talk therapy just wasn't cutting it.  She made the decision to go inpatient today after a week of intermittent SI and thoughts of SIB.  I work in acute mental health treatment and have chronic mental illness myself and while she's told me that she'll alert me when I've hit a raw spot or need to take off my mental health thinking cap, I've never been on the other side of this, at least not in this deep.                    </font></mark><mark style=\"background-color: hsl(0, 75%, 97%); opacity:1.0;                     line-height:1.75\"><font color=\"black\">   She had a rough patch when I first started dating her, but we weren't living together.  Any recommendations for being supportive of her while she's being hospitalized, with thoughts to how my experience as both a mental health provider and consumer may hinder/help my behavior and thoughts?  I won't be visiting everyday, partially because the hospital is over an hour away and also because she's got support just a phone call away and I know relatively what the environment is going to be like.  I will be visiting a couple of times this week but I'm going to be as unintrusive as I can.                    </font></mark><mark style=\"background-color: hsl(0, 75%, 100%); opacity:1.0;                     line-height:1.75\"><font color=\"black\"> [[comment]]                    </font></mark><mark style=\"background-color: hsl(0, 75%, 65%); opacity:1.0;                     line-height:1.75\"><font color=\"black\">  Try and be there for her as partner instead of as someone who works in the field. I think it's actually a positive that you are so familiar with how all that jazz works.                    </font></mark><mark style=\"background-color: hsl(0, 75%, 83%); opacity:1.0;                     line-height:1.75\"><font color=\"black\">  She's inpatient so she'll have access to doctors, therapists, meds, whatever. What she won't have access is a caring partner, and that's the role you need to fill. Also, be sure and take stock of your own wellness. It can't be easy having an SO struggling as you also have your own afflictions.                    </font></mark></td><tr></table>"
      ],
      "text/plain": [
       "<IPython.core.display.HTML object>"
      ]
     },
     "metadata": {},
     "output_type": "display_data"
    },
    {
     "name": "stdout",
     "output_type": "stream",
     "text": [
      "tensor([ 0.0000, -0.1020, -0.0850,  0.0000, -0.8880, -0.4403])\n",
      "pred: tensor([[3.5355e-09, 4.3510e-01, 5.6490e-01]], grad_fn=<SoftmaxBackward0>), base_pred: tensor([[2.3173e-14, 6.2049e-05, 9.9994e-01]], grad_fn=<SoftmaxBackward0>)\n",
      "sub: tensor([[ 3.5355e-09,  4.3504e-01, -4.3504e-01]], grad_fn=<SubBackward0>)\n",
      "=======================================================\n",
      "pred: tensor([[-12.7631,   5.8652,   6.1262]], grad_fn=<AddmmBackward0>), base_pred: tensor([[-17.7156,   3.9926,  13.6801]], grad_fn=<AddmmBackward0>)\n",
      "sub: tensor([[ 4.9526,  1.8726, -7.5539]], grad_fn=<SubBackward0>)\n",
      "\u001b[1m Visualization For Score \u001b[0m\n"
     ]
    },
    {
     "data": {
      "text/html": [
       "<table width: 100%><div style=\"border-top: 1px solid; margin-top: 5px;             padding-top: 5px; display: inline-block\"><b>Legend: </b><span style=\"display: inline-block; width: 10px; height: 10px;                 border: 1px solid; background-color:                 hsl(0, 75%, 60%)\"></span> Negative  <span style=\"display: inline-block; width: 10px; height: 10px;                 border: 1px solid; background-color:                 hsl(0, 75%, 100%)\"></span> Neutral  <span style=\"display: inline-block; width: 10px; height: 10px;                 border: 1px solid; background-color:                 hsl(120, 75%, 50%)\"></span> Positive  </div><tr><th>True Label</th><th>Predicted Label</th><th>Attribution Label</th><th>Attribution Score</th><th>Word Importance</th><tr><td><text style=\"padding-right:2em\"><b>2, 5.7</b></text></td><td><text style=\"padding-right:2em\"><b>2 (1.00)</b></text></td><td><text style=\"padding-right:2em\"><b>I'm sorry if this isn't the right place to ask, I will delete this post if it isn't. Let me explain the situation. Please bear with me. My sister has had depression since she was a kid. It wasn't until last year that I had found out about it, and it has steadily been getting worse for her. She says that she is ready to get help, but we cannot go about this publicly. We especially need to keep this away from our family.The reason for this is due to our family. My Dad believes that depression is fake. I told my mom about my sister's depression, and she blamed me for my sister's depression. My aunts aren't really sure how to respond to the situation, so they ignore it. Also I forgot to mention, most of my family believes that depression is fake.If there is anything that I can do for my sister, please let me know. Any online community, stuff that we should be doing in our life, honestly anything is fine! Thank you so much for reading this far. if you don't mind me asking how old are you both? if you're in school you should talk to a consuler. look for things you enjoy doing bc new opportunities may appear. keep an eye out for anything interesting around your area. also hangout with friends company can help </b></text></td><td><text style=\"padding-right:2em\"><b>0.93</b></text></td><td><mark style=\"background-color: hsl(0, 75%, 100%); opacity:1.0;                     line-height:1.75\"><font color=\"black\"> [[post]]                    </font></mark><mark style=\"background-color: hsl(120, 75%, 93%); opacity:1.0;                     line-height:1.75\"><font color=\"black\">  I'm sorry if this isn't the right place to ask, I will delete this post if it isn't. Let me explain the situation. Please bear with me.                    </font></mark><mark style=\"background-color: hsl(0, 75%, 92%); opacity:1.0;                     line-height:1.75\"><font color=\"black\">  My sister has had depression since she was a kid. It wasn't until last year that I had found out about it, and it has steadily been getting worse for her. She says that she is ready to get help, but we cannot go about this publicly.                    </font></mark><mark style=\"background-color: hsl(120, 75%, 98%); opacity:1.0;                     line-height:1.75\"><font color=\"black\">  We especially need to keep this away from our family. The reason for this is due to our family.                    </font></mark><mark style=\"background-color: hsl(0, 75%, 90%); opacity:1.0;                     line-height:1.75\"><font color=\"black\">  My Dad believes that depression is fake. I told my mom about my sister's depression, and she blamed me for my sister's depression. My aunts aren't really sure how to respond to the situation, so they ignore it. Also I forgot to mention, most of my family believes that depression is fake. If there is anything that I can do for my sister, please let me know.                    </font></mark><mark style=\"background-color: hsl(120, 75%, 83%); opacity:1.0;                     line-height:1.75\"><font color=\"black\">  Any online community, stuff that we should be doing in our life, honestly anything is fine! Thank you so much for reading this far.                    </font></mark><mark style=\"background-color: hsl(0, 75%, 100%); opacity:1.0;                     line-height:1.75\"><font color=\"black\"> [[comment]]                    </font></mark><mark style=\"background-color: hsl(120, 75%, 58%); opacity:1.0;                     line-height:1.75\"><font color=\"black\"> if you don't mind me asking how old are you both? if you're in school you should talk to a consuler. look for things you enjoy doing bc new opportunities may appear. keep an eye out for anything interesting around your area. also hangout with friends company can help                    </font></mark></td><tr></table>"
      ],
      "text/plain": [
       "<IPython.core.display.HTML object>"
      ]
     },
     "metadata": {},
     "output_type": "display_data"
    },
    {
     "name": "stdout",
     "output_type": "stream",
     "text": [
      "tensor([ 0.0000,  0.1443, -0.2187,  0.0501, -0.2593,  0.3543,  0.0000,  0.8579])\n",
      "pred: tensor([[0.9697, 0.0264, 0.0040]], grad_fn=<SoftmaxBackward0>), base_pred: tensor([[3.9217e-11, 9.9920e-01, 7.9579e-04]], grad_fn=<SoftmaxBackward0>)\n",
      "sub: tensor([[ 0.9697, -0.9728,  0.0032]], grad_fn=<SubBackward0>)\n",
      "=======================================================\n",
      "pred: tensor([[ 3.0607, -0.5437, -2.4383]], grad_fn=<AddmmBackward0>), base_pred: tensor([[-14.0292,   9.9319,   2.7965]], grad_fn=<AddmmBackward0>)\n",
      "sub: tensor([[ 17.0899, -10.4756,  -5.2348]], grad_fn=<SubBackward0>)\n",
      "\u001b[1m Visualization For Score \u001b[0m\n"
     ]
    },
    {
     "data": {
      "text/html": [
       "<table width: 100%><div style=\"border-top: 1px solid; margin-top: 5px;             padding-top: 5px; display: inline-block\"><b>Legend: </b><span style=\"display: inline-block; width: 10px; height: 10px;                 border: 1px solid; background-color:                 hsl(0, 75%, 60%)\"></span> Negative  <span style=\"display: inline-block; width: 10px; height: 10px;                 border: 1px solid; background-color:                 hsl(0, 75%, 100%)\"></span> Neutral  <span style=\"display: inline-block; width: 10px; height: 10px;                 border: 1px solid; background-color:                 hsl(120, 75%, 50%)\"></span> Positive  </div><tr><th>True Label</th><th>Predicted Label</th><th>Attribution Label</th><th>Attribution Score</th><th>Word Importance</th><tr><td><text style=\"padding-right:2em\"><b>1, 3.9</b></text></td><td><text style=\"padding-right:2em\"><b>0 (1.00)</b></text></td><td><text style=\"padding-right:2em\"><b>Every day I wake up feeling just as shitty as I did the day before, I feel like I'm living life on autopilot and I'm just falling through a dark tunnel. I can't reach out to any of my friends or family because they all have their own problems and I don't want them to worry about me. I've seriously been considering committing suicide and It's scaring me. I need help. Why am I too scared to tell someone in real life Have you seen a shrink? if money is an issue, reach out, your not making youâre issues anyoneâs by talking about whatâs going on. It will take the 10 ton weight off your chest and start lighting up that dark tunnel you feel youâre walking down. </b></text></td><td><text style=\"padding-right:2em\"><b>1.49</b></text></td><td><mark style=\"background-color: hsl(0, 75%, 100%); opacity:1.0;                     line-height:1.75\"><font color=\"black\"> [[post]]                    </font></mark><mark style=\"background-color: hsl(120, 75%, 96%); opacity:1.0;                     line-height:1.75\"><font color=\"black\"> Every day I wake up feeling just as shitty as I did the day before, I feel like I'm living life on autopilot and I'm just falling through a dark tunnel. I can't reach out to any of my friends or family because they all have their own problems and I don't want them to worry about me. I've seriously been considering committing suicide and It's scaring me. I need help. Why am I too scared to tell someone in real life                    </font></mark><mark style=\"background-color: hsl(0, 75%, 100%); opacity:1.0;                     line-height:1.75\"><font color=\"black\"> [[comment]]                    </font></mark><mark style=\"background-color: hsl(120, 75%, 67%); opacity:1.0;                     line-height:1.75\"><font color=\"black\">  Have you seen a shrink? if money is an issue, reach out, your not making youâre issues anyoneâs by talking about whatâs going on.                    </font></mark><mark style=\"background-color: hsl(120, 75%, 64%); opacity:1.0;                     line-height:1.75\"><font color=\"black\">  It will take the 10 ton weight off your chest and start lighting up that dark tunnel you feel youâre walking down.                    </font></mark></td><tr></table>"
      ],
      "text/plain": [
       "<IPython.core.display.HTML object>"
      ]
     },
     "metadata": {},
     "output_type": "display_data"
    },
    {
     "name": "stdout",
     "output_type": "stream",
     "text": [
      "tensor([0.0000, 0.0866, 0.0000, 0.6773, 0.7306])\n",
      "pred: tensor([[9.9848e-01, 1.0131e-06, 1.5234e-03]], grad_fn=<SoftmaxBackward0>), base_pred: tensor([[3.9217e-11, 9.9920e-01, 7.9579e-04]], grad_fn=<SoftmaxBackward0>)\n",
      "sub: tensor([[ 9.9848e-01, -9.9920e-01,  7.2757e-04]], grad_fn=<SubBackward0>)\n",
      "=======================================================\n",
      "pred: tensor([[ 7.0769, -6.7240,  0.5916]], grad_fn=<AddmmBackward0>), base_pred: tensor([[-14.0292,   9.9319,   2.7965]], grad_fn=<AddmmBackward0>)\n",
      "sub: tensor([[ 21.1061, -16.6560,  -2.2049]], grad_fn=<SubBackward0>)\n",
      "\u001b[1m Visualization For Score \u001b[0m\n"
     ]
    },
    {
     "data": {
      "text/html": [
       "<table width: 100%><div style=\"border-top: 1px solid; margin-top: 5px;             padding-top: 5px; display: inline-block\"><b>Legend: </b><span style=\"display: inline-block; width: 10px; height: 10px;                 border: 1px solid; background-color:                 hsl(0, 75%, 60%)\"></span> Negative  <span style=\"display: inline-block; width: 10px; height: 10px;                 border: 1px solid; background-color:                 hsl(0, 75%, 100%)\"></span> Neutral  <span style=\"display: inline-block; width: 10px; height: 10px;                 border: 1px solid; background-color:                 hsl(120, 75%, 50%)\"></span> Positive  </div><tr><th>True Label</th><th>Predicted Label</th><th>Attribution Label</th><th>Attribution Score</th><th>Word Importance</th><tr><td><text style=\"padding-right:2em\"><b>1, 4.4</b></text></td><td><text style=\"padding-right:2em\"><b>0 (1.00)</b></text></td><td><text style=\"padding-right:2em\"><b>I hate when people say \"you're not alone\"( back when I used to talk about my problems).Like I don't care if other people feel shitty too, is that supposed to make feel better? That just makes me feel worse if anything. Well, you should tell those people that you don't like that. I do feel quite comforted when people say that to me. It's different for everyone. How would others know that you don't like it?</b></text></td><td><text style=\"padding-right:2em\"><b>1.43</b></text></td><td><mark style=\"background-color: hsl(0, 75%, 100%); opacity:1.0;                     line-height:1.75\"><font color=\"black\"> [[post]]                    </font></mark><mark style=\"background-color: hsl(120, 75%, 100%); opacity:1.0;                     line-height:1.75\"><font color=\"black\"> I hate when people say \"you're not alone\"( back when I used to talk about my problems).Like I don't care if other people feel shitty too, is that supposed to make feel better? That just makes me feel worse if anything.                    </font></mark><mark style=\"background-color: hsl(0, 75%, 100%); opacity:1.0;                     line-height:1.75\"><font color=\"black\"> [[comment]]                    </font></mark><mark style=\"background-color: hsl(120, 75%, 66%); opacity:1.0;                     line-height:1.75\"><font color=\"black\">  Well, you should tell those people that you don't like that. I do feel quite comforted when people say that to me.                    </font></mark><mark style=\"background-color: hsl(120, 75%, 64%); opacity:1.0;                     line-height:1.75\"><font color=\"black\">  It's different for everyone. How would others know that you don't like it?                    </font></mark></td><tr></table>"
      ],
      "text/plain": [
       "<IPython.core.display.HTML object>"
      ]
     },
     "metadata": {},
     "output_type": "display_data"
    },
    {
     "name": "stdout",
     "output_type": "stream",
     "text": [
      "tensor([0.0000, 0.0147, 0.0000, 0.6927, 0.7211])\n",
      "pred: tensor([[5.9159e-04, 5.0510e-03, 9.9436e-01]], grad_fn=<SoftmaxBackward0>), base_pred: tensor([[1.3390e-10, 9.9989e-01, 1.0777e-04]], grad_fn=<SoftmaxBackward0>)\n",
      "sub: tensor([[ 5.9159e-04, -9.9484e-01,  9.9425e-01]], grad_fn=<SubBackward0>)\n",
      "=======================================================\n",
      "pred: tensor([[-3.1285, -0.9840,  4.2985]], grad_fn=<AddmmBackward0>), base_pred: tensor([[-12.5639,  10.1699,   1.0346]], grad_fn=<AddmmBackward0>)\n",
      "sub: tensor([[  9.4353, -11.1539,   3.2640]], grad_fn=<SubBackward0>)\n",
      "\u001b[1m Visualization For Score \u001b[0m\n"
     ]
    },
    {
     "data": {
      "text/html": [
       "<table width: 100%><div style=\"border-top: 1px solid; margin-top: 5px;             padding-top: 5px; display: inline-block\"><b>Legend: </b><span style=\"display: inline-block; width: 10px; height: 10px;                 border: 1px solid; background-color:                 hsl(0, 75%, 60%)\"></span> Negative  <span style=\"display: inline-block; width: 10px; height: 10px;                 border: 1px solid; background-color:                 hsl(0, 75%, 100%)\"></span> Neutral  <span style=\"display: inline-block; width: 10px; height: 10px;                 border: 1px solid; background-color:                 hsl(120, 75%, 50%)\"></span> Positive  </div><tr><th>True Label</th><th>Predicted Label</th><th>Attribution Label</th><th>Attribution Score</th><th>Word Importance</th><tr><td><text style=\"padding-right:2em\"><b>2, 6.15</b></text></td><td><text style=\"padding-right:2em\"><b>2 (1.00)</b></text></td><td><text style=\"padding-right:2em\"><b>Soooo, i will keep it short, last 2 years have been hell for me, only thing keeping me afloat was my 'secret' youtube channel that only my friend knew about, until my other \"friend\" found out and deleted it from my computer, that was pretty bad for me, but luckily i found a gf and she kept me happy? Or well, at least kept me \"on line\", anyways now, 6 months ago she broke up with me, as u can imagine, first heart break, it hurt as hell, 3 days purely layin on bed, doing nothing, my friend showed up and told my parents about my channel, so later that day, my parents came to my room and asked why i didn't start again, the thing was it was waaay too frustrating to edit the videos with my old pc, so they offered to buy me 1 if i paid for it in parts, and now as i hit 1k subs, i am actually feeling getting better, socially, i do not hate my voice any more (my last channel i didn't use a mic) and in general i feel like i can talk to people now, so, from bottom of my heart, thank you mom and dad! This post was so cute haha, your friend and parents sound like cool people.</b></text></td><td><text style=\"padding-right:2em\"><b>0.99</b></text></td><td><mark style=\"background-color: hsl(0, 75%, 100%); opacity:1.0;                     line-height:1.75\"><font color=\"black\"> [[post]]                    </font></mark><mark style=\"background-color: hsl(0, 75%, 100%); opacity:1.0;                     line-height:1.75\"><font color=\"black\"> Soooo, i will keep it short, last 2 years have been hell for me, only thing keeping me afloat was my 'secret' youtube channel that only my friend knew about, until my other \"friend\" found out and deleted it from my computer, that was pretty bad for me, but luckily i found a gf and she kept me happy? Or well, at least kept me \"on line\", anyways now, 6 months ago she broke up with me, as u can imagine, first heart break, it hurt as hell, 3 days purely layin on bed, doing nothing, my friend showed up and told my parents about my channel, so later that day, my parents came to my room and asked why i didn't start again, the thing was it was waaay too frustrating to edit the videos with my old pc, so they offered to buy me 1 if i paid for it in parts, and now as i hit 1k subs, i am actually feeling getting better, socially, i do not hate my voice any more (my last channel i didn't use a mic) and in general i feel like i can talk to people now, so, from bottom of my heart, thank you mom and dad!                    </font></mark><mark style=\"background-color: hsl(0, 75%, 100%); opacity:1.0;                     line-height:1.75\"><font color=\"black\"> [[comment]]                    </font></mark><mark style=\"background-color: hsl(120, 75%, 51%); opacity:1.0;                     line-height:1.75\"><font color=\"black\"> This post was so cute haha, your friend and parents sound like cool people.                    </font></mark></td><tr></table>"
      ],
      "text/plain": [
       "<IPython.core.display.HTML object>"
      ]
     },
     "metadata": {},
     "output_type": "display_data"
    },
    {
     "name": "stdout",
     "output_type": "stream",
     "text": [
      "tensor([ 0.0000, -0.0121,  0.0000,  0.9999])\n",
      "pred: tensor([[5.0395e-10, 9.9947e-01, 5.2853e-04]], grad_fn=<SoftmaxBackward0>), base_pred: tensor([[1.7690e-13, 4.0759e-03, 9.9592e-01]], grad_fn=<SoftmaxBackward0>)\n",
      "sub: tensor([[ 5.0377e-10,  9.9540e-01, -9.9540e-01]], grad_fn=<SubBackward0>)\n",
      "=======================================================\n",
      "pred: tensor([[-12.1419,   9.2661,   1.7212]], grad_fn=<AddmmBackward0>), base_pred: tensor([[-17.8727,   5.9878,  11.4864]], grad_fn=<AddmmBackward0>)\n",
      "sub: tensor([[ 5.7308,  3.2783, -9.7652]], grad_fn=<SubBackward0>)\n",
      "\u001b[1m Visualization For Score \u001b[0m\n"
     ]
    },
    {
     "data": {
      "text/html": [
       "<table width: 100%><div style=\"border-top: 1px solid; margin-top: 5px;             padding-top: 5px; display: inline-block\"><b>Legend: </b><span style=\"display: inline-block; width: 10px; height: 10px;                 border: 1px solid; background-color:                 hsl(0, 75%, 60%)\"></span> Negative  <span style=\"display: inline-block; width: 10px; height: 10px;                 border: 1px solid; background-color:                 hsl(0, 75%, 100%)\"></span> Neutral  <span style=\"display: inline-block; width: 10px; height: 10px;                 border: 1px solid; background-color:                 hsl(120, 75%, 50%)\"></span> Positive  </div><tr><th>True Label</th><th>Predicted Label</th><th>Attribution Label</th><th>Attribution Score</th><th>Word Importance</th><tr><td><text style=\"padding-right:2em\"><b>1, 4.15</b></text></td><td><text style=\"padding-right:2em\"><b>1 (1.00)</b></text></td><td><text style=\"padding-right:2em\"><b>hi iâm 19 and ive been diagnosed with depression for like two years. until i started medication ( around 4 months ago zoloft/sertraline)i would feel sad and cry all the time   but now i donât ??? i only ever cry if i talk about things out loud up. up until i talk about it i donât feel sad. maybe it made me more numb iâm not sure. . maybe i suppress things? idk can anyone shed some light and if youâve experienced this pls help me out x Going to a therapist and talking about my problems and life really helps me destress throughout the week. Also you should try group therapy when I had to make the appointment I was tearing and shaking and then was shaking going to the first meeting. Then after the first meeting I started to enjoy it and it became like nothing and looked forward to going. The group I went to was mostly coping skills but Iâm gunna try a different kind of group next time.</b></text></td><td><text style=\"padding-right:2em\"><b>1.94</b></text></td><td><mark style=\"background-color: hsl(0, 75%, 100%); opacity:1.0;                     line-height:1.75\"><font color=\"black\"> [[post]]                    </font></mark><mark style=\"background-color: hsl(120, 75%, 78%); opacity:1.0;                     line-height:1.75\"><font color=\"black\">  hi iâm 19 and ive been diagnosed with depression for like two years. until i started medication ( around 4 months ago zoloft/sertraline)i would feel sad and cry all the time   but now i donât ???                    </font></mark><mark style=\"background-color: hsl(120, 75%, 88%); opacity:1.0;                     line-height:1.75\"><font color=\"black\">  i only ever cry if i talk about things out loud up. up until i talk about it i donât feel sad.                    </font></mark><mark style=\"background-color: hsl(120, 75%, 93%); opacity:1.0;                     line-height:1.75\"><font color=\"black\">  maybe it made me more numb iâm not sure. . maybe i suppress things? idk can anyone shed some light and if youâve experienced this pls help me out x                    </font></mark><mark style=\"background-color: hsl(0, 75%, 100%); opacity:1.0;                     line-height:1.75\"><font color=\"black\"> [[comment]]                    </font></mark><mark style=\"background-color: hsl(120, 75%, 86%); opacity:1.0;                     line-height:1.75\"><font color=\"black\">  Going to a therapist and talking about my problems and life really helps me destress throughout the week. Also you should try group therapy when I had to make the appointment I was tearing and shaking and then was shaking going to the first meeting.                    </font></mark><mark style=\"background-color: hsl(120, 75%, 61%); opacity:1.0;                     line-height:1.75\"><font color=\"black\">  Then after the first meeting I started to enjoy it and it became like nothing and looked forward to going. The group I went to was mostly coping skills but Iâm gunna try a different kind of group next time.                    </font></mark></td><tr></table>"
      ],
      "text/plain": [
       "<IPython.core.display.HTML object>"
      ]
     },
     "metadata": {},
     "output_type": "display_data"
    },
    {
     "name": "stdout",
     "output_type": "stream",
     "text": [
      "tensor([0.0000, 0.4589, 0.2579, 0.1547, 0.0000, 0.2812, 0.7873])\n"
     ]
    }
   ],
   "source": [
    "for i in index_list[:10]:\n",
    "    splitbert_integrated_gradient_post_comment(i, post_sequences[i], comment_sequences[i], post_contents[i], comment_bodies[i], satisfactions[i], satisfactions_float[i], True, True)"
   ]
  },
  {
   "cell_type": "code",
   "execution_count": null,
   "id": "3c4ebfe1",
   "metadata": {},
   "outputs": [],
   "source": []
  },
  {
   "cell_type": "code",
   "execution_count": null,
   "id": "43ffd910",
   "metadata": {},
   "outputs": [],
   "source": []
  },
  {
   "cell_type": "code",
   "execution_count": null,
   "id": "1213258d",
   "metadata": {},
   "outputs": [],
   "source": []
  },
  {
   "cell_type": "code",
   "execution_count": 14,
   "id": "83bbc882",
   "metadata": {},
   "outputs": [
    {
     "name": "stderr",
     "output_type": "stream",
     "text": [
      "Some weights of the model checkpoint at bert-base-uncased were not used when initializing BertModel: ['cls.predictions.bias', 'cls.predictions.transform.LayerNorm.bias', 'cls.predictions.transform.dense.weight', 'cls.seq_relationship.weight', 'cls.predictions.transform.dense.bias', 'cls.seq_relationship.bias', 'cls.predictions.decoder.weight', 'cls.predictions.transform.LayerNorm.weight']\n",
      "- This IS expected if you are initializing BertModel from the checkpoint of a model trained on another task or with another architecture (e.g. initializing a BertForSequenceClassification model from a BertForPreTraining model).\n",
      "- This IS NOT expected if you are initializing BertModel from the checkpoint of a model that you expect to be exactly identical (initializing a BertForSequenceClassification model from a BertForSequenceClassification model).\n"
     ]
    }
   ],
   "source": [
    "device, pc_model, tokenizer = prepare_model('post_comment', '../predicting-satisfaction-using-graphs/splitbert/model/seg_seg/wo_softmax', 4, False)"
   ]
  },
  {
   "cell_type": "code",
   "execution_count": 15,
   "id": "7d6a4b67",
   "metadata": {
    "scrolled": false
   },
   "outputs": [
    {
     "name": "stdout",
     "output_type": "stream",
     "text": [
      "\u001b[1m Visualization For Score \u001b[0m\n"
     ]
    },
    {
     "data": {
      "text/html": [
       "<table width: 100%><div style=\"border-top: 1px solid; margin-top: 5px;             padding-top: 5px; display: inline-block\"><b>Legend: </b><span style=\"display: inline-block; width: 10px; height: 10px;                 border: 1px solid; background-color:                 hsl(0, 75%, 60%)\"></span> Negative  <span style=\"display: inline-block; width: 10px; height: 10px;                 border: 1px solid; background-color:                 hsl(0, 75%, 100%)\"></span> Neutral  <span style=\"display: inline-block; width: 10px; height: 10px;                 border: 1px solid; background-color:                 hsl(120, 75%, 50%)\"></span> Positive  </div><tr><th>True Label</th><th>Predicted Label</th><th>Attribution Label</th><th>Attribution Score</th><th>Word Importance</th><tr><td><text style=\"padding-right:2em\"><b>0, 2.45</b></text></td><td><text style=\"padding-right:2em\"><b>0 (1.00)</b></text></td><td><text style=\"padding-right:2em\"><b>Im the guy no one suspects is as messed up as I am....Am wealthy, have nice wife, kids, everyone envious of our home (8000 sf so not small in wealthiest county in the USA).....good looking and well you name it ..........But Im now unemployed, wife has and I think still sleeps with other men, am now drinking a lot, no sex in years, kids make jokes about my drinking to wife......I embarass my wife out in piblic, I dont work out anymore and have 50 lbs more than I did a yr and half ago, I am going broke and well Im a loser I think........But when i drink at least the pain and how much of a loser I am doesnt keep me awake all night and makes me feel like I can do stuff when drunk...... As bad as I feel about the depression, and I am pretty sure you are just taking out your pent up anger on him, you came out swinging first by calling him a moron over a little mistsle first</b></text></td><td><text style=\"padding-right:2em\"><b>0.68</b></text></td><td><mark style=\"background-color: hsl(0, 75%, 100%); opacity:1.0;                     line-height:1.75\"><font color=\"black\"> [[post]]                    </font></mark><mark style=\"background-color: hsl(0, 75%, 89%); opacity:1.0;                     line-height:1.75\"><font color=\"black\"> Im the guy no one suspects is as messed up as I am....Am wealthy, have nice wife, kids, everyone envious of our home (8000 sf so not small in wealthiest county in the USA).....good looking and well you name it ..........But Im now unemployed, wife has and I think still sleeps with other men, am now drinking a lot, no sex in years, kids make jokes about my drinking to wife......I embarass my wife out in piblic, I dont work out anymore and have 50 lbs more than I did a yr and half ago, I am going broke and well Im a loser I think........But when i drink at least the pain and how much of a loser I am doesnt keep me awake all night and makes me feel like I can do stuff when drunk......                    </font></mark><mark style=\"background-color: hsl(0, 75%, 100%); opacity:1.0;                     line-height:1.75\"><font color=\"black\"> [[comment]]                    </font></mark><mark style=\"background-color: hsl(120, 75%, 53%); opacity:1.0;                     line-height:1.75\"><font color=\"black\"> As bad as I feel about the depression, and I am pretty sure you are just taking out your pent up anger on him, you came out swinging first by calling him a moron over a little mistsle first                    </font></mark></td><tr></table>"
      ],
      "text/plain": [
       "<IPython.core.display.HTML object>"
      ]
     },
     "metadata": {},
     "output_type": "display_data"
    },
    {
     "name": "stdout",
     "output_type": "stream",
     "text": [
      "tensor([ 0.0000, -0.2832,  0.0000,  0.9591])\n"
     ]
    }
   ],
   "source": [
    "for i in index_list[:1]:\n",
    "    splitbert_integrated_gradient_post_comment(i, post_sequences[i], comment_sequences[i], post_contents[i], comment_bodies[i], satisfactions[i], satisfactions_float[i], True, False)"
   ]
  },
  {
   "cell_type": "code",
   "execution_count": null,
   "id": "f3bc6719",
   "metadata": {},
   "outputs": [],
   "source": []
  }
 ],
 "metadata": {
  "kernelspec": {
   "display_name": "Python 3 (ipykernel)",
   "language": "python",
   "name": "python3"
  },
  "language_info": {
   "codemirror_mode": {
    "name": "ipython",
    "version": 3
   },
   "file_extension": ".py",
   "mimetype": "text/x-python",
   "name": "python",
   "nbconvert_exporter": "python",
   "pygments_lexer": "ipython3",
   "version": "3.8.10"
  }
 },
 "nbformat": 4,
 "nbformat_minor": 5
}
