{
 "cells": [
  {
   "cell_type": "code",
   "execution_count": 1,
   "id": "65fda625",
   "metadata": {},
   "outputs": [
    {
     "name": "stderr",
     "output_type": "stream",
     "text": [
      "2024-01-10 18:58:40.666591: I tensorflow/stream_executor/platform/default/dso_loader.cc:49] Successfully opened dynamic library libcudart.so.11.0\n"
     ]
    }
   ],
   "source": [
    "from splitbert_integrated_gradient import main"
   ]
  },
  {
   "cell_type": "markdown",
   "id": "298afd51",
   "metadata": {},
   "source": [
    "# Label: 0, pred: 2, target: 2 (pred)"
   ]
  },
  {
   "cell_type": "code",
   "execution_count": 2,
   "id": "8f643990",
   "metadata": {
    "scrolled": false
   },
   "outputs": [
    {
     "name": "stderr",
     "output_type": "stream",
     "text": [
      "Some weights of the model checkpoint at bert-base-uncased were not used when initializing BertModel: ['cls.predictions.transform.dense.bias', 'cls.predictions.transform.LayerNorm.weight', 'cls.seq_relationship.weight', 'cls.predictions.transform.dense.weight', 'cls.seq_relationship.bias', 'cls.predictions.bias', 'cls.predictions.decoder.weight', 'cls.predictions.transform.LayerNorm.bias']\n",
      "- This IS expected if you are initializing BertModel from the checkpoint of a model trained on another task or with another architecture (e.g. initializing a BertForSequenceClassification model from a BertForPreTraining model).\n",
      "- This IS NOT expected if you are initializing BertModel from the checkpoint of a model that you expect to be exactly identical (initializing a BertForSequenceClassification model from a BertForSequenceClassification model).\n",
      "/home/mykim/.local/lib/python3.8/site-packages/transformers/tokenization_utils_base.py:2301: FutureWarning: The `pad_to_max_length` argument is deprecated and will be removed in a future version, use `padding=True` or `padding='longest'` to pad to the longest sequence in the batch, or use `padding='max_length'` to pad to a max length. In this case, you can give a specific length with `max_length` (e.g. `max_length=45`) or leave max_length to None to pad to the maximal input size of the model (e.g. 512 for Bert).\n",
      "  warnings.warn(\n"
     ]
    },
    {
     "name": "stdout",
     "output_type": "stream",
     "text": [
      "tensor(1.0514, dtype=torch.float64)\n",
      "\u001b[1m Visualization For Score \u001b[0m\n"
     ]
    },
    {
     "data": {
      "text/html": [
       "<table width: 100%><div style=\"border-top: 1px solid; margin-top: 5px;             padding-top: 5px; display: inline-block\"><b>Legend: </b><span style=\"display: inline-block; width: 10px; height: 10px;                 border: 1px solid; background-color:                 hsl(0, 75%, 60%)\"></span> Negative  <span style=\"display: inline-block; width: 10px; height: 10px;                 border: 1px solid; background-color:                 hsl(0, 75%, 100%)\"></span> Neutral  <span style=\"display: inline-block; width: 10px; height: 10px;                 border: 1px solid; background-color:                 hsl(120, 75%, 50%)\"></span> Positive  </div><tr><th>True Label</th><th>Predicted Label</th><th>Attribution Label</th><th>Attribution Score</th><th>Word Importance</th><tr><td><text style=\"padding-right:2em\"><b>0, 2.45</b></text></td><td><text style=\"padding-right:2em\"><b>2 (1.00)</b></text></td><td><text style=\"padding-right:2em\"><b>Im the guy no one suspects is as messed up as I am....Am wealthy, have nice wife, kids, everyone envious of our home (8000 sf so not small in wealthiest county in the USA).....good looking and well you name it ..........But Im now unemployed, wife has and I think still sleeps with other men, am now drinking a lot, no sex in years, kids make jokes about my drinking to wife......I embarass my wife out in piblic, I dont work out anymore and have 50 lbs more than I did a yr and half ago, I am going broke and well Im a loser I think........But when i drink at least the pain and how much of a loser I am doesnt keep me awake all night and makes me feel like I can do stuff when drunk...... As bad as I feel about the depression, and I am pretty sure you are just taking out your pent up anger on him, you came out swinging first by calling him a moron over a little mistsle first</b></text></td><td><text style=\"padding-right:2em\"><b>0.95</b></text></td><td><mark style=\"background-color: hsl(0, 75%, 100%); opacity:1.0;                     line-height:1.75\"><font color=\"black\"> [[post]]                    </font></mark><mark style=\"background-color: hsl(120, 75%, 51%); opacity:1.0;                     line-height:1.75\"><font color=\"black\"> Im the guy no one suspects is as messed up as I am....Am wealthy, have nice wife, kids, everyone envious of our home (8000 sf so not small in wealthiest county in the USA).....good looking and well you name it ..........But Im now unemployed, wife has and I think still sleeps with other men, am now drinking a lot, no sex in years, kids make jokes about my drinking to wife......I embarass my wife out in piblic, I dont work out anymore and have 50 lbs more than I did a yr and half ago, I am going broke and well Im a loser I think........But when i drink at least the pain and how much of a loser I am doesnt keep me awake all night and makes me feel like I can do stuff when drunk......                    </font></mark><mark style=\"background-color: hsl(0, 75%, 100%); opacity:1.0;                     line-height:1.75\"><font color=\"black\"> [[comment]]                    </font></mark><mark style=\"background-color: hsl(0, 75%, 99%); opacity:1.0;                     line-height:1.75\"><font color=\"black\"> As bad as I feel about the depression, and I am pretty sure you are just taking out your pent up anger on him, you came out swinging first by calling him a moron over a little mistsle first                    </font></mark></td><tr></table>"
      ],
      "text/plain": [
       "<IPython.core.display.HTML object>"
      ]
     },
     "metadata": {},
     "output_type": "display_data"
    },
    {
     "name": "stdout",
     "output_type": "stream",
     "text": [
      "tensor([ 0.0000,  0.9988,  0.0000, -0.0484])\n",
      "tensor(0.6783, dtype=torch.float64)\n",
      "\u001b[1m Visualization For Score \u001b[0m\n"
     ]
    },
    {
     "data": {
      "text/html": [
       "<table width: 100%><div style=\"border-top: 1px solid; margin-top: 5px;             padding-top: 5px; display: inline-block\"><b>Legend: </b><span style=\"display: inline-block; width: 10px; height: 10px;                 border: 1px solid; background-color:                 hsl(0, 75%, 60%)\"></span> Negative  <span style=\"display: inline-block; width: 10px; height: 10px;                 border: 1px solid; background-color:                 hsl(0, 75%, 100%)\"></span> Neutral  <span style=\"display: inline-block; width: 10px; height: 10px;                 border: 1px solid; background-color:                 hsl(120, 75%, 50%)\"></span> Positive  </div><tr><th>True Label</th><th>Predicted Label</th><th>Attribution Label</th><th>Attribution Score</th><th>Word Importance</th><tr><td><text style=\"padding-right:2em\"><b>0, 2.35</b></text></td><td><text style=\"padding-right:2em\"><b>2 (1.00)</b></text></td><td><text style=\"padding-right:2em\"><b>its been 2 weeks since ive seen her, im male 23, i know i should man up,i miss her so much, she was my best friend. I have started anti depressents, problem is we worked in the same office until 2 weeks ago, she got a new job, everywhere i look im reminded, i almost burst into tears in the middle of the office, i want the pain to go away, i feel so alone, i dont see the point of living anymore. i know im a weak pussy but ive never been in so much pain, i need help You will pass these tough moments. Hang in there.</b></text></td><td><text style=\"padding-right:2em\"><b>1.41</b></text></td><td><mark style=\"background-color: hsl(0, 75%, 100%); opacity:1.0;                     line-height:1.75\"><font color=\"black\"> [[post]]                    </font></mark><mark style=\"background-color: hsl(120, 75%, 64%); opacity:1.0;                     line-height:1.75\"><font color=\"black\"> its been 2 weeks since ive seen her, im male 23, i know i should man up,i miss her so much, she was my best friend. I have started anti depressents, problem is we worked in the same office until 2 weeks ago, she got a new job, everywhere i look im reminded, i almost burst into tears in the middle of the office, i want the pain to go away, i feel so alone, i dont see the point of living anymore. i know im a weak pussy but ive never been in so much pain, i need help                    </font></mark><mark style=\"background-color: hsl(0, 75%, 100%); opacity:1.0;                     line-height:1.75\"><font color=\"black\"> [[comment]]                    </font></mark><mark style=\"background-color: hsl(120, 75%, 67%); opacity:1.0;                     line-height:1.75\"><font color=\"black\"> You will pass these tough moments. Hang in there.                    </font></mark></td><tr></table>"
      ],
      "text/plain": [
       "<IPython.core.display.HTML object>"
      ]
     },
     "metadata": {},
     "output_type": "display_data"
    },
    {
     "name": "stdout",
     "output_type": "stream",
     "text": [
      "tensor([0.0000, 0.7387, 0.0000, 0.6740])\n"
     ]
    }
   ],
   "source": [
    "main(true_label=0, pred_label=2, target='pred')"
   ]
  },
  {
   "cell_type": "markdown",
   "id": "b5df91d0",
   "metadata": {},
   "source": [
    "# Label: 2, pred: 0, target: 0 (pred)"
   ]
  },
  {
   "cell_type": "code",
   "execution_count": 3,
   "id": "b29ce91c",
   "metadata": {
    "scrolled": false
   },
   "outputs": [
    {
     "name": "stderr",
     "output_type": "stream",
     "text": [
      "Some weights of the model checkpoint at bert-base-uncased were not used when initializing BertModel: ['cls.predictions.transform.dense.bias', 'cls.predictions.transform.LayerNorm.weight', 'cls.seq_relationship.weight', 'cls.predictions.transform.dense.weight', 'cls.seq_relationship.bias', 'cls.predictions.bias', 'cls.predictions.decoder.weight', 'cls.predictions.transform.LayerNorm.bias']\n",
      "- This IS expected if you are initializing BertModel from the checkpoint of a model trained on another task or with another architecture (e.g. initializing a BertForSequenceClassification model from a BertForPreTraining model).\n",
      "- This IS NOT expected if you are initializing BertModel from the checkpoint of a model that you expect to be exactly identical (initializing a BertForSequenceClassification model from a BertForSequenceClassification model).\n",
      "/home/mykim/.local/lib/python3.8/site-packages/transformers/tokenization_utils_base.py:2301: FutureWarning: The `pad_to_max_length` argument is deprecated and will be removed in a future version, use `padding=True` or `padding='longest'` to pad to the longest sequence in the batch, or use `padding='max_length'` to pad to a max length. In this case, you can give a specific length with `max_length` (e.g. `max_length=45`) or leave max_length to None to pad to the maximal input size of the model (e.g. 512 for Bert).\n",
      "  warnings.warn(\n"
     ]
    },
    {
     "name": "stdout",
     "output_type": "stream",
     "text": [
      "tensor(0.8284, dtype=torch.float64)\n",
      "\u001b[1m Visualization For Score \u001b[0m\n"
     ]
    },
    {
     "data": {
      "text/html": [
       "<table width: 100%><div style=\"border-top: 1px solid; margin-top: 5px;             padding-top: 5px; display: inline-block\"><b>Legend: </b><span style=\"display: inline-block; width: 10px; height: 10px;                 border: 1px solid; background-color:                 hsl(0, 75%, 60%)\"></span> Negative  <span style=\"display: inline-block; width: 10px; height: 10px;                 border: 1px solid; background-color:                 hsl(0, 75%, 100%)\"></span> Neutral  <span style=\"display: inline-block; width: 10px; height: 10px;                 border: 1px solid; background-color:                 hsl(120, 75%, 50%)\"></span> Positive  </div><tr><th>True Label</th><th>Predicted Label</th><th>Attribution Label</th><th>Attribution Score</th><th>Word Importance</th><tr><td><text style=\"padding-right:2em\"><b>2, 5.9</b></text></td><td><text style=\"padding-right:2em\"><b>0 (1.00)</b></text></td><td><text style=\"padding-right:2em\"><b>This is difficult to explain but itâs a feeling Iâve been experiencing lately. I find myself missing someone who isnât real. I think my depressed, fucked up brain has created the image of a person who represents everything Iâve longed for for as long as I can remember. The feelings I desire (love, compassion, affection, partnership, togetherness, etc.) but have never had from anyone outside of my family, who I am very grateful for, have taken the form of one âperfectâ person in my mind. This imaginary person embodies everything I donât have. From time to time (and much more often recently) I find myself missing this person even though Iâve never met her because, well, she doesnât exist. Maybe itâs just my brainâs way of dealing with the fact that Iâve never had anybody who liked me for me. Iâve never felt wanted or like I truly matter, so perhaps my brain has created this person to fill that void. Whatever it is, itâs an awful feeling because I feel like Iâm constantly chasing after something unattainable. Can anyone relate to this? I do this but my brain makes me miss people I barely know because I associate all the things I want with them, me not really knowing them makes them the blank canvas Iâd need to imagine them as whoever I like.</b></text></td><td><text style=\"padding-right:2em\"><b>1.19</b></text></td><td><mark style=\"background-color: hsl(0, 75%, 100%); opacity:1.0;                     line-height:1.75\"><font color=\"black\"> [[post]]                    </font></mark><mark style=\"background-color: hsl(120, 75%, 66%); opacity:1.0;                     line-height:1.75\"><font color=\"black\">  This is difficult to explain but itâs a feeling Iâve been experiencing lately. I find myself missing someone who isnât real. I think my depressed, fucked up brain has created the image of a person who represents everything Iâve longed for for as long as I can remember.                    </font></mark><mark style=\"background-color: hsl(120, 75%, 65%); opacity:1.0;                     line-height:1.75\"><font color=\"black\">  The feelings I desire (love, compassion, affection, partnership, togetherness, etc.) but have never had from anyone outside of my family, who I am very grateful for, have taken the form of one âperfectâ person in my mind. This imaginary person embodies everything I donât have. From time to time (and much more often recently) I find myself missing this person even though Iâve never met her because, well, she doesnât exist.                    </font></mark><mark style=\"background-color: hsl(0, 75%, 96%); opacity:1.0;                     line-height:1.75\"><font color=\"black\">  Maybe itâs just my brainâs way of dealing with the fact that Iâve never had anybody who liked me for me. Iâve never felt wanted or like I truly matter, so perhaps my brain has created this person to fill that void. Whatever it is, itâs an awful feeling because I feel like Iâm constantly chasing after something unattainable. Can anyone relate to this?                    </font></mark><mark style=\"background-color: hsl(0, 75%, 100%); opacity:1.0;                     line-height:1.75\"><font color=\"black\"> [[comment]]                    </font></mark><mark style=\"background-color: hsl(0, 75%, 97%); opacity:1.0;                     line-height:1.75\"><font color=\"black\"> I do this but my brain makes me miss people I barely know because I associate all the things I want with them, me not really knowing them makes them the blank canvas Iâd need to imagine them as whoever I like.                    </font></mark></td><tr></table>"
      ],
      "text/plain": [
       "<IPython.core.display.HTML object>"
      ]
     },
     "metadata": {},
     "output_type": "display_data"
    },
    {
     "name": "stdout",
     "output_type": "stream",
     "text": [
      "tensor([ 0.0000,  0.6879,  0.7104, -0.1241,  0.0000, -0.0817])\n",
      "tensor(1.0200, dtype=torch.float64)\n",
      "\u001b[1m Visualization For Score \u001b[0m\n"
     ]
    },
    {
     "data": {
      "text/html": [
       "<table width: 100%><div style=\"border-top: 1px solid; margin-top: 5px;             padding-top: 5px; display: inline-block\"><b>Legend: </b><span style=\"display: inline-block; width: 10px; height: 10px;                 border: 1px solid; background-color:                 hsl(0, 75%, 60%)\"></span> Negative  <span style=\"display: inline-block; width: 10px; height: 10px;                 border: 1px solid; background-color:                 hsl(0, 75%, 100%)\"></span> Neutral  <span style=\"display: inline-block; width: 10px; height: 10px;                 border: 1px solid; background-color:                 hsl(120, 75%, 50%)\"></span> Positive  </div><tr><th>True Label</th><th>Predicted Label</th><th>Attribution Label</th><th>Attribution Score</th><th>Word Importance</th><tr><td><text style=\"padding-right:2em\"><b>2, 6.35</b></text></td><td><text style=\"padding-right:2em\"><b>0 (1.00)</b></text></td><td><text style=\"padding-right:2em\"><b>Today is Christmas Eve, Iâm 27 and Iâve lost the will to live. I slapped myself in the face a few times now and on the wrist and arms few more times. I canât snap out of it. This is my first post on reddit and Iâm desperate. I donât want to die but Iâm scared. I donât feel like anyone cares what happens to me anymore and they would be better off without me. I know it will be sad for them at first but overtime theyâll be happier when Iâm out of the picture. I feel like a useless burden on everyone in my life. The world doesnât need me. breathe. you say you donât want to die which is good. just breathe. lay on the ground outside if you must, keep yourself present. this too shall pass </b></text></td><td><text style=\"padding-right:2em\"><b>0.91</b></text></td><td><mark style=\"background-color: hsl(0, 75%, 100%); opacity:1.0;                     line-height:1.75\"><font color=\"black\"> [[post]]                    </font></mark><mark style=\"background-color: hsl(0, 75%, 76%); opacity:1.0;                     line-height:1.75\"><font color=\"black\">  Today is Christmas Eve, Iâm 27 and Iâve lost the will to live. I slapped myself in the face a few times now and on the wrist and arms few more times. I canât snap out of it.                    </font></mark><mark style=\"background-color: hsl(120, 75%, 92%); opacity:1.0;                     line-height:1.75\"><font color=\"black\">  This is my first post on reddit and Iâm desperate. I donât want to die but Iâm scared.                    </font></mark><mark style=\"background-color: hsl(120, 75%, 79%); opacity:1.0;                     line-height:1.75\"><font color=\"black\">  I donât feel like anyone cares what happens to me anymore and they would be better off without me. I know it will be sad for them at first but overtime theyâll be happier when Iâm out of the picture.                    </font></mark><mark style=\"background-color: hsl(120, 75%, 78%); opacity:1.0;                     line-height:1.75\"><font color=\"black\">  I feel like a useless burden on everyone in my life. The world doesnât need me.                    </font></mark><mark style=\"background-color: hsl(0, 75%, 100%); opacity:1.0;                     line-height:1.75\"><font color=\"black\"> [[comment]]                    </font></mark><mark style=\"background-color: hsl(120, 75%, 77%); opacity:1.0;                     line-height:1.75\"><font color=\"black\"> breathe. you say you donât want to die which is good. just breathe. lay on the ground outside if you must, keep yourself present. this too shall pass                    </font></mark></td><tr></table>"
      ],
      "text/plain": [
       "<IPython.core.display.HTML object>"
      ]
     },
     "metadata": {},
     "output_type": "display_data"
    },
    {
     "name": "stdout",
     "output_type": "stream",
     "text": [
      "tensor([ 0.0000, -0.6056,  0.1716,  0.4286,  0.4505,  0.0000,  0.4661])\n",
      "tensor(0.6690, dtype=torch.float64)\n",
      "\u001b[1m Visualization For Score \u001b[0m\n"
     ]
    },
    {
     "data": {
      "text/html": [
       "<table width: 100%><div style=\"border-top: 1px solid; margin-top: 5px;             padding-top: 5px; display: inline-block\"><b>Legend: </b><span style=\"display: inline-block; width: 10px; height: 10px;                 border: 1px solid; background-color:                 hsl(0, 75%, 60%)\"></span> Negative  <span style=\"display: inline-block; width: 10px; height: 10px;                 border: 1px solid; background-color:                 hsl(0, 75%, 100%)\"></span> Neutral  <span style=\"display: inline-block; width: 10px; height: 10px;                 border: 1px solid; background-color:                 hsl(120, 75%, 50%)\"></span> Positive  </div><tr><th>True Label</th><th>Predicted Label</th><th>Attribution Label</th><th>Attribution Score</th><th>Word Importance</th><tr><td><text style=\"padding-right:2em\"><b>2, 5.0</b></text></td><td><text style=\"padding-right:2em\"><b>0 (1.00)</b></text></td><td><text style=\"padding-right:2em\"><b>Sometimes I feel like killing myself but then I think, how can I do that when I havent really experienced life or had any fun? Some people arent in a good situation inwhich they could ever enjoy life but I have a chance to do that. So now everytime I think about killing myself I'm just going to remind myself to live life to the fullest, whatever that means for myself. Whether that means doing well in my career I've chosen, giving myself to the military, or just becoming a drug dealer with my friend. Whatever it is I feel confident now that I'm not going to kill myself   In my mind I'm still thinking...Im so lost that idk what to do.Your comment makes too much sense, but then I'm stuck here, cant even move towards any goal right now</b></text></td><td><text style=\"padding-right:2em\"><b>1.53</b></text></td><td><mark style=\"background-color: hsl(0, 75%, 100%); opacity:1.0;                     line-height:1.75\"><font color=\"black\"> [[post]]                    </font></mark><mark style=\"background-color: hsl(120, 75%, 61%); opacity:1.0;                     line-height:1.75\"><font color=\"black\">  Sometimes I feel like killing myself but then I think, how can I do that when I havent really experienced life or had any fun? Some people arent in a good situation inwhich they could ever enjoy life but I have a chance to do that.                    </font></mark><mark style=\"background-color: hsl(120, 75%, 70%); opacity:1.0;                     line-height:1.75\"><font color=\"black\">  So now everytime I think about killing myself I'm just going to remind myself to live life to the fullest, whatever that means for myself. Whether that means doing well in my career I've chosen, giving myself to the military, or just becoming a drug dealer with my friend. Whatever it is I feel confident now that I'm not going to kill myself                      </font></mark><mark style=\"background-color: hsl(0, 75%, 100%); opacity:1.0;                     line-height:1.75\"><font color=\"black\"> [[comment]]                    </font></mark><mark style=\"background-color: hsl(120, 75%, 94%); opacity:1.0;                     line-height:1.75\"><font color=\"black\"> In my mind I'm still thinking...Im so lost that idk what to do. Your comment makes too much sense, but then I'm stuck here, cant even move towards any goal right now                    </font></mark></td><tr></table>"
      ],
      "text/plain": [
       "<IPython.core.display.HTML object>"
      ]
     },
     "metadata": {},
     "output_type": "display_data"
    },
    {
     "name": "stdout",
     "output_type": "stream",
     "text": [
      "tensor([0.0000, 0.7843, 0.6048, 0.0000, 0.1385])\n",
      "tensor(0.6629, dtype=torch.float64)\n",
      "\u001b[1m Visualization For Score \u001b[0m\n"
     ]
    },
    {
     "data": {
      "text/html": [
       "<table width: 100%><div style=\"border-top: 1px solid; margin-top: 5px;             padding-top: 5px; display: inline-block\"><b>Legend: </b><span style=\"display: inline-block; width: 10px; height: 10px;                 border: 1px solid; background-color:                 hsl(0, 75%, 60%)\"></span> Negative  <span style=\"display: inline-block; width: 10px; height: 10px;                 border: 1px solid; background-color:                 hsl(0, 75%, 100%)\"></span> Neutral  <span style=\"display: inline-block; width: 10px; height: 10px;                 border: 1px solid; background-color:                 hsl(120, 75%, 50%)\"></span> Positive  </div><tr><th>True Label</th><th>Predicted Label</th><th>Attribution Label</th><th>Attribution Score</th><th>Word Importance</th><tr><td><text style=\"padding-right:2em\"><b>2, 5.3</b></text></td><td><text style=\"padding-right:2em\"><b>0 (1.00)</b></text></td><td><text style=\"padding-right:2em\"><b>Sorry if this is the wrong place. I don't think suicide watch is the proper place since I don't necessarily want to commit suicide. I just want to cease living.I feel like no matter what I can't escape the demons I have. No matter how well I'm doing, my mind is always like \"the fuck? Get back in line.\" No matter what, they'll always come back up and I'll be in my room alone at nearly 2 in the morning wishing for some disaster whose only fatality would be me.Even then it doesn't even really matter if they're mad or not. I'd be dead.**Edit to add: Thank you everyone for responding. You all truly helped calm me down. Now that I've gotten some sleep and kicked the shit out of some weights, I feel better.****That too, has passed. This too, shall pass.****If ANY of you need an ear, or a digital shoulder to digitally cry on, I'd love to be there for you. Shoot me a PM anytime.** Pretty much everyday, sometimes my friends or family talk about horrible events where someone with a gun or knife attacks a lot of people in public places. I always say I would run at them and try to stop them, they always reply that I'm stupid or courageous or both. In reality I am not courageous, I just value my life so little that if I can roll the dice to either stop someone and be a hero, stop someone and die, or just die, all outcomes would be good.</b></text></td><td><text style=\"padding-right:2em\"><b>1.49</b></text></td><td><mark style=\"background-color: hsl(0, 75%, 100%); opacity:1.0;                     line-height:1.75\"><font color=\"black\"> [[post]]                    </font></mark><mark style=\"background-color: hsl(120, 75%, 61%); opacity:1.0;                     line-height:1.75\"><font color=\"black\">  Sorry if this is the wrong place. I don't think suicide watch is the proper place since I don't necessarily want to commit suicide. I just want to cease living. I feel like no matter what I can't escape the demons I have. No matter how well I'm doing, my mind is always like \"the fuck?                    </font></mark><mark style=\"background-color: hsl(120, 75%, 82%); opacity:1.0;                     line-height:1.75\"><font color=\"black\">  Get back in line.\" No matter what, they'll always come back up and I'll be in my room alone at nearly 2 in the morning wishing for some disaster whose only fatality would be me. Even then it doesn't even really matter if they're mad or not.                    </font></mark><mark style=\"background-color: hsl(0, 75%, 95%); opacity:1.0;                     line-height:1.75\"><font color=\"black\">  I'd be dead.**Edit to add: Thank you everyone for responding. You all truly helped calm me down. Now that I've gotten some sleep and kicked the shit out of some weights, I feel better.****That too, has passed. This too, shall pass.****If ANY of you need an ear, or a digital shoulder to digitally cry on, I'd love to be there for you. Shoot me a PM anytime.**                    </font></mark><mark style=\"background-color: hsl(0, 75%, 100%); opacity:1.0;                     line-height:1.75\"><font color=\"black\"> [[comment]]                    </font></mark><mark style=\"background-color: hsl(120, 75%, 76%); opacity:1.0;                     line-height:1.75\"><font color=\"black\"> Pretty much everyday, sometimes my friends or family talk about horrible events where someone with a gun or knife attacks a lot of people in public places. I always say I would run at them and try to stop them, they always reply that I'm stupid or courageous or both. In reality I am not courageous, I just value my life so little that if I can roll the dice to either stop someone and be a hero, stop someone and die, or just die, all outcomes would be good.                    </font></mark></td><tr></table>"
      ],
      "text/plain": [
       "<IPython.core.display.HTML object>"
      ]
     },
     "metadata": {},
     "output_type": "display_data"
    },
    {
     "name": "stdout",
     "output_type": "stream",
     "text": [
      "tensor([ 0.0000,  0.7803,  0.3713, -0.1418,  0.0000,  0.4829])\n",
      "tensor(0.7264, dtype=torch.float64)\n",
      "\u001b[1m Visualization For Score \u001b[0m\n"
     ]
    },
    {
     "data": {
      "text/html": [
       "<table width: 100%><div style=\"border-top: 1px solid; margin-top: 5px;             padding-top: 5px; display: inline-block\"><b>Legend: </b><span style=\"display: inline-block; width: 10px; height: 10px;                 border: 1px solid; background-color:                 hsl(0, 75%, 60%)\"></span> Negative  <span style=\"display: inline-block; width: 10px; height: 10px;                 border: 1px solid; background-color:                 hsl(0, 75%, 100%)\"></span> Neutral  <span style=\"display: inline-block; width: 10px; height: 10px;                 border: 1px solid; background-color:                 hsl(120, 75%, 50%)\"></span> Positive  </div><tr><th>True Label</th><th>Predicted Label</th><th>Attribution Label</th><th>Attribution Score</th><th>Word Importance</th><tr><td><text style=\"padding-right:2em\"><b>2, 5.1</b></text></td><td><text style=\"padding-right:2em\"><b>0 (1.00)</b></text></td><td><text style=\"padding-right:2em\"><b>I'm fresh off 2 weeks of emotional torture from a bloody narcissist. I want to take a break. I don't want to adult and look for a job. I don't want to do irl stuff because it's hopeless -- who wants to hire a depressed piece of shit? I'm drained. Can I take a break? Because all of my jailors say I can't and I'm forced to go back and adult it all out. Only losers and idiots get depressed, they say.Can I just make the break permanent? I'm exhausted.  That's a learned thought pattern, one which is hard to break. CBT (Cognitive behavioral therapy) is highly recommended. It helps change this kind of thinking, tho takes time.</b></text></td><td><text style=\"padding-right:2em\"><b>1.31</b></text></td><td><mark style=\"background-color: hsl(0, 75%, 100%); opacity:1.0;                     line-height:1.75\"><font color=\"black\"> [[post]]                    </font></mark><mark style=\"background-color: hsl(120, 75%, 96%); opacity:1.0;                     line-height:1.75\"><font color=\"black\">  I'm fresh off 2 weeks of emotional torture from a bloody narcissist. I want to take a break.                    </font></mark><mark style=\"background-color: hsl(120, 75%, 82%); opacity:1.0;                     line-height:1.75\"><font color=\"black\">  I don't want to adult and look for a job. I don't want to do irl stuff because it's hopeless -- who wants to hire a depressed piece of shit?                    </font></mark><mark style=\"background-color: hsl(120, 75%, 55%); opacity:1.0;                     line-height:1.75\"><font color=\"black\">  I'm drained. Can I take a break? Because all of my jailors say I can't and I'm forced to go back and adult it all out. Only losers and idiots get depressed, they say.                    </font></mark><mark style=\"background-color: hsl(120, 75%, 99%); opacity:1.0;                     line-height:1.75\"><font color=\"black\">  Can I just make the break permanent? I'm exhausted.                    </font></mark><mark style=\"background-color: hsl(0, 75%, 100%); opacity:1.0;                     line-height:1.75\"><font color=\"black\"> [[comment]]                    </font></mark><mark style=\"background-color: hsl(0, 75%, 97%); opacity:1.0;                     line-height:1.75\"><font color=\"black\"> That's a learned thought pattern, one which is hard to break. CBT (Cognitive behavioral therapy) is highly recommended. It helps change this kind of thinking, tho takes time.                    </font></mark></td><tr></table>"
      ],
      "text/plain": [
       "<IPython.core.display.HTML object>"
      ]
     },
     "metadata": {},
     "output_type": "display_data"
    },
    {
     "name": "stdout",
     "output_type": "stream",
     "text": [
      "tensor([ 0.0000,  0.0955,  0.3686,  0.9195,  0.0200,  0.0000, -0.0951])\n"
     ]
    }
   ],
   "source": [
    "main(true_label=2, pred_label=0, target='pred')"
   ]
  },
  {
   "cell_type": "code",
   "execution_count": null,
   "id": "2dba70ab",
   "metadata": {},
   "outputs": [],
   "source": []
  }
 ],
 "metadata": {
  "kernelspec": {
   "display_name": "Python 3 (ipykernel)",
   "language": "python",
   "name": "python3"
  },
  "language_info": {
   "codemirror_mode": {
    "name": "ipython",
    "version": 3
   },
   "file_extension": ".py",
   "mimetype": "text/x-python",
   "name": "python",
   "nbconvert_exporter": "python",
   "pygments_lexer": "ipython3",
   "version": "3.8.10"
  }
 },
 "nbformat": 4,
 "nbformat_minor": 5
}
