{
 "cells": [
  {
   "cell_type": "code",
   "execution_count": 1,
   "id": "20857b86",
   "metadata": {},
   "outputs": [
    {
     "name": "stderr",
     "output_type": "stream",
     "text": [
      "2024-01-10 18:51:40.069524: I tensorflow/stream_executor/platform/default/dso_loader.cc:49] Successfully opened dynamic library libcudart.so.11.0\n"
     ]
    }
   ],
   "source": [
    "from splitbert_integrated_gradient import main"
   ]
  },
  {
   "cell_type": "markdown",
   "id": "d1e67aa1",
   "metadata": {},
   "source": [
    "# Label: 0, pred: 0"
   ]
  },
  {
   "cell_type": "code",
   "execution_count": 3,
   "id": "d5b2b392",
   "metadata": {
    "scrolled": false
   },
   "outputs": [
    {
     "name": "stderr",
     "output_type": "stream",
     "text": [
      "Some weights of the model checkpoint at bert-base-uncased were not used when initializing BertModel: ['cls.seq_relationship.weight', 'cls.seq_relationship.bias', 'cls.predictions.transform.LayerNorm.bias', 'cls.predictions.bias', 'cls.predictions.transform.LayerNorm.weight', 'cls.predictions.decoder.weight', 'cls.predictions.transform.dense.weight', 'cls.predictions.transform.dense.bias']\n",
      "- This IS expected if you are initializing BertModel from the checkpoint of a model trained on another task or with another architecture (e.g. initializing a BertForSequenceClassification model from a BertForPreTraining model).\n",
      "- This IS NOT expected if you are initializing BertModel from the checkpoint of a model that you expect to be exactly identical (initializing a BertForSequenceClassification model from a BertForSequenceClassification model).\n",
      "/home/mykim/.local/lib/python3.8/site-packages/transformers/tokenization_utils_base.py:2301: FutureWarning: The `pad_to_max_length` argument is deprecated and will be removed in a future version, use `padding=True` or `padding='longest'` to pad to the longest sequence in the batch, or use `padding='max_length'` to pad to a max length. In this case, you can give a specific length with `max_length` (e.g. `max_length=45`) or leave max_length to None to pad to the maximal input size of the model (e.g. 512 for Bert).\n",
      "  warnings.warn(\n"
     ]
    },
    {
     "name": "stdout",
     "output_type": "stream",
     "text": [
      "tensor(1.0516, dtype=torch.float64)\n",
      "\u001b[1m Visualization For Score \u001b[0m\n"
     ]
    },
    {
     "data": {
      "text/html": [
       "<table width: 100%><div style=\"border-top: 1px solid; margin-top: 5px;             padding-top: 5px; display: inline-block\"><b>Legend: </b><span style=\"display: inline-block; width: 10px; height: 10px;                 border: 1px solid; background-color:                 hsl(0, 75%, 60%)\"></span> Negative  <span style=\"display: inline-block; width: 10px; height: 10px;                 border: 1px solid; background-color:                 hsl(0, 75%, 100%)\"></span> Neutral  <span style=\"display: inline-block; width: 10px; height: 10px;                 border: 1px solid; background-color:                 hsl(120, 75%, 50%)\"></span> Positive  </div><tr><th>True Label</th><th>Predicted Label</th><th>Attribution Label</th><th>Attribution Score</th><th>Word Importance</th><tr><td><text style=\"padding-right:2em\"><b>0, 2.45</b></text></td><td><text style=\"padding-right:2em\"><b>0 (1.00)</b></text></td><td><text style=\"padding-right:2em\"><b>I'm wondering if anyone here has thought about suicide methods that come close to killing you but can't.  I'm not ready to die but I want to hurt.  I want people to see physically how much I'm hurting emotionally.I've thought about jumping in front of cars or falling from non-lethal heights.  Those aren't the nicest methods but I'll go with them if I can't find a better one. Donât do these things please. If other people donât believe how hurt you are emotionally, try your best to let it not affect you.</b></text></td><td><text style=\"padding-right:2em\"><b>0.94</b></text></td><td><mark style=\"background-color: hsl(0, 75%, 100%); opacity:1.0;                     line-height:1.75\"><font color=\"black\"> [[post]]                    </font></mark><mark style=\"background-color: hsl(0, 75%, 98%); opacity:1.0;                     line-height:1.75\"><font color=\"black\"> I'm wondering if anyone here has thought about suicide methods that come close to killing you but can't.  I'm not ready to die but I want to hurt.  I want people to see physically how much I'm hurting emotionally. I've thought about jumping in front of cars or falling from non-lethal heights.  Those aren't the nicest methods but I'll go with them if I can't find a better one.                    </font></mark><mark style=\"background-color: hsl(0, 75%, 100%); opacity:1.0;                     line-height:1.75\"><font color=\"black\"> [[comment]]                    </font></mark><mark style=\"background-color: hsl(120, 75%, 51%); opacity:1.0;                     line-height:1.75\"><font color=\"black\"> Donât do these things please. If other people donât believe how hurt you are emotionally, try your best to let it not affect you.                    </font></mark></td><tr></table>"
      ],
      "text/plain": [
       "<IPython.core.display.HTML object>"
      ]
     },
     "metadata": {},
     "output_type": "display_data"
    },
    {
     "name": "stdout",
     "output_type": "stream",
     "text": [
      "tensor([ 0.0000, -0.0539,  0.0000,  0.9985])\n",
      "tensor(0.5601, dtype=torch.float64)\n",
      "\u001b[1m Visualization For Score \u001b[0m\n"
     ]
    },
    {
     "data": {
      "text/html": [
       "<table width: 100%><div style=\"border-top: 1px solid; margin-top: 5px;             padding-top: 5px; display: inline-block\"><b>Legend: </b><span style=\"display: inline-block; width: 10px; height: 10px;                 border: 1px solid; background-color:                 hsl(0, 75%, 60%)\"></span> Negative  <span style=\"display: inline-block; width: 10px; height: 10px;                 border: 1px solid; background-color:                 hsl(0, 75%, 100%)\"></span> Neutral  <span style=\"display: inline-block; width: 10px; height: 10px;                 border: 1px solid; background-color:                 hsl(120, 75%, 50%)\"></span> Positive  </div><tr><th>True Label</th><th>Predicted Label</th><th>Attribution Label</th><th>Attribution Score</th><th>Word Importance</th><tr><td><text style=\"padding-right:2em\"><b>0, 2.0</b></text></td><td><text style=\"padding-right:2em\"><b>0 (1.00)</b></text></td><td><text style=\"padding-right:2em\"><b>My mother stole my rope that I had delivered and then destroyed it or has moved it somewhere. I asked her about it and told her I'd like to be refunded because I paid for it and I have no more money to replace it. She said \"Well you owe me money anyway\". Even though I don't owe her anything.I'm sick of people thinking they're acting \"in my best interests\". What makes you think that you know what my best interests are when you're not me? You'd rather see me in a state of perpetual misery than death even though you don't do anything to try and help me. You sit in silence or you treat my depression like it doesn't exist when I try and reach out for real help.Well fuck you. I'm taking out a credit card and buying a new rope from the store then hanging myself in the woods. Dude. Ur mom did that for a reason. She wants her son / daughter to be alive. She really loves u. Life is worth living. It'll get better</b></text></td><td><text style=\"padding-right:2em\"><b>1.76</b></text></td><td><mark style=\"background-color: hsl(0, 75%, 100%); opacity:1.0;                     line-height:1.75\"><font color=\"black\"> [[post]]                    </font></mark><mark style=\"background-color: hsl(120, 75%, 82%); opacity:1.0;                     line-height:1.75\"><font color=\"black\">  My mother stole my rope that I had delivered and then destroyed it or has moved it somewhere. I asked her about it and told her I'd like to be refunded because I paid for it and I have no more money to replace it. She said \"Well you owe me money anyway\". Even though I don't owe her anything.                    </font></mark><mark style=\"background-color: hsl(120, 75%, 87%); opacity:1.0;                     line-height:1.75\"><font color=\"black\">  I'm sick of people thinking they're acting \"in my best interests\". What makes you think that you know what my best interests are when you're not me?                    </font></mark><mark style=\"background-color: hsl(120, 75%, 87%); opacity:1.0;                     line-height:1.75\"><font color=\"black\">  You'd rather see me in a state of perpetual misery than death even though you don't do anything to try and help me. You sit in silence or you treat my depression like it doesn't exist when I try and reach out for real help. Well fuck you. I'm taking out a credit card and buying a new rope from the store then hanging myself in the woods.                    </font></mark><mark style=\"background-color: hsl(0, 75%, 100%); opacity:1.0;                     line-height:1.75\"><font color=\"black\"> [[comment]]                    </font></mark><mark style=\"background-color: hsl(120, 75%, 58%); opacity:1.0;                     line-height:1.75\"><font color=\"black\"> Dude. Ur mom did that for a reason. She wants her son / daughter to be alive. She really loves u. Life is worth living. It'll get better                    </font></mark></td><tr></table>"
      ],
      "text/plain": [
       "<IPython.core.display.HTML object>"
      ]
     },
     "metadata": {},
     "output_type": "display_data"
    },
    {
     "name": "stdout",
     "output_type": "stream",
     "text": [
      "tensor([0.0000, 0.3781, 0.2667, 0.2775, 0.0000, 0.8420])\n",
      "tensor(0.6946, dtype=torch.float64)\n",
      "\u001b[1m Visualization For Score \u001b[0m\n"
     ]
    },
    {
     "data": {
      "text/html": [
       "<table width: 100%><div style=\"border-top: 1px solid; margin-top: 5px;             padding-top: 5px; display: inline-block\"><b>Legend: </b><span style=\"display: inline-block; width: 10px; height: 10px;                 border: 1px solid; background-color:                 hsl(0, 75%, 60%)\"></span> Negative  <span style=\"display: inline-block; width: 10px; height: 10px;                 border: 1px solid; background-color:                 hsl(0, 75%, 100%)\"></span> Neutral  <span style=\"display: inline-block; width: 10px; height: 10px;                 border: 1px solid; background-color:                 hsl(120, 75%, 50%)\"></span> Positive  </div><tr><th>True Label</th><th>Predicted Label</th><th>Attribution Label</th><th>Attribution Score</th><th>Word Importance</th><tr><td><text style=\"padding-right:2em\"><b>0, 2.5</b></text></td><td><text style=\"padding-right:2em\"><b>0 (1.00)</b></text></td><td><text style=\"padding-right:2em\"><b>Me a girl and another guy hang out at school everyday. The girl was talking to me about how much fun her and the other guy had at the mall. Then she paused and said âWeâll try to invite you next timeâ. Which means âdont be dissapointed if we dont invite you againâ. They know about my problems but just dont care at all.  aw sucks dude idk what advice to give there. is it a new school?</b></text></td><td><text style=\"padding-right:2em\"><b>1.41</b></text></td><td><mark style=\"background-color: hsl(0, 75%, 100%); opacity:1.0;                     line-height:1.75\"><font color=\"black\"> [[post]]                    </font></mark><mark style=\"background-color: hsl(120, 75%, 65%); opacity:1.0;                     line-height:1.75\"><font color=\"black\"> Me a girl and another guy hang out at school everyday. The girl was talking to me about how much fun her and the other guy had at the mall. Then she paused and said âWeâll try to invite you next timeâ. Which means âdont be dissapointed if we dont invite you againâ. They know about my problems but just dont care at all.                    </font></mark><mark style=\"background-color: hsl(0, 75%, 100%); opacity:1.0;                     line-height:1.75\"><font color=\"black\"> [[comment]]                    </font></mark><mark style=\"background-color: hsl(120, 75%, 65%); opacity:1.0;                     line-height:1.75\"><font color=\"black\"> aw sucks dude idk what advice to give there. is it a new school?                    </font></mark></td><tr></table>"
      ],
      "text/plain": [
       "<IPython.core.display.HTML object>"
      ]
     },
     "metadata": {},
     "output_type": "display_data"
    },
    {
     "name": "stdout",
     "output_type": "stream",
     "text": [
      "tensor([0.0000, 0.7042, 0.0000, 0.7100])\n",
      "tensor(1.2847, dtype=torch.float64)\n",
      "\u001b[1m Visualization For Score \u001b[0m\n"
     ]
    },
    {
     "data": {
      "text/html": [
       "<table width: 100%><div style=\"border-top: 1px solid; margin-top: 5px;             padding-top: 5px; display: inline-block\"><b>Legend: </b><span style=\"display: inline-block; width: 10px; height: 10px;                 border: 1px solid; background-color:                 hsl(0, 75%, 60%)\"></span> Negative  <span style=\"display: inline-block; width: 10px; height: 10px;                 border: 1px solid; background-color:                 hsl(0, 75%, 100%)\"></span> Neutral  <span style=\"display: inline-block; width: 10px; height: 10px;                 border: 1px solid; background-color:                 hsl(120, 75%, 50%)\"></span> Positive  </div><tr><th>True Label</th><th>Predicted Label</th><th>Attribution Label</th><th>Attribution Score</th><th>Word Importance</th><tr><td><text style=\"padding-right:2em\"><b>0, 2.55</b></text></td><td><text style=\"padding-right:2em\"><b>0 (1.00)</b></text></td><td><text style=\"padding-right:2em\"><b>Someone please convince me not to kill myself. I know this is short but I really don't know what to say. Today's the day and I need help right now. Please someone talk to me. Try and sleep, go to bed early and I will speak to you tomorrow to see if you are okay.Put some background music or sound on.</b></text></td><td><text style=\"padding-right:2em\"><b>0.59</b></text></td><td><mark style=\"background-color: hsl(0, 75%, 100%); opacity:1.0;                     line-height:1.75\"><font color=\"black\"> [[post]]                    </font></mark><mark style=\"background-color: hsl(120, 75%, 54%); opacity:1.0;                     line-height:1.75\"><font color=\"black\"> Someone please convince me not to kill myself. I know this is short but I really don't know what to say. Today's the day and I need help right now. Please someone talk to me.                    </font></mark><mark style=\"background-color: hsl(0, 75%, 100%); opacity:1.0;                     line-height:1.75\"><font color=\"black\"> [[comment]]                    </font></mark><mark style=\"background-color: hsl(0, 75%, 87%); opacity:1.0;                     line-height:1.75\"><font color=\"black\"> Try and sleep, go to bed early and I will speak to you tomorrow to see if you are okay. Put some background music or sound on.                    </font></mark></td><tr></table>"
      ],
      "text/plain": [
       "<IPython.core.display.HTML object>"
      ]
     },
     "metadata": {},
     "output_type": "display_data"
    },
    {
     "name": "stdout",
     "output_type": "stream",
     "text": [
      "tensor([ 0.0000,  0.9385,  0.0000, -0.3454])\n",
      "tensor(1.3925, dtype=torch.float64)\n",
      "\u001b[1m Visualization For Score \u001b[0m\n"
     ]
    },
    {
     "data": {
      "text/html": [
       "<table width: 100%><div style=\"border-top: 1px solid; margin-top: 5px;             padding-top: 5px; display: inline-block\"><b>Legend: </b><span style=\"display: inline-block; width: 10px; height: 10px;                 border: 1px solid; background-color:                 hsl(0, 75%, 60%)\"></span> Negative  <span style=\"display: inline-block; width: 10px; height: 10px;                 border: 1px solid; background-color:                 hsl(0, 75%, 100%)\"></span> Neutral  <span style=\"display: inline-block; width: 10px; height: 10px;                 border: 1px solid; background-color:                 hsl(120, 75%, 50%)\"></span> Positive  </div><tr><th>True Label</th><th>Predicted Label</th><th>Attribution Label</th><th>Attribution Score</th><th>Word Importance</th><tr><td><text style=\"padding-right:2em\"><b>0, 2.65</b></text></td><td><text style=\"padding-right:2em\"><b>0 (1.00)</b></text></td><td><text style=\"padding-right:2em\"><b>I don't care how my family and the people in my life emotions will be once I'm gone. It's obvious I don't belong here, I'm a huge burden, I feel so misplaced, I honestly shouldn't be alive. I really hate myself, I have nothing going for me, I was never good at anything. I'm not smart, I'm a huge loser. I can tell my parents aren't proud of me. Holy fuck I want to die so bad. I don't know how much longer I can take this but Suicide doesn't seem so bad afterall.  This is the depression in you talking. What you describe are common thoughts and feelings of depressive people. It would help you if you just see this as this is \"my depression talking\". Try to get some help. Talk and share those feelings with someone you trust. When you start sharing those thoughts with others, they start losing their grip on you. Stay strong!</b></text></td><td><text style=\"padding-right:2em\"><b>0.39</b></text></td><td><mark style=\"background-color: hsl(0, 75%, 100%); opacity:1.0;                     line-height:1.75\"><font color=\"black\"> [[post]]                    </font></mark><mark style=\"background-color: hsl(120, 75%, 84%); opacity:1.0;                     line-height:1.75\"><font color=\"black\">  I don't care how my family and the people in my life emotions will be once I'm gone. It's obvious I don't belong here, I'm a huge burden, I feel so misplaced, I honestly shouldn't be alive. I really hate myself, I have nothing going for me, I was never good at anything. I'm not smart, I'm a huge loser. I can tell my parents aren't proud of me.                    </font></mark><mark style=\"background-color: hsl(120, 75%, 66%); opacity:1.0;                     line-height:1.75\"><font color=\"black\">  Holy fuck I want to die so bad. I don't know how much longer I can take this but Suicide doesn't seem so bad afterall.                    </font></mark><mark style=\"background-color: hsl(0, 75%, 100%); opacity:1.0;                     line-height:1.75\"><font color=\"black\"> [[comment]]                    </font></mark><mark style=\"background-color: hsl(0, 75%, 75%); opacity:1.0;                     line-height:1.75\"><font color=\"black\"> This is the depression in you talking. What you describe are common thoughts and feelings of depressive people. It would help you if you just see this as this is \"my depression talking\". Try to get some help. Talk and share those feelings with someone you trust. When you start sharing those thoughts with others, they start losing their grip on you. Stay strong!                    </font></mark></td><tr></table>"
      ],
      "text/plain": [
       "<IPython.core.display.HTML object>"
      ]
     },
     "metadata": {},
     "output_type": "display_data"
    },
    {
     "name": "stdout",
     "output_type": "stream",
     "text": [
      "tensor([ 0.0000,  0.3377,  0.6898,  0.0000, -0.6404])\n",
      "tensor(1.7195, dtype=torch.float64)\n",
      "\u001b[1m Visualization For Score \u001b[0m\n"
     ]
    },
    {
     "data": {
      "text/html": [
       "<table width: 100%><div style=\"border-top: 1px solid; margin-top: 5px;             padding-top: 5px; display: inline-block\"><b>Legend: </b><span style=\"display: inline-block; width: 10px; height: 10px;                 border: 1px solid; background-color:                 hsl(0, 75%, 60%)\"></span> Negative  <span style=\"display: inline-block; width: 10px; height: 10px;                 border: 1px solid; background-color:                 hsl(0, 75%, 100%)\"></span> Neutral  <span style=\"display: inline-block; width: 10px; height: 10px;                 border: 1px solid; background-color:                 hsl(120, 75%, 50%)\"></span> Positive  </div><tr><th>True Label</th><th>Predicted Label</th><th>Attribution Label</th><th>Attribution Score</th><th>Word Importance</th><tr><td><text style=\"padding-right:2em\"><b>0, 2.75</b></text></td><td><text style=\"padding-right:2em\"><b>0 (1.00)</b></text></td><td><text style=\"padding-right:2em\"><b>Youâre all alone. No one has your back. Friends, family, theyâre involved in their own lives to truly care. Be a loner, take care of yourself and be selfish. Fuck everyone and everything that tries to stand in your way.  Except we're social animals. Trying to rewrite that basic need of human intimacy, closeness and friendship is not realistic. Sure you can be all alone and stand by yourself, but what happens when the loneliness starts causing the depression? </b></text></td><td><text style=\"padding-right:2em\"><b>0.33</b></text></td><td><mark style=\"background-color: hsl(0, 75%, 100%); opacity:1.0;                     line-height:1.75\"><font color=\"black\"> [[post]]                    </font></mark><mark style=\"background-color: hsl(120, 75%, 63%); opacity:1.0;                     line-height:1.75\"><font color=\"black\">  Youâre all alone. No one has your back. Friends, family, theyâre involved in their own lives to truly care.                    </font></mark><mark style=\"background-color: hsl(120, 75%, 89%); opacity:1.0;                     line-height:1.75\"><font color=\"black\">  Be a loner, take care of yourself and be selfish. Fuck everyone and everything that tries to stand in your way.                    </font></mark><mark style=\"background-color: hsl(0, 75%, 100%); opacity:1.0;                     line-height:1.75\"><font color=\"black\"> [[comment]]                    </font></mark><mark style=\"background-color: hsl(0, 75%, 75%); opacity:1.0;                     line-height:1.75\"><font color=\"black\"> Except we're social animals. Trying to rewrite that basic need of human intimacy, closeness and friendship is not realistic. Sure you can be all alone and stand by yourself, but what happens when the loneliness starts causing the depression?                    </font></mark></td><tr></table>"
      ],
      "text/plain": [
       "<IPython.core.display.HTML object>"
      ]
     },
     "metadata": {},
     "output_type": "display_data"
    },
    {
     "name": "stdout",
     "output_type": "stream",
     "text": [
      "tensor([ 0.0000,  0.7419,  0.2244,  0.0000, -0.6319])\n",
      "tensor(1.1025, dtype=torch.float64)\n",
      "\u001b[1m Visualization For Score \u001b[0m\n"
     ]
    },
    {
     "data": {
      "text/html": [
       "<table width: 100%><div style=\"border-top: 1px solid; margin-top: 5px;             padding-top: 5px; display: inline-block\"><b>Legend: </b><span style=\"display: inline-block; width: 10px; height: 10px;                 border: 1px solid; background-color:                 hsl(0, 75%, 60%)\"></span> Negative  <span style=\"display: inline-block; width: 10px; height: 10px;                 border: 1px solid; background-color:                 hsl(0, 75%, 100%)\"></span> Neutral  <span style=\"display: inline-block; width: 10px; height: 10px;                 border: 1px solid; background-color:                 hsl(120, 75%, 50%)\"></span> Positive  </div><tr><th>True Label</th><th>Predicted Label</th><th>Attribution Label</th><th>Attribution Score</th><th>Word Importance</th><tr><td><text style=\"padding-right:2em\"><b>0, 2.7</b></text></td><td><text style=\"padding-right:2em\"><b>0 (1.00)</b></text></td><td><text style=\"padding-right:2em\"><b>iâm sitting in the car with the guy who raped me. itâs been 3 days and i just want to jump out of the car into traffic. luckily i wonât see him ever again after today. but iâm so fucking scared just sitting here alone with him. i havenât bothered to cry so i feel like when i get home, iâm just going to breakdown. i feel fucking awful  if you let someone get away with rape your putting another person at risk of this because the rapist thinks its okay go to the police please</b></text></td><td><text style=\"padding-right:2em\"><b>0.90</b></text></td><td><mark style=\"background-color: hsl(0, 75%, 100%); opacity:1.0;                     line-height:1.75\"><font color=\"black\"> [[post]]                    </font></mark><mark style=\"background-color: hsl(120, 75%, 69%); opacity:1.0;                     line-height:1.75\"><font color=\"black\">  iâm sitting in the car with the guy who raped me. itâs been 3 days and i just want to jump out of the car into traffic.                    </font></mark><mark style=\"background-color: hsl(0, 75%, 88%); opacity:1.0;                     line-height:1.75\"><font color=\"black\">  luckily i wonât see him ever again after today. but iâm so fucking scared just sitting here alone with him.                    </font></mark><mark style=\"background-color: hsl(0, 75%, 95%); opacity:1.0;                     line-height:1.75\"><font color=\"black\">  i havenât bothered to cry so i feel like when i get home, iâm just going to breakdown. i feel fucking awful                    </font></mark><mark style=\"background-color: hsl(0, 75%, 100%); opacity:1.0;                     line-height:1.75\"><font color=\"black\"> [[comment]]                    </font></mark><mark style=\"background-color: hsl(120, 75%, 65%); opacity:1.0;                     line-height:1.75\"><font color=\"black\"> if you let someone get away with rape your putting another person at risk of this because the rapist thinks its okay go to the police please                    </font></mark></td><tr></table>"
      ],
      "text/plain": [
       "<IPython.core.display.HTML object>"
      ]
     },
     "metadata": {},
     "output_type": "display_data"
    },
    {
     "name": "stdout",
     "output_type": "stream",
     "text": [
      "tensor([ 0.0000,  0.6246, -0.3062, -0.1279,  0.0000,  0.7069])\n",
      "tensor(1.0693, dtype=torch.float64)\n",
      "\u001b[1m Visualization For Score \u001b[0m\n"
     ]
    },
    {
     "data": {
      "text/html": [
       "<table width: 100%><div style=\"border-top: 1px solid; margin-top: 5px;             padding-top: 5px; display: inline-block\"><b>Legend: </b><span style=\"display: inline-block; width: 10px; height: 10px;                 border: 1px solid; background-color:                 hsl(0, 75%, 60%)\"></span> Negative  <span style=\"display: inline-block; width: 10px; height: 10px;                 border: 1px solid; background-color:                 hsl(0, 75%, 100%)\"></span> Neutral  <span style=\"display: inline-block; width: 10px; height: 10px;                 border: 1px solid; background-color:                 hsl(120, 75%, 50%)\"></span> Positive  </div><tr><th>True Label</th><th>Predicted Label</th><th>Attribution Label</th><th>Attribution Score</th><th>Word Importance</th><tr><td><text style=\"padding-right:2em\"><b>0, 3.3</b></text></td><td><text style=\"padding-right:2em\"><b>0 (1.00)</b></text></td><td><text style=\"padding-right:2em\"><b>I donât have any talents, I canât hold a conversation, I donât have any interesting qualities, im below average with looks and average in basically every other category, none of my friends ever invite me to anything because Iâm boring and so I never do anything which makes me even less interesting because when people ask me what I did over the weekend all I ever say is ânothingâ Iâm never anyoneâs first choice and I donât know how to improve myself. I honestly just couldnât be any more boring  dude, dont worry about qualities like looks etc. they are not significant at all.  lots of people are probably just like you, but instead of dwelling on negativity take your mind off your insecurities.try and enjoy yourself and also get some hobbies, anything</b></text></td><td><text style=\"padding-right:2em\"><b>0.89</b></text></td><td><mark style=\"background-color: hsl(0, 75%, 100%); opacity:1.0;                     line-height:1.75\"><font color=\"black\"> [[post]]                    </font></mark><mark style=\"background-color: hsl(120, 75%, 51%); opacity:1.0;                     line-height:1.75\"><font color=\"black\"> I donât have any talents, I canât hold a conversation, I donât have any interesting qualities, im below average with looks and average in basically every other category, none of my friends ever invite me to anything because Iâm boring and so I never do anything which makes me even less interesting because when people ask me what I did over the weekend all I ever say is ânothingâ Iâm never anyoneâs first choice and I donât know how to improve myself. I honestly just couldnât be any more boring                    </font></mark><mark style=\"background-color: hsl(0, 75%, 100%); opacity:1.0;                     line-height:1.75\"><font color=\"black\"> [[comment]]                    </font></mark><mark style=\"background-color: hsl(0, 75%, 96%); opacity:1.0;                     line-height:1.75\"><font color=\"black\"> dude, dont worry about qualities like looks etc. they are not significant at all.  lots of people are probably just like you, but instead of dwelling on negativity take your mind off your insecurities.try and enjoy yourself and also get some hobbies, anything                    </font></mark></td><tr></table>"
      ],
      "text/plain": [
       "<IPython.core.display.HTML object>"
      ]
     },
     "metadata": {},
     "output_type": "display_data"
    },
    {
     "name": "stdout",
     "output_type": "stream",
     "text": [
      "tensor([ 0.0000,  0.9943,  0.0000, -0.1066])\n",
      "tensor(1.2133, dtype=torch.float64)\n",
      "\u001b[1m Visualization For Score \u001b[0m\n"
     ]
    },
    {
     "data": {
      "text/html": [
       "<table width: 100%><div style=\"border-top: 1px solid; margin-top: 5px;             padding-top: 5px; display: inline-block\"><b>Legend: </b><span style=\"display: inline-block; width: 10px; height: 10px;                 border: 1px solid; background-color:                 hsl(0, 75%, 60%)\"></span> Negative  <span style=\"display: inline-block; width: 10px; height: 10px;                 border: 1px solid; background-color:                 hsl(0, 75%, 100%)\"></span> Neutral  <span style=\"display: inline-block; width: 10px; height: 10px;                 border: 1px solid; background-color:                 hsl(120, 75%, 50%)\"></span> Positive  </div><tr><th>True Label</th><th>Predicted Label</th><th>Attribution Label</th><th>Attribution Score</th><th>Word Importance</th><tr><td><text style=\"padding-right:2em\"><b>0, 3.15</b></text></td><td><text style=\"padding-right:2em\"><b>0 (1.00)</b></text></td><td><text style=\"padding-right:2em\"><b>I'd love to think this is possible. It's an alluring thought. Just sit down with a pen and paper and create a map of what you need to do, how you need to do it, and when. This approach rarely seems to work, though, and it seems somehow cruel that one can see clearly what needs to happen to get where they want to be, yet a seeming deficit of will (or some other psychological bizarrity) makes it effectively impossible. So, have you ever been able to approach improvement in this way? Has it ever worked for you? If not, yeah, that sucks, but if so, what do you attribute the success to? As someone who already has a good life, I can tell you that it doesn't fix anything.You just end up having nothing to attribute your deep unhappiness to.</b></text></td><td><text style=\"padding-right:2em\"><b>0.70</b></text></td><td><mark style=\"background-color: hsl(0, 75%, 100%); opacity:1.0;                     line-height:1.75\"><font color=\"black\"> [[post]]                    </font></mark><mark style=\"background-color: hsl(120, 75%, 58%); opacity:1.0;                     line-height:1.75\"><font color=\"black\">  I'd love to think this is possible. It's an alluring thought.                    </font></mark><mark style=\"background-color: hsl(0, 75%, 94%); opacity:1.0;                     line-height:1.75\"><font color=\"black\">  Just sit down with a pen and paper and create a map of what you need to do, how you need to do it, and when. This approach rarely seems to work, though, and it seems somehow cruel that one can see clearly what needs to happen to get where they want to be, yet a seeming deficit of will (or some other psychological bizarrity) makes it effectively impossible. So, have you ever been able to approach improvement in this way?                    </font></mark><mark style=\"background-color: hsl(0, 75%, 87%); opacity:1.0;                     line-height:1.75\"><font color=\"black\">  Has it ever worked for you? If not, yeah, that sucks, but if so, what do you attribute the success to?                    </font></mark><mark style=\"background-color: hsl(0, 75%, 100%); opacity:1.0;                     line-height:1.75\"><font color=\"black\"> [[comment]]                    </font></mark><mark style=\"background-color: hsl(120, 75%, 83%); opacity:1.0;                     line-height:1.75\"><font color=\"black\"> As someone who already has a good life, I can tell you that it doesn't fix anything. You just end up having nothing to attribute your deep unhappiness to.                    </font></mark></td><tr></table>"
      ],
      "text/plain": [
       "<IPython.core.display.HTML object>"
      ]
     },
     "metadata": {},
     "output_type": "display_data"
    },
    {
     "name": "stdout",
     "output_type": "stream",
     "text": [
      "tensor([ 0.0000,  0.8515, -0.1666, -0.3460,  0.0000,  0.3571])\n"
     ]
    }
   ],
   "source": [
    "main(true_label=0, pred_label=0, target='pred')"
   ]
  },
  {
   "cell_type": "markdown",
   "id": "a563a8a9",
   "metadata": {},
   "source": [
    "# Label: 2, pred:2"
   ]
  },
  {
   "cell_type": "code",
   "execution_count": 2,
   "id": "60e075e8",
   "metadata": {
    "scrolled": false
   },
   "outputs": [
    {
     "name": "stderr",
     "output_type": "stream",
     "text": [
      "Some weights of the model checkpoint at bert-base-uncased were not used when initializing BertModel: ['cls.seq_relationship.weight', 'cls.seq_relationship.bias', 'cls.predictions.transform.LayerNorm.bias', 'cls.predictions.bias', 'cls.predictions.transform.LayerNorm.weight', 'cls.predictions.decoder.weight', 'cls.predictions.transform.dense.weight', 'cls.predictions.transform.dense.bias']\n",
      "- This IS expected if you are initializing BertModel from the checkpoint of a model trained on another task or with another architecture (e.g. initializing a BertForSequenceClassification model from a BertForPreTraining model).\n",
      "- This IS NOT expected if you are initializing BertModel from the checkpoint of a model that you expect to be exactly identical (initializing a BertForSequenceClassification model from a BertForSequenceClassification model).\n",
      "/home/mykim/.local/lib/python3.8/site-packages/transformers/tokenization_utils_base.py:2301: FutureWarning: The `pad_to_max_length` argument is deprecated and will be removed in a future version, use `padding=True` or `padding='longest'` to pad to the longest sequence in the batch, or use `padding='max_length'` to pad to a max length. In this case, you can give a specific length with `max_length` (e.g. `max_length=45`) or leave max_length to None to pad to the maximal input size of the model (e.g. 512 for Bert).\n",
      "  warnings.warn(\n"
     ]
    },
    {
     "name": "stdout",
     "output_type": "stream",
     "text": [
      "tensor(3.6524, dtype=torch.float64)\n",
      "\u001b[1m Visualization For Score \u001b[0m\n"
     ]
    },
    {
     "data": {
      "text/html": [
       "<table width: 100%><div style=\"border-top: 1px solid; margin-top: 5px;             padding-top: 5px; display: inline-block\"><b>Legend: </b><span style=\"display: inline-block; width: 10px; height: 10px;                 border: 1px solid; background-color:                 hsl(0, 75%, 60%)\"></span> Negative  <span style=\"display: inline-block; width: 10px; height: 10px;                 border: 1px solid; background-color:                 hsl(0, 75%, 100%)\"></span> Neutral  <span style=\"display: inline-block; width: 10px; height: 10px;                 border: 1px solid; background-color:                 hsl(120, 75%, 50%)\"></span> Positive  </div><tr><th>True Label</th><th>Predicted Label</th><th>Attribution Label</th><th>Attribution Score</th><th>Word Importance</th><tr><td><text style=\"padding-right:2em\"><b>2, 5.7</b></text></td><td><text style=\"padding-right:2em\"><b>2 (1.00)</b></text></td><td><text style=\"padding-right:2em\"><b>I'm sorry if this isn't the right place to ask, I will delete this post if it isn't. Let me explain the situation. Please bear with me. My sister has had depression since she was a kid. It wasn't until last year that I had found out about it, and it has steadily been getting worse for her. She says that she is ready to get help, but we cannot go about this publicly. We especially need to keep this away from our family.The reason for this is due to our family. My Dad believes that depression is fake. I told my mom about my sister's depression, and she blamed me for my sister's depression. My aunts aren't really sure how to respond to the situation, so they ignore it. Also I forgot to mention, most of my family believes that depression is fake.If there is anything that I can do for my sister, please let me know. Any online community, stuff that we should be doing in our life, honestly anything is fine! Thank you so much for reading this far. if you don't mind me asking how old are you both? if you're in school you should talk to a consuler. look for things you enjoy doing bc new opportunities may appear. keep an eye out for anything interesting around your area. also hangout with friends company can help </b></text></td><td><text style=\"padding-right:2em\"><b>0.03</b></text></td><td><mark style=\"background-color: hsl(0, 75%, 100%); opacity:1.0;                     line-height:1.75\"><font color=\"black\"> [[post]]                    </font></mark><mark style=\"background-color: hsl(0, 75%, 78%); opacity:1.0;                     line-height:1.75\"><font color=\"black\">  I'm sorry if this isn't the right place to ask, I will delete this post if it isn't. Let me explain the situation. Please bear with me.                    </font></mark><mark style=\"background-color: hsl(0, 75%, 84%); opacity:1.0;                     line-height:1.75\"><font color=\"black\">  My sister has had depression since she was a kid. It wasn't until last year that I had found out about it, and it has steadily been getting worse for her. She says that she is ready to get help, but we cannot go about this publicly.                    </font></mark><mark style=\"background-color: hsl(120, 75%, 90%); opacity:1.0;                     line-height:1.75\"><font color=\"black\">  We especially need to keep this away from our family. The reason for this is due to our family.                    </font></mark><mark style=\"background-color: hsl(120, 75%, 88%); opacity:1.0;                     line-height:1.75\"><font color=\"black\">  My Dad believes that depression is fake. I told my mom about my sister's depression, and she blamed me for my sister's depression. My aunts aren't really sure how to respond to the situation, so they ignore it. Also I forgot to mention, most of my family believes that depression is fake. If there is anything that I can do for my sister, please let me know.                    </font></mark><mark style=\"background-color: hsl(120, 75%, 69%); opacity:1.0;                     line-height:1.75\"><font color=\"black\">  Any online community, stuff that we should be doing in our life, honestly anything is fine! Thank you so much for reading this far.                    </font></mark><mark style=\"background-color: hsl(0, 75%, 100%); opacity:1.0;                     line-height:1.75\"><font color=\"black\"> [[comment]]                    </font></mark><mark style=\"background-color: hsl(0, 75%, 97%); opacity:1.0;                     line-height:1.75\"><font color=\"black\"> if you don't mind me asking how old are you both? if you're in school you should talk to a consuler. look for things you enjoy doing bc new opportunities may appear. keep an eye out for anything interesting around your area. also hangout with friends company can help                    </font></mark></td><tr></table>"
      ],
      "text/plain": [
       "<IPython.core.display.HTML object>"
      ]
     },
     "metadata": {},
     "output_type": "display_data"
    },
    {
     "name": "stdout",
     "output_type": "stream",
     "text": [
      "tensor([ 0.0000, -0.5504, -0.4228,  0.2146,  0.2467,  0.6347,  0.0000, -0.0929])\n",
      "tensor(0.7474, dtype=torch.float64)\n",
      "\u001b[1m Visualization For Score \u001b[0m\n"
     ]
    },
    {
     "data": {
      "text/html": [
       "<table width: 100%><div style=\"border-top: 1px solid; margin-top: 5px;             padding-top: 5px; display: inline-block\"><b>Legend: </b><span style=\"display: inline-block; width: 10px; height: 10px;                 border: 1px solid; background-color:                 hsl(0, 75%, 60%)\"></span> Negative  <span style=\"display: inline-block; width: 10px; height: 10px;                 border: 1px solid; background-color:                 hsl(0, 75%, 100%)\"></span> Neutral  <span style=\"display: inline-block; width: 10px; height: 10px;                 border: 1px solid; background-color:                 hsl(120, 75%, 50%)\"></span> Positive  </div><tr><th>True Label</th><th>Predicted Label</th><th>Attribution Label</th><th>Attribution Score</th><th>Word Importance</th><tr><td><text style=\"padding-right:2em\"><b>2, 6.15</b></text></td><td><text style=\"padding-right:2em\"><b>2 (1.00)</b></text></td><td><text style=\"padding-right:2em\"><b>Soooo, i will keep it short, last 2 years have been hell for me, only thing keeping me afloat was my 'secret' youtube channel that only my friend knew about, until my other \"friend\" found out and deleted it from my computer, that was pretty bad for me, but luckily i found a gf and she kept me happy? Or well, at least kept me \"on line\", anyways now, 6 months ago she broke up with me, as u can imagine, first heart break, it hurt as hell, 3 days purely layin on bed, doing nothing, my friend showed up and told my parents about my channel, so later that day, my parents came to my room and asked why i didn't start again, the thing was it was waaay too frustrating to edit the videos with my old pc, so they offered to buy me 1 if i paid for it in parts, and now as i hit 1k subs, i am actually feeling getting better, socially, i do not hate my voice any more (my last channel i didn't use a mic) and in general i feel like i can talk to people now, so, from bottom of my heart, thank you mom and dad! This post was so cute haha, your friend and parents sound like cool people.</b></text></td><td><text style=\"padding-right:2em\"><b>1.37</b></text></td><td><mark style=\"background-color: hsl(0, 75%, 100%); opacity:1.0;                     line-height:1.75\"><font color=\"black\"> [[post]]                    </font></mark><mark style=\"background-color: hsl(120, 75%, 57%); opacity:1.0;                     line-height:1.75\"><font color=\"black\"> Soooo, i will keep it short, last 2 years have been hell for me, only thing keeping me afloat was my 'secret' youtube channel that only my friend knew about, until my other \"friend\" found out and deleted it from my computer, that was pretty bad for me, but luckily i found a gf and she kept me happy? Or well, at least kept me \"on line\", anyways now, 6 months ago she broke up with me, as u can imagine, first heart break, it hurt as hell, 3 days purely layin on bed, doing nothing, my friend showed up and told my parents about my channel, so later that day, my parents came to my room and asked why i didn't start again, the thing was it was waaay too frustrating to edit the videos with my old pc, so they offered to buy me 1 if i paid for it in parts, and now as i hit 1k subs, i am actually feeling getting better, socially, i do not hate my voice any more (my last channel i didn't use a mic) and in general i feel like i can talk to people now, so, from bottom of my heart, thank you mom and dad!                    </font></mark><mark style=\"background-color: hsl(0, 75%, 100%); opacity:1.0;                     line-height:1.75\"><font color=\"black\"> [[comment]]                    </font></mark><mark style=\"background-color: hsl(120, 75%, 75%); opacity:1.0;                     line-height:1.75\"><font color=\"black\"> This post was so cute haha, your friend and parents sound like cool people.                    </font></mark></td><tr></table>"
      ],
      "text/plain": [
       "<IPython.core.display.HTML object>"
      ]
     },
     "metadata": {},
     "output_type": "display_data"
    },
    {
     "name": "stdout",
     "output_type": "stream",
     "text": [
      "tensor([0.0000, 0.8610, 0.0000, 0.5086])\n",
      "tensor(0.7397, dtype=torch.float64)\n",
      "\u001b[1m Visualization For Score \u001b[0m\n"
     ]
    },
    {
     "data": {
      "text/html": [
       "<table width: 100%><div style=\"border-top: 1px solid; margin-top: 5px;             padding-top: 5px; display: inline-block\"><b>Legend: </b><span style=\"display: inline-block; width: 10px; height: 10px;                 border: 1px solid; background-color:                 hsl(0, 75%, 60%)\"></span> Negative  <span style=\"display: inline-block; width: 10px; height: 10px;                 border: 1px solid; background-color:                 hsl(0, 75%, 100%)\"></span> Neutral  <span style=\"display: inline-block; width: 10px; height: 10px;                 border: 1px solid; background-color:                 hsl(120, 75%, 50%)\"></span> Positive  </div><tr><th>True Label</th><th>Predicted Label</th><th>Attribution Label</th><th>Attribution Score</th><th>Word Importance</th><tr><td><text style=\"padding-right:2em\"><b>2, 5.85</b></text></td><td><text style=\"padding-right:2em\"><b>2 (1.00)</b></text></td><td><text style=\"padding-right:2em\"><b>I just managed to eat for over one week in a way that seems pretty healthy, and not like 100kcal a day max...I don't know how but I'm proud of it.Hope I won't relapse and gain some weight Im proud of you! For the first time in a couple days i managed to eat lunch, im hoping i can wake up early enough to eat breakfast soon. Good work though im proud and hope you keep up the good work!</b></text></td><td><text style=\"padding-right:2em\"><b>1.35</b></text></td><td><mark style=\"background-color: hsl(0, 75%, 100%); opacity:1.0;                     line-height:1.75\"><font color=\"black\"> [[post]]                    </font></mark><mark style=\"background-color: hsl(120, 75%, 77%); opacity:1.0;                     line-height:1.75\"><font color=\"black\"> I just managed to eat for over one week in a way that seems pretty healthy, and not like 100kcal a day max...I don't know how but I'm proud of it. Hope I won't relapse and gain some weight                    </font></mark><mark style=\"background-color: hsl(0, 75%, 100%); opacity:1.0;                     line-height:1.75\"><font color=\"black\"> [[comment]]                    </font></mark><mark style=\"background-color: hsl(120, 75%, 56%); opacity:1.0;                     line-height:1.75\"><font color=\"black\"> Im proud of you! For the first time in a couple days i managed to eat lunch, im hoping i can wake up early enough to eat breakfast soon. Good work though im proud and hope you keep up the good work!                    </font></mark></td><tr></table>"
      ],
      "text/plain": [
       "<IPython.core.display.HTML object>"
      ]
     },
     "metadata": {},
     "output_type": "display_data"
    },
    {
     "name": "stdout",
     "output_type": "stream",
     "text": [
      "tensor([0.0000, 0.4675, 0.0000, 0.8840])\n",
      "tensor(0.7533, dtype=torch.float64)\n",
      "\u001b[1m Visualization For Score \u001b[0m\n"
     ]
    },
    {
     "data": {
      "text/html": [
       "<table width: 100%><div style=\"border-top: 1px solid; margin-top: 5px;             padding-top: 5px; display: inline-block\"><b>Legend: </b><span style=\"display: inline-block; width: 10px; height: 10px;                 border: 1px solid; background-color:                 hsl(0, 75%, 60%)\"></span> Negative  <span style=\"display: inline-block; width: 10px; height: 10px;                 border: 1px solid; background-color:                 hsl(0, 75%, 100%)\"></span> Neutral  <span style=\"display: inline-block; width: 10px; height: 10px;                 border: 1px solid; background-color:                 hsl(120, 75%, 50%)\"></span> Positive  </div><tr><th>True Label</th><th>Predicted Label</th><th>Attribution Label</th><th>Attribution Score</th><th>Word Importance</th><tr><td><text style=\"padding-right:2em\"><b>2, 6.1</b></text></td><td><text style=\"padding-right:2em\"><b>2 (1.00)</b></text></td><td><text style=\"padding-right:2em\"><b>I have been doing some experiments with being a bit extra open to my surroundings the last few years..But by getting to know new people lately I find myself misjudging my \"expertise\". Thank u too, for well,.... listening. Even tho its a small thing,for many of us ( specifically me) means a lot</b></text></td><td><text style=\"padding-right:2em\"><b>1.33</b></text></td><td><mark style=\"background-color: hsl(0, 75%, 100%); opacity:1.0;                     line-height:1.75\"><font color=\"black\"> [[post]]                    </font></mark><mark style=\"background-color: hsl(120, 75%, 55%); opacity:1.0;                     line-height:1.75\"><font color=\"black\"> I have been doing some experiments with being a bit extra open to my surroundings the last few years..But by getting to know new people lately I find myself misjudging my \"expertise\".                    </font></mark><mark style=\"background-color: hsl(0, 75%, 100%); opacity:1.0;                     line-height:1.75\"><font color=\"black\"> [[comment]]                    </font></mark><mark style=\"background-color: hsl(120, 75%, 79%); opacity:1.0;                     line-height:1.75\"><font color=\"black\"> Thank u too, for well,.... listening. Even tho its a small thing,for many of us ( specifically me) means a lot                    </font></mark></td><tr></table>"
      ],
      "text/plain": [
       "<IPython.core.display.HTML object>"
      ]
     },
     "metadata": {},
     "output_type": "display_data"
    },
    {
     "name": "stdout",
     "output_type": "stream",
     "text": [
      "tensor([0.0000, 0.9032, 0.0000, 0.4293])\n",
      "tensor(0.6986, dtype=torch.float64)\n",
      "\u001b[1m Visualization For Score \u001b[0m\n"
     ]
    },
    {
     "data": {
      "text/html": [
       "<table width: 100%><div style=\"border-top: 1px solid; margin-top: 5px;             padding-top: 5px; display: inline-block\"><b>Legend: </b><span style=\"display: inline-block; width: 10px; height: 10px;                 border: 1px solid; background-color:                 hsl(0, 75%, 60%)\"></span> Negative  <span style=\"display: inline-block; width: 10px; height: 10px;                 border: 1px solid; background-color:                 hsl(0, 75%, 100%)\"></span> Neutral  <span style=\"display: inline-block; width: 10px; height: 10px;                 border: 1px solid; background-color:                 hsl(120, 75%, 50%)\"></span> Positive  </div><tr><th>True Label</th><th>Predicted Label</th><th>Attribution Label</th><th>Attribution Score</th><th>Word Importance</th><tr><td><text style=\"padding-right:2em\"><b>2, 5.35</b></text></td><td><text style=\"padding-right:2em\"><b>2 (1.00)</b></text></td><td><text style=\"padding-right:2em\"><b>This is an interesting thing I've noticed about myself. Everyone - and I do mean *everyone* - that I know likes to either take pictures of themselves or have pictures of them be taken. Most people's social media profiles are filled with their own face - which is not a bad thing in any way, in fact it's wonderful they're confident in who they are. But even the quieter, sadder looking people I've met still like to show off images of themselves.Which, I guess, goes to show, that you have to be in a pretty bad place and have a significantly low image of yourself to never once consider wanting to display your own face to the rest of the world. And that's where I'm at right now. :/ It was even more amazing and beautiful than I imagined, you definitely should go if you can. A lot of people speak or at least understand English, so that's not a problem either. </b></text></td><td><text style=\"padding-right:2em\"><b>1.39</b></text></td><td><mark style=\"background-color: hsl(0, 75%, 100%); opacity:1.0;                     line-height:1.75\"><font color=\"black\"> [[post]]                    </font></mark><mark style=\"background-color: hsl(120, 75%, 59%); opacity:1.0;                     line-height:1.75\"><font color=\"black\"> This is an interesting thing I've noticed about myself. Everyone - and I do mean *everyone* - that I know likes to either take pictures of themselves or have pictures of them be taken. Most people's social media profiles are filled with their own face - which is not a bad thing in any way, in fact it's wonderful they're confident in who they are. But even the quieter, sadder looking people I've met still like to show off images of themselves. Which, I guess, goes to show, that you have to be in a pretty bad place and have a significantly low image of yourself to never once consider wanting to display your own face to the rest of the world. And that's where I'm at right now. :/                    </font></mark><mark style=\"background-color: hsl(0, 75%, 100%); opacity:1.0;                     line-height:1.75\"><font color=\"black\"> [[comment]]                    </font></mark><mark style=\"background-color: hsl(120, 75%, 72%); opacity:1.0;                     line-height:1.75\"><font color=\"black\"> It was even more amazing and beautiful than I imagined, you definitely should go if you can. A lot of people speak or at least understand English, so that's not a problem either.                    </font></mark></td><tr></table>"
      ],
      "text/plain": [
       "<IPython.core.display.HTML object>"
      ]
     },
     "metadata": {},
     "output_type": "display_data"
    },
    {
     "name": "stdout",
     "output_type": "stream",
     "text": [
      "tensor([0.0000, 0.8260, 0.0000, 0.5637])\n",
      "tensor(0.6096, dtype=torch.float64)\n",
      "\u001b[1m Visualization For Score \u001b[0m\n"
     ]
    },
    {
     "data": {
      "text/html": [
       "<table width: 100%><div style=\"border-top: 1px solid; margin-top: 5px;             padding-top: 5px; display: inline-block\"><b>Legend: </b><span style=\"display: inline-block; width: 10px; height: 10px;                 border: 1px solid; background-color:                 hsl(0, 75%, 60%)\"></span> Negative  <span style=\"display: inline-block; width: 10px; height: 10px;                 border: 1px solid; background-color:                 hsl(0, 75%, 100%)\"></span> Neutral  <span style=\"display: inline-block; width: 10px; height: 10px;                 border: 1px solid; background-color:                 hsl(120, 75%, 50%)\"></span> Positive  </div><tr><th>True Label</th><th>Predicted Label</th><th>Attribution Label</th><th>Attribution Score</th><th>Word Importance</th><tr><td><text style=\"padding-right:2em\"><b>2, 5.05</b></text></td><td><text style=\"padding-right:2em\"><b>2 (1.00)</b></text></td><td><text style=\"padding-right:2em\"><b>I can't talk good. Can one talk to me about anything. Please and thank you. -friendly emoticon- p.s. I am more desperate than choosy, but please, nothing grotesque.  Im a mess but I'll talk. Do you like walking dead or comics?</b></text></td><td><text style=\"padding-right:2em\"><b>1.41</b></text></td><td><mark style=\"background-color: hsl(0, 75%, 100%); opacity:1.0;                     line-height:1.75\"><font color=\"black\"> [[post]]                    </font></mark><mark style=\"background-color: hsl(120, 75%, 64%); opacity:1.0;                     line-height:1.75\"><font color=\"black\"> I can't talk good. Can one talk to me about anything. Please and thank you. -friendly emoticon- p.s. I am more desperate than choosy, but please, nothing grotesque.                    </font></mark><mark style=\"background-color: hsl(0, 75%, 100%); opacity:1.0;                     line-height:1.75\"><font color=\"black\"> [[comment]]                    </font></mark><mark style=\"background-color: hsl(120, 75%, 66%); opacity:1.0;                     line-height:1.75\"><font color=\"black\"> Im a mess but I'll talk. Do you like walking dead or comics?                    </font></mark></td><tr></table>"
      ],
      "text/plain": [
       "<IPython.core.display.HTML object>"
      ]
     },
     "metadata": {},
     "output_type": "display_data"
    },
    {
     "name": "stdout",
     "output_type": "stream",
     "text": [
      "tensor([0.0000, 0.7269, 0.0000, 0.6868])\n",
      "tensor(0.7467, dtype=torch.float64)\n",
      "\u001b[1m Visualization For Score \u001b[0m\n"
     ]
    },
    {
     "data": {
      "text/html": [
       "<table width: 100%><div style=\"border-top: 1px solid; margin-top: 5px;             padding-top: 5px; display: inline-block\"><b>Legend: </b><span style=\"display: inline-block; width: 10px; height: 10px;                 border: 1px solid; background-color:                 hsl(0, 75%, 60%)\"></span> Negative  <span style=\"display: inline-block; width: 10px; height: 10px;                 border: 1px solid; background-color:                 hsl(0, 75%, 100%)\"></span> Neutral  <span style=\"display: inline-block; width: 10px; height: 10px;                 border: 1px solid; background-color:                 hsl(120, 75%, 50%)\"></span> Positive  </div><tr><th>True Label</th><th>Predicted Label</th><th>Attribution Label</th><th>Attribution Score</th><th>Word Importance</th><tr><td><text style=\"padding-right:2em\"><b>2, 5.05</b></text></td><td><text style=\"padding-right:2em\"><b>2 (1.00)</b></text></td><td><text style=\"padding-right:2em\"><b>I think there are so many peoples in Korea like who always against to other's opinions and only insist there thoughts. I don't intend to humble Korean or people close to me but who I've been met and deeply bond with didn't try to sympathize me. They just response as if I'm a weirdo.If you can translate comments any of Korean youtube video, you can see how peoples are aggressive and disdain other's opinions and insist only just their own...Plus, I'm Korean and live in here about 20years and I wanna freaking escape our country...I'm tired of my suck lifeð­I'm sorry my English is bad, so you're gonna be confused what I'm saying What is the name of your blog? I'm currently learning Korean so I would enjoy it :)</b></text></td><td><text style=\"padding-right:2em\"><b>1.24</b></text></td><td><mark style=\"background-color: hsl(0, 75%, 100%); opacity:1.0;                     line-height:1.75\"><font color=\"black\"> [[post]]                    </font></mark><mark style=\"background-color: hsl(120, 75%, 86%); opacity:1.0;                     line-height:1.75\"><font color=\"black\"> I think there are so many peoples in Korea like who always against to other's opinions and only insist there thoughts. I don't intend to humble Korean or people close to me but who I've been met and deeply bond with didn't try to sympathize me. They just response as if I'm a weirdo. If you can translate comments any of Korean youtube video, you can see how peoples are aggressive and disdain other's opinions and insist only just their own...Plus, I'm Korean and live in here about 20years and I wanna freaking escape our country...I'm tired of my suck lifeð­I'm sorry my English is bad, so you're gonna be confused what I'm saying                    </font></mark><mark style=\"background-color: hsl(0, 75%, 100%); opacity:1.0;                     line-height:1.75\"><font color=\"black\"> [[comment]]                    </font></mark><mark style=\"background-color: hsl(120, 75%, 53%); opacity:1.0;                     line-height:1.75\"><font color=\"black\"> What is the name of your blog? I'm currently learning Korean so I would enjoy it :)                    </font></mark></td><tr></table>"
      ],
      "text/plain": [
       "<IPython.core.display.HTML object>"
      ]
     },
     "metadata": {},
     "output_type": "display_data"
    },
    {
     "name": "stdout",
     "output_type": "stream",
     "text": [
      "tensor([0.0000, 0.2866, 0.0000, 0.9580])\n",
      "tensor(0.4770, dtype=torch.float64)\n",
      "\u001b[1m Visualization For Score \u001b[0m\n"
     ]
    },
    {
     "data": {
      "text/html": [
       "<table width: 100%><div style=\"border-top: 1px solid; margin-top: 5px;             padding-top: 5px; display: inline-block\"><b>Legend: </b><span style=\"display: inline-block; width: 10px; height: 10px;                 border: 1px solid; background-color:                 hsl(0, 75%, 60%)\"></span> Negative  <span style=\"display: inline-block; width: 10px; height: 10px;                 border: 1px solid; background-color:                 hsl(0, 75%, 100%)\"></span> Neutral  <span style=\"display: inline-block; width: 10px; height: 10px;                 border: 1px solid; background-color:                 hsl(120, 75%, 50%)\"></span> Positive  </div><tr><th>True Label</th><th>Predicted Label</th><th>Attribution Label</th><th>Attribution Score</th><th>Word Importance</th><tr><td><text style=\"padding-right:2em\"><b>2, 5.0</b></text></td><td><text style=\"padding-right:2em\"><b>2 (1.00)</b></text></td><td><text style=\"padding-right:2em\"><b>I donât even knowâ¦â¦.. I feel so lost. This the worst experience in my life. These past several years consisted of frustrations, situational bullshit, existential bullshit, dealing with things I canât change, photos I hate of myself, all the RX and products for external issues, facing or dealing with people, social norms, trajectory and losing sight of what I wanted out of life, original intentions in my life, lack of friends, lacking relationships until recently, lacking social gatherings and being in other peopleâs lives, money issues, more money issues, lack of consistency. I am so lost and itâs almost September, another time for âchangeâ when people talk about school again, a lot of momentum, things theyâre working on, or Fall/Winter planning.  Facing tough situations is very important to learning more about how to cope with depressive disorder. These experiences help us in the long term through constant trifles. Don't let yourself be down because all these things has happened but let go of the negatives and stay vigilant. Let your situation calm down and see where to go from there.</b></text></td><td><text style=\"padding-right:2em\"><b>1.20</b></text></td><td><mark style=\"background-color: hsl(0, 75%, 100%); opacity:1.0;                     line-height:1.75\"><font color=\"black\"> [[post]]                    </font></mark><mark style=\"background-color: hsl(120, 75%, 85%); opacity:1.0;                     line-height:1.75\"><font color=\"black\">  I donât even knowâ¦â¦.. I feel so lost. This the worst experience in my life.                    </font></mark><mark style=\"background-color: hsl(120, 75%, 82%); opacity:1.0;                     line-height:1.75\"><font color=\"black\">  These past several years consisted of frustrations, situational bullshit, existential bullshit, dealing with things I canât change, photos I hate of myself, all the RX and products for external issues, facing or dealing with people, social norms, trajectory and losing sight of what I wanted out of life, original intentions in my life, lack of friends, lacking relationships until recently, lacking social gatherings and being in other peopleâs lives, money issues, more money issues, lack of consistency. I am so lost and itâs almost September, another time for âchangeâ when people talk about school again, a lot of momentum, things theyâre working on, or Fall/Winter planning.                    </font></mark><mark style=\"background-color: hsl(0, 75%, 100%); opacity:1.0;                     line-height:1.75\"><font color=\"black\"> [[comment]]                    </font></mark><mark style=\"background-color: hsl(0, 75%, 88%); opacity:1.0;                     line-height:1.75\"><font color=\"black\">  Facing tough situations is very important to learning more about how to cope with depressive disorder. These experiences help us in the long term through constant trifles.                    </font></mark><mark style=\"background-color: hsl(120, 75%, 60%); opacity:1.0;                     line-height:1.75\"><font color=\"black\">  Don't let yourself be down because all these things has happened but let go of the negatives and stay vigilant. Let your situation calm down and see where to go from there.                    </font></mark></td><tr></table>"
      ],
      "text/plain": [
       "<IPython.core.display.HTML object>"
      ]
     },
     "metadata": {},
     "output_type": "display_data"
    },
    {
     "name": "stdout",
     "output_type": "stream",
     "text": [
      "tensor([ 0.0000,  0.3090,  0.3730,  0.0000, -0.3060,  0.8196])\n",
      "tensor(1.1686, dtype=torch.float64)\n",
      "\u001b[1m Visualization For Score \u001b[0m\n"
     ]
    },
    {
     "data": {
      "text/html": [
       "<table width: 100%><div style=\"border-top: 1px solid; margin-top: 5px;             padding-top: 5px; display: inline-block\"><b>Legend: </b><span style=\"display: inline-block; width: 10px; height: 10px;                 border: 1px solid; background-color:                 hsl(0, 75%, 60%)\"></span> Negative  <span style=\"display: inline-block; width: 10px; height: 10px;                 border: 1px solid; background-color:                 hsl(0, 75%, 100%)\"></span> Neutral  <span style=\"display: inline-block; width: 10px; height: 10px;                 border: 1px solid; background-color:                 hsl(120, 75%, 50%)\"></span> Positive  </div><tr><th>True Label</th><th>Predicted Label</th><th>Attribution Label</th><th>Attribution Score</th><th>Word Importance</th><tr><td><text style=\"padding-right:2em\"><b>2, 5.8</b></text></td><td><text style=\"padding-right:2em\"><b>2 (1.00)</b></text></td><td><text style=\"padding-right:2em\"><b>I've been suffering from depression for around a year now, and, looking back to the person I used to be before all this ugliness, I'm shocked by the disparity between old-me and current-me. I feel like I think differently, now, not just when I'm in the throes of my sadness, but all the time--my mind has been rebooted in a totally different way. I see everything differently, think differently, and the core person I am is different, even if in talking to others, I pretend not to have changed.  Perhaps it has, i read somewhere that if you think about something, or if you think a certain way often enough, then your brain creates new physical pathways to make it easier for you to think that way.i don't know if that is correct, but if it is, then theoretically with effort, a person can force their brain to make new pathways on purpose, to think positively if that is what they train themselves to do.i wish you luck</b></text></td><td><text style=\"padding-right:2em\"><b>0.33</b></text></td><td><mark style=\"background-color: hsl(0, 75%, 100%); opacity:1.0;                     line-height:1.75\"><font color=\"black\"> [[post]]                    </font></mark><mark style=\"background-color: hsl(120, 75%, 58%); opacity:1.0;                     line-height:1.75\"><font color=\"black\"> I've been suffering from depression for around a year now, and, looking back to the person I used to be before all this ugliness, I'm shocked by the disparity between old-me and current-me. I feel like I think differently, now, not just when I'm in the throes of my sadness, but all the time--my mind has been rebooted in a totally different way. I see everything differently, think differently, and the core person I am is different, even if in talking to others, I pretend not to have changed.                    </font></mark><mark style=\"background-color: hsl(0, 75%, 100%); opacity:1.0;                     line-height:1.75\"><font color=\"black\"> [[comment]]                    </font></mark><mark style=\"background-color: hsl(0, 75%, 80%); opacity:1.0;                     line-height:1.75\"><font color=\"black\"> Perhaps it has, i read somewhere that if you think about something, or if you think a certain way often enough, then your brain creates new physical pathways to make it easier for you to think that way.i don't know if that is correct, but if it is, then theoretically with effort, a person can force their brain to make new pathways on purpose, to think positively if that is what they train themselves to do.i wish you luck                    </font></mark></td><tr></table>"
      ],
      "text/plain": [
       "<IPython.core.display.HTML object>"
      ]
     },
     "metadata": {},
     "output_type": "display_data"
    },
    {
     "name": "stdout",
     "output_type": "stream",
     "text": [
      "tensor([ 0.0000,  0.8530,  0.0000, -0.5220])\n",
      "tensor(2.2415, dtype=torch.float64)\n",
      "\u001b[1m Visualization For Score \u001b[0m\n"
     ]
    },
    {
     "data": {
      "text/html": [
       "<table width: 100%><div style=\"border-top: 1px solid; margin-top: 5px;             padding-top: 5px; display: inline-block\"><b>Legend: </b><span style=\"display: inline-block; width: 10px; height: 10px;                 border: 1px solid; background-color:                 hsl(0, 75%, 60%)\"></span> Negative  <span style=\"display: inline-block; width: 10px; height: 10px;                 border: 1px solid; background-color:                 hsl(0, 75%, 100%)\"></span> Neutral  <span style=\"display: inline-block; width: 10px; height: 10px;                 border: 1px solid; background-color:                 hsl(120, 75%, 50%)\"></span> Positive  </div><tr><th>True Label</th><th>Predicted Label</th><th>Attribution Label</th><th>Attribution Score</th><th>Word Importance</th><tr><td><text style=\"padding-right:2em\"><b>2, 5.25</b></text></td><td><text style=\"padding-right:2em\"><b>2 (1.00)</b></text></td><td><text style=\"padding-right:2em\"><b>I'm having so much trouble explain to any of my loved ones what I'm experiencing and it makes me feel more isolated then I already feel everyday. I have a lot of good days where I feel myself and feel like I'm a good person to be around. Then I have bad days where I feel empty and worthless. My memory feel fried and I can't even have simple conversations with people. These good feelings won't out way my bad days and I'm starting to wonder whether it's worth it. I find the best way to describe depression is like you have the flu, except no cough, no sore throat, no fever.It just saps motivation and leaves you in a permanent state of \"fuck this\". It's like your worst enemy just jumped into your brain, and knows the exact right thing to say to make you feel like shit. And it really sucks.</b></text></td><td><text style=\"padding-right:2em\"><b>0.37</b></text></td><td><mark style=\"background-color: hsl(0, 75%, 100%); opacity:1.0;                     line-height:1.75\"><font color=\"black\"> [[post]]                    </font></mark><mark style=\"background-color: hsl(120, 75%, 55%); opacity:1.0;                     line-height:1.75\"><font color=\"black\"> I'm having so much trouble explain to any of my loved ones what I'm experiencing and it makes me feel more isolated then I already feel everyday. I have a lot of good days where I feel myself and feel like I'm a good person to be around. Then I have bad days where I feel empty and worthless. My memory feel fried and I can't even have simple conversations with people. These good feelings won't out way my bad days and I'm starting to wonder whether it's worth it.                    </font></mark><mark style=\"background-color: hsl(0, 75%, 100%); opacity:1.0;                     line-height:1.75\"><font color=\"black\"> [[comment]]                    </font></mark><mark style=\"background-color: hsl(0, 75%, 93%); opacity:1.0;                     line-height:1.75\"><font color=\"black\">  I find the best way to describe depression is like you have the flu, except no cough, no sore throat, no fever. It just saps motivation and leaves you in a permanent state of \"fuck this\".                    </font></mark><mark style=\"background-color: hsl(0, 75%, 86%); opacity:1.0;                     line-height:1.75\"><font color=\"black\">  It's like your worst enemy just jumped into your brain, and knows the exact right thing to say to make you feel like shit. And it really sucks.                    </font></mark></td><tr></table>"
      ],
      "text/plain": [
       "<IPython.core.display.HTML object>"
      ]
     },
     "metadata": {},
     "output_type": "display_data"
    },
    {
     "name": "stdout",
     "output_type": "stream",
     "text": [
      "tensor([ 0.0000,  0.9150,  0.0000, -0.1849, -0.3586])\n",
      "tensor(0.9756, dtype=torch.float64)\n",
      "\u001b[1m Visualization For Score \u001b[0m\n"
     ]
    },
    {
     "data": {
      "text/html": [
       "<table width: 100%><div style=\"border-top: 1px solid; margin-top: 5px;             padding-top: 5px; display: inline-block\"><b>Legend: </b><span style=\"display: inline-block; width: 10px; height: 10px;                 border: 1px solid; background-color:                 hsl(0, 75%, 60%)\"></span> Negative  <span style=\"display: inline-block; width: 10px; height: 10px;                 border: 1px solid; background-color:                 hsl(0, 75%, 100%)\"></span> Neutral  <span style=\"display: inline-block; width: 10px; height: 10px;                 border: 1px solid; background-color:                 hsl(120, 75%, 50%)\"></span> Positive  </div><tr><th>True Label</th><th>Predicted Label</th><th>Attribution Label</th><th>Attribution Score</th><th>Word Importance</th><tr><td><text style=\"padding-right:2em\"><b>2, 5.3</b></text></td><td><text style=\"padding-right:2em\"><b>2 (1.00)</b></text></td><td><text style=\"padding-right:2em\"><b>My progress after 2 years, i dont even give a fuck about my scars everywhere, im better then that.Now lying in bed and feeling lonely as fuck, but i will handle this somehow..https://imgur.com/a/HubcoU5 A bit nsfw, without shirt, sorryð Good job man! Looking good. Trying too achieve similar results with calisthenics, already gained over 10Kg but having a hard time eating enough atm.</b></text></td><td><text style=\"padding-right:2em\"><b>1.03</b></text></td><td><mark style=\"background-color: hsl(0, 75%, 100%); opacity:1.0;                     line-height:1.75\"><font color=\"black\"> [[post]]                    </font></mark><mark style=\"background-color: hsl(120, 75%, 51%); opacity:1.0;                     line-height:1.75\"><font color=\"black\"> My progress after 2 years, i dont even give a fuck about my scars everywhere, im better then that. Now lying in bed and feeling lonely as fuck, but i will handle this somehow..https://imgur.com/a/HubcoU5 A bit nsfw, without shirt, sorryð                    </font></mark><mark style=\"background-color: hsl(0, 75%, 100%); opacity:1.0;                     line-height:1.75\"><font color=\"black\"> [[comment]]                    </font></mark><mark style=\"background-color: hsl(120, 75%, 99%); opacity:1.0;                     line-height:1.75\"><font color=\"black\"> Good job man! Looking good. Trying too achieve similar results with calisthenics, already gained over 10Kg but having a hard time eating enough atm.                    </font></mark></td><tr></table>"
      ],
      "text/plain": [
       "<IPython.core.display.HTML object>"
      ]
     },
     "metadata": {},
     "output_type": "display_data"
    },
    {
     "name": "stdout",
     "output_type": "stream",
     "text": [
      "tensor([0.0000, 0.9997, 0.0000, 0.0263])\n",
      "tensor(0.7495, dtype=torch.float64)\n",
      "\u001b[1m Visualization For Score \u001b[0m\n"
     ]
    },
    {
     "data": {
      "text/html": [
       "<table width: 100%><div style=\"border-top: 1px solid; margin-top: 5px;             padding-top: 5px; display: inline-block\"><b>Legend: </b><span style=\"display: inline-block; width: 10px; height: 10px;                 border: 1px solid; background-color:                 hsl(0, 75%, 60%)\"></span> Negative  <span style=\"display: inline-block; width: 10px; height: 10px;                 border: 1px solid; background-color:                 hsl(0, 75%, 100%)\"></span> Neutral  <span style=\"display: inline-block; width: 10px; height: 10px;                 border: 1px solid; background-color:                 hsl(120, 75%, 50%)\"></span> Positive  </div><tr><th>True Label</th><th>Predicted Label</th><th>Attribution Label</th><th>Attribution Score</th><th>Word Importance</th><tr><td><text style=\"padding-right:2em\"><b>2, 5.8</b></text></td><td><text style=\"padding-right:2em\"><b>2 (1.00)</b></text></td><td><text style=\"padding-right:2em\"><b>Hey thereSo I'm having kind of a rough period atm(more than usual), but all of a sudden I have no appetite what so ever. I am hungry but I can't get myself to eat anything. When I do eat I feel physically ill. This could turn out to be quite a problem since I don't weigh that much to begin with. Any advice?Thanks in advance I know it sucks, especially with my family, big serves.  It's probably one of the worst symptoms of my mental illness, best thing I can say is try eating little bits and then distracting yourself if you can, for me I do that and the feeling usually disappears. But I  wish you the best too.</b></text></td><td><text style=\"padding-right:2em\"><b>1.32</b></text></td><td><mark style=\"background-color: hsl(0, 75%, 100%); opacity:1.0;                     line-height:1.75\"><font color=\"black\"> [[post]]                    </font></mark><mark style=\"background-color: hsl(120, 75%, 71%); opacity:1.0;                     line-height:1.75\"><font color=\"black\">  Hey thereSo I'm having kind of a rough period atm(more than usual), but all of a sudden I have no appetite what so ever. I am hungry but I can't get myself to eat anything. When I do eat I feel physically ill.                    </font></mark><mark style=\"background-color: hsl(120, 75%, 61%); opacity:1.0;                     line-height:1.75\"><font color=\"black\">  This could turn out to be quite a problem since I don't weigh that much to begin with. Any advice?Thanks in advance                    </font></mark><mark style=\"background-color: hsl(0, 75%, 100%); opacity:1.0;                     line-height:1.75\"><font color=\"black\"> [[comment]]                    </font></mark><mark style=\"background-color: hsl(0, 75%, 97%); opacity:1.0;                     line-height:1.75\"><font color=\"black\"> I know it sucks, especially with my family, big serves.  It's probably one of the worst symptoms of my mental illness, best thing I can say is try eating little bits and then distracting yourself if you can, for me I do that and the feeling usually disappears. But I  wish you the best too.                    </font></mark></td><tr></table>"
      ],
      "text/plain": [
       "<IPython.core.display.HTML object>"
      ]
     },
     "metadata": {},
     "output_type": "display_data"
    },
    {
     "name": "stdout",
     "output_type": "stream",
     "text": [
      "tensor([ 0.0000,  0.5972,  0.7985,  0.0000, -0.0756])\n",
      "tensor(0.1787, dtype=torch.float64)\n",
      "\u001b[1m Visualization For Score \u001b[0m\n"
     ]
    },
    {
     "data": {
      "text/html": [
       "<table width: 100%><div style=\"border-top: 1px solid; margin-top: 5px;             padding-top: 5px; display: inline-block\"><b>Legend: </b><span style=\"display: inline-block; width: 10px; height: 10px;                 border: 1px solid; background-color:                 hsl(0, 75%, 60%)\"></span> Negative  <span style=\"display: inline-block; width: 10px; height: 10px;                 border: 1px solid; background-color:                 hsl(0, 75%, 100%)\"></span> Neutral  <span style=\"display: inline-block; width: 10px; height: 10px;                 border: 1px solid; background-color:                 hsl(120, 75%, 50%)\"></span> Positive  </div><tr><th>True Label</th><th>Predicted Label</th><th>Attribution Label</th><th>Attribution Score</th><th>Word Importance</th><tr><td><text style=\"padding-right:2em\"><b>2, 5.75</b></text></td><td><text style=\"padding-right:2em\"><b>2 (1.00)</b></text></td><td><text style=\"padding-right:2em\"><b>Don't know how to start this but my life is just like the rest in my place; predictable, mediocre and just overcomplicates things. It's just... this environment I'm raised in just turned me into a guy who does nothing but overly depends on others, especially his parents, just to cope up in the society I'm in. That mindset can only go so far and I'm disgusted by it. Not only that, but this place is not enough to further develop myself. The scary thing here us that this is what others did and did not reach the same goals as I desired. Simply put, history does repeat itself and it is discouraging to just do something from building my career to doing mundane things. I just don't want to be like them and repeat that exact trend.If this lifetime is as predictable and mediocre as history dictates, then I have no choice but to end my life. I'd rather risk it than slowly becoming one of them. I can feel that change bit-by-bit every second of every day. I'm scared of what's to come after that. I have no one to talk to about my situation and even if do, one would just disregard it and just say that I'm 'crazy' because I'm 'malnourished' or something. I might go mad from their cluelessness and ignorance. I have so much to talk about and details to insert in but this is the simplification of my current situation. Though I don't know if it was emotional abuse, my father's behaviour towards me could create a non-nurturing environment for me as well. I'm not very touchy around any subject if you need to confide in someone. </b></text></td><td><text style=\"padding-right:2em\"><b>1.84</b></text></td><td><mark style=\"background-color: hsl(0, 75%, 100%); opacity:1.0;                     line-height:1.75\"><font color=\"black\"> [[post]]                    </font></mark><mark style=\"background-color: hsl(120, 75%, 65%); opacity:1.0;                     line-height:1.75\"><font color=\"black\">  Don't know how to start this but my life is just like the rest in my place; predictable, mediocre and just overcomplicates things. It's just... this environment I'm raised in just turned me into a guy who does nothing but overly depends on others, especially his parents, just to cope up in the society I'm in. That mindset can only go so far and I'm disgusted by it.                    </font></mark><mark style=\"background-color: hsl(120, 75%, 75%); opacity:1.0;                     line-height:1.75\"><font color=\"black\">  Not only that, but this place is not enough to further develop myself. The scary thing here us that this is what others did and did not reach the same goals as I desired. Simply put, history does repeat itself and it is discouraging to just do something from building my career to doing mundane things. I just don't want to be like them and repeat that exact trend.                    </font></mark><mark style=\"background-color: hsl(120, 75%, 96%); opacity:1.0;                     line-height:1.75\"><font color=\"black\">  If this lifetime is as predictable and mediocre as history dictates, then I have no choice but to end my life. I'd rather risk it than slowly becoming one of them. I can feel that change bit-by-bit every second of every day. I'm scared of what's to come after that.                    </font></mark><mark style=\"background-color: hsl(120, 75%, 98%); opacity:1.0;                     line-height:1.75\"><font color=\"black\">  I have no one to talk to about my situation and even if do, one would just disregard it and just say that I'm 'crazy' because I'm 'malnourished' or something. I might go mad from their cluelessness and ignorance. I have so much to talk about and details to insert in but this is the simplification of my current situation.                    </font></mark><mark style=\"background-color: hsl(0, 75%, 100%); opacity:1.0;                     line-height:1.75\"><font color=\"black\"> [[comment]]                    </font></mark><mark style=\"background-color: hsl(120, 75%, 77%); opacity:1.0;                     line-height:1.75\"><font color=\"black\"> Though I don't know if it was emotional abuse, my father's behaviour towards me could create a non-nurturing environment for me as well. I'm not very touchy around any subject if you need to confide in someone.                    </font></mark></td><tr></table>"
      ],
      "text/plain": [
       "<IPython.core.display.HTML object>"
      ]
     },
     "metadata": {},
     "output_type": "display_data"
    },
    {
     "name": "stdout",
     "output_type": "stream",
     "text": [
      "tensor([0.0000, 0.7142, 0.5136, 0.0999, 0.0549, 0.0000, 0.4616])\n",
      "tensor(0.3339, dtype=torch.float64)\n",
      "\u001b[1m Visualization For Score \u001b[0m\n"
     ]
    },
    {
     "data": {
      "text/html": [
       "<table width: 100%><div style=\"border-top: 1px solid; margin-top: 5px;             padding-top: 5px; display: inline-block\"><b>Legend: </b><span style=\"display: inline-block; width: 10px; height: 10px;                 border: 1px solid; background-color:                 hsl(0, 75%, 60%)\"></span> Negative  <span style=\"display: inline-block; width: 10px; height: 10px;                 border: 1px solid; background-color:                 hsl(0, 75%, 100%)\"></span> Neutral  <span style=\"display: inline-block; width: 10px; height: 10px;                 border: 1px solid; background-color:                 hsl(120, 75%, 50%)\"></span> Positive  </div><tr><th>True Label</th><th>Predicted Label</th><th>Attribution Label</th><th>Attribution Score</th><th>Word Importance</th><tr><td><text style=\"padding-right:2em\"><b>2, 6.4</b></text></td><td><text style=\"padding-right:2em\"><b>2 (1.00)</b></text></td><td><text style=\"padding-right:2em\"><b>This is pretty much the only place I can say this because if I say it to anyone else they'll think I'm really fucking weird. Well, for the record, I AM pretty fucking weird. But yea I've actually started to wash my face again instead of just standing in the shower for 40 minutes and wasting my hot water and driving up my water bill. Little steps. **Edit:** Wow. I went to sleep and this blew up. Thank you guys (and girls) so much for all the support. I'm glad you all got something out of it. Stay strong, you all. One step at a time! We feel your pain OP, none of us want to be this way I am sure but, we are and since we are hearing things like this gives us motivation to try harder as well. This thread was positive all the way around. &lt;3</b></text></td><td><text style=\"padding-right:2em\"><b>1.76</b></text></td><td><mark style=\"background-color: hsl(0, 75%, 100%); opacity:1.0;                     line-height:1.75\"><font color=\"black\"> [[post]]                    </font></mark><mark style=\"background-color: hsl(120, 75%, 75%); opacity:1.0;                     line-height:1.75\"><font color=\"black\">  This is pretty much the only place I can say this because if I say it to anyone else they'll think I'm really fucking weird. Well, for the record, I AM pretty fucking weird. But yea I've actually started to wash my face again instead of just standing in the shower for 40 minutes and wasting my hot water and driving up my water bill.                    </font></mark><mark style=\"background-color: hsl(120, 75%, 79%); opacity:1.0;                     line-height:1.75\"><font color=\"black\">  Little steps. ** Edit:** Wow. I went to sleep and this blew up.                    </font></mark><mark style=\"background-color: hsl(120, 75%, 64%); opacity:1.0;                     line-height:1.75\"><font color=\"black\">  Thank you guys (and girls) so much for all the support. I'm glad you all got something out of it. Stay strong, you all. One step at a time!                    </font></mark><mark style=\"background-color: hsl(0, 75%, 100%); opacity:1.0;                     line-height:1.75\"><font color=\"black\"> [[comment]]                    </font></mark><mark style=\"background-color: hsl(120, 75%, 97%); opacity:1.0;                     line-height:1.75\"><font color=\"black\"> We feel your pain OP, none of us want to be this way I am sure but, we are and since we are hearing things like this gives us motivation to try harder as well. This thread was positive all the way around. & lt;3                    </font></mark></td><tr></table>"
      ],
      "text/plain": [
       "<IPython.core.display.HTML object>"
      ]
     },
     "metadata": {},
     "output_type": "display_data"
    },
    {
     "name": "stdout",
     "output_type": "stream",
     "text": [
      "tensor([0.0000, 0.5163, 0.4384, 0.7318, 0.0000, 0.0759])\n",
      "tensor(0.5589, dtype=torch.float64)\n",
      "\u001b[1m Visualization For Score \u001b[0m\n"
     ]
    },
    {
     "data": {
      "text/html": [
       "<table width: 100%><div style=\"border-top: 1px solid; margin-top: 5px;             padding-top: 5px; display: inline-block\"><b>Legend: </b><span style=\"display: inline-block; width: 10px; height: 10px;                 border: 1px solid; background-color:                 hsl(0, 75%, 60%)\"></span> Negative  <span style=\"display: inline-block; width: 10px; height: 10px;                 border: 1px solid; background-color:                 hsl(0, 75%, 100%)\"></span> Neutral  <span style=\"display: inline-block; width: 10px; height: 10px;                 border: 1px solid; background-color:                 hsl(120, 75%, 50%)\"></span> Positive  </div><tr><th>True Label</th><th>Predicted Label</th><th>Attribution Label</th><th>Attribution Score</th><th>Word Importance</th><tr><td><text style=\"padding-right:2em\"><b>2, 6.15</b></text></td><td><text style=\"padding-right:2em\"><b>2 (1.00)</b></text></td><td><text style=\"padding-right:2em\"><b>First and foremost, if this is inappropriate for me to seek this kind of advice within your support space, I apologize and will happily remove my post. I absolutely love my girlfriend. She is the most special woman I have ever met. She Is my  best friend, and I want to spend my life with her, without question. She has self-described depressive episodes where she feels hopeless,  like she canât do anything right and how everything in her life is bad. Tonight I had a moment where I realized Iâm entirely un-equip on how to best support her. She was having a very low moment and opened up to meâdescribing how she feltâfor the very first time. I defensively made it about me and an attack on our relationship, and instantly realized this was a huge mistake. I have a genuine desire to learn the proper tools on how best to support her when she feels like this, and Iâm hoping that you will offer me some pointers from your own personal experiences. I never want to make such a stupid mistake again, and to be the best support structure I can possible be. Please help with any and all advice!  Not really good advice, but I suggest lurking on this sub for a little bit. Sometimes some really good advice, ideas and tips will come along. </b></text></td><td><text style=\"padding-right:2em\"><b>1.06</b></text></td><td><mark style=\"background-color: hsl(0, 75%, 100%); opacity:1.0;                     line-height:1.75\"><font color=\"black\"> [[post]]                    </font></mark><mark style=\"background-color: hsl(120, 75%, 82%); opacity:1.0;                     line-height:1.75\"><font color=\"black\">  First and foremost, if this is inappropriate for me to seek this kind of advice within your support space, I apologize and will happily remove my post. I absolutely love my girlfriend. She is the most special woman I have ever met. She Is my  best friend, and I want to spend my life with her, without question.                    </font></mark><mark style=\"background-color: hsl(0, 75%, 86%); opacity:1.0;                     line-height:1.75\"><font color=\"black\">  She has self-described depressive episodes where she feels hopeless,  like she canât do anything right and how everything in her life is bad. Tonight I had a moment where I realized Iâm entirely un-equip on how to best support her. She was having a very low moment and opened up to meâdescribing how she feltâfor the very first time. I defensively made it about me and an attack on our relationship, and instantly realized this was a huge mistake.                    </font></mark><mark style=\"background-color: hsl(120, 75%, 88%); opacity:1.0;                     line-height:1.75\"><font color=\"black\">  I have a genuine desire to learn the proper tools on how best to support her when she feels like this, and Iâm hoping that you will offer me some pointers from your own personal experiences. I never want to make such a stupid mistake again, and to be the best support structure I can possible be. Please help with any and all advice!                    </font></mark><mark style=\"background-color: hsl(0, 75%, 100%); opacity:1.0;                     line-height:1.75\"><font color=\"black\"> [[comment]]                    </font></mark><mark style=\"background-color: hsl(120, 75%, 60%); opacity:1.0;                     line-height:1.75\"><font color=\"black\"> Not really good advice, but I suggest lurking on this sub for a little bit. Sometimes some really good advice, ideas and tips will come along.                    </font></mark></td><tr></table>"
      ],
      "text/plain": [
       "<IPython.core.display.HTML object>"
      ]
     },
     "metadata": {},
     "output_type": "display_data"
    },
    {
     "name": "stdout",
     "output_type": "stream",
     "text": [
      "tensor([ 0.0000,  0.3780, -0.3728,  0.2470,  0.0000,  0.8106])\n",
      "tensor(0.3161, dtype=torch.float64)\n",
      "\u001b[1m Visualization For Score \u001b[0m\n"
     ]
    },
    {
     "data": {
      "text/html": [
       "<table width: 100%><div style=\"border-top: 1px solid; margin-top: 5px;             padding-top: 5px; display: inline-block\"><b>Legend: </b><span style=\"display: inline-block; width: 10px; height: 10px;                 border: 1px solid; background-color:                 hsl(0, 75%, 60%)\"></span> Negative  <span style=\"display: inline-block; width: 10px; height: 10px;                 border: 1px solid; background-color:                 hsl(0, 75%, 100%)\"></span> Neutral  <span style=\"display: inline-block; width: 10px; height: 10px;                 border: 1px solid; background-color:                 hsl(120, 75%, 50%)\"></span> Positive  </div><tr><th>True Label</th><th>Predicted Label</th><th>Attribution Label</th><th>Attribution Score</th><th>Word Importance</th><tr><td><text style=\"padding-right:2em\"><b>2, 5.95</b></text></td><td><text style=\"padding-right:2em\"><b>2 (1.00)</b></text></td><td><text style=\"padding-right:2em\"><b>Well yeah title says it all. The other night I thought there were eyes on every single surface in my room, but they'd close whenever I looked at them, and the eyelids were the actual surface, so they'd dissappear. Felt like my bed was gonna open up and swallow me whole.And yesterday and the day before I thought everyone in my life was some kind of actor, an alien, a robot, I'm not even sure. Like a Truman Show type thing. I thought I was the centre of some kind of experiment. Anyone else experience anything similar?  Iâm not trying to be rude or scare you at all. But no. It IS serious. Really, I wish and hope you will talk to your doctor about this immediately. Depression can Disassociate people. But it does not give them delusions.. Delusions derive from other physical or mental illness. And you need to address that so you canât treat it and stay healthy. </b></text></td><td><text style=\"padding-right:2em\"><b>1.85</b></text></td><td><mark style=\"background-color: hsl(0, 75%, 100%); opacity:1.0;                     line-height:1.75\"><font color=\"black\"> [[post]]                    </font></mark><mark style=\"background-color: hsl(120, 75%, 76%); opacity:1.0;                     line-height:1.75\"><font color=\"black\">  Well yeah title says it all. The other night I thought there were eyes on every single surface in my room, but they'd close whenever I looked at them, and the eyelids were the actual surface, so they'd dissappear. Felt like my bed was gonna open up and swallow me whole. And yesterday and the day before I thought everyone in my life was some kind of actor, an alien, a robot, I'm not even sure.                    </font></mark><mark style=\"background-color: hsl(120, 75%, 90%); opacity:1.0;                     line-height:1.75\"><font color=\"black\">  Like a Truman Show type thing. I thought I was the centre of some kind of experiment. Anyone else experience anything similar?                    </font></mark><mark style=\"background-color: hsl(0, 75%, 100%); opacity:1.0;                     line-height:1.75\"><font color=\"black\"> [[comment]]                    </font></mark><mark style=\"background-color: hsl(120, 75%, 63%); opacity:1.0;                     line-height:1.75\"><font color=\"black\">  Iâm not trying to be rude or scare you at all. But no. It IS serious. Really, I wish and hope you will talk to your doctor about this immediately.                    </font></mark><mark style=\"background-color: hsl(120, 75%, 80%); opacity:1.0;                     line-height:1.75\"><font color=\"black\">  Depression can Disassociate people. But it does not give them delusions.. Delusions derive from other physical or mental illness. And you need to address that so you canât treat it and stay healthy.                    </font></mark></td><tr></table>"
      ],
      "text/plain": [
       "<IPython.core.display.HTML object>"
      ]
     },
     "metadata": {},
     "output_type": "display_data"
    },
    {
     "name": "stdout",
     "output_type": "stream",
     "text": [
      "tensor([0.0000, 0.4878, 0.2127, 0.0000, 0.7413, 0.4091])\n"
     ]
    }
   ],
   "source": [
    "main(true_label=2, pred_label=2, target='pred')"
   ]
  }
 ],
 "metadata": {
  "kernelspec": {
   "display_name": "Python 3 (ipykernel)",
   "language": "python",
   "name": "python3"
  },
  "language_info": {
   "codemirror_mode": {
    "name": "ipython",
    "version": 3
   },
   "file_extension": ".py",
   "mimetype": "text/x-python",
   "name": "python",
   "nbconvert_exporter": "python",
   "pygments_lexer": "ipython3",
   "version": "3.8.10"
  }
 },
 "nbformat": 4,
 "nbformat_minor": 5
}
